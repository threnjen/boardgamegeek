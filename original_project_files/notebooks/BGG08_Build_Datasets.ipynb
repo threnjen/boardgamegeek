{
 "cells": [
  {
   "cell_type": "markdown",
   "id": "979811e9",
   "metadata": {},
   "source": [
    "# Notebook Objective and Setup\n",
    "\n",
    "In BGG07 we build several large datasets, notably:\n",
    "\n",
    "* Real Ratings Dictionaries and Longform(melted) Dataframes in both unscaled and scaled versions\n",
    "* Synthetic Ratings Dictionaries and Longform Dataframes in both unscaled and scaled versions, for 100, 250 and 500\n",
    "* User Means lookup dictionary\n",
    "\n",
    "These files are used in the Collaborative Filter (BGG08)"
   ]
  },
  {
   "cell_type": "markdown",
   "id": "e4e48291",
   "metadata": {},
   "source": [
    "## Notebook Preparation"
   ]
  },
  {
   "cell_type": "markdown",
   "id": "e76df09b",
   "metadata": {},
   "source": [
    "### Package Imports"
   ]
  },
  {
   "cell_type": "code",
   "execution_count": 1,
   "id": "57e943a4",
   "metadata": {},
   "outputs": [],
   "source": [
    "import pandas as pd\n",
    "import numpy as np\n",
    "import requests\n",
    "import regex as re\n",
    "import time\n",
    "import os\n",
    "import gc\n",
    "import json\n",
    "from statistics import mean\n",
    "import copy\n",
    "\n",
    "# ignore warnings (gets rid of Pandas copy warnings)\n",
    "import warnings\n",
    "\n",
    "warnings.filterwarnings(\"ignore\")\n",
    "pd.options.display.max_columns = None\n",
    "\n",
    "pd.set_option(\"display.max_columns\", None)\n",
    "pd.set_option(\"display.max_rows\", 30)"
   ]
  },
  {
   "cell_type": "markdown",
   "id": "275f08a9",
   "metadata": {},
   "source": [
    "### Notebook Functions"
   ]
  },
  {
   "cell_type": "code",
   "execution_count": 2,
   "id": "2896a585",
   "metadata": {},
   "outputs": [],
   "source": [
    "def get_user(user_items, user, game_ids, scaled=True):\n",
    "    \"\"\"\n",
    "    Takes in a sparse matrix of users and items, a specific user to retrieve, and a list of game_ids\n",
    "    Get the mean for the user\n",
    "    Builds a list of user's rated items and subtracts user mean from all ratings\n",
    "    Builds a corresponding list of game ids for the rated games\n",
    "    Gets intersection of user's rated ids with the overall game_ids\n",
    "    Stores user game_id:rating in user ratings dictionary\n",
    "    Returns the user dictionary\n",
    "\n",
    "    Inputs:\n",
    "    user_matrix: sparse matrix of users and game ratings\n",
    "    user: user to retrieve\n",
    "    game_ids: all possible game_ids in matrix\n",
    "    scaled: default true, is whether to remove user's mean from their ratings\n",
    "\n",
    "    Outputs:\n",
    "    overall_user: user entry with user's game ratings\n",
    "    \"\"\"\n",
    "\n",
    "    # get the mean rating for that user\n",
    "    user_mean = user_items.mean()\n",
    "\n",
    "    if scaled:\n",
    "        # normalize the ratings for that user by subtracting their mean from all ratings, store in list\n",
    "        game_ratings_normed = list(user_items - user_mean)\n",
    "\n",
    "    else:\n",
    "        game_ratings_normed = list(user_items)\n",
    "\n",
    "    # Get a list of all of the game IDs that the user rated (meaning are not NaN)\n",
    "    users_game_ids = list(user_items.index)\n",
    "\n",
    "    user_ratings = {}\n",
    "\n",
    "    for key, value in zip(users_game_ids, game_ratings_normed):\n",
    "        user_ratings[key] = value\n",
    "\n",
    "    game_ids_set = set(game_ids).intersection(set(users_game_ids))\n",
    "\n",
    "    # make a dictionary to store the intersected ratings\n",
    "    set_dictionary = {}\n",
    "\n",
    "    # for each matching key, value in game_ids and game_ratings for the user\n",
    "    for item in game_ids_set:\n",
    "        set_dictionary[item] = user_ratings[item]\n",
    "\n",
    "    # store the user's ratings\n",
    "    overall_user = set_dictionary\n",
    "\n",
    "    return overall_user"
   ]
  },
  {
   "cell_type": "code",
   "execution_count": 3,
   "id": "e44711fc",
   "metadata": {},
   "outputs": [],
   "source": [
    "def make_user_dictionaries(path_item, scaled=True):\n",
    "    \"\"\"Loads a user ratings matrix, cleans, and returns as ratings dictionary\n",
    "\n",
    "    Inputs: path\n",
    "    Scaled: default true, passes to get_user\n",
    "\n",
    "    Outputs: ratings dictionary for this file\n",
    "    \"\"\"\n",
    "\n",
    "    temp_dictionary = {}\n",
    "\n",
    "    path = \"data_cleaned_new_scraper/ratings_matrix_cleaned_\" + path_item + \".pkl\"\n",
    "    user_matrix = pd.read_pickle(path)\n",
    "    user_matrix = user_matrix.T\n",
    "    user_matrix.index = user_matrix.index.astype(\"int32\")\n",
    "    user_matrix.shape\n",
    "\n",
    "    for user in user_matrix.columns:\n",
    "\n",
    "        print(\"Starting user \" + user)\n",
    "\n",
    "        user_items = user_matrix[user].dropna(axis=0)\n",
    "\n",
    "        # copy the current user dictionary to the synthetic ratings storage dictionary\n",
    "        temp_dictionary[user] = get_user(user_items, user, game_ids, scaled)\n",
    "\n",
    "    return temp_dictionary"
   ]
  },
  {
   "cell_type": "code",
   "execution_count": 4,
   "id": "6db17d4b",
   "metadata": {},
   "outputs": [],
   "source": [
    "def make_long_df(path, scaled=True):\n",
    "    \"\"\"Melts a user ratings dictionary into a longform dataframe\n",
    "\n",
    "    Inputs: path, passes to make_user_dictionaries\n",
    "    scaled: default true, passes to make_user_dictionaries then get_user\n",
    "    \"\"\"\n",
    "    # call for dictionary\n",
    "    temp_dictionary = make_user_dictionaries(path, scaled)\n",
    "\n",
    "    # melt dictionary into longform DF\n",
    "    real_user_ratings = pd.DataFrame.from_dict(temp_dictionary).T\n",
    "    real_user_ratings.reset_index(inplace=True)\n",
    "    real_user_ratings.rename(columns={\"index\": \"UserID\"}, inplace=True)\n",
    "    real_user_ratings_long = real_user_ratings.melt(\n",
    "        id_vars=\"UserID\", var_name=\"BGGId\", value_name=\"Rating\"\n",
    "    ).dropna()\n",
    "    real_user_ratings_long.sort_values(\"UserID\", inplace=True)\n",
    "    real_user_ratings_long.reset_index(drop=True, inplace=True)\n",
    "\n",
    "    del real_user_ratings\n",
    "    gc.collect()\n",
    "\n",
    "    return temp_dictionary, real_user_ratings_long"
   ]
  },
  {
   "cell_type": "code",
   "execution_count": 5,
   "id": "637e50b6",
   "metadata": {},
   "outputs": [],
   "source": [
    "# load and make game id list\n",
    "games = pd.read_pickle(\"data_store/data_cleaned/games.pkl\")\n",
    "\n",
    "game_ids = list(games[\"BGGId\"])"
   ]
  },
  {
   "cell_type": "markdown",
   "id": "a9acc878",
   "metadata": {},
   "source": [
    "# Make Scaled dictionary"
   ]
  },
  {
   "cell_type": "code",
   "execution_count": 71,
   "id": "c29aaecc",
   "metadata": {},
   "outputs": [],
   "source": [
    "# Opening JSON file\n",
    "with open(\"data_store/data_cleaned/user_ratings.json\") as json_file:\n",
    "    raw_ratings = json.load(json_file)"
   ]
  },
  {
   "cell_type": "code",
   "execution_count": 73,
   "id": "831f296a",
   "metadata": {},
   "outputs": [],
   "source": [
    "raw_ratings_scaled = {}\n",
    "\n",
    "for person in raw_ratings:\n",
    "    raw_ratings_scaled[person] = {}\n",
    "\n",
    "    user_mean = mean(raw_ratings[person].values())\n",
    "\n",
    "    for item in raw_ratings[person]:\n",
    "\n",
    "        new_value = round((raw_ratings[person][item] - user_mean), 2)\n",
    "        raw_ratings_scaled[person][item] = new_value"
   ]
  },
  {
   "cell_type": "code",
   "execution_count": 74,
   "id": "5e30e7b9",
   "metadata": {},
   "outputs": [],
   "source": [
    "with open(\"data_store/data_cleaned/scaled_user_ratings.json\", \"w\") as convert_file:\n",
    "    convert_file.write(json.dumps(raw_ratings_scaled))"
   ]
  },
  {
   "cell_type": "code",
   "execution_count": 78,
   "id": "c5b48cab",
   "metadata": {},
   "outputs": [
    {
     "data": {
      "text/plain": [
       "84"
      ]
     },
     "execution_count": 78,
     "metadata": {},
     "output_type": "execute_result"
    }
   ],
   "source": [
    "del raw_ratings\n",
    "gc.collect()"
   ]
  },
  {
   "cell_type": "markdown",
   "id": "b612b97d",
   "metadata": {},
   "source": [
    "# Build Real Ratings Dictionaries"
   ]
  },
  {
   "cell_type": "markdown",
   "id": "4087960a",
   "metadata": {},
   "source": [
    "Build the various data sets"
   ]
  },
  {
   "cell_type": "code",
   "execution_count": 51,
   "id": "32c64ff8",
   "metadata": {},
   "outputs": [],
   "source": [
    "# Opening JSON file\n",
    "with open(\"data_store/data_cleaned/user_ratings_block_7.json\") as json_file:\n",
    "    raw_ratings_small = json.load(json_file)"
   ]
  },
  {
   "cell_type": "code",
   "execution_count": 52,
   "id": "5be3acea",
   "metadata": {},
   "outputs": [
    {
     "data": {
      "text/plain": [
       "['Balanced1',\n",
       " 'Looted',\n",
       " 'erp_lsf',\n",
       " 'tredilxy',\n",
       " 'aaronfoz',\n",
       " 'dr4gonbl4z3r',\n",
       " 'sinbad78',\n",
       " 'KyleBrown',\n",
       " 'TheFlyingNothing',\n",
       " 'Halfstache']"
      ]
     },
     "execution_count": 52,
     "metadata": {},
     "output_type": "execute_result"
    }
   ],
   "source": [
    "list(raw_ratings_small.keys())[:10]"
   ]
  },
  {
   "cell_type": "code",
   "execution_count": 53,
   "id": "d8ecf80c",
   "metadata": {
    "scrolled": true
   },
   "outputs": [
    {
     "data": {
      "text/plain": [
       "{'147151': 7.0,\n",
       " '124708': 7.5,\n",
       " '148203': 7.0,\n",
       " '216091': 7.0,\n",
       " '216092': 7.0,\n",
       " '186751': 8.0,\n",
       " '146508': 8.0,\n",
       " '129437': 7.0,\n",
       " '143741': 6.0,\n",
       " '172225': 5.0,\n",
       " '172': 4.0,\n",
       " '174973': 7.0,\n",
       " '157969': 7.5,\n",
       " '170216': 8.0,\n",
       " '31481': 6.0,\n",
       " '174430': 10.0,\n",
       " '150376': 8.0,\n",
       " '65244': 6.5,\n",
       " '39856': 7.0,\n",
       " '155068': 10.0,\n",
       " '112686': 6.0,\n",
       " '91872': 6.0,\n",
       " '192153': 7.0,\n",
       " '55690': 8.0,\n",
       " '70323': 10.0,\n",
       " '148228': 8.0,\n",
       " '40692': 7.0,\n",
       " '169786': 7.5,\n",
       " '178900': 7.0}"
      ]
     },
     "execution_count": 53,
     "metadata": {},
     "output_type": "execute_result"
    }
   ],
   "source": [
    "raw_ratings_small[\"Balanced1\"]"
   ]
  },
  {
   "cell_type": "code",
   "execution_count": 54,
   "id": "7cdd2ba8",
   "metadata": {},
   "outputs": [
    {
     "data": {
      "text/plain": [
       "7.241379310344827"
      ]
     },
     "execution_count": 54,
     "metadata": {},
     "output_type": "execute_result"
    }
   ],
   "source": [
    "user_mean = mean(raw_ratings_small[\"Balanced1\"].values())\n",
    "user_mean"
   ]
  },
  {
   "cell_type": "code",
   "execution_count": 72,
   "id": "3258d71a",
   "metadata": {},
   "outputs": [
    {
     "data": {
      "text/plain": [
       "21"
      ]
     },
     "execution_count": 72,
     "metadata": {},
     "output_type": "execute_result"
    }
   ],
   "source": [
    "del raw_ratings_scaled\n",
    "gc.collect()"
   ]
  },
  {
   "cell_type": "code",
   "execution_count": 75,
   "id": "258d17a3",
   "metadata": {},
   "outputs": [
    {
     "data": {
      "text/plain": [
       "263503"
      ]
     },
     "execution_count": 75,
     "metadata": {},
     "output_type": "execute_result"
    }
   ],
   "source": [
    "len(raw_ratings)"
   ]
  },
  {
   "cell_type": "code",
   "execution_count": 76,
   "id": "ea6783c9",
   "metadata": {},
   "outputs": [
    {
     "data": {
      "text/plain": [
       "263503"
      ]
     },
     "execution_count": 76,
     "metadata": {},
     "output_type": "execute_result"
    }
   ],
   "source": [
    "len(raw_ratings_scaled)"
   ]
  },
  {
   "cell_type": "code",
   "execution_count": 77,
   "id": "7d167c39",
   "metadata": {},
   "outputs": [
    {
     "data": {
      "text/plain": [
       "{'147151': -0.24,\n",
       " '124708': 0.26,\n",
       " '148203': -0.24,\n",
       " '216091': -0.24,\n",
       " '216092': -0.24,\n",
       " '186751': 0.76,\n",
       " '146508': 0.76,\n",
       " '129437': -0.24,\n",
       " '143741': -1.24,\n",
       " '172225': -2.24,\n",
       " '172': -3.24,\n",
       " '174973': -0.24,\n",
       " '157969': 0.26,\n",
       " '170216': 0.76,\n",
       " '31481': -1.24,\n",
       " '174430': 2.76,\n",
       " '150376': 0.76,\n",
       " '65244': -0.74,\n",
       " '39856': -0.24,\n",
       " '155068': 2.76,\n",
       " '112686': -1.24,\n",
       " '91872': -1.24,\n",
       " '192153': -0.24,\n",
       " '55690': 0.76,\n",
       " '70323': 2.76,\n",
       " '148228': 0.76,\n",
       " '40692': -0.24,\n",
       " '169786': 0.26,\n",
       " '178900': -0.24}"
      ]
     },
     "execution_count": 77,
     "metadata": {},
     "output_type": "execute_result"
    }
   ],
   "source": [
    "raw_ratings_scaled[\"Balanced1\"]"
   ]
  },
  {
   "cell_type": "code",
   "execution_count": 42,
   "id": "3d96234b",
   "metadata": {},
   "outputs": [],
   "source": [
    "# create longform\n",
    "\n",
    "real_user_ratings = pd.DataFrame.from_dict(raw_ratings_scaled).T\n",
    "real_user_ratings.set_axis(\n",
    "    real_user_ratings.columns.astype(\"int\"), axis=\"columns\", inplace=True\n",
    ")\n",
    "real_user_ratings.reset_index(inplace=True)\n",
    "real_user_ratings.head()\n",
    "real_user_ratings.rename(columns={\"index\": \"UserID\"}, inplace=True)\n",
    "real_user_ratings_long = real_user_ratings.melt(\n",
    "    id_vars=\"UserID\", var_name=\"BGGId\", value_name=\"Rating\"\n",
    ").dropna()\n",
    "real_user_ratings_long.sort_values(\"UserID\", inplace=True)\n",
    "real_user_ratings_long.reset_index(drop=True, inplace=True)\n",
    "real_user_ratings_long.head()"
   ]
  },
  {
   "cell_type": "code",
   "execution_count": null,
   "id": "589ad999",
   "metadata": {},
   "outputs": [],
   "source": []
  },
  {
   "cell_type": "markdown",
   "id": "c63a5d2f",
   "metadata": {},
   "source": [
    "## Unscaled Ratings - Longform DF"
   ]
  },
  {
   "cell_type": "code",
   "execution_count": 5,
   "id": "2e8a0c3d",
   "metadata": {},
   "outputs": [],
   "source": [
    "real_user_ratings_long_unscaled = pd.DataFrame()"
   ]
  },
  {
   "cell_type": "code",
   "execution_count": 6,
   "id": "052b5f7c",
   "metadata": {},
   "outputs": [
    {
     "name": "stdout",
     "output_type": "stream",
     "text": [
      "1\n",
      "2\n",
      "3\n",
      "4\n",
      "5\n",
      "6\n",
      "7\n"
     ]
    }
   ],
   "source": [
    "for appendation in np.arange(1, 8, 1):\n",
    "\n",
    "    print(appendation)\n",
    "\n",
    "    with open(\n",
    "        \"data_store/data_cleaned/user_ratings_block_\" + str(appendation) + \".json\"\n",
    "    ) as json_file:\n",
    "        raw_ratings = json.load(json_file)\n",
    "\n",
    "        # create longform\n",
    "\n",
    "    real_user_ratings = pd.DataFrame.from_dict(raw_ratings).T\n",
    "\n",
    "    del raw_ratings\n",
    "    gc.collect()\n",
    "    real_user_ratings.set_axis(\n",
    "        real_user_ratings.columns.astype(\"int\"), axis=\"columns\", inplace=True\n",
    "    )\n",
    "    real_user_ratings.reset_index(inplace=True)\n",
    "    real_user_ratings.rename(columns={\"index\": \"UserID\"}, inplace=True)\n",
    "    real_user_ratings_long = real_user_ratings.melt(\n",
    "        id_vars=\"UserID\", var_name=\"BGGId\", value_name=\"Rating\"\n",
    "    ).dropna()\n",
    "\n",
    "    del real_user_ratings\n",
    "    gc.collect()\n",
    "\n",
    "    real_user_ratings_long.sort_values(\"UserID\", inplace=True)\n",
    "    real_user_ratings_long.reset_index(drop=True, inplace=True)\n",
    "    real_user_ratings_long_unscaled = real_user_ratings_long_unscaled.append(\n",
    "        real_user_ratings_long\n",
    "    )\n",
    "    real_user_ratings_long.head()"
   ]
  },
  {
   "cell_type": "code",
   "execution_count": 7,
   "id": "2ffd926b",
   "metadata": {},
   "outputs": [
    {
     "data": {
      "text/plain": [
       "(17001178, 3)"
      ]
     },
     "execution_count": 7,
     "metadata": {},
     "output_type": "execute_result"
    }
   ],
   "source": [
    "real_user_ratings_long_unscaled.shape"
   ]
  },
  {
   "cell_type": "code",
   "execution_count": 8,
   "id": "ea1d4cc0",
   "metadata": {},
   "outputs": [],
   "source": [
    "real_user_ratings_long_unscaled.to_pickle(\n",
    "    \"real_ratings/real_user_ratings_long_unscaled.pkl\"\n",
    ")"
   ]
  },
  {
   "cell_type": "code",
   "execution_count": 9,
   "id": "943c7e29",
   "metadata": {},
   "outputs": [
    {
     "data": {
      "text/plain": [
       "63"
      ]
     },
     "execution_count": 9,
     "metadata": {},
     "output_type": "execute_result"
    }
   ],
   "source": [
    "del real_user_ratings_long_unscaled\n",
    "gc.collect()"
   ]
  },
  {
   "cell_type": "markdown",
   "id": "1f9f31cb",
   "metadata": {},
   "source": [
    "## Scaled Ratings - Full Matrix"
   ]
  },
  {
   "cell_type": "code",
   "execution_count": 4,
   "id": "e869d3db",
   "metadata": {},
   "outputs": [],
   "source": [
    "users_real_fullmatrix = pd.DataFrame()"
   ]
  },
  {
   "cell_type": "code",
   "execution_count": 5,
   "id": "249267a1",
   "metadata": {},
   "outputs": [
    {
     "name": "stdout",
     "output_type": "stream",
     "text": [
      "1\n",
      "Wall time: 1min 20s\n",
      "Wall time: 0 ns\n",
      "Wall time: 4.58 s\n",
      "Wall time: 1.35 s\n",
      "Wall time: 1.16 s\n",
      "Wall time: 21 ms\n",
      "Wall time: 2 ms\n",
      "2\n",
      "Wall time: 1min 22s\n",
      "Wall time: 0 ns\n",
      "Wall time: 4.88 s\n",
      "Wall time: 1.41 s\n",
      "Wall time: 1.26 s\n",
      "Wall time: 21 ms\n",
      "Wall time: 2 ms\n",
      "3\n",
      "Wall time: 1min 20s\n",
      "Wall time: 0 ns\n",
      "Wall time: 4.71 s\n",
      "Wall time: 1.3 s\n",
      "Wall time: 1.11 s\n",
      "Wall time: 21 ms\n",
      "Wall time: 1 ms\n",
      "4\n",
      "Wall time: 1min 22s\n",
      "Wall time: 1 ms\n",
      "Wall time: 4.79 s\n",
      "Wall time: 1.42 s\n",
      "Wall time: 1.11 s\n",
      "Wall time: 22 ms\n",
      "Wall time: 2 ms\n",
      "5\n",
      "Wall time: 1min 20s\n",
      "Wall time: 0 ns\n",
      "Wall time: 4.55 s\n",
      "Wall time: 1.32 s\n",
      "Wall time: 1.11 s\n",
      "Wall time: 26 ms\n",
      "Wall time: 1 ms\n",
      "6\n",
      "Wall time: 51.8 s\n",
      "Wall time: 0 ns\n",
      "Wall time: 2.55 s\n",
      "Wall time: 731 ms\n",
      "Wall time: 629 ms\n",
      "Wall time: 22 ms\n",
      "Wall time: 2 ms\n",
      "7\n",
      "Wall time: 24.2 s\n",
      "Wall time: 0 ns\n",
      "Wall time: 1.02 s\n",
      "Wall time: 259 ms\n",
      "Wall time: 196 ms\n",
      "Wall time: 14 ms\n",
      "Wall time: 1 ms\n"
     ]
    }
   ],
   "source": [
    "for appendation in np.arange(1, 8, 1):\n",
    "\n",
    "    print(appendation)\n",
    "\n",
    "    with open(\n",
    "        \"data_store/data_cleaned/user_ratings_block_scaled_\" + str(appendation) + \".json\"\n",
    "    ) as json_file:\n",
    "        raw_ratings = json.load(json_file)\n",
    "\n",
    "    %time real_user_ratings = pd.DataFrame.from_dict(raw_ratings).T\n",
    "\n",
    "    del raw_ratings\n",
    "    gc.collect()\n",
    "\n",
    "    real_user_ratings_index = list(real_user_ratings.index)\n",
    "    real_user_ratings_columns = list(real_user_ratings.columns)\n",
    "\n",
    "    %time ratings_array = real_user_ratings.values\n",
    "\n",
    "    %time ratings_array = np.round(ratings_array, 1)\n",
    "    %time ratings_array = ratings_array*10\n",
    "    %time ratings_array = ratings_array.astype('int8')\n",
    "\n",
    "    %time scaled_df = pd.DataFrame(ratings_array, columns=real_user_ratings_columns)\n",
    "    %time scaled_df.set_axis(real_user_ratings_index, axis=0, inplace=True)\n",
    "\n",
    "    users_real_fullmatrix = users_real_fullmatrix.append(scaled_df)"
   ]
  },
  {
   "cell_type": "code",
   "execution_count": 7,
   "id": "1f804e88",
   "metadata": {},
   "outputs": [],
   "source": [
    "users_real_fullmatrix.fillna(0, inplace=True)\n",
    "users_real_fullmatrix = users_real_fullmatrix.astype(\"int8\")"
   ]
  },
  {
   "cell_type": "code",
   "execution_count": 8,
   "id": "feb30c50",
   "metadata": {},
   "outputs": [],
   "source": [
    "users_real_fullmatrix.to_pickle(\"real_ratings/users_real_fullmatrix.pkl\")"
   ]
  },
  {
   "cell_type": "markdown",
   "id": "2e34d603",
   "metadata": {},
   "source": [
    "## Scaled Ratings - Longform DF"
   ]
  },
  {
   "cell_type": "code",
   "execution_count": 16,
   "id": "c80961f4",
   "metadata": {},
   "outputs": [],
   "source": [
    "real_user_ratings_long_scaled = pd.DataFrame()"
   ]
  },
  {
   "cell_type": "code",
   "execution_count": 17,
   "id": "11f8bebf",
   "metadata": {},
   "outputs": [
    {
     "name": "stdout",
     "output_type": "stream",
     "text": [
      "1\n",
      "2\n",
      "3\n",
      "4\n",
      "5\n",
      "6\n",
      "7\n"
     ]
    }
   ],
   "source": [
    "for appendation in np.arange(1, 8, 1):\n",
    "\n",
    "    print(appendation)\n",
    "\n",
    "    with open(\n",
    "        \"data_store/data_cleaned/user_ratings_block_scaled_\" + str(appendation) + \".json\"\n",
    "    ) as json_file:\n",
    "        raw_ratings = json.load(json_file)\n",
    "\n",
    "        # create longform\n",
    "\n",
    "    real_user_ratings = pd.DataFrame.from_dict(raw_ratings).T\n",
    "\n",
    "    del raw_ratings\n",
    "    gc.collect()\n",
    "    real_user_ratings.set_axis(\n",
    "        real_user_ratings.columns.astype(\"int\"), axis=\"columns\", inplace=True\n",
    "    )\n",
    "    real_user_ratings.reset_index(inplace=True)\n",
    "    real_user_ratings.rename(columns={\"index\": \"UserID\"}, inplace=True)\n",
    "    real_user_ratings_long = real_user_ratings.melt(\n",
    "        id_vars=\"UserID\", var_name=\"BGGId\", value_name=\"Rating\"\n",
    "    ).dropna()\n",
    "\n",
    "    del real_user_ratings\n",
    "    gc.collect()\n",
    "\n",
    "    real_user_ratings_long.sort_values(\"UserID\", inplace=True)\n",
    "    real_user_ratings_long.reset_index(drop=True, inplace=True)\n",
    "    real_user_ratings_long_scaled = real_user_ratings_long_scaled.append(\n",
    "        real_user_ratings_long\n",
    "    )\n",
    "    real_user_ratings_long.head()"
   ]
  },
  {
   "cell_type": "code",
   "execution_count": 18,
   "id": "cdd113b1",
   "metadata": {},
   "outputs": [
    {
     "data": {
      "text/plain": [
       "(17001178, 3)"
      ]
     },
     "execution_count": 18,
     "metadata": {},
     "output_type": "execute_result"
    }
   ],
   "source": [
    "real_user_ratings_long_scaled.shape"
   ]
  },
  {
   "cell_type": "code",
   "execution_count": 19,
   "id": "7b492fd2",
   "metadata": {},
   "outputs": [],
   "source": [
    "real_user_ratings_long_scaled.to_pickle(\n",
    "    \"real_ratings/real_user_ratings_long_scaled.pkl\"\n",
    ")"
   ]
  },
  {
   "cell_type": "code",
   "execution_count": 20,
   "id": "24f62c43",
   "metadata": {},
   "outputs": [
    {
     "data": {
      "text/plain": [
       "63"
      ]
     },
     "execution_count": 20,
     "metadata": {},
     "output_type": "execute_result"
    }
   ],
   "source": [
    "del real_user_ratings_long_scaled\n",
    "gc.collect()"
   ]
  },
  {
   "cell_type": "markdown",
   "id": "e9170a2b",
   "metadata": {},
   "source": [
    "# Build Synthetic Ratings Dictionaries"
   ]
  },
  {
   "cell_type": "markdown",
   "id": "bc5d59fc",
   "metadata": {},
   "source": [
    "## Scaled Ratings"
   ]
  },
  {
   "cell_type": "code",
   "execution_count": 8,
   "id": "ea1d45a4",
   "metadata": {},
   "outputs": [],
   "source": [
    "def make_lookup(appendation):\n",
    "    # Opening JSON file\n",
    "    with open(\n",
    "        \"synthetic_ratings/users_synthetic_\" + appendation + \"_1.json\"\n",
    "    ) as json_file:\n",
    "        users_dump_syntheticratings01 = json.load(json_file)\n",
    "    with open(\n",
    "        \"synthetic_ratings/users_synthetic_\" + appendation + \"_2.json\"\n",
    "    ) as json_file:\n",
    "        users_dump_syntheticratings02 = json.load(json_file)\n",
    "    with open(\n",
    "        \"synthetic_ratings/users_synthetic_\" + appendation + \"_3.json\"\n",
    "    ) as json_file:\n",
    "        users_dump_syntheticratings03 = json.load(json_file)\n",
    "    with open(\n",
    "        \"synthetic_ratings/users_synthetic_\" + appendation + \"_4.json\"\n",
    "    ) as json_file:\n",
    "        users_dump_syntheticratings04 = json.load(json_file)\n",
    "    with open(\n",
    "        \"synthetic_ratings/users_synthetic_\" + appendation + \"_5.json\"\n",
    "    ) as json_file:\n",
    "        users_dump_syntheticratings05 = json.load(json_file)\n",
    "    with open(\n",
    "        \"synthetic_ratings/users_synthetic_\" + appendation + \"_6.json\"\n",
    "    ) as json_file:\n",
    "        users_dump_syntheticratings06 = json.load(json_file)\n",
    "    with open(\n",
    "        \"synthetic_ratings/users_synthetic_\" + appendation + \"_7.json\"\n",
    "    ) as json_file:\n",
    "        users_dump_syntheticratings07 = json.load(json_file)\n",
    "\n",
    "    synth_user_ratings_dictionary_scaled = {}\n",
    "    synth_user_ratings_dictionary_scaled.update(users_dump_syntheticratings01)\n",
    "    synth_user_ratings_dictionary_scaled.update(users_dump_syntheticratings02)\n",
    "    synth_user_ratings_dictionary_scaled.update(users_dump_syntheticratings03)\n",
    "    synth_user_ratings_dictionary_scaled.update(users_dump_syntheticratings04)\n",
    "    synth_user_ratings_dictionary_scaled.update(users_dump_syntheticratings05)\n",
    "    synth_user_ratings_dictionary_scaled.update(users_dump_syntheticratings06)\n",
    "    synth_user_ratings_dictionary_scaled.update(users_dump_syntheticratings07)\n",
    "\n",
    "    with open(\n",
    "        \"synthetic_ratings/synth_user_ratings_dictionary_scaled_\"\n",
    "        + appendation\n",
    "        + \".json\",\n",
    "        \"w\",\n",
    "    ) as convert_file:\n",
    "        convert_file.write(json.dumps(synth_user_ratings_dictionary_scaled))"
   ]
  },
  {
   "cell_type": "code",
   "execution_count": 11,
   "id": "e4c00fbd",
   "metadata": {},
   "outputs": [],
   "source": [
    "# make_lookup('50')\n",
    "# make_lookup('100')\n",
    "# make_lookup('250')\n",
    "make_lookup(\"500\")\n",
    "# make_lookup('1k')\n",
    "# make_lookup('2k')"
   ]
  },
  {
   "cell_type": "markdown",
   "id": "4e8aa343",
   "metadata": {},
   "source": [
    "# Validate Data"
   ]
  },
  {
   "cell_type": "code",
   "execution_count": 2,
   "id": "c212ac71",
   "metadata": {
    "scrolled": true
   },
   "outputs": [],
   "source": [
    "# Opening JSON file\n",
    "with open(\n",
    "    \"synthetic_ratings/synth_user_ratings_dictionary_scaled_500.json\"\n",
    ") as json_file:\n",
    "    synth_user_ratings_dictionary_unscaled = json.load(json_file)\n",
    "\n",
    "# Opening JSON file\n",
    "with open(\"real_ratings/real_user_ratings_dictionary_unscaled.json\") as json_file:\n",
    "    real_user_ratings_dictionary_unscaled = json.load(json_file)"
   ]
  },
  {
   "cell_type": "code",
   "execution_count": 3,
   "id": "49454b31",
   "metadata": {
    "scrolled": true
   },
   "outputs": [
    {
     "data": {
      "text/plain": [
       "0"
      ]
     },
     "execution_count": 3,
     "metadata": {},
     "output_type": "execute_result"
    }
   ],
   "source": [
    "# dictionary of game IDs-Names\n",
    "\n",
    "# Load games\n",
    "games = pd.read_pickle(\"data_store/data_cleaned/games.pkl\")\n",
    "\n",
    "# lists of game ids and game names\n",
    "game_ids = list(games[\"BGGId\"])\n",
    "game_names = list(games[\"Name\"])\n",
    "\n",
    "# make lookup dictionary\n",
    "game_id_lookup = {}\n",
    "\n",
    "# store ids and names in lookup dictionary\n",
    "for key, item in zip(game_ids, game_names):\n",
    "    game_id_lookup[key] = item\n",
    "\n",
    "\n",
    "del games\n",
    "gc.collect()\n",
    "\n",
    "# game_id_lookup"
   ]
  },
  {
   "cell_type": "code",
   "execution_count": 4,
   "id": "c6d7d9ef",
   "metadata": {},
   "outputs": [
    {
     "data": {
      "text/plain": [
       "156"
      ]
     },
     "execution_count": 4,
     "metadata": {},
     "output_type": "execute_result"
    }
   ],
   "source": [
    "len(real_user_ratings_dictionary_unscaled[\"Threnody\"])"
   ]
  },
  {
   "cell_type": "code",
   "execution_count": 5,
   "id": "2baf5f25",
   "metadata": {},
   "outputs": [
    {
     "data": {
      "text/plain": [
       "624"
      ]
     },
     "execution_count": 5,
     "metadata": {},
     "output_type": "execute_result"
    }
   ],
   "source": [
    "len(synth_user_ratings_dictionary_unscaled[\"Threnody\"])"
   ]
  },
  {
   "cell_type": "code",
   "execution_count": 6,
   "id": "936dffe8",
   "metadata": {},
   "outputs": [],
   "source": [
    "user = \"Threnody\""
   ]
  },
  {
   "cell_type": "code",
   "execution_count": 7,
   "id": "eb4a5716",
   "metadata": {},
   "outputs": [
    {
     "data": {
      "text/html": [
       "<div>\n",
       "<style scoped>\n",
       "    .dataframe tbody tr th:only-of-type {\n",
       "        vertical-align: middle;\n",
       "    }\n",
       "\n",
       "    .dataframe tbody tr th {\n",
       "        vertical-align: top;\n",
       "    }\n",
       "\n",
       "    .dataframe thead th {\n",
       "        text-align: right;\n",
       "    }\n",
       "</style>\n",
       "<table border=\"1\" class=\"dataframe\">\n",
       "  <thead>\n",
       "    <tr style=\"text-align: right;\">\n",
       "      <th></th>\n",
       "      <th>index</th>\n",
       "      <th>0</th>\n",
       "      <th>Game</th>\n",
       "    </tr>\n",
       "  </thead>\n",
       "  <tbody>\n",
       "    <tr>\n",
       "      <th>126</th>\n",
       "      <td>228341</td>\n",
       "      <td>8.0</td>\n",
       "      <td>Pulsar 2849</td>\n",
       "    </tr>\n",
       "    <tr>\n",
       "      <th>127</th>\n",
       "      <td>201921</td>\n",
       "      <td>7.0</td>\n",
       "      <td>Tiny Epic Quest</td>\n",
       "    </tr>\n",
       "    <tr>\n",
       "      <th>128</th>\n",
       "      <td>246784</td>\n",
       "      <td>8.0</td>\n",
       "      <td>Cryptid</td>\n",
       "    </tr>\n",
       "    <tr>\n",
       "      <th>129</th>\n",
       "      <td>192135</td>\n",
       "      <td>9.0</td>\n",
       "      <td>Too Many Bones</td>\n",
       "    </tr>\n",
       "    <tr>\n",
       "      <th>130</th>\n",
       "      <td>49</td>\n",
       "      <td>6.0</td>\n",
       "      <td>Mamma Mia!</td>\n",
       "    </tr>\n",
       "    <tr>\n",
       "      <th>131</th>\n",
       "      <td>17223</td>\n",
       "      <td>6.0</td>\n",
       "      <td>World of Warcraft: The Boardgame</td>\n",
       "    </tr>\n",
       "    <tr>\n",
       "      <th>132</th>\n",
       "      <td>17329</td>\n",
       "      <td>7.0</td>\n",
       "      <td>Animal Upon Animal</td>\n",
       "    </tr>\n",
       "    <tr>\n",
       "      <th>133</th>\n",
       "      <td>2381</td>\n",
       "      <td>6.0</td>\n",
       "      <td>Scattergories</td>\n",
       "    </tr>\n",
       "    <tr>\n",
       "      <th>134</th>\n",
       "      <td>22345</td>\n",
       "      <td>7.0</td>\n",
       "      <td>Yspahan</td>\n",
       "    </tr>\n",
       "    <tr>\n",
       "      <th>135</th>\n",
       "      <td>163068</td>\n",
       "      <td>8.0</td>\n",
       "      <td>Trickerion: Legends of Illusion</td>\n",
       "    </tr>\n",
       "    <tr>\n",
       "      <th>136</th>\n",
       "      <td>15364</td>\n",
       "      <td>7.0</td>\n",
       "      <td>Vegas Showdown</td>\n",
       "    </tr>\n",
       "    <tr>\n",
       "      <th>137</th>\n",
       "      <td>140</td>\n",
       "      <td>6.0</td>\n",
       "      <td>Pit</td>\n",
       "    </tr>\n",
       "    <tr>\n",
       "      <th>138</th>\n",
       "      <td>161614</td>\n",
       "      <td>7.0</td>\n",
       "      <td>Stockpile</td>\n",
       "    </tr>\n",
       "    <tr>\n",
       "      <th>139</th>\n",
       "      <td>10</td>\n",
       "      <td>6.5</td>\n",
       "      <td>Elfenland</td>\n",
       "    </tr>\n",
       "    <tr>\n",
       "      <th>140</th>\n",
       "      <td>590</td>\n",
       "      <td>5.0</td>\n",
       "      <td>Mille Bornes</td>\n",
       "    </tr>\n",
       "    <tr>\n",
       "      <th>141</th>\n",
       "      <td>232405</td>\n",
       "      <td>6.0</td>\n",
       "      <td>Western Legends</td>\n",
       "    </tr>\n",
       "    <tr>\n",
       "      <th>142</th>\n",
       "      <td>2375</td>\n",
       "      <td>4.0</td>\n",
       "      <td>Sequence</td>\n",
       "    </tr>\n",
       "    <tr>\n",
       "      <th>143</th>\n",
       "      <td>2425</td>\n",
       "      <td>1.0</td>\n",
       "      <td>Battleship</td>\n",
       "    </tr>\n",
       "    <tr>\n",
       "      <th>144</th>\n",
       "      <td>148228</td>\n",
       "      <td>8.0</td>\n",
       "      <td>Splendor</td>\n",
       "    </tr>\n",
       "    <tr>\n",
       "      <th>145</th>\n",
       "      <td>169786</td>\n",
       "      <td>9.0</td>\n",
       "      <td>Scythe</td>\n",
       "    </tr>\n",
       "    <tr>\n",
       "      <th>146</th>\n",
       "      <td>230802</td>\n",
       "      <td>8.0</td>\n",
       "      <td>Azul</td>\n",
       "    </tr>\n",
       "    <tr>\n",
       "      <th>147</th>\n",
       "      <td>167791</td>\n",
       "      <td>9.0</td>\n",
       "      <td>Terraforming Mars</td>\n",
       "    </tr>\n",
       "    <tr>\n",
       "      <th>148</th>\n",
       "      <td>178900</td>\n",
       "      <td>8.0</td>\n",
       "      <td>Codenames</td>\n",
       "    </tr>\n",
       "    <tr>\n",
       "      <th>149</th>\n",
       "      <td>36218</td>\n",
       "      <td>8.0</td>\n",
       "      <td>Dominion</td>\n",
       "    </tr>\n",
       "    <tr>\n",
       "      <th>150</th>\n",
       "      <td>70323</td>\n",
       "      <td>7.0</td>\n",
       "      <td>King of Tokyo</td>\n",
       "    </tr>\n",
       "    <tr>\n",
       "      <th>151</th>\n",
       "      <td>9209</td>\n",
       "      <td>7.0</td>\n",
       "      <td>Ticket to Ride</td>\n",
       "    </tr>\n",
       "    <tr>\n",
       "      <th>152</th>\n",
       "      <td>14996</td>\n",
       "      <td>7.0</td>\n",
       "      <td>Ticket to Ride: Europe</td>\n",
       "    </tr>\n",
       "    <tr>\n",
       "      <th>153</th>\n",
       "      <td>31260</td>\n",
       "      <td>7.0</td>\n",
       "      <td>Agricola</td>\n",
       "    </tr>\n",
       "    <tr>\n",
       "      <th>154</th>\n",
       "      <td>68448</td>\n",
       "      <td>7.5</td>\n",
       "      <td>7 Wonders</td>\n",
       "    </tr>\n",
       "    <tr>\n",
       "      <th>155</th>\n",
       "      <td>3076</td>\n",
       "      <td>6.1</td>\n",
       "      <td>Puerto Rico</td>\n",
       "    </tr>\n",
       "  </tbody>\n",
       "</table>\n",
       "</div>"
      ],
      "text/plain": [
       "      index    0                              Game\n",
       "126  228341  8.0                       Pulsar 2849\n",
       "127  201921  7.0                   Tiny Epic Quest\n",
       "128  246784  8.0                           Cryptid\n",
       "129  192135  9.0                    Too Many Bones\n",
       "130      49  6.0                        Mamma Mia!\n",
       "131   17223  6.0  World of Warcraft: The Boardgame\n",
       "132   17329  7.0                Animal Upon Animal\n",
       "133    2381  6.0                     Scattergories\n",
       "134   22345  7.0                           Yspahan\n",
       "135  163068  8.0   Trickerion: Legends of Illusion\n",
       "136   15364  7.0                    Vegas Showdown\n",
       "137     140  6.0                               Pit\n",
       "138  161614  7.0                         Stockpile\n",
       "139      10  6.5                         Elfenland\n",
       "140     590  5.0                      Mille Bornes\n",
       "141  232405  6.0                   Western Legends\n",
       "142    2375  4.0                          Sequence\n",
       "143    2425  1.0                        Battleship\n",
       "144  148228  8.0                          Splendor\n",
       "145  169786  9.0                            Scythe\n",
       "146  230802  8.0                              Azul\n",
       "147  167791  9.0                 Terraforming Mars\n",
       "148  178900  8.0                         Codenames\n",
       "149   36218  8.0                          Dominion\n",
       "150   70323  7.0                     King of Tokyo\n",
       "151    9209  7.0                    Ticket to Ride\n",
       "152   14996  7.0            Ticket to Ride: Europe\n",
       "153   31260  7.0                          Agricola\n",
       "154   68448  7.5                         7 Wonders\n",
       "155    3076  6.1                       Puerto Rico"
      ]
     },
     "execution_count": 7,
     "metadata": {},
     "output_type": "execute_result"
    }
   ],
   "source": [
    "this_user = pd.DataFrame(\n",
    "    real_user_ratings_dictionary_unscaled[user].values(),\n",
    "    index=real_user_ratings_dictionary_unscaled[user].keys(),\n",
    ")\n",
    "this_user.reset_index(inplace=True)\n",
    "this_user[\"Game\"] = this_user[\"index\"].astype(\"int32\").map(game_id_lookup)\n",
    "this_user.tail(30)"
   ]
  },
  {
   "cell_type": "code",
   "execution_count": 8,
   "id": "21435300",
   "metadata": {},
   "outputs": [
    {
     "data": {
      "text/html": [
       "<div>\n",
       "<style scoped>\n",
       "    .dataframe tbody tr th:only-of-type {\n",
       "        vertical-align: middle;\n",
       "    }\n",
       "\n",
       "    .dataframe tbody tr th {\n",
       "        vertical-align: top;\n",
       "    }\n",
       "\n",
       "    .dataframe thead th {\n",
       "        text-align: right;\n",
       "    }\n",
       "</style>\n",
       "<table border=\"1\" class=\"dataframe\">\n",
       "  <thead>\n",
       "    <tr style=\"text-align: right;\">\n",
       "      <th></th>\n",
       "      <th>index</th>\n",
       "      <th>0</th>\n",
       "      <th>Game</th>\n",
       "    </tr>\n",
       "  </thead>\n",
       "  <tbody>\n",
       "    <tr>\n",
       "      <th>594</th>\n",
       "      <td>172278</td>\n",
       "      <td>8</td>\n",
       "      <td>Ether Wars</td>\n",
       "    </tr>\n",
       "    <tr>\n",
       "      <th>595</th>\n",
       "      <td>170799</td>\n",
       "      <td>-1</td>\n",
       "      <td>Lost Woods</td>\n",
       "    </tr>\n",
       "    <tr>\n",
       "      <th>596</th>\n",
       "      <td>31887</td>\n",
       "      <td>7</td>\n",
       "      <td>AmuseAmaze</td>\n",
       "    </tr>\n",
       "    <tr>\n",
       "      <th>597</th>\n",
       "      <td>149241</td>\n",
       "      <td>14</td>\n",
       "      <td>Assault on Doomrock</td>\n",
       "    </tr>\n",
       "    <tr>\n",
       "      <th>598</th>\n",
       "      <td>1105</td>\n",
       "      <td>-9</td>\n",
       "      <td>Titus</td>\n",
       "    </tr>\n",
       "    <tr>\n",
       "      <th>599</th>\n",
       "      <td>10640</td>\n",
       "      <td>-9</td>\n",
       "      <td>Doom: The Boardgame</td>\n",
       "    </tr>\n",
       "    <tr>\n",
       "      <th>600</th>\n",
       "      <td>84464</td>\n",
       "      <td>-1</td>\n",
       "      <td>Animal Upon Animal: Balancing Bridge</td>\n",
       "    </tr>\n",
       "    <tr>\n",
       "      <th>601</th>\n",
       "      <td>67877</td>\n",
       "      <td>-9</td>\n",
       "      <td>Anomia</td>\n",
       "    </tr>\n",
       "    <tr>\n",
       "      <th>602</th>\n",
       "      <td>202896</td>\n",
       "      <td>-1</td>\n",
       "      <td>Package!?</td>\n",
       "    </tr>\n",
       "    <tr>\n",
       "      <th>603</th>\n",
       "      <td>97207</td>\n",
       "      <td>6</td>\n",
       "      <td>Dungeon Petz</td>\n",
       "    </tr>\n",
       "    <tr>\n",
       "      <th>604</th>\n",
       "      <td>82223</td>\n",
       "      <td>-1</td>\n",
       "      <td>Feast &amp; Famine</td>\n",
       "    </tr>\n",
       "    <tr>\n",
       "      <th>605</th>\n",
       "      <td>146597</td>\n",
       "      <td>-9</td>\n",
       "      <td>Discount Salmon</td>\n",
       "    </tr>\n",
       "    <tr>\n",
       "      <th>606</th>\n",
       "      <td>2963</td>\n",
       "      <td>-1</td>\n",
       "      <td>Stockmarket</td>\n",
       "    </tr>\n",
       "    <tr>\n",
       "      <th>607</th>\n",
       "      <td>202670</td>\n",
       "      <td>-5</td>\n",
       "      <td>Ticket to Ride: Rails &amp; Sails</td>\n",
       "    </tr>\n",
       "    <tr>\n",
       "      <th>608</th>\n",
       "      <td>189806</td>\n",
       "      <td>-19</td>\n",
       "      <td>Rocket Squad</td>\n",
       "    </tr>\n",
       "    <tr>\n",
       "      <th>609</th>\n",
       "      <td>31516</td>\n",
       "      <td>-9</td>\n",
       "      <td>Phenomena</td>\n",
       "    </tr>\n",
       "    <tr>\n",
       "      <th>610</th>\n",
       "      <td>23931</td>\n",
       "      <td>-28</td>\n",
       "      <td>Gene Pool</td>\n",
       "    </tr>\n",
       "    <tr>\n",
       "      <th>611</th>\n",
       "      <td>4781</td>\n",
       "      <td>-53</td>\n",
       "      <td>Electronic Talking Battleship</td>\n",
       "    </tr>\n",
       "    <tr>\n",
       "      <th>612</th>\n",
       "      <td>328636</td>\n",
       "      <td>8</td>\n",
       "      <td>Chai (Deluxe Edition)</td>\n",
       "    </tr>\n",
       "    <tr>\n",
       "      <th>613</th>\n",
       "      <td>239189</td>\n",
       "      <td>16</td>\n",
       "      <td>Chronicle X</td>\n",
       "    </tr>\n",
       "    <tr>\n",
       "      <th>614</th>\n",
       "      <td>37103</td>\n",
       "      <td>6</td>\n",
       "      <td>Spangles</td>\n",
       "    </tr>\n",
       "    <tr>\n",
       "      <th>615</th>\n",
       "      <td>320446</td>\n",
       "      <td>15</td>\n",
       "      <td>Corduba 27 a.C.</td>\n",
       "    </tr>\n",
       "    <tr>\n",
       "      <th>616</th>\n",
       "      <td>220774</td>\n",
       "      <td>7</td>\n",
       "      <td>Codenames: Marvel</td>\n",
       "    </tr>\n",
       "    <tr>\n",
       "      <th>617</th>\n",
       "      <td>149083</td>\n",
       "      <td>8</td>\n",
       "      <td>Dominion: Special Edition</td>\n",
       "    </tr>\n",
       "    <tr>\n",
       "      <th>618</th>\n",
       "      <td>293141</td>\n",
       "      <td>-1</td>\n",
       "      <td>King of Tokyo: Dark Edition</td>\n",
       "    </tr>\n",
       "    <tr>\n",
       "      <th>619</th>\n",
       "      <td>119637</td>\n",
       "      <td>-1</td>\n",
       "      <td>Zug um Zug: Deutschland</td>\n",
       "    </tr>\n",
       "    <tr>\n",
       "      <th>620</th>\n",
       "      <td>205125</td>\n",
       "      <td>-1</td>\n",
       "      <td>Ticket to Ride: First Journey (U.S.)</td>\n",
       "    </tr>\n",
       "    <tr>\n",
       "      <th>621</th>\n",
       "      <td>157413</td>\n",
       "      <td>-1</td>\n",
       "      <td>New Bedford</td>\n",
       "    </tr>\n",
       "    <tr>\n",
       "      <th>622</th>\n",
       "      <td>316377</td>\n",
       "      <td>4</td>\n",
       "      <td>7 Wonders (Second Edition)</td>\n",
       "    </tr>\n",
       "    <tr>\n",
       "      <th>623</th>\n",
       "      <td>318985</td>\n",
       "      <td>-8</td>\n",
       "      <td>Puerto Rico</td>\n",
       "    </tr>\n",
       "  </tbody>\n",
       "</table>\n",
       "</div>"
      ],
      "text/plain": [
       "      index   0                                  Game\n",
       "594  172278   8                            Ether Wars\n",
       "595  170799  -1                            Lost Woods\n",
       "596   31887   7                            AmuseAmaze\n",
       "597  149241  14                   Assault on Doomrock\n",
       "598    1105  -9                                 Titus\n",
       "599   10640  -9                   Doom: The Boardgame\n",
       "600   84464  -1  Animal Upon Animal: Balancing Bridge\n",
       "601   67877  -9                                Anomia\n",
       "602  202896  -1                             Package!?\n",
       "603   97207   6                          Dungeon Petz\n",
       "604   82223  -1                        Feast & Famine\n",
       "605  146597  -9                       Discount Salmon\n",
       "606    2963  -1                           Stockmarket\n",
       "607  202670  -5         Ticket to Ride: Rails & Sails\n",
       "608  189806 -19                          Rocket Squad\n",
       "609   31516  -9                             Phenomena\n",
       "610   23931 -28                             Gene Pool\n",
       "611    4781 -53         Electronic Talking Battleship\n",
       "612  328636   8                 Chai (Deluxe Edition)\n",
       "613  239189  16                           Chronicle X\n",
       "614   37103   6                              Spangles\n",
       "615  320446  15                       Corduba 27 a.C.\n",
       "616  220774   7                     Codenames: Marvel\n",
       "617  149083   8             Dominion: Special Edition\n",
       "618  293141  -1           King of Tokyo: Dark Edition\n",
       "619  119637  -1               Zug um Zug: Deutschland\n",
       "620  205125  -1  Ticket to Ride: First Journey (U.S.)\n",
       "621  157413  -1                           New Bedford\n",
       "622  316377   4            7 Wonders (Second Edition)\n",
       "623  318985  -8                           Puerto Rico"
      ]
     },
     "execution_count": 8,
     "metadata": {},
     "output_type": "execute_result"
    }
   ],
   "source": [
    "this_user = pd.DataFrame(\n",
    "    synth_user_ratings_dictionary_unscaled[user].values(),\n",
    "    index=synth_user_ratings_dictionary_unscaled[user].keys(),\n",
    ")\n",
    "this_user.reset_index(inplace=True)\n",
    "this_user[\"Game\"] = this_user[\"index\"].astype(\"int32\").map(game_id_lookup)\n",
    "this_user.tail(30)"
   ]
  },
  {
   "cell_type": "markdown",
   "id": "193cc63b",
   "metadata": {},
   "source": [
    "# Build User Means Dictionary"
   ]
  },
  {
   "cell_type": "code",
   "execution_count": 4,
   "id": "ee9ae418",
   "metadata": {},
   "outputs": [],
   "source": [
    "def get_user_means(path_item):\n",
    "\n",
    "    temp_dictionary = {}\n",
    "\n",
    "    path = \"data_store/data_cleaned/ratings_matrix_cleaned_\" + path_item + \".pkl\"\n",
    "    user_matrix = pd.read_pickle(path)\n",
    "    user_matrix = user_matrix.T\n",
    "    user_matrix.index = user_matrix.index.astype(\"int32\")\n",
    "    user_matrix.shape\n",
    "\n",
    "    print(\"Processing \" + str(path_item))\n",
    "    for user in user_matrix.columns:\n",
    "\n",
    "        # get the mean rating for that user\n",
    "        user_mean = user_matrix[user].mean()\n",
    "\n",
    "        user_means[user] = user_mean"
   ]
  },
  {
   "cell_type": "code",
   "execution_count": 5,
   "id": "363f2c57",
   "metadata": {},
   "outputs": [
    {
     "name": "stdout",
     "output_type": "stream",
     "text": [
      "Processing 01\n",
      "Processing 02\n",
      "Processing 03\n",
      "Processing 04\n",
      "Processing 05\n",
      "Processing 06\n"
     ]
    }
   ],
   "source": [
    "user_means = {}\n",
    "\n",
    "get_user_means(\"01\")\n",
    "get_user_means(\"02\")\n",
    "get_user_means(\"03\")\n",
    "get_user_means(\"04\")\n",
    "get_user_means(\"05\")\n",
    "get_user_means(\"06\")"
   ]
  },
  {
   "cell_type": "code",
   "execution_count": 6,
   "id": "4995c7e7",
   "metadata": {},
   "outputs": [
    {
     "data": {
      "text/plain": [
       "7.222485207100592"
      ]
     },
     "execution_count": 6,
     "metadata": {},
     "output_type": "execute_result"
    }
   ],
   "source": [
    "user_means[\"Threnody\"]"
   ]
  },
  {
   "cell_type": "code",
   "execution_count": 7,
   "id": "dd633af6",
   "metadata": {},
   "outputs": [],
   "source": [
    "with open(\"users_means.json\", \"w\") as convert_file:\n",
    "    convert_file.write(json.dumps(user_means))"
   ]
  },
  {
   "cell_type": "code",
   "execution_count": 8,
   "id": "9cf4c2b8",
   "metadata": {},
   "outputs": [],
   "source": [
    "user_means = pd.DataFrame.from_dict(user_means, columns=[\"user_mean\"], orient=\"index\")"
   ]
  },
  {
   "cell_type": "code",
   "execution_count": 9,
   "id": "19358a7c",
   "metadata": {},
   "outputs": [],
   "source": [
    "user_means.to_pickle(\"user_means.pkl\")"
   ]
  },
  {
   "cell_type": "code",
   "execution_count": null,
   "id": "e85c1b18",
   "metadata": {},
   "outputs": [],
   "source": [
    "with open(\"users_means.json\") as json_file:\n",
    "    user_means = json.load(json_file)"
   ]
  }
 ],
 "metadata": {
  "kernelspec": {
   "display_name": "Python 3 (ipykernel)",
   "language": "python",
   "name": "python3"
  },
  "language_info": {
   "codemirror_mode": {
    "name": "ipython",
    "version": 3
   },
   "file_extension": ".py",
   "mimetype": "text/x-python",
   "name": "python",
   "nbconvert_exporter": "python",
   "pygments_lexer": "ipython3",
   "version": "3.7.10"
  },
  "toc": {
   "base_numbering": 1,
   "nav_menu": {},
   "number_sections": true,
   "sideBar": true,
   "skip_h1_title": false,
   "title_cell": "Table of Contents",
   "title_sidebar": "Contents",
   "toc_cell": false,
   "toc_position": {
    "height": "calc(100% - 180px)",
    "left": "10px",
    "top": "150px",
    "width": "292.865px"
   },
   "toc_section_display": true,
   "toc_window_display": true
  }
 },
 "nbformat": 4,
 "nbformat_minor": 5
}
