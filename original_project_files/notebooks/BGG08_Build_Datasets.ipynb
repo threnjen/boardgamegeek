{
 "cells": [
  {
   "cell_type": "markdown",
   "id": "979811e9",
   "metadata": {},
   "source": [
    "# Notebook Objective and Setup\n",
    "\n",
    "In BGG07 we build several large datasets, notably:\n",
    "\n",
    "* Real Ratings Dictionaries and Longform(melted) Dataframes in both unscaled and scaled versions\n",
    "* Synthetic Ratings Dictionaries and Longform Dataframes in both unscaled and scaled versions, for 100, 250 and 500\n",
    "* User Means lookup dictionary\n",
    "\n",
    "These files are used in the Collaborative Filter (BGG08)"
   ]
  },
  {
   "cell_type": "markdown",
   "id": "e4e48291",
   "metadata": {},
   "source": [
    "## Notebook Preparation"
   ]
  },
  {
   "cell_type": "markdown",
   "id": "e76df09b",
   "metadata": {},
   "source": [
    "### Package Imports"
   ]
  },
  {
   "cell_type": "code",
   "execution_count": null,
   "id": "57e943a4",
   "metadata": {},
   "outputs": [],
   "source": [
    "import pandas as pd\n",
    "import numpy as np\n",
    "import requests\n",
    "import regex as re\n",
    "import time\n",
    "import os\n",
    "import gc\n",
    "import json\n",
    "from statistics import mean\n",
    "import copy\n",
    "\n",
    "# ignore warnings (gets rid of Pandas copy warnings)\n",
    "import warnings\n",
    "\n",
    "warnings.filterwarnings(\"ignore\")\n",
    "pd.options.display.max_columns = None\n",
    "\n",
    "pd.set_option(\"display.max_columns\", None)\n",
    "pd.set_option(\"display.max_rows\", 30)"
   ]
  },
  {
   "cell_type": "markdown",
   "id": "275f08a9",
   "metadata": {},
   "source": [
    "### Notebook Functions"
   ]
  },
  {
   "cell_type": "code",
   "execution_count": null,
   "id": "2896a585",
   "metadata": {},
   "outputs": [],
   "source": [
    "def get_user(user_items, user, game_ids, scaled=True):\n",
    "    \"\"\"\n",
    "    Takes in a sparse matrix of users and items, a specific user to retrieve, and a list of game_ids\n",
    "    Get the mean for the user\n",
    "    Builds a list of user's rated items and subtracts user mean from all ratings\n",
    "    Builds a corresponding list of game ids for the rated games\n",
    "    Gets intersection of user's rated ids with the overall game_ids\n",
    "    Stores user game_id:rating in user ratings dictionary\n",
    "    Returns the user dictionary\n",
    "\n",
    "    Inputs:\n",
    "    user_matrix: sparse matrix of users and game ratings\n",
    "    user: user to retrieve\n",
    "    game_ids: all possible game_ids in matrix\n",
    "    scaled: default true, is whether to remove user's mean from their ratings\n",
    "\n",
    "    Outputs:\n",
    "    overall_user: user entry with user's game ratings\n",
    "    \"\"\"\n",
    "\n",
    "    # get the mean rating for that user\n",
    "    user_mean = user_items.mean()\n",
    "\n",
    "    if scaled:\n",
    "        # normalize the ratings for that user by subtracting their mean from all ratings, store in list\n",
    "        game_ratings_normed = list(user_items - user_mean)\n",
    "\n",
    "    else:\n",
    "        game_ratings_normed = list(user_items)\n",
    "\n",
    "    # Get a list of all of the game IDs that the user rated (meaning are not NaN)\n",
    "    users_game_ids = list(user_items.index)\n",
    "\n",
    "    user_ratings = {}\n",
    "\n",
    "    for key, value in zip(users_game_ids, game_ratings_normed):\n",
    "        user_ratings[key] = value\n",
    "\n",
    "    game_ids_set = set(game_ids).intersection(set(users_game_ids))\n",
    "\n",
    "    # make a dictionary to store the intersected ratings\n",
    "    set_dictionary = {}\n",
    "\n",
    "    # for each matching key, value in game_ids and game_ratings for the user\n",
    "    for item in game_ids_set:\n",
    "        set_dictionary[item] = user_ratings[item]\n",
    "\n",
    "    # store the user's ratings\n",
    "    overall_user = set_dictionary\n",
    "\n",
    "    return overall_user"
   ]
  },
  {
   "cell_type": "code",
   "execution_count": null,
   "id": "e44711fc",
   "metadata": {},
   "outputs": [],
   "source": [
    "def make_user_dictionaries(path_item, scaled=True):\n",
    "    \"\"\"Loads a user ratings matrix, cleans, and returns as ratings dictionary\n",
    "\n",
    "    Inputs: path\n",
    "    Scaled: default true, passes to get_user\n",
    "\n",
    "    Outputs: ratings dictionary for this file\n",
    "    \"\"\"\n",
    "\n",
    "    temp_dictionary = {}\n",
    "\n",
    "    path = \"data_cleaned_new_scraper/ratings_matrix_cleaned_\" + path_item + \".pkl\"\n",
    "    user_matrix = pd.read_pickle(path)\n",
    "    user_matrix = user_matrix.T\n",
    "    user_matrix.index = user_matrix.index.astype(\"int32\")\n",
    "    user_matrix.shape\n",
    "\n",
    "    for user in user_matrix.columns:\n",
    "\n",
    "        print(\"Starting user \" + user)\n",
    "\n",
    "        user_items = user_matrix[user].dropna(axis=0)\n",
    "\n",
    "        # copy the current user dictionary to the synthetic ratings storage dictionary\n",
    "        temp_dictionary[user] = get_user(user_items, user, game_ids, scaled)\n",
    "\n",
    "    return temp_dictionary"
   ]
  },
  {
   "cell_type": "code",
   "execution_count": null,
   "id": "6db17d4b",
   "metadata": {},
   "outputs": [],
   "source": [
    "def make_long_df(path, scaled=True):\n",
    "    \"\"\"Melts a user ratings dictionary into a longform dataframe\n",
    "\n",
    "    Inputs: path, passes to make_user_dictionaries\n",
    "    scaled: default true, passes to make_user_dictionaries then get_user\n",
    "    \"\"\"\n",
    "    # call for dictionary\n",
    "    temp_dictionary = make_user_dictionaries(path, scaled)\n",
    "\n",
    "    # melt dictionary into longform DF\n",
    "    real_user_ratings = pd.DataFrame.from_dict(temp_dictionary).T\n",
    "    real_user_ratings.reset_index(inplace=True)\n",
    "    real_user_ratings.rename(columns={\"index\": \"UserID\"}, inplace=True)\n",
    "    real_user_ratings_long = real_user_ratings.melt(\n",
    "        id_vars=\"UserID\", var_name=\"BGGId\", value_name=\"Rating\"\n",
    "    ).dropna()\n",
    "    real_user_ratings_long.sort_values(\"UserID\", inplace=True)\n",
    "    real_user_ratings_long.reset_index(drop=True, inplace=True)\n",
    "\n",
    "    del real_user_ratings\n",
    "    gc.collect()\n",
    "\n",
    "    return temp_dictionary, real_user_ratings_long"
   ]
  },
  {
   "cell_type": "code",
   "execution_count": null,
   "id": "637e50b6",
   "metadata": {},
   "outputs": [],
   "source": [
    "# load and make game id list\n",
    "games = pd.read_pickle(\"data_store/data_cleaned/games.pkl\")\n",
    "\n",
    "game_ids = list(games[\"BGGId\"])"
   ]
  },
  {
   "cell_type": "markdown",
   "id": "a9acc878",
   "metadata": {},
   "source": [
    "# Make Scaled dictionary"
   ]
  },
  {
   "cell_type": "code",
   "execution_count": null,
   "id": "c29aaecc",
   "metadata": {},
   "outputs": [],
   "source": [
    "# Opening JSON file\n",
    "with open(\"data_store/data_cleaned/user_ratings.json\") as json_file:\n",
    "    raw_ratings = json.load(json_file)"
   ]
  },
  {
   "cell_type": "code",
   "execution_count": null,
   "id": "831f296a",
   "metadata": {},
   "outputs": [],
   "source": [
    "raw_ratings_scaled = {}\n",
    "\n",
    "for person in raw_ratings:\n",
    "    raw_ratings_scaled[person] = {}\n",
    "\n",
    "    user_mean = mean(raw_ratings[person].values())\n",
    "\n",
    "    for item in raw_ratings[person]:\n",
    "\n",
    "        new_value = round((raw_ratings[person][item] - user_mean), 2)\n",
    "        raw_ratings_scaled[person][item] = new_value"
   ]
  },
  {
   "cell_type": "code",
   "execution_count": null,
   "id": "5e30e7b9",
   "metadata": {},
   "outputs": [],
   "source": [
    "with open(\"data_store/data_cleaned/scaled_user_ratings.json\", \"w\") as convert_file:\n",
    "    convert_file.write(json.dumps(raw_ratings_scaled))"
   ]
  },
  {
   "cell_type": "code",
   "execution_count": null,
   "id": "c5b48cab",
   "metadata": {},
   "outputs": [],
   "source": [
    "del raw_ratings\n",
    "gc.collect()"
   ]
  },
  {
   "cell_type": "markdown",
   "id": "b612b97d",
   "metadata": {},
   "source": [
    "# Build Real Ratings Dictionaries"
   ]
  },
  {
   "cell_type": "markdown",
   "id": "4087960a",
   "metadata": {},
   "source": [
    "Build the various data sets"
   ]
  },
  {
   "cell_type": "code",
   "execution_count": null,
   "id": "32c64ff8",
   "metadata": {},
   "outputs": [],
   "source": [
    "# Opening JSON file\n",
    "with open(\"data_store/data_cleaned/user_ratings_block_7.json\") as json_file:\n",
    "    raw_ratings_small = json.load(json_file)"
   ]
  },
  {
   "cell_type": "code",
   "execution_count": null,
   "id": "5be3acea",
   "metadata": {},
   "outputs": [],
   "source": [
    "list(raw_ratings_small.keys())[:10]"
   ]
  },
  {
   "cell_type": "code",
   "execution_count": null,
   "id": "d8ecf80c",
   "metadata": {
    "scrolled": true
   },
   "outputs": [],
   "source": [
    "raw_ratings_small[\"Balanced1\"]"
   ]
  },
  {
   "cell_type": "code",
   "execution_count": null,
   "id": "7cdd2ba8",
   "metadata": {},
   "outputs": [],
   "source": [
    "user_mean = mean(raw_ratings_small[\"Balanced1\"].values())\n",
    "user_mean"
   ]
  },
  {
   "cell_type": "code",
   "execution_count": null,
   "id": "3258d71a",
   "metadata": {},
   "outputs": [],
   "source": [
    "del raw_ratings_scaled\n",
    "gc.collect()"
   ]
  },
  {
   "cell_type": "code",
   "execution_count": null,
   "id": "258d17a3",
   "metadata": {},
   "outputs": [],
   "source": [
    "len(raw_ratings)"
   ]
  },
  {
   "cell_type": "code",
   "execution_count": null,
   "id": "ea6783c9",
   "metadata": {},
   "outputs": [],
   "source": [
    "len(raw_ratings_scaled)"
   ]
  },
  {
   "cell_type": "code",
   "execution_count": null,
   "id": "7d167c39",
   "metadata": {},
   "outputs": [],
   "source": [
    "raw_ratings_scaled[\"Balanced1\"]"
   ]
  },
  {
   "cell_type": "code",
   "execution_count": null,
   "id": "3d96234b",
   "metadata": {},
   "outputs": [],
   "source": [
    "# create longform\n",
    "\n",
    "real_user_ratings = pd.DataFrame.from_dict(raw_ratings_scaled).T\n",
    "real_user_ratings.set_axis(\n",
    "    real_user_ratings.columns.astype(\"int\"), axis=\"columns\", inplace=True\n",
    ")\n",
    "real_user_ratings.reset_index(inplace=True)\n",
    "real_user_ratings.head()\n",
    "real_user_ratings.rename(columns={\"index\": \"UserID\"}, inplace=True)\n",
    "real_user_ratings_long = real_user_ratings.melt(\n",
    "    id_vars=\"UserID\", var_name=\"BGGId\", value_name=\"Rating\"\n",
    ").dropna()\n",
    "real_user_ratings_long.sort_values(\"UserID\", inplace=True)\n",
    "real_user_ratings_long.reset_index(drop=True, inplace=True)\n",
    "real_user_ratings_long.head()"
   ]
  },
  {
   "cell_type": "code",
   "execution_count": null,
   "id": "589ad999",
   "metadata": {},
   "outputs": [],
   "source": []
  },
  {
   "cell_type": "markdown",
   "id": "c63a5d2f",
   "metadata": {},
   "source": [
    "## Unscaled Ratings - Longform DF"
   ]
  },
  {
   "cell_type": "code",
   "execution_count": null,
   "id": "2e8a0c3d",
   "metadata": {},
   "outputs": [],
   "source": [
    "real_user_ratings_long_unscaled = pd.DataFrame()"
   ]
  },
  {
   "cell_type": "code",
   "execution_count": null,
   "id": "052b5f7c",
   "metadata": {},
   "outputs": [],
   "source": [
    "for appendation in np.arange(1, 8, 1):\n",
    "\n",
    "    print(appendation)\n",
    "\n",
    "    with open(\n",
    "        \"data_store/data_cleaned/user_ratings_block_\" + str(appendation) + \".json\"\n",
    "    ) as json_file:\n",
    "        raw_ratings = json.load(json_file)\n",
    "\n",
    "        # create longform\n",
    "\n",
    "    real_user_ratings = pd.DataFrame.from_dict(raw_ratings).T\n",
    "\n",
    "    del raw_ratings\n",
    "    gc.collect()\n",
    "    real_user_ratings.set_axis(\n",
    "        real_user_ratings.columns.astype(\"int\"), axis=\"columns\", inplace=True\n",
    "    )\n",
    "    real_user_ratings.reset_index(inplace=True)\n",
    "    real_user_ratings.rename(columns={\"index\": \"UserID\"}, inplace=True)\n",
    "    real_user_ratings_long = real_user_ratings.melt(\n",
    "        id_vars=\"UserID\", var_name=\"BGGId\", value_name=\"Rating\"\n",
    "    ).dropna()\n",
    "\n",
    "    del real_user_ratings\n",
    "    gc.collect()\n",
    "\n",
    "    real_user_ratings_long.sort_values(\"UserID\", inplace=True)\n",
    "    real_user_ratings_long.reset_index(drop=True, inplace=True)\n",
    "    real_user_ratings_long_unscaled = real_user_ratings_long_unscaled.append(\n",
    "        real_user_ratings_long\n",
    "    )\n",
    "    real_user_ratings_long.head()"
   ]
  },
  {
   "cell_type": "code",
   "execution_count": null,
   "id": "2ffd926b",
   "metadata": {},
   "outputs": [],
   "source": [
    "real_user_ratings_long_unscaled.shape"
   ]
  },
  {
   "cell_type": "code",
   "execution_count": null,
   "id": "ea1d4cc0",
   "metadata": {},
   "outputs": [],
   "source": [
    "real_user_ratings_long_unscaled.to_pickle(\n",
    "    \"real_ratings/real_user_ratings_long_unscaled.pkl\"\n",
    ")"
   ]
  },
  {
   "cell_type": "code",
   "execution_count": null,
   "id": "943c7e29",
   "metadata": {},
   "outputs": [],
   "source": [
    "del real_user_ratings_long_unscaled\n",
    "gc.collect()"
   ]
  },
  {
   "cell_type": "markdown",
   "id": "1f9f31cb",
   "metadata": {},
   "source": [
    "## Scaled Ratings - Full Matrix"
   ]
  },
  {
   "cell_type": "code",
   "execution_count": null,
   "id": "e869d3db",
   "metadata": {},
   "outputs": [],
   "source": [
    "users_real_fullmatrix = pd.DataFrame()"
   ]
  },
  {
   "cell_type": "code",
   "execution_count": null,
   "id": "249267a1",
   "metadata": {},
   "outputs": [],
   "source": [
    "for appendation in np.arange(1, 8, 1):\n",
    "\n",
    "    print(appendation)\n",
    "\n",
    "    with open(\n",
    "        \"data_store/data_cleaned/user_ratings_block_scaled_\"\n",
    "        + str(appendation)\n",
    "        + \".json\"\n",
    "    ) as json_file:\n",
    "        raw_ratings = json.load(json_file)\n",
    "\n",
    "    %time real_user_ratings = pd.DataFrame.from_dict(raw_ratings).T\n",
    "\n",
    "    del raw_ratings\n",
    "    gc.collect()\n",
    "\n",
    "    real_user_ratings_index = list(real_user_ratings.index)\n",
    "    real_user_ratings_columns = list(real_user_ratings.columns)\n",
    "\n",
    "    %time ratings_array = real_user_ratings.values\n",
    "\n",
    "    %time ratings_array = np.round(ratings_array, 1)\n",
    "    %time ratings_array = ratings_array*10\n",
    "    %time ratings_array = ratings_array.astype('int8')\n",
    "\n",
    "    %time scaled_df = pd.DataFrame(ratings_array, columns=real_user_ratings_columns)\n",
    "    %time scaled_df.set_axis(real_user_ratings_index, axis=0, inplace=True)\n",
    "\n",
    "    users_real_fullmatrix = users_real_fullmatrix.append(scaled_df)"
   ]
  },
  {
   "cell_type": "code",
   "execution_count": null,
   "id": "1f804e88",
   "metadata": {},
   "outputs": [],
   "source": [
    "users_real_fullmatrix.fillna(0, inplace=True)\n",
    "users_real_fullmatrix = users_real_fullmatrix.astype(\"int8\")"
   ]
  },
  {
   "cell_type": "code",
   "execution_count": null,
   "id": "feb30c50",
   "metadata": {},
   "outputs": [],
   "source": [
    "users_real_fullmatrix.to_pickle(\"real_ratings/users_real_fullmatrix.pkl\")"
   ]
  },
  {
   "cell_type": "markdown",
   "id": "2e34d603",
   "metadata": {},
   "source": [
    "## Scaled Ratings - Longform DF"
   ]
  },
  {
   "cell_type": "code",
   "execution_count": null,
   "id": "c80961f4",
   "metadata": {},
   "outputs": [],
   "source": [
    "real_user_ratings_long_scaled = pd.DataFrame()"
   ]
  },
  {
   "cell_type": "code",
   "execution_count": null,
   "id": "11f8bebf",
   "metadata": {},
   "outputs": [],
   "source": [
    "for appendation in np.arange(1, 8, 1):\n",
    "\n",
    "    print(appendation)\n",
    "\n",
    "    with open(\n",
    "        \"data_store/data_cleaned/user_ratings_block_scaled_\"\n",
    "        + str(appendation)\n",
    "        + \".json\"\n",
    "    ) as json_file:\n",
    "        raw_ratings = json.load(json_file)\n",
    "\n",
    "        # create longform\n",
    "\n",
    "    real_user_ratings = pd.DataFrame.from_dict(raw_ratings).T\n",
    "\n",
    "    del raw_ratings\n",
    "    gc.collect()\n",
    "    real_user_ratings.set_axis(\n",
    "        real_user_ratings.columns.astype(\"int\"), axis=\"columns\", inplace=True\n",
    "    )\n",
    "    real_user_ratings.reset_index(inplace=True)\n",
    "    real_user_ratings.rename(columns={\"index\": \"UserID\"}, inplace=True)\n",
    "    real_user_ratings_long = real_user_ratings.melt(\n",
    "        id_vars=\"UserID\", var_name=\"BGGId\", value_name=\"Rating\"\n",
    "    ).dropna()\n",
    "\n",
    "    del real_user_ratings\n",
    "    gc.collect()\n",
    "\n",
    "    real_user_ratings_long.sort_values(\"UserID\", inplace=True)\n",
    "    real_user_ratings_long.reset_index(drop=True, inplace=True)\n",
    "    real_user_ratings_long_scaled = real_user_ratings_long_scaled.append(\n",
    "        real_user_ratings_long\n",
    "    )\n",
    "    real_user_ratings_long.head()"
   ]
  },
  {
   "cell_type": "code",
   "execution_count": null,
   "id": "cdd113b1",
   "metadata": {},
   "outputs": [],
   "source": [
    "real_user_ratings_long_scaled.shape"
   ]
  },
  {
   "cell_type": "code",
   "execution_count": null,
   "id": "7b492fd2",
   "metadata": {},
   "outputs": [],
   "source": [
    "real_user_ratings_long_scaled.to_pickle(\n",
    "    \"real_ratings/real_user_ratings_long_scaled.pkl\"\n",
    ")"
   ]
  },
  {
   "cell_type": "code",
   "execution_count": null,
   "id": "24f62c43",
   "metadata": {},
   "outputs": [],
   "source": [
    "del real_user_ratings_long_scaled\n",
    "gc.collect()"
   ]
  },
  {
   "cell_type": "markdown",
   "id": "e9170a2b",
   "metadata": {},
   "source": [
    "# Build Synthetic Ratings Dictionaries"
   ]
  },
  {
   "cell_type": "markdown",
   "id": "bc5d59fc",
   "metadata": {},
   "source": [
    "## Scaled Ratings"
   ]
  },
  {
   "cell_type": "code",
   "execution_count": null,
   "id": "ea1d45a4",
   "metadata": {},
   "outputs": [],
   "source": [
    "def make_lookup(appendation):\n",
    "    # Opening JSON file\n",
    "    with open(\n",
    "        \"synthetic_ratings/users_synthetic_\" + appendation + \"_1.json\"\n",
    "    ) as json_file:\n",
    "        users_dump_syntheticratings01 = json.load(json_file)\n",
    "    with open(\n",
    "        \"synthetic_ratings/users_synthetic_\" + appendation + \"_2.json\"\n",
    "    ) as json_file:\n",
    "        users_dump_syntheticratings02 = json.load(json_file)\n",
    "    with open(\n",
    "        \"synthetic_ratings/users_synthetic_\" + appendation + \"_3.json\"\n",
    "    ) as json_file:\n",
    "        users_dump_syntheticratings03 = json.load(json_file)\n",
    "    with open(\n",
    "        \"synthetic_ratings/users_synthetic_\" + appendation + \"_4.json\"\n",
    "    ) as json_file:\n",
    "        users_dump_syntheticratings04 = json.load(json_file)\n",
    "    with open(\n",
    "        \"synthetic_ratings/users_synthetic_\" + appendation + \"_5.json\"\n",
    "    ) as json_file:\n",
    "        users_dump_syntheticratings05 = json.load(json_file)\n",
    "    with open(\n",
    "        \"synthetic_ratings/users_synthetic_\" + appendation + \"_6.json\"\n",
    "    ) as json_file:\n",
    "        users_dump_syntheticratings06 = json.load(json_file)\n",
    "    with open(\n",
    "        \"synthetic_ratings/users_synthetic_\" + appendation + \"_7.json\"\n",
    "    ) as json_file:\n",
    "        users_dump_syntheticratings07 = json.load(json_file)\n",
    "\n",
    "    synth_user_ratings_dictionary_scaled = {}\n",
    "    synth_user_ratings_dictionary_scaled.update(users_dump_syntheticratings01)\n",
    "    synth_user_ratings_dictionary_scaled.update(users_dump_syntheticratings02)\n",
    "    synth_user_ratings_dictionary_scaled.update(users_dump_syntheticratings03)\n",
    "    synth_user_ratings_dictionary_scaled.update(users_dump_syntheticratings04)\n",
    "    synth_user_ratings_dictionary_scaled.update(users_dump_syntheticratings05)\n",
    "    synth_user_ratings_dictionary_scaled.update(users_dump_syntheticratings06)\n",
    "    synth_user_ratings_dictionary_scaled.update(users_dump_syntheticratings07)\n",
    "\n",
    "    with open(\n",
    "        \"synthetic_ratings/synth_user_ratings_dictionary_scaled_\"\n",
    "        + appendation\n",
    "        + \".json\",\n",
    "        \"w\",\n",
    "    ) as convert_file:\n",
    "        convert_file.write(json.dumps(synth_user_ratings_dictionary_scaled))"
   ]
  },
  {
   "cell_type": "code",
   "execution_count": null,
   "id": "e4c00fbd",
   "metadata": {},
   "outputs": [],
   "source": [
    "# make_lookup('50')\n",
    "# make_lookup('100')\n",
    "# make_lookup('250')\n",
    "make_lookup(\"500\")\n",
    "# make_lookup('1k')\n",
    "# make_lookup('2k')"
   ]
  },
  {
   "cell_type": "markdown",
   "id": "4e8aa343",
   "metadata": {},
   "source": [
    "# Validate Data"
   ]
  },
  {
   "cell_type": "code",
   "execution_count": null,
   "id": "c212ac71",
   "metadata": {
    "scrolled": true
   },
   "outputs": [],
   "source": [
    "# Opening JSON file\n",
    "with open(\n",
    "    \"synthetic_ratings/synth_user_ratings_dictionary_scaled_500.json\"\n",
    ") as json_file:\n",
    "    synth_user_ratings_dictionary_unscaled = json.load(json_file)\n",
    "\n",
    "# Opening JSON file\n",
    "with open(\"real_ratings/real_user_ratings_dictionary_unscaled.json\") as json_file:\n",
    "    real_user_ratings_dictionary_unscaled = json.load(json_file)"
   ]
  },
  {
   "cell_type": "code",
   "execution_count": null,
   "id": "49454b31",
   "metadata": {
    "scrolled": true
   },
   "outputs": [],
   "source": [
    "# dictionary of game IDs-Names\n",
    "\n",
    "# Load games\n",
    "games = pd.read_pickle(\"data_store/data_cleaned/games.pkl\")\n",
    "\n",
    "# lists of game ids and game names\n",
    "game_ids = list(games[\"BGGId\"])\n",
    "game_names = list(games[\"Name\"])\n",
    "\n",
    "# make lookup dictionary\n",
    "game_id_lookup = {}\n",
    "\n",
    "# store ids and names in lookup dictionary\n",
    "for key, item in zip(game_ids, game_names):\n",
    "    game_id_lookup[key] = item\n",
    "\n",
    "\n",
    "del games\n",
    "gc.collect()\n",
    "\n",
    "# game_id_lookup"
   ]
  },
  {
   "cell_type": "code",
   "execution_count": null,
   "id": "c6d7d9ef",
   "metadata": {},
   "outputs": [],
   "source": [
    "len(real_user_ratings_dictionary_unscaled[\"Threnody\"])"
   ]
  },
  {
   "cell_type": "code",
   "execution_count": null,
   "id": "2baf5f25",
   "metadata": {},
   "outputs": [],
   "source": [
    "len(synth_user_ratings_dictionary_unscaled[\"Threnody\"])"
   ]
  },
  {
   "cell_type": "code",
   "execution_count": null,
   "id": "936dffe8",
   "metadata": {},
   "outputs": [],
   "source": [
    "user = \"Threnody\""
   ]
  },
  {
   "cell_type": "code",
   "execution_count": null,
   "id": "eb4a5716",
   "metadata": {},
   "outputs": [],
   "source": [
    "this_user = pd.DataFrame(\n",
    "    real_user_ratings_dictionary_unscaled[user].values(),\n",
    "    index=real_user_ratings_dictionary_unscaled[user].keys(),\n",
    ")\n",
    "this_user.reset_index(inplace=True)\n",
    "this_user[\"Game\"] = this_user[\"index\"].astype(\"int32\").map(game_id_lookup)\n",
    "this_user.tail(30)"
   ]
  },
  {
   "cell_type": "code",
   "execution_count": null,
   "id": "21435300",
   "metadata": {},
   "outputs": [],
   "source": [
    "this_user = pd.DataFrame(\n",
    "    synth_user_ratings_dictionary_unscaled[user].values(),\n",
    "    index=synth_user_ratings_dictionary_unscaled[user].keys(),\n",
    ")\n",
    "this_user.reset_index(inplace=True)\n",
    "this_user[\"Game\"] = this_user[\"index\"].astype(\"int32\").map(game_id_lookup)\n",
    "this_user.tail(30)"
   ]
  },
  {
   "cell_type": "markdown",
   "id": "193cc63b",
   "metadata": {},
   "source": [
    "# Build User Means Dictionary"
   ]
  },
  {
   "cell_type": "code",
   "execution_count": null,
   "id": "ee9ae418",
   "metadata": {},
   "outputs": [],
   "source": [
    "def get_user_means(path_item):\n",
    "\n",
    "    temp_dictionary = {}\n",
    "\n",
    "    path = \"data_store/data_cleaned/ratings_matrix_cleaned_\" + path_item + \".pkl\"\n",
    "    user_matrix = pd.read_pickle(path)\n",
    "    user_matrix = user_matrix.T\n",
    "    user_matrix.index = user_matrix.index.astype(\"int32\")\n",
    "    user_matrix.shape\n",
    "\n",
    "    print(\"Processing \" + str(path_item))\n",
    "    for user in user_matrix.columns:\n",
    "\n",
    "        # get the mean rating for that user\n",
    "        user_mean = user_matrix[user].mean()\n",
    "\n",
    "        user_means[user] = user_mean"
   ]
  },
  {
   "cell_type": "code",
   "execution_count": null,
   "id": "363f2c57",
   "metadata": {},
   "outputs": [],
   "source": [
    "user_means = {}\n",
    "\n",
    "get_user_means(\"01\")\n",
    "get_user_means(\"02\")\n",
    "get_user_means(\"03\")\n",
    "get_user_means(\"04\")\n",
    "get_user_means(\"05\")\n",
    "get_user_means(\"06\")"
   ]
  },
  {
   "cell_type": "code",
   "execution_count": null,
   "id": "4995c7e7",
   "metadata": {},
   "outputs": [],
   "source": [
    "user_means[\"Threnody\"]"
   ]
  },
  {
   "cell_type": "code",
   "execution_count": null,
   "id": "dd633af6",
   "metadata": {},
   "outputs": [],
   "source": [
    "with open(\"users_means.json\", \"w\") as convert_file:\n",
    "    convert_file.write(json.dumps(user_means))"
   ]
  },
  {
   "cell_type": "code",
   "execution_count": null,
   "id": "9cf4c2b8",
   "metadata": {},
   "outputs": [],
   "source": [
    "user_means = pd.DataFrame.from_dict(user_means, columns=[\"user_mean\"], orient=\"index\")"
   ]
  },
  {
   "cell_type": "code",
   "execution_count": null,
   "id": "19358a7c",
   "metadata": {},
   "outputs": [],
   "source": [
    "user_means.to_pickle(\"user_means.pkl\")"
   ]
  },
  {
   "cell_type": "code",
   "execution_count": null,
   "id": "e85c1b18",
   "metadata": {},
   "outputs": [],
   "source": [
    "with open(\"users_means.json\") as json_file:\n",
    "    user_means = json.load(json_file)"
   ]
  }
 ],
 "metadata": {
  "kernelspec": {
   "display_name": "Python 3 (ipykernel)",
   "language": "python",
   "name": "python3"
  },
  "language_info": {
   "codemirror_mode": {
    "name": "ipython",
    "version": 3
   },
   "file_extension": ".py",
   "mimetype": "text/x-python",
   "name": "python",
   "nbconvert_exporter": "python",
   "pygments_lexer": "ipython3",
   "version": "3.7.10"
  },
  "toc": {
   "base_numbering": 1,
   "nav_menu": {},
   "number_sections": true,
   "sideBar": true,
   "skip_h1_title": false,
   "title_cell": "Table of Contents",
   "title_sidebar": "Contents",
   "toc_cell": false,
   "toc_position": {
    "height": "calc(100% - 180px)",
    "left": "10px",
    "top": "150px",
    "width": "292.865px"
   },
   "toc_section_display": true,
   "toc_window_display": true
  }
 },
 "nbformat": 4,
 "nbformat_minor": 5
}
