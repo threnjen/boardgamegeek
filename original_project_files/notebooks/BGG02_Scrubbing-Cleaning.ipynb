{
 "cells": [
  {
   "cell_type": "markdown",
   "id": "d3036688",
   "metadata": {},
   "source": [
    "# Notebook Objective and Setup\n",
    "\n",
    "BGG03 is the scrubbing and cleaning of the various data obtained in notebooks BGG01 and BGG02. The following datasets are cleaned, constructed, or otherwise prepared for EDA and modeling.\n",
    "\n",
    "    * Games\n",
    "   * Mechanics\n",
    "    * Subcategories\n",
    "    * Designers\n",
    "    * Artists\n",
    "    * Publishers\n",
    "    * Awards\n",
    "    * Ratings Distribution\n",
    "    * Comments\n",
    "    * Ratings Matrix"
   ]
  },
  {
   "cell_type": "markdown",
   "id": "91689d85",
   "metadata": {},
   "source": [
    "## Package Imports"
   ]
  },
  {
   "cell_type": "code",
   "execution_count": null,
   "id": "21981028",
   "metadata": {},
   "outputs": [],
   "source": [
    "import pandas as pd\n",
    "import numpy as np\n",
    "import requests\n",
    "import regex as re\n",
    "import time\n",
    "import os\n",
    "import gc\n",
    "import json\n",
    "from statistics import mean\n",
    "\n",
    "# ignore warnings (gets rid of Pandas copy warnings)\n",
    "import warnings\n",
    "\n",
    "warnings.filterwarnings(\"ignore\")\n",
    "pd.options.display.max_columns = None\n",
    "\n",
    "pd.set_option(\"display.max_columns\", None)\n",
    "pd.set_option(\"display.max_rows\", 30)\n",
    "\n",
    "# NLP tools\n",
    "# import spacy\n",
    "\n",
    "# nlp = spacy.load(\"en_core_web_sm\")\n",
    "# import re\n",
    "# import nltk\n",
    "# from sklearn.feature_extraction.text import CountVectorizer, TfidfVectorizer\n",
    "# from nltk.tokenize import word_tokenize\n",
    "\n",
    "filepath = \"../../data/games/game_dfs_dirty/\""
   ]
  },
  {
   "cell_type": "markdown",
   "id": "7221c69a",
   "metadata": {},
   "source": [
    "## Notebook Functions"
   ]
  },
  {
   "cell_type": "code",
   "execution_count": null,
   "id": "454c7e68",
   "metadata": {},
   "outputs": [],
   "source": [
    "def integer_reduce(data: pd.DataFrame, columns: list[str], fill_value: int = 0):\n",
    "    \"\"\"\n",
    "    Reduces an integer type to its smallest memory size type\n",
    "\n",
    "    Inputs:\n",
    "    data: dataframe to reduce\n",
    "    columns: columns to reduce\n",
    "    fill_value: fill value to use if none\n",
    "\n",
    "    Returns:\n",
    "    data: dataframe with memory reduced data types\n",
    "    \"\"\"\n",
    "    for column in columns:\n",
    "        # strip all non integers\n",
    "        data[column] = data[column].replace(r\"[^0-9]\", \"\", regex=True)\n",
    "        data[column] = data[column].fillna(fill_value)\n",
    "        data[column] = pd.to_numeric(data[column], errors=\"coerce\", downcast=\"integer\")\n",
    "\n",
    "        if (data[column].max() <= 127) & (data[column].min() >= -128):\n",
    "            data[column] = data[column].astype(\"Int8\")\n",
    "        elif (data[column].max() <= 32767) & (data[column].min() >= -32768):\n",
    "            data[column] = data[column].astype(\"Int16\")\n",
    "        elif (data[column].max() <= 2147483647) & (data[column].min() >= -2147483648):\n",
    "            data[column] = data[column].astype(\"Int32\")\n",
    "\n",
    "    return data"
   ]
  },
  {
   "cell_type": "code",
   "execution_count": null,
   "id": "05e2c3bd",
   "metadata": {},
   "outputs": [],
   "source": [
    "def text_block_processor(text):\n",
    "    \"\"\"Takes a block of text. Divides block into sentences with words lemmatized.\n",
    "    Sends each sentence to word processor. Concatenates all words into one string\n",
    "    Otherwise returns string of cleaned and processed words from text block\n",
    "\n",
    "    ARGUMENTS:\n",
    "    block of text\n",
    "    \"\"\"\n",
    "\n",
    "    text = str(text)\n",
    "    line = re.sub(\n",
    "        r\"[^a-zA-Z\\s]\", \"\", text\n",
    "    ).lower()  # removes all special characters and numbers, and makes lower case\n",
    "    line2 = re.sub(r\"\\s{2}\", \"\", line).lower()  # removes extra blocks of 2 spaces\n",
    "    tokens = nlp(line)\n",
    "    words = []\n",
    "    for token in tokens:\n",
    "        if token.is_stop == False:\n",
    "            token_preprocessed = token.lemma_\n",
    "            if token_preprocessed != \"\":  # only continues if returned word is not empty\n",
    "                words.append(token_preprocessed)  # appends word to list of words\n",
    "    line = \" \".join(words)\n",
    "\n",
    "    return line"
   ]
  },
  {
   "cell_type": "code",
   "execution_count": null,
   "id": "235df78d",
   "metadata": {},
   "outputs": [],
   "source": [
    "def fix_numbers(x):\n",
    "    \"\"\"\n",
    "    Checks for numbers or strings\n",
    "    If a string, strips off the \"k\" and multiply by 10000\n",
    "    Sends back cleaned int\n",
    "    \"\"\"\n",
    "\n",
    "    if type(x) is int:\n",
    "        return int(x)\n",
    "\n",
    "    if str.endswith(x, \"k\"):\n",
    "        x = str(x).strip(\"k\")\n",
    "        new_num = int(float(x) * 1000)\n",
    "        return int(new_num)\n",
    "\n",
    "    else:\n",
    "        return int(x)"
   ]
  },
  {
   "cell_type": "code",
   "execution_count": null,
   "id": "7818a2c4",
   "metadata": {},
   "outputs": [],
   "source": [
    "def clean_ratings(id_num, game_ids):\n",
    "    \"\"\"\n",
    "    Loads and cleans a raw user ratings file\n",
    "    Drops game ids not present in games file\n",
    "    Drops users with fewer than 10 ratings\n",
    "\n",
    "    Inputs:\n",
    "    id_num: the appendation of the file to find the path\n",
    "    game_ids: list of game ids in the games file\n",
    "\n",
    "    Outputs:\n",
    "    Cleaned user ratings file\n",
    "    \"\"\"\n",
    "\n",
    "    print(\"\\nCleaning Frame #\" + str(id_num))\n",
    "\n",
    "    # load in raw users file according to id_num inputted\n",
    "    path = \"userid/user_ratings\" + str(id_num) + \".pkl\"\n",
    "    users = pd.read_pickle(path)\n",
    "\n",
    "    # convert all datatypes to float\n",
    "    float_converted = users.astype(\"float\")\n",
    "\n",
    "    # delete and clean up raw users file\n",
    "    del users\n",
    "    gc.collect()\n",
    "\n",
    "    # create intersection between user file and game list ids\n",
    "    float_converted.columns = float_converted.columns.astype(\"int32\")\n",
    "    cleaned = float_converted[float_converted.columns.intersection(game_ids)]\n",
    "\n",
    "    # delete and clean up\n",
    "    del float_converted\n",
    "    gc.collect()\n",
    "\n",
    "    # make a list of users with fewer than 5 user ratings\n",
    "    sums = cleaned.count(axis=1) < 5\n",
    "    # get indices for the rows with fewer than 5 ratings\n",
    "    drop_these = sums.loc[sums == True].index\n",
    "    # drop the users with fewer than 5 ratings\n",
    "    cleaned.drop(drop_these, axis=0, inplace=True)\n",
    "\n",
    "    # print memory usage\n",
    "    print(cleaned.info())\n",
    "\n",
    "    # return cleaned file\n",
    "    return cleaned"
   ]
  },
  {
   "cell_type": "code",
   "execution_count": null,
   "id": "08f5eb98",
   "metadata": {},
   "outputs": [],
   "source": [
    "def create_ratings_file(start_file, end_file, game_ids):\n",
    "    \"\"\"\n",
    "    Puts together dataframes from a range of files\n",
    "    Each file calls the clean_ratings function\n",
    "    Then all files in range are concatenated\n",
    "\n",
    "    Inputs:\n",
    "    start_file: start of file name appendation\n",
    "    end_file: end file name appendation\n",
    "    game_ids_list: list of game ids in the games file\n",
    "\n",
    "    Outputs:\n",
    "    Cleaned and concatenated master file\n",
    "\n",
    "    \"\"\"\n",
    "\n",
    "    # make an empty dataframe\n",
    "    master_file = pd.DataFrame()\n",
    "\n",
    "    # for each number in the range from start to end:\n",
    "    for id_num in np.arange(start_file, end_file + 1, 1):\n",
    "        print(id_num)\n",
    "        # clean the file calling clean_ratings\n",
    "        cleaned_item = clean_ratings(id_num, game_ids)\n",
    "        # append the file to the dataframe\n",
    "        master_file = pd.concat([master_file, cleaned_item], axis=0)\n",
    "\n",
    "    master_file.drop_duplicates(keep=\"first\", inplace=True)\n",
    "\n",
    "    # clean up\n",
    "    del cleaned_item\n",
    "    gc.collect()\n",
    "\n",
    "    return master_file"
   ]
  },
  {
   "cell_type": "code",
   "execution_count": null,
   "id": "ebda5974",
   "metadata": {},
   "outputs": [],
   "source": [
    "def process_dataframe_ratings(x, user_ratings, raw_ratings):\n",
    "\n",
    "    try:\n",
    "        user_ratings[x[\"Username\"]][x[\"BGGId\"]] = float(x[\"Rating\"])\n",
    "\n",
    "    except:\n",
    "        user_ratings[x[\"Username\"]] = {}\n",
    "        user_ratings[x[\"Username\"]][x[\"BGGId\"]] = float(x[\"Rating\"])\n",
    "\n",
    "    raw_ratings[x[\"BGGId\"]].append(x[\"Rating\"])"
   ]
  },
  {
   "cell_type": "markdown",
   "id": "cd9f15a3",
   "metadata": {},
   "source": [
    "# Games Files"
   ]
  },
  {
   "cell_type": "code",
   "execution_count": null,
   "id": "abc1576f",
   "metadata": {},
   "outputs": [],
   "source": [
    "games = pd.read_pickle(f\"{filepath}games.pkl\")\n",
    "# drop duplicate entires\n",
    "games = games.drop_duplicates(subset=\"BGGId\", keep=\"first\")\n",
    "# Get info, make note of datatypes and memory usage\n",
    "games.info()"
   ]
  },
  {
   "cell_type": "code",
   "execution_count": null,
   "id": "204fc961",
   "metadata": {},
   "outputs": [],
   "source": [
    "drop_columns = [\n",
    "    \"NumAwards\",\n",
    "    \"NumFans\",\n",
    "    \"NumPageViews\",\n",
    "    \"RulesPosts\",\n",
    "    \"TotalPosts\",\n",
    "    \"Category\",\n",
    "    \"IsExpansion\",\n",
    "    \"Rank:rpgitem\",\n",
    "    \"Rank:boardgameaccessory\",\n",
    "    \"Rank:videogame\",\n",
    "    \"Rank:amiga\",\n",
    "    \"Rank:commodore64\",\n",
    "    \"Rank:arcade\",\n",
    "    \"Rank:atarist\",\n",
    "    \"Setting\",\n",
    "    \"Mechanism\",\n",
    "]\n",
    "\n",
    "# drop non-boardgame related information\n",
    "for column in drop_columns:\n",
    "    if column in games.columns:\n",
    "        games = games.drop(column, axis=1)"
   ]
  },
  {
   "cell_type": "code",
   "execution_count": null,
   "id": "4c1a643b",
   "metadata": {},
   "outputs": [],
   "source": [
    "# Get rid of all non-integer characters from df[\"BestPlayers\"] using regex\n",
    "games[\"BestPlayers\"] = games[\"BestPlayers\"].str.replace(r\"\\D\", \"\", regex=True)\n",
    "\n",
    "# change the datatype of BestPlayers to int8\n",
    "games[\"BestPlayers\"] = pd.to_numeric(\n",
    "    games[\"BestPlayers\"], errors=\"coerce\", downcast=\"integer\"\n",
    ")\n",
    "\n",
    "# fill in missing values with 0\n",
    "games[\"BestPlayers\"] = games[\"BestPlayers\"].fillna(0)\n",
    "\n",
    "games[\"BestPlayers\"] = games[\"BestPlayers\"].astype(\"int8\")"
   ]
  },
  {
   "cell_type": "code",
   "execution_count": null,
   "id": "c66551c9",
   "metadata": {},
   "outputs": [],
   "source": [
    "# Add Categories with binary flags\n",
    "games.loc[games[\"Rank:thematic\"].notna(), \"Cat:Thematic\"] = 1\n",
    "games.loc[games[\"Rank:strategygames\"].notna(), \"Cat:Strategy\"] = 1\n",
    "games.loc[games[\"Rank:wargames\"].notna(), \"Cat:War\"] = 1\n",
    "games.loc[games[\"Rank:familygames\"].notna(), \"Cat:Family\"] = 1\n",
    "games.loc[games[\"Rank:cgs\"].notna(), \"Cat:CGS\"] = 1\n",
    "games.loc[games[\"Rank:abstracts\"].notna(), \"Cat:Abstract\"] = 1\n",
    "games.loc[games[\"Rank:partygames\"].notna(), \"Cat:Party\"] = 1\n",
    "games.loc[games[\"Rank:childrensgames\"].notna(), \"Cat:Childrens\"] = 1"
   ]
  },
  {
   "cell_type": "code",
   "execution_count": null,
   "id": "9ea53202",
   "metadata": {
    "scrolled": true
   },
   "outputs": [],
   "source": [
    "# prepare different column sets for memory integer reduction\n",
    "\n",
    "# integer reduction with fill_values of 0\n",
    "int_columns = [\n",
    "    \"BGGId\",\n",
    "    \"YearPublished\",\n",
    "    \"MinPlayers\",\n",
    "    \"MaxPlayers\",\n",
    "    \"NumOwned\",\n",
    "    \"NumWant\",\n",
    "    \"NumWish\",\n",
    "    \"NumWeightVotes\",\n",
    "    \"MfgPlaytime\",\n",
    "    \"ComMinPlaytime\",\n",
    "    \"ComMaxPlaytime\",\n",
    "    \"MfgAgeRec\",\n",
    "    \"NumUserRatings\",\n",
    "    \"NumComments\",\n",
    "    \"NumAlternates\",\n",
    "    \"NumExpansions\",\n",
    "    \"NumImplementations\",\n",
    "    \"IsReimplementation\",\n",
    "    \"Kickstarted\",\n",
    "    \"Cat:Thematic\",\n",
    "    \"Cat:Strategy\",\n",
    "    \"Cat:War\",\n",
    "    \"Cat:Family\",\n",
    "    \"Cat:CGS\",\n",
    "    \"Cat:Abstract\",\n",
    "    \"Cat:Party\",\n",
    "    \"Cat:Childrens\",\n",
    "]\n",
    "\n",
    "# integer reduction with fill_values of 21926 (lower is better on these)\n",
    "ranks = [\n",
    "    \"Rank:boardgame\",\n",
    "    \"Rank:thematic\",\n",
    "    \"Rank:strategygames\",\n",
    "    \"Rank:wargames\",\n",
    "    \"Rank:familygames\",\n",
    "    \"Rank:cgs\",\n",
    "    \"Rank:abstracts\",\n",
    "    \"Rank:partygames\",\n",
    "    \"Rank:childrensgames\",\n",
    "]\n",
    "\n",
    "# call integer_reduce on the sets\n",
    "games = integer_reduce(games, int_columns, fill_value=0)\n",
    "\n",
    "games = integer_reduce(games, ranks, fill_value=21926)\n",
    "\n",
    "games.info()  # recheck data types and memory usage"
   ]
  },
  {
   "cell_type": "code",
   "execution_count": null,
   "id": "7275b869",
   "metadata": {},
   "outputs": [],
   "source": [
    "# Drop all games that are not yet released, then reset index\n",
    "# not_released = list(games.loc[games['YearPublished']>2021].index)\n",
    "# games.drop(games.index[not_released], inplace=True)\n",
    "# games.reset_index(inplace=True, drop=True)"
   ]
  },
  {
   "cell_type": "code",
   "execution_count": null,
   "id": "819cbf62",
   "metadata": {},
   "outputs": [],
   "source": [
    "themes = pd.DataFrame(games[\"Theme\"])\n",
    "games.drop(\"Theme\", axis=1, inplace=True)"
   ]
  },
  {
   "cell_type": "code",
   "execution_count": null,
   "id": "9200fb53",
   "metadata": {},
   "outputs": [],
   "source": [
    "# process the Description column text\n",
    "games[\"Description\"] = games[\"Description\"].apply(lambda x: text_block_processor(x))"
   ]
  },
  {
   "cell_type": "code",
   "execution_count": null,
   "id": "1bbe2cf5",
   "metadata": {},
   "outputs": [],
   "source": [
    "games.reset_index(inplace=True, drop=True)"
   ]
  },
  {
   "cell_type": "code",
   "execution_count": null,
   "id": "451bcedd",
   "metadata": {},
   "outputs": [],
   "source": [
    "# save to file\n",
    "games.to_csv(\"data_kaggle/games.csv\", index=False)"
   ]
  },
  {
   "cell_type": "code",
   "execution_count": null,
   "id": "58c4e8fc",
   "metadata": {},
   "outputs": [],
   "source": [
    "# All games with over 12 players are set at 13 players.\n",
    "games.loc[games[\"MaxPlayers\"] > 12, \"MaxPlayers\"] = 13"
   ]
  },
  {
   "cell_type": "code",
   "execution_count": null,
   "id": "ab13a3eb",
   "metadata": {},
   "outputs": [],
   "source": [
    "# Games with min players of 0, we will set their min players = 2\n",
    "games.loc[games[\"MinPlayers\"] < 1, \"MinPlayers\"] = 2"
   ]
  },
  {
   "cell_type": "code",
   "execution_count": null,
   "id": "f062f687",
   "metadata": {},
   "outputs": [],
   "source": [
    "# save to file\n",
    "games.to_pickle(\"data_store/data_cleaned/games.pkl\")"
   ]
  },
  {
   "cell_type": "code",
   "execution_count": null,
   "id": "9a91f77f",
   "metadata": {},
   "outputs": [],
   "source": [
    "games.shape"
   ]
  },
  {
   "cell_type": "markdown",
   "id": "4631eadf",
   "metadata": {},
   "source": [
    "## Game ID Lookup"
   ]
  },
  {
   "cell_type": "code",
   "execution_count": null,
   "id": "f87da913",
   "metadata": {},
   "outputs": [],
   "source": [
    "# dictionary of game IDs-Names\n",
    "\n",
    "# Load games\n",
    "games = pd.read_pickle(f\"{filepath}/games.pkl\")\n",
    "\n",
    "# lists of game ids and game names\n",
    "game_ids = list(games[\"BGGId\"])\n",
    "game_names = list(games[\"Name\"])\n",
    "\n",
    "# make lookup dictionary\n",
    "game_id_lookup = {}\n",
    "\n",
    "# store ids and names in lookup dictionary\n",
    "for key, item in zip(game_ids, game_names):\n",
    "    game_id_lookup[key] = item\n",
    "\n",
    "\n",
    "# del games\n",
    "# gc.collect()\n",
    "\n",
    "game_id_lookup"
   ]
  },
  {
   "cell_type": "code",
   "execution_count": null,
   "id": "99aedfdf",
   "metadata": {},
   "outputs": [],
   "source": [
    "# save dictionary\n",
    "# with open(\"data_store/data_cleaned/game_id_lookup.json\", \"w\") as convert_file:\n",
    "#     convert_file.write(json.dumps(game_id_lookup))"
   ]
  },
  {
   "cell_type": "markdown",
   "id": "d4ca5dbd",
   "metadata": {},
   "source": [
    "## Mechanics and Subcategories"
   ]
  },
  {
   "cell_type": "markdown",
   "id": "699eff70",
   "metadata": {},
   "source": [
    "### Clean Mechanics"
   ]
  },
  {
   "cell_type": "code",
   "execution_count": null,
   "id": "6676b389",
   "metadata": {},
   "outputs": [],
   "source": [
    "# Load mechanics and check memory usage\n",
    "mechanics = pd.read_pickle(f\"{filepath}/mechanics.pkl\")\n",
    "mechanics = mechanics.drop_duplicates(keep=\"first\")\n",
    "mechanics[\"Count_Column\"] = 1\n",
    "mechanics = mechanics.sort_values(by=\"BGGId\").reset_index(drop=True)\n",
    "mechanics.head(10)\n",
    "\n",
    "mechanics = mechanics.pivot_table(\n",
    "    index=\"BGGId\", columns=\"mechanic\", values=\"Count_Column\"\n",
    ")\n",
    "\n",
    "# Clean up mechanics\n",
    "# Here we are using our domain knowledge to compact several different catogories into one\n",
    "\n",
    "auction_list = mechanics[\n",
    "    [x for x in mechanics.columns if \"auction\" in x.lower()]\n",
    "].columns.to_list()\n",
    "\n",
    "drafting = mechanics[\n",
    "    [x for x in mechanics.columns if \"drafting\" in x.lower()]\n",
    "].columns.to_list()\n",
    "\n",
    "worker_placement = mechanics[\n",
    "    [x for x in mechanics.columns if \"worker\" in x.lower()]\n",
    "].columns.to_list()\n",
    "\n",
    "compacting_categories = {\n",
    "    \"Auction or Bidding\": auction_list,\n",
    "    \"Drafting\": drafting,\n",
    "    \"Worker Placement\": worker_placement,\n",
    "}\n",
    "\n",
    "for category in compacting_categories:\n",
    "    for item in compacting_categories[category]:\n",
    "        mechanics.loc[mechanics[item] == 1, category] = 1\n",
    "        mechanics = mechanics.drop([item], axis=1)\n",
    "\n",
    "mechanics.loc[mechanics[\"Legacy\"] == 1, \"Legacy Game\"] = 1\n",
    "mechanics = mechanics.drop([\"Legacy\"], axis=1)\n",
    "\n",
    "turn_order_list = mechanics[\n",
    "    [x for x in mechanics.columns if \"turn order\" in x.lower()]\n",
    "].columns.to_list()\n",
    "\n",
    "mechanics = mechanics.drop(turn_order_list, axis=1)\n",
    "\n",
    "columns = mechanics.columns\n",
    "\n",
    "# call integer_reduce on the sets\n",
    "mechanics = integer_reduce(mechanics, columns, fill_value=0)\n",
    "\n",
    "mechanics = mechanics.reset_index().melt(\n",
    "    id_vars=\"BGGId\", var_name=\"mechanic\", value_name=\"value\"\n",
    ")\n",
    "mechanics = (\n",
    "    mechanics[mechanics[\"value\"] == 1]\n",
    "    .drop(\"value\", axis=1)\n",
    "    .sort_values(by=\"BGGId\")\n",
    "    .reset_index(drop=True)\n",
    ")\n",
    "mechanics.head()"
   ]
  },
  {
   "cell_type": "markdown",
   "id": "5d4d0f69",
   "metadata": {},
   "source": [
    "### Clean/Combine Mechanics and Subcategories"
   ]
  },
  {
   "cell_type": "markdown",
   "id": "76b86cca",
   "metadata": {},
   "source": [
    "Manually cleaning up Subcategories. This section on BGG has a lot of \"catch-all\" concept that involve theming, mechanics (which should be in the mechanics section), and large subcategories that should be alone. We use our domain knowledge to clean this section."
   ]
  },
  {
   "cell_type": "code",
   "execution_count": null,
   "id": "9fe445aa",
   "metadata": {},
   "outputs": [],
   "source": [
    "# picking the items that will go under \"themes\"\n",
    "actually_themes = [\n",
    "    \"Adventure\",\n",
    "    \"Age of Reason\",\n",
    "    \"American Civil War\",\n",
    "    \"American Indian Wars\",\n",
    "    \"American Revolutionary War\",\n",
    "    \"American West\",\n",
    "    \"Ancient\",\n",
    "    \"Animals\",\n",
    "    \"Arabian\",\n",
    "    \"Aviation / Flight\",\n",
    "    \"City Building\",\n",
    "    \"Civil War\",\n",
    "    \"Civilization\",\n",
    "    \"Comic Book / Strip\",\n",
    "    \"Economic\",\n",
    "    \"Environmental\",\n",
    "    \"Fantasy\",\n",
    "    \"Farming\",\n",
    "    \"Fighting\",\n",
    "    \"Horror\",\n",
    "    \"Humor\",\n",
    "    \"Industry / Manufacturing\",\n",
    "    \"Korean War\",\n",
    "    \"Mafia\",\n",
    "    \"Math\",\n",
    "    \"Mature / Adult\",\n",
    "    \"Maze\",\n",
    "    \"Medical\",\n",
    "    \"Medieval\",\n",
    "    \"Modern Warfare\",\n",
    "    \"Movies / TV / Radio theme\",\n",
    "    \"Murder/Mystery\",\n",
    "    \"Music\",\n",
    "    \"Mythology\",\n",
    "    \"Napoleonic\",\n",
    "    \"Nautical\",\n",
    "    \"Novel-based\",\n",
    "    \"Number\",\n",
    "    \"Pike and Shot\",\n",
    "    \"Pirates\",\n",
    "    \"Political\",\n",
    "    \"Post-Napoleonic\",\n",
    "    \"Prehistoric\",\n",
    "    \"Racing\",\n",
    "    \"Religious\",\n",
    "    \"Renaissance\",\n",
    "    \"Science Fiction\",\n",
    "    \"Space Exploration\",\n",
    "    \"Spies/Secret Agents\",\n",
    "    \"Sports\",\n",
    "    \"Trains\",\n",
    "    \"Transportation\",\n",
    "    \"Travel\",\n",
    "    \"Trivia\",\n",
    "    \"Video Game Theme\",\n",
    "    \"Vietnam War\",\n",
    "    \"World War I\",\n",
    "    \"World War II\",\n",
    "    \"Zombies\",\n",
    "]"
   ]
  },
  {
   "cell_type": "code",
   "execution_count": null,
   "id": "1698e20b",
   "metadata": {},
   "outputs": [],
   "source": [
    "# picking out mechanics\n",
    "actually_mechanics = {\n",
    "    \"Real-time\": \"Real-Time\",\n",
    "    \"Bluffing\": \"Betting and Bluffing\",\n",
    "    \"Deduction\": \"Deduction\",\n",
    "    \"Dice\": \"Dice Rolling\",\n",
    "    \"Memory\": \"Memory\",\n",
    "    \"Negotiation\": \"Negotiation\",\n",
    "    \"Exploration\": \"Exploration\",\n",
    "    \"Territory Building\": \"Territory Building\",\n",
    "}\n",
    "\n",
    "# picking the items that will stay as subcategories\n",
    "actually_subcategories = [\n",
    "    \"Abstract Strategy\",\n",
    "    \"Miniatures\",\n",
    "    \"Card Game\",\n",
    "    \"Educational\",\n",
    "    \"Puzzle\",\n",
    "    \"Collectible Components\",\n",
    "    \"Word Game\",\n",
    "    \"Print & Play\",\n",
    "    \"Electronic\",\n",
    "    \"Children's Game\",\n",
    "    \"Collectible Components\",\n",
    "    \"Wargame\",\n",
    "    \"Word Game\",\n",
    "]\n",
    "\n",
    "actually_major_categories = {\n",
    "    \"Wargame\": \"Cat:War\",\n",
    "    \"Children's Game\": \"Cat:Childrens\",\n",
    "    \"Party Game\": \"Cat:Party\",\n",
    "    \"Abstract Strategy\": \"Cat:Abstract\",\n",
    "}\n",
    "\n",
    "drop_subcategories = [\"Expansion for Base-game\", \"Game System\", \"Book\"]"
   ]
  },
  {
   "cell_type": "markdown",
   "id": "d22056d8",
   "metadata": {},
   "source": [
    "### Clean Subcategories that go in Mechanics"
   ]
  },
  {
   "cell_type": "code",
   "execution_count": null,
   "id": "9391837d",
   "metadata": {},
   "outputs": [],
   "source": [
    "# load subcategories file and check memory usage\n",
    "\n",
    "# indices = list(games[\"BGGId\"])\n",
    "subcategories = pd.read_pickle(f\"{filepath}/subcategories.pkl\")\n",
    "subcategories = (\n",
    "    subcategories.dropna(subset=[\"boardgamecategory\"])\n",
    "    .sort_values(\"BGGId\")\n",
    "    .reset_index(drop=True)\n",
    ")\n",
    "subcategories.head()"
   ]
  },
  {
   "cell_type": "code",
   "execution_count": null,
   "id": "98823ff0",
   "metadata": {},
   "outputs": [],
   "source": [
    "mechanics_in_subcats_df = subcategories[\n",
    "    subcategories[\"boardgamecategory\"].isin(actually_mechanics.keys())\n",
    "].reset_index(drop=True)\n",
    "\n",
    "themes_in_subcats_df = subcategories[\n",
    "    subcategories[\"boardgamecategory\"].isin(actually_themes)\n",
    "].reset_index(drop=True)\n",
    "\n",
    "big_cats_in_subcats_df = subcategories[\n",
    "    subcategories[\"boardgamecategory\"].isin(actually_major_categories.keys())\n",
    "].reset_index(drop=True)\n",
    "\n",
    "# drop rows from subcategories where boardgamecategory is in list drop\n",
    "subcategories = subcategories[\n",
    "    ~subcategories[\"boardgamecategory\"].isin(drop_subcategories)\n",
    "]\n",
    "subcategories = subcategories[\n",
    "    ~subcategories[\"boardgamecategory\"].isin(actually_mechanics.keys())\n",
    "]\n",
    "subcategories = subcategories[\n",
    "    ~subcategories[\"boardgamecategory\"].isin(actually_subcategories)\n",
    "].reset_index(drop=True)\n",
    "\n",
    "mechanics_in_subcats_df.head()"
   ]
  },
  {
   "cell_type": "code",
   "execution_count": null,
   "id": "70ae9dfd",
   "metadata": {},
   "outputs": [],
   "source": [
    "# use the dictionary \"actually_mechanics\" to rename the entries in column boardgamecategory\n",
    "mechanics_in_subcats_df[\"boardgamecategory\"] = mechanics_in_subcats_df[\n",
    "    \"boardgamecategory\"\n",
    "].map(actually_mechanics)\n",
    "\n",
    "# rename teh column \"boardgamecategory\" to \"mechanic\"\n",
    "mechanics_in_subcats_df = mechanics_in_subcats_df.rename(\n",
    "    columns={\"boardgamecategory\": \"mechanic\"}\n",
    ")\n",
    "\n",
    "mechanics_in_subcats_df.head()"
   ]
  },
  {
   "cell_type": "code",
   "execution_count": null,
   "id": "0208871e",
   "metadata": {},
   "outputs": [],
   "source": [
    "mechanics.shape, mechanics_in_subcats_df.shape"
   ]
  },
  {
   "cell_type": "code",
   "execution_count": null,
   "id": "71bafbb8",
   "metadata": {},
   "outputs": [],
   "source": [
    "mechanics = (\n",
    "    pd.concat([mechanics, mechanics_in_subcats_df], axis=0)\n",
    "    .sort_values(by=\"BGGId\")\n",
    "    .reset_index(drop=True)\n",
    ")"
   ]
  },
  {
   "cell_type": "code",
   "execution_count": null,
   "id": "c3dd2e58",
   "metadata": {},
   "outputs": [],
   "source": [
    "mechanics.shape"
   ]
  },
  {
   "cell_type": "code",
   "execution_count": null,
   "id": "65f471ac",
   "metadata": {},
   "outputs": [],
   "source": [
    "mechanics.head()"
   ]
  },
  {
   "cell_type": "markdown",
   "id": "eda4e285",
   "metadata": {},
   "source": [
    "### Clean Subcategories that go in Themes"
   ]
  },
  {
   "cell_type": "code",
   "execution_count": null,
   "id": "b4347706",
   "metadata": {},
   "outputs": [],
   "source": [
    "themes = pd.read_pickle(f\"{filepath}themes.pkl\")\n",
    "themes = themes.dropna(subset=[\"Theme\"]).sort_values(\"BGGId\")\n",
    "themes.head()"
   ]
  },
  {
   "cell_type": "code",
   "execution_count": null,
   "id": "9905094c",
   "metadata": {},
   "outputs": [],
   "source": [
    "themes_in_subcats_df.head()"
   ]
  },
  {
   "cell_type": "code",
   "execution_count": null,
   "id": "8a54e78d",
   "metadata": {},
   "outputs": [],
   "source": [
    "# rename teh column \"boardgamecategory\" to \"mechanic\"\n",
    "themes_in_subcats_df = themes_in_subcats_df.rename(\n",
    "    columns={\"boardgamecategory\": \"Theme\"}\n",
    ")\n",
    "\n",
    "themes_in_subcats_df.head()"
   ]
  },
  {
   "cell_type": "code",
   "execution_count": null,
   "id": "ca24ad5b",
   "metadata": {},
   "outputs": [],
   "source": [
    "themes_in_subcats_df.shape, themes.shape"
   ]
  },
  {
   "cell_type": "code",
   "execution_count": null,
   "id": "0bfcd4d6",
   "metadata": {},
   "outputs": [],
   "source": [
    "themes = (\n",
    "    pd.concat([themes, themes_in_subcats_df], axis=0)\n",
    "    .sort_values(by=\"BGGId\")\n",
    "    .reset_index(drop=True)\n",
    ")"
   ]
  },
  {
   "cell_type": "code",
   "execution_count": null,
   "id": "64d86e21",
   "metadata": {},
   "outputs": [],
   "source": [
    "themes.shape"
   ]
  },
  {
   "cell_type": "markdown",
   "id": "f2257269",
   "metadata": {},
   "source": [
    "### Clean Subcategories that go in LARGE theme categories"
   ]
  },
  {
   "cell_type": "code",
   "execution_count": null,
   "id": "e942c302",
   "metadata": {},
   "outputs": [],
   "source": [
    "games = pd.read_pickle(\"../../data/games/game_dfs_clean/games.pkl\")\n",
    "games.head()"
   ]
  },
  {
   "cell_type": "code",
   "execution_count": null,
   "id": "bb39abec",
   "metadata": {},
   "outputs": [],
   "source": [
    "big_cats_in_subcats_df.head()"
   ]
  },
  {
   "cell_type": "code",
   "execution_count": null,
   "id": "6c19e9ac",
   "metadata": {},
   "outputs": [],
   "source": [
    "# make a list of the unique things in boardgamecategory\n",
    "unique_cats = big_cats_in_subcats_df[\"boardgamecategory\"].unique()\n",
    "\n",
    "big_category_mapper = {\n",
    "    \"Wargame\": \"Cat:War\",\n",
    "    \"Children's Game\": \"Cat:Childrens\",\n",
    "    \"Party Game\": \"Cat:Party\",\n",
    "    \"Abstract Strategy\": \"Cat:Abstract\",\n",
    "}\n",
    "\n",
    "# for each key in mapper, set the BGGId in games to 1 in the corresponding column value\n",
    "for key in big_category_mapper:\n",
    "    games.loc[\n",
    "        games[\"BGGId\"].isin(\n",
    "            big_cats_in_subcats_df.loc[\n",
    "                big_cats_in_subcats_df[\"boardgamecategory\"] == key, \"BGGId\"\n",
    "            ]\n",
    "        ),\n",
    "        mapper[key],\n",
    "    ] = 1"
   ]
  },
  {
   "cell_type": "markdown",
   "id": "86bee9ef",
   "metadata": {},
   "source": [
    "Save all the file we just cleaned or created!"
   ]
  },
  {
   "cell_type": "code",
   "execution_count": null,
   "id": "9b0c7333",
   "metadata": {},
   "outputs": [],
   "source": [
    "mechanics.to_pickle(\"data_store/data_cleaned/mechanics.pkl\")"
   ]
  },
  {
   "cell_type": "code",
   "execution_count": null,
   "id": "ea8c6004",
   "metadata": {},
   "outputs": [],
   "source": [
    "subcategories.to_pickle(\"data_store/data_cleaned/subcategories.pkl\")"
   ]
  },
  {
   "cell_type": "code",
   "execution_count": null,
   "id": "b3aec3dc",
   "metadata": {},
   "outputs": [],
   "source": [
    "themes.to_pickle(\"data_store/data_cleaned/themes.pkl\")"
   ]
  },
  {
   "cell_type": "code",
   "execution_count": null,
   "id": "eb327223",
   "metadata": {},
   "outputs": [],
   "source": [
    "mechanics.to_csv(\"data_kaggle/mechanics.csv\", index=False)\n",
    "subcategories.to_csv(\"data_kaggle/subcategories.csv\", index=False)\n",
    "themes.to_csv(\"data_kaggle/themes.csv\", index=False)"
   ]
  },
  {
   "cell_type": "code",
   "execution_count": null,
   "id": "b333b124",
   "metadata": {},
   "outputs": [],
   "source": [
    "mechanics = pd.read_pickle(\"data_store/data_cleaned/mechanics.pkl\")\n",
    "subcategories = pd.read_pickle(\"data_store/data_cleaned/subcategories.pkl\")\n",
    "themes = pd.read_pickle(\"data_store/data_cleaned/themes.pkl\")"
   ]
  },
  {
   "cell_type": "code",
   "execution_count": null,
   "id": "444d16aa",
   "metadata": {},
   "outputs": [],
   "source": [
    "mechanics.head()"
   ]
  },
  {
   "cell_type": "code",
   "execution_count": null,
   "id": "718d555c",
   "metadata": {},
   "outputs": [],
   "source": [
    "subcategories.head()"
   ]
  },
  {
   "cell_type": "code",
   "execution_count": null,
   "id": "c2375dc8",
   "metadata": {},
   "outputs": [],
   "source": [
    "themes.head()"
   ]
  },
  {
   "cell_type": "markdown",
   "id": "16a5c351",
   "metadata": {},
   "source": [
    "## Designers"
   ]
  },
  {
   "cell_type": "code",
   "execution_count": null,
   "id": "c227aad3",
   "metadata": {},
   "outputs": [],
   "source": [
    "# Load up our designers file!\n",
    "designers = pd.read_pickle(f\"{filepath}designers.pkl\")\n",
    "designers = designers.loc[designers[\"boardgamedesigner\"] != \"(Uncredited)\"]\n",
    "designers = designers.reset_index(drop=True)\n",
    "designers.head()"
   ]
  },
  {
   "cell_type": "code",
   "execution_count": null,
   "id": "8da23e18",
   "metadata": {},
   "outputs": [],
   "source": [
    "# remove designers with <3 games\n",
    "df_onehot = pd.get_dummies(\n",
    "    designers, columns=[\"boardgamedesigner\"], drop_first=False\n",
    ").astype(int)\n",
    "\n",
    "# Step 1: Identify columns where the sum of their values is <= 3\n",
    "cols_with_low_sum = df_onehot.columns[df_onehot.sum(axis=0) <= 3]\n",
    "\n",
    "# Step 2: Create the \"Low Entries\" column\n",
    "# If any column in a row has a sum <= 3, mark that row with 1\n",
    "df_onehot[\"Low Entries\"] = df_onehot[cols_with_low_sum].gt(0).any(axis=1).astype(int)\n",
    "\n",
    "# Step 3: Drop columns where the sum is <= 3\n",
    "df = df_onehot.drop(columns=cols_with_low_sum).reset_index(drop=True)"
   ]
  },
  {
   "cell_type": "code",
   "execution_count": null,
   "id": "9fe2e019",
   "metadata": {},
   "outputs": [],
   "source": [
    "df.columns = df.columns.str.replace(\"boardgamedesigner_\", \"\")\n",
    "df.head()"
   ]
  },
  {
   "cell_type": "code",
   "execution_count": null,
   "id": "0f428acb",
   "metadata": {},
   "outputs": [],
   "source": [
    "df = df.melt(id_vars=\"BGGId\", var_name=\"mechanic\", value_name=\"value\")\n",
    "df = (\n",
    "    df[df[\"value\"] == 1]\n",
    "    .drop(\"value\", axis=1)\n",
    "    .sort_values(by=\"BGGId\")\n",
    "    .reset_index(drop=True)\n",
    ")\n",
    "df.head()"
   ]
  },
  {
   "cell_type": "markdown",
   "id": "94d12cf7",
   "metadata": {},
   "source": [
    "## Artists"
   ]
  },
  {
   "cell_type": "code",
   "execution_count": null,
   "id": "79376597",
   "metadata": {},
   "outputs": [],
   "source": [
    "# load artists file\n",
    "artists = pd.read_pickle(f\"{filepath}artists.pkl\")\n",
    "artists.head()"
   ]
  },
  {
   "cell_type": "code",
   "execution_count": null,
   "id": "5ec9c35f",
   "metadata": {},
   "outputs": [],
   "source": [
    "artists = artists.loc[artists[\"boardgameartist\"] != \"(Uncredited)\"]\n",
    "artists = artists.reset_index(drop=True)\n",
    "artists.head()"
   ]
  },
  {
   "cell_type": "code",
   "execution_count": null,
   "id": "f2be019e",
   "metadata": {},
   "outputs": [],
   "source": [
    "# locate all row that sum to 3 or less (find low experience artists)\n",
    "\n",
    "# change the 3 to whatever desired for more or less experience\n",
    "lowexp_rows = artists.loc[:, artists.sum(axis=0) <= 3]\n",
    "\n",
    "# Locate the columns that contain the low experience artists\n",
    "lowexp_columns = lowexp_rows[lowexp_rows.sum(axis=1) > 0]\n",
    "\n",
    "# get indices of those low-exp columns\n",
    "indices = lowexp_columns.index\n",
    "\n",
    "# make new column for low exp Artist\n",
    "artists[\"Low-Exp Artist\"] = 0\n",
    "\n",
    "# for each index in the low exp list, set low exp Artist to 1\n",
    "for index in indices:\n",
    "    artists.loc[index, \"Low-Exp Artist\"] = 1\n",
    "\n",
    "# drop all columns for one-off artists\n",
    "artists.drop(artists.loc[:, artists.sum(axis=0) <= 3], axis=1, inplace=True)"
   ]
  },
  {
   "cell_type": "markdown",
   "id": "3b1c4fa5",
   "metadata": {},
   "source": [
    "## Publishers"
   ]
  },
  {
   "cell_type": "code",
   "execution_count": null,
   "id": "127c2837",
   "metadata": {},
   "outputs": [],
   "source": [
    "# load publishers\n",
    "publishers = pd.read_pickle(f\"{filepath}/publishers.pkl\")\n",
    "publishers.head()"
   ]
  },
  {
   "cell_type": "code",
   "execution_count": null,
   "id": "1ac644a8",
   "metadata": {},
   "outputs": [],
   "source": [
    "publishers = publishers.loc[publishers[\"boardgamepublisher\"] != \"(Uncredited)\"]\n",
    "publishers = publishers.reset_index(drop=True)"
   ]
  },
  {
   "cell_type": "code",
   "execution_count": null,
   "id": "475303cb",
   "metadata": {},
   "outputs": [],
   "source": [
    "# save all publishers to file\n",
    "publishers.to_pickle(\"data_store/data_cleaned/publishers_all.pkl\")\n",
    "publishers.to_csv(\"data_kaggle/publishers_all.csv\", index=False)"
   ]
  },
  {
   "cell_type": "code",
   "execution_count": null,
   "id": "9807a849",
   "metadata": {},
   "outputs": [],
   "source": [
    "# locate all row that sum to 3 or less (find low experience publishers)\n",
    "\n",
    "# change the 3 to whatever desired for more or less experience\n",
    "lowexp_rows = publishers.loc[:, publishers.sum(axis=0) <= 3]\n",
    "\n",
    "# Locate the columns that contain the low experience publishers\n",
    "lowexp_columns = lowexp_rows[lowexp_rows.sum(axis=1) > 0]\n",
    "\n",
    "# get indices of those low-exp columns\n",
    "indices = lowexp_columns.index\n",
    "\n",
    "# make new column for low exp Publisher\n",
    "publishers[\"Low-Exp Publisher\"] = 0\n",
    "\n",
    "# for each index in the low exp list, set low exp Publisher to 1\n",
    "for index in indices:\n",
    "    publishers.loc[index, \"Low-Exp Publisher\"] = 1\n",
    "\n",
    "# drop all columns for one-off publishers\n",
    "publishers.drop(publishers.loc[:, publishers.sum(axis=0) <= 3], axis=1, inplace=True)"
   ]
  },
  {
   "cell_type": "code",
   "execution_count": null,
   "id": "06e0c2e5",
   "metadata": {},
   "outputs": [],
   "source": [
    "# save publishers reduced to 3 or more works\n",
    "publishers.to_pickle(\"data_store/data_cleaned/publishers_reduced.pkl\")\n",
    "publishers.to_csv(\"data_kaggle/publishers_reduced.csv\", index=False)"
   ]
  },
  {
   "cell_type": "code",
   "execution_count": null,
   "id": "d79a229f",
   "metadata": {},
   "outputs": [],
   "source": [
    "publishers = pd.read_pickle(\"data_store/data_cleaned/publishers_reduced.pkl\")\n",
    "publishers.head()"
   ]
  },
  {
   "cell_type": "markdown",
   "id": "f37b384a",
   "metadata": {},
   "source": [
    "# Ratings - by Item, User, & Comments"
   ]
  },
  {
   "cell_type": "markdown",
   "id": "49d05f57",
   "metadata": {},
   "source": [
    "## Test Code"
   ]
  },
  {
   "cell_type": "code",
   "execution_count": null,
   "id": "2cb8a88f",
   "metadata": {},
   "outputs": [],
   "source": [
    "master_comments = pd.read_pickle(\"data_store/data_dirty/raw_game_ratings.pkl\")\n",
    "\n",
    "# integer_reduce\n",
    "master_comments[\"BGGId\"] = master_comments[\"BGGId\"].astype(int)\n",
    "master_comments[\"Rating\"] = master_comments[\"Rating\"].astype(float)\n",
    "\n",
    "master_comments.head()"
   ]
  },
  {
   "cell_type": "code",
   "execution_count": null,
   "id": "6ebe3787",
   "metadata": {},
   "outputs": [],
   "source": [
    "master_comments.drop_duplicates(keep=\"first\", inplace=True)"
   ]
  },
  {
   "cell_type": "code",
   "execution_count": null,
   "id": "9c4585c1",
   "metadata": {},
   "outputs": [],
   "source": [
    "master_comments.info()"
   ]
  },
  {
   "cell_type": "code",
   "execution_count": null,
   "id": "9d826eea",
   "metadata": {},
   "outputs": [],
   "source": [
    "nodrops = list(master_comments.loc[master_comments.Comments != \"\"].index)"
   ]
  },
  {
   "cell_type": "code",
   "execution_count": null,
   "id": "3d561a22",
   "metadata": {},
   "outputs": [],
   "source": [
    "comments_only = master_comments.iloc[nodrops]"
   ]
  },
  {
   "cell_type": "code",
   "execution_count": null,
   "id": "aa0e9ced",
   "metadata": {},
   "outputs": [],
   "source": [
    "comments_only.head(10)"
   ]
  },
  {
   "cell_type": "code",
   "execution_count": null,
   "id": "1d18e5e4",
   "metadata": {},
   "outputs": [],
   "source": [
    "comments_only.to_pickle(\"data_store/data_cleaned/master_comments_file.pkl\")"
   ]
  },
  {
   "cell_type": "code",
   "execution_count": null,
   "id": "0cad4542",
   "metadata": {},
   "outputs": [],
   "source": [
    "del comments_only\n",
    "gc.collect()"
   ]
  },
  {
   "cell_type": "markdown",
   "id": "f4de1b3b",
   "metadata": {},
   "source": [
    "## Deploy - User and Item Ratings"
   ]
  },
  {
   "cell_type": "code",
   "execution_count": null,
   "id": "881b0b31",
   "metadata": {},
   "outputs": [],
   "source": [
    "raw_game_ratings = pd.read_pickle(\"data_store/data_dirty/raw_game_ratings.pkl\")"
   ]
  },
  {
   "cell_type": "code",
   "execution_count": null,
   "id": "a437f277",
   "metadata": {
    "scrolled": true
   },
   "outputs": [],
   "source": [
    "ratings = raw_game_ratings[[\"BGGId\", \"Rating\", \"Username\"]]\n",
    "ratings.head()"
   ]
  },
  {
   "cell_type": "code",
   "execution_count": null,
   "id": "896fbb2c",
   "metadata": {},
   "outputs": [],
   "source": [
    "del raw_game_ratings\n",
    "gc.collect()"
   ]
  },
  {
   "cell_type": "code",
   "execution_count": null,
   "id": "8a50a525",
   "metadata": {},
   "outputs": [],
   "source": [
    "ratings.drop_duplicates(keep=\"first\", inplace=True)"
   ]
  },
  {
   "cell_type": "code",
   "execution_count": null,
   "id": "62021c3c",
   "metadata": {},
   "outputs": [],
   "source": [
    "ratings.head()"
   ]
  },
  {
   "cell_type": "code",
   "execution_count": null,
   "id": "49388745",
   "metadata": {},
   "outputs": [],
   "source": [
    "ratings.to_csv(\"data_kaggle/user_ratings.csv\", index=False)"
   ]
  },
  {
   "cell_type": "code",
   "execution_count": null,
   "id": "203e416e",
   "metadata": {},
   "outputs": [],
   "source": [
    "ratings.Username.nunique()"
   ]
  },
  {
   "cell_type": "code",
   "execution_count": null,
   "id": "0015a44a",
   "metadata": {},
   "outputs": [],
   "source": [
    "game_ids_current = pd.read_pickle(\"data_store/data_cleaned/game_ids_current.pkl\")\n",
    "game_ids = list(game_ids_current)"
   ]
  },
  {
   "cell_type": "code",
   "execution_count": null,
   "id": "abd06b58",
   "metadata": {},
   "outputs": [],
   "source": [
    "user_ratings = {}\n",
    "\n",
    "raw_ratings = {}\n",
    "\n",
    "for item in game_ids:\n",
    "    raw_ratings[item] = []"
   ]
  },
  {
   "cell_type": "code",
   "execution_count": null,
   "id": "3650e89f",
   "metadata": {},
   "outputs": [],
   "source": [
    "ratings.apply(lambda x: process_dataframe_ratings(x, user_ratings, raw_ratings), axis=1)"
   ]
  },
  {
   "cell_type": "code",
   "execution_count": null,
   "id": "a238fa5e",
   "metadata": {
    "scrolled": true
   },
   "outputs": [],
   "source": [
    "user_ratings[\"Threnody\"]"
   ]
  },
  {
   "cell_type": "code",
   "execution_count": null,
   "id": "ee1f1f62",
   "metadata": {
    "scrolled": true
   },
   "outputs": [],
   "source": [
    "raw_ratings[213788]"
   ]
  },
  {
   "cell_type": "code",
   "execution_count": null,
   "id": "5e40dd6b",
   "metadata": {},
   "outputs": [],
   "source": [
    "# save dictionary\n",
    "with open(\"data_store/data_cleaned/game_raw_ratings.json\", \"w\") as convert_file:\n",
    "    convert_file.write(json.dumps(raw_ratings))\n",
    "\n",
    "with open(\"real_ratings/user_ratings_unscaled.json\", \"w\") as convert_file:\n",
    "    convert_file.write(json.dumps(user_ratings))\n",
    "\n",
    "del ratings\n",
    "gc.collect()"
   ]
  },
  {
   "cell_type": "markdown",
   "id": "2d54d214",
   "metadata": {},
   "source": [
    "### Winnow Users to 5+ Ratings"
   ]
  },
  {
   "cell_type": "code",
   "execution_count": null,
   "id": "447ec010",
   "metadata": {},
   "outputs": [],
   "source": [
    "# Opening JSON file\n",
    "with open(\"data_store/data_cleaned/user_ratings_unscaled.json\") as json_file:\n",
    "    user_ratings = json.load(json_file)"
   ]
  },
  {
   "cell_type": "code",
   "execution_count": null,
   "id": "cbb2e3c4",
   "metadata": {},
   "outputs": [],
   "source": [
    "all_users = list(user_ratings.keys())"
   ]
  },
  {
   "cell_type": "code",
   "execution_count": null,
   "id": "0b6c8e06",
   "metadata": {
    "scrolled": true
   },
   "outputs": [],
   "source": [
    "for user in all_users:\n",
    "\n",
    "    if len(user_ratings[user]) < 5:\n",
    "        print(\"Removing user \" + user)\n",
    "        del user_ratings[user]\n",
    "        continue"
   ]
  },
  {
   "cell_type": "code",
   "execution_count": null,
   "id": "20f2886d",
   "metadata": {},
   "outputs": [],
   "source": [
    "with open(\"data_store/data_cleaned/user_ratings_unscaled.json\", \"w\") as convert_file:\n",
    "    convert_file.write(json.dumps(user_ratings))"
   ]
  },
  {
   "cell_type": "markdown",
   "id": "8020c8e0",
   "metadata": {},
   "source": [
    "## Ratings Distribution"
   ]
  },
  {
   "cell_type": "code",
   "execution_count": null,
   "id": "618463d6",
   "metadata": {},
   "outputs": [],
   "source": [
    "# Load the storage dictionary for this block\n",
    "with open(\"data_store/data_cleaned/game_raw_ratings.json\") as json_file:\n",
    "    raw_ratings = json.load(json_file)"
   ]
  },
  {
   "cell_type": "code",
   "execution_count": null,
   "id": "d70bcd5d",
   "metadata": {},
   "outputs": [],
   "source": [
    "len(raw_ratings)"
   ]
  },
  {
   "cell_type": "code",
   "execution_count": null,
   "id": "94d13b99",
   "metadata": {
    "scrolled": true
   },
   "outputs": [],
   "source": [
    "ratings_distribution = pd.DataFrame()\n",
    "\n",
    "for item in raw_ratings.keys():\n",
    "\n",
    "    print(item)\n",
    "\n",
    "    ratings_temp = pd.DataFrame(raw_ratings[item]).round(1)\n",
    "    ratings_counts = pd.DataFrame(ratings_temp.value_counts()).sort_index().T\n",
    "\n",
    "    ratings_distribution = ratings_distribution.append(ratings_counts)"
   ]
  },
  {
   "cell_type": "code",
   "execution_count": null,
   "id": "cbbcfa44",
   "metadata": {},
   "outputs": [],
   "source": [
    "# ratings_distribution = pd.read_pickle('data_store/data_cleaned/ratings_distribution.pkl')"
   ]
  },
  {
   "cell_type": "code",
   "execution_count": null,
   "id": "0b650a5f",
   "metadata": {},
   "outputs": [],
   "source": [
    "ratings_distribution.set_axis(list(raw_ratings.keys()), axis=0, inplace=True)"
   ]
  },
  {
   "cell_type": "code",
   "execution_count": null,
   "id": "f10832de",
   "metadata": {},
   "outputs": [],
   "source": [
    "ratings_distribution.head()"
   ]
  },
  {
   "cell_type": "code",
   "execution_count": null,
   "id": "91b7bdfa",
   "metadata": {},
   "outputs": [],
   "source": [
    "ratings_distribution.fillna(0, inplace=True)"
   ]
  },
  {
   "cell_type": "code",
   "execution_count": null,
   "id": "a3c1f6e8",
   "metadata": {},
   "outputs": [],
   "source": [
    "ratings_distribution.head()"
   ]
  },
  {
   "cell_type": "code",
   "execution_count": null,
   "id": "d0767029",
   "metadata": {},
   "outputs": [],
   "source": [
    "ratings_distribution[\"total_ratings\"] = ratings_distribution.sum(axis=1)"
   ]
  },
  {
   "cell_type": "code",
   "execution_count": null,
   "id": "3db42f9c",
   "metadata": {},
   "outputs": [],
   "source": [
    "# ratings_distribution = ratings_distribution.T.reset_index().T"
   ]
  },
  {
   "cell_type": "code",
   "execution_count": null,
   "id": "930ed23a",
   "metadata": {},
   "outputs": [],
   "source": [
    "ratings_distribution.reset_index(inplace=True)"
   ]
  },
  {
   "cell_type": "code",
   "execution_count": null,
   "id": "d18460ce",
   "metadata": {},
   "outputs": [],
   "source": [
    "ratings_distribution.head()"
   ]
  },
  {
   "cell_type": "code",
   "execution_count": null,
   "id": "f0beccbd",
   "metadata": {},
   "outputs": [],
   "source": [
    "ratings_distribution.rename(columns={\"index\": \"BGGId\"}, inplace=True)"
   ]
  },
  {
   "cell_type": "code",
   "execution_count": null,
   "id": "98fb14c9",
   "metadata": {},
   "outputs": [],
   "source": [
    "ratings_distribution[\"BGGId\"] = ratings_distribution[\"BGGId\"].astype(\"int64\")"
   ]
  },
  {
   "cell_type": "code",
   "execution_count": null,
   "id": "78cf3c14",
   "metadata": {},
   "outputs": [],
   "source": [
    "ratings_distribution.head()"
   ]
  },
  {
   "cell_type": "code",
   "execution_count": null,
   "id": "65fbf499",
   "metadata": {},
   "outputs": [],
   "source": [
    "ratings_distribution.to_pickle(\"data_store/data_cleaned/ratings_distribution.pkl\")"
   ]
  },
  {
   "cell_type": "code",
   "execution_count": null,
   "id": "c07e6abf",
   "metadata": {},
   "outputs": [],
   "source": [
    "ratings_distribution.to_csv(\"data_kaggle/ratings_distribution.csv\", index=False)"
   ]
  },
  {
   "cell_type": "markdown",
   "id": "c5cef96e",
   "metadata": {},
   "source": [
    "## Item Means\n",
    "\n"
   ]
  },
  {
   "cell_type": "code",
   "execution_count": null,
   "id": "02a59769",
   "metadata": {},
   "outputs": [],
   "source": [
    "ratings = pd.read_pickle(\"real_ratings/real_user_ratings_unscaled_fullmatrix.pkl\")"
   ]
  },
  {
   "cell_type": "code",
   "execution_count": null,
   "id": "3581635a",
   "metadata": {},
   "outputs": [],
   "source": [
    "ratings.head()"
   ]
  },
  {
   "cell_type": "code",
   "execution_count": null,
   "id": "1c411925",
   "metadata": {},
   "outputs": [],
   "source": [
    "ratings = ratings.replace(0, np.NaN)"
   ]
  },
  {
   "cell_type": "code",
   "execution_count": null,
   "id": "ebcd8f61",
   "metadata": {},
   "outputs": [],
   "source": [
    "item_means = ratings.mean().to_dict()"
   ]
  },
  {
   "cell_type": "code",
   "execution_count": null,
   "id": "c7f9a34d",
   "metadata": {},
   "outputs": [],
   "source": [
    "# save catalog to file\n",
    "with open(\"data_store/data_cleaned/item_means.json\", \"w\") as convert_file:\n",
    "    convert_file.write(json.dumps(item_means))"
   ]
  },
  {
   "cell_type": "markdown",
   "id": "bb725b88",
   "metadata": {},
   "source": [
    "## User Means"
   ]
  },
  {
   "cell_type": "code",
   "execution_count": null,
   "id": "e7dc3f0f",
   "metadata": {},
   "outputs": [],
   "source": [
    "# Opening JSON file\n",
    "with open(\"real_ratings/real_user_ratings_unscaled.json\") as json_file:\n",
    "    user_ratings = json.load(json_file)"
   ]
  },
  {
   "cell_type": "code",
   "execution_count": null,
   "id": "5098fe28",
   "metadata": {},
   "outputs": [],
   "source": [
    "len(user_ratings)"
   ]
  },
  {
   "cell_type": "code",
   "execution_count": null,
   "id": "0c52b501",
   "metadata": {},
   "outputs": [],
   "source": [
    "user_means = {}"
   ]
  },
  {
   "cell_type": "code",
   "execution_count": null,
   "id": "ae6a80f5",
   "metadata": {},
   "outputs": [],
   "source": [
    "for person in user_ratings:\n",
    "    user_items = []\n",
    "    for item in user_ratings[person]:\n",
    "        user_items.append(user_ratings[person][item])\n",
    "    user_mean = round((mean(user_items)), 1)\n",
    "    user_means[person] = user_mean"
   ]
  },
  {
   "cell_type": "code",
   "execution_count": null,
   "id": "85e4cf71",
   "metadata": {},
   "outputs": [],
   "source": [
    "user_means[\"Threnody\"]"
   ]
  },
  {
   "cell_type": "code",
   "execution_count": null,
   "id": "078648db",
   "metadata": {},
   "outputs": [],
   "source": [
    "user_means[\"moosh21\"]"
   ]
  },
  {
   "cell_type": "code",
   "execution_count": null,
   "id": "0a36444e",
   "metadata": {},
   "outputs": [],
   "source": [
    "user_means[\"Shade92008\"]"
   ]
  },
  {
   "cell_type": "code",
   "execution_count": null,
   "id": "4bcb8120",
   "metadata": {},
   "outputs": [],
   "source": [
    "user_means[\"Torsten\"]"
   ]
  },
  {
   "cell_type": "code",
   "execution_count": null,
   "id": "04b11498",
   "metadata": {},
   "outputs": [],
   "source": [
    "# save dictionary\n",
    "with open(\"data_store/data_cleaned/user_means.json\", \"w\") as convert_file:\n",
    "    convert_file.write(json.dumps(user_means))"
   ]
  },
  {
   "cell_type": "code",
   "execution_count": null,
   "id": "6fc5792c",
   "metadata": {},
   "outputs": [],
   "source": [
    "del user_means\n",
    "gc.collect()"
   ]
  },
  {
   "cell_type": "code",
   "execution_count": null,
   "id": "185bf2a8",
   "metadata": {},
   "outputs": [],
   "source": [
    "# Opening JSON file\n",
    "with open(\"data_store/data_cleaned/user_means.json\") as json_file:\n",
    "    user_means_dict = json.load(json_file)"
   ]
  },
  {
   "cell_type": "code",
   "execution_count": null,
   "id": "f2a462b1",
   "metadata": {},
   "outputs": [],
   "source": [
    "user_means = pd.DataFrame.from_dict(user_means_dict, orient=\"index\")\n",
    "user_means.rename(columns={0: \"Mean\"}, inplace=True)\n",
    "user_means.head()"
   ]
  },
  {
   "cell_type": "code",
   "execution_count": null,
   "id": "aea9aca7",
   "metadata": {},
   "outputs": [],
   "source": [
    "user_means.to_pickle(\"data_store/data_cleaned/user_means.pkl\")"
   ]
  }
 ],
 "metadata": {
  "kernelspec": {
   "display_name": "Python 3 (ipykernel)",
   "language": "python",
   "name": "python3"
  },
  "language_info": {
   "codemirror_mode": {
    "name": "ipython",
    "version": 3
   },
   "file_extension": ".py",
   "mimetype": "text/x-python",
   "name": "python",
   "nbconvert_exporter": "python",
   "pygments_lexer": "ipython3",
   "version": "3.12.4"
  },
  "toc": {
   "base_numbering": 1,
   "nav_menu": {},
   "number_sections": true,
   "sideBar": true,
   "skip_h1_title": false,
   "title_cell": "Table of Contents",
   "title_sidebar": "Contents",
   "toc_cell": false,
   "toc_position": {
    "height": "calc(100% - 180px)",
    "left": "10px",
    "top": "150px",
    "width": "335.99px"
   },
   "toc_section_display": true,
   "toc_window_display": true
  }
 },
 "nbformat": 4,
 "nbformat_minor": 5
}
