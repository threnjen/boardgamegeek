{
 "cells": [
  {
   "cell_type": "markdown",
   "id": "d3036688",
   "metadata": {},
   "source": [
    "# Notebook Objective and Setup\n",
    "\n",
    "BGG03 is the scrubbing and cleaning of the various data obtained in notebooks BGG01 and BGG02. The following datasets are cleaned, constructed, or otherwise prepared for EDA and modeling.\n",
    "\n",
    "    * Games\n",
    "   * Mechanics\n",
    "    * Subcategories\n",
    "    * Designers\n",
    "    * Artists\n",
    "    * Publishers\n",
    "    * Awards\n",
    "    * Ratings Distribution\n",
    "    * Comments\n",
    "    * Ratings Matrix"
   ]
  },
  {
   "cell_type": "markdown",
   "id": "91689d85",
   "metadata": {},
   "source": [
    "## Package Imports"
   ]
  },
  {
   "cell_type": "code",
   "execution_count": null,
   "id": "21981028",
   "metadata": {},
   "outputs": [],
   "source": [
    "import pandas as pd\n",
    "import numpy as np\n",
    "import requests\n",
    "import regex as re\n",
    "import time\n",
    "import os\n",
    "import gc\n",
    "import json\n",
    "from statistics import mean\n",
    "\n",
    "# ignore warnings (gets rid of Pandas copy warnings)\n",
    "import warnings\n",
    "\n",
    "warnings.filterwarnings(\"ignore\")\n",
    "pd.options.display.max_columns = None\n",
    "\n",
    "pd.set_option(\"display.max_columns\", None)\n",
    "pd.set_option(\"display.max_rows\", 30)\n",
    "\n",
    "# NLP tools\n",
    "# import spacy\n",
    "\n",
    "# nlp = spacy.load(\"en_core_web_sm\")\n",
    "# import re\n",
    "# import nltk\n",
    "# from sklearn.feature_extraction.text import CountVectorizer, TfidfVectorizer\n",
    "# from nltk.tokenize import word_tokenize\n",
    "\n",
    "filepath = \"../../data/prod/games/game_dfs_dirty/\""
   ]
  },
  {
   "cell_type": "markdown",
   "id": "f37b384a",
   "metadata": {},
   "source": [
    "# Ratings - by Item, User, & Comments"
   ]
  },
  {
   "cell_type": "markdown",
   "id": "27da551c",
   "metadata": {},
   "source": []
  },
  {
   "cell_type": "markdown",
   "id": "8020c8e0",
   "metadata": {},
   "source": [
    "## Ratings Distribution"
   ]
  },
  {
   "cell_type": "code",
   "execution_count": null,
   "id": "618463d6",
   "metadata": {},
   "outputs": [],
   "source": [
    "# Load the storage dictionary for this block\n",
    "with open(\"data_store/data_cleaned/game_raw_ratings.json\") as json_file:\n",
    "    raw_ratings = json.load(json_file)"
   ]
  },
  {
   "cell_type": "code",
   "execution_count": null,
   "id": "d70bcd5d",
   "metadata": {},
   "outputs": [],
   "source": [
    "len(raw_ratings)"
   ]
  },
  {
   "cell_type": "code",
   "execution_count": null,
   "id": "94d13b99",
   "metadata": {
    "scrolled": true
   },
   "outputs": [],
   "source": [
    "ratings_distribution = pd.DataFrame()\n",
    "\n",
    "for item in raw_ratings.keys():\n",
    "\n",
    "    print(item)\n",
    "\n",
    "    ratings_temp = pd.DataFrame(raw_ratings[item]).round(1)\n",
    "    ratings_counts = pd.DataFrame(ratings_temp.value_counts()).sort_index().T\n",
    "\n",
    "    ratings_distribution = ratings_distribution.append(ratings_counts)"
   ]
  },
  {
   "cell_type": "code",
   "execution_count": null,
   "id": "cbbcfa44",
   "metadata": {},
   "outputs": [],
   "source": [
    "# ratings_distribution = pd.read_pickle('data_store/data_cleaned/ratings_distribution.pkl')"
   ]
  },
  {
   "cell_type": "code",
   "execution_count": null,
   "id": "0b650a5f",
   "metadata": {},
   "outputs": [],
   "source": [
    "ratings_distribution.set_axis(list(raw_ratings.keys()), axis=0, inplace=True)"
   ]
  },
  {
   "cell_type": "code",
   "execution_count": null,
   "id": "f10832de",
   "metadata": {},
   "outputs": [],
   "source": [
    "ratings_distribution.head()"
   ]
  },
  {
   "cell_type": "code",
   "execution_count": null,
   "id": "91b7bdfa",
   "metadata": {},
   "outputs": [],
   "source": [
    "ratings_distribution.fillna(0, inplace=True)"
   ]
  },
  {
   "cell_type": "code",
   "execution_count": null,
   "id": "a3c1f6e8",
   "metadata": {},
   "outputs": [],
   "source": [
    "ratings_distribution.head()"
   ]
  },
  {
   "cell_type": "code",
   "execution_count": null,
   "id": "d0767029",
   "metadata": {},
   "outputs": [],
   "source": [
    "ratings_distribution[\"total_ratings\"] = ratings_distribution.sum(axis=1)"
   ]
  },
  {
   "cell_type": "code",
   "execution_count": null,
   "id": "3db42f9c",
   "metadata": {},
   "outputs": [],
   "source": [
    "# ratings_distribution = ratings_distribution.T.reset_index().T"
   ]
  },
  {
   "cell_type": "code",
   "execution_count": null,
   "id": "930ed23a",
   "metadata": {},
   "outputs": [],
   "source": [
    "ratings_distribution.reset_index(inplace=True)"
   ]
  },
  {
   "cell_type": "code",
   "execution_count": null,
   "id": "d18460ce",
   "metadata": {},
   "outputs": [],
   "source": [
    "ratings_distribution.head()"
   ]
  },
  {
   "cell_type": "code",
   "execution_count": null,
   "id": "f0beccbd",
   "metadata": {},
   "outputs": [],
   "source": [
    "ratings_distribution.rename(columns={\"index\": \"BGGId\"}, inplace=True)"
   ]
  },
  {
   "cell_type": "code",
   "execution_count": null,
   "id": "98fb14c9",
   "metadata": {},
   "outputs": [],
   "source": [
    "ratings_distribution[\"BGGId\"] = ratings_distribution[\"BGGId\"].astype(\"int64\")"
   ]
  },
  {
   "cell_type": "code",
   "execution_count": null,
   "id": "78cf3c14",
   "metadata": {},
   "outputs": [],
   "source": [
    "ratings_distribution.head()"
   ]
  },
  {
   "cell_type": "code",
   "execution_count": null,
   "id": "65fbf499",
   "metadata": {},
   "outputs": [],
   "source": [
    "ratings_distribution.to_pickle(\"data_store/data_cleaned/ratings_distribution.pkl\")"
   ]
  },
  {
   "cell_type": "code",
   "execution_count": null,
   "id": "c07e6abf",
   "metadata": {},
   "outputs": [],
   "source": [
    "ratings_distribution.to_csv(\"data_kaggle/ratings_distribution.csv\", index=False)"
   ]
  },
  {
   "cell_type": "markdown",
   "id": "c5cef96e",
   "metadata": {},
   "source": [
    "## Item Means\n",
    "\n"
   ]
  },
  {
   "cell_type": "code",
   "execution_count": null,
   "id": "02a59769",
   "metadata": {},
   "outputs": [],
   "source": [
    "ratings = pd.read_pickle(\"real_ratings/real_user_ratings_unscaled_fullmatrix.pkl\")"
   ]
  },
  {
   "cell_type": "code",
   "execution_count": null,
   "id": "3581635a",
   "metadata": {},
   "outputs": [],
   "source": [
    "ratings.head()"
   ]
  },
  {
   "cell_type": "code",
   "execution_count": null,
   "id": "1c411925",
   "metadata": {},
   "outputs": [],
   "source": [
    "ratings = ratings.replace(0, np.NaN)"
   ]
  },
  {
   "cell_type": "code",
   "execution_count": null,
   "id": "ebcd8f61",
   "metadata": {},
   "outputs": [],
   "source": [
    "item_means = ratings.mean().to_dict()"
   ]
  },
  {
   "cell_type": "code",
   "execution_count": null,
   "id": "c7f9a34d",
   "metadata": {},
   "outputs": [],
   "source": [
    "# save catalog to file\n",
    "with open(\"data_store/data_cleaned/item_means.json\", \"w\") as convert_file:\n",
    "    convert_file.write(json.dumps(item_means))"
   ]
  },
  {
   "cell_type": "markdown",
   "id": "bb725b88",
   "metadata": {},
   "source": [
    "## User Means"
   ]
  },
  {
   "cell_type": "code",
   "execution_count": null,
   "id": "e7dc3f0f",
   "metadata": {},
   "outputs": [],
   "source": [
    "# Opening JSON file\n",
    "with open(\"real_ratings/real_user_ratings_unscaled.json\") as json_file:\n",
    "    user_ratings = json.load(json_file)"
   ]
  },
  {
   "cell_type": "code",
   "execution_count": null,
   "id": "5098fe28",
   "metadata": {},
   "outputs": [],
   "source": [
    "len(user_ratings)"
   ]
  },
  {
   "cell_type": "code",
   "execution_count": null,
   "id": "0c52b501",
   "metadata": {},
   "outputs": [],
   "source": [
    "user_means = {}"
   ]
  },
  {
   "cell_type": "code",
   "execution_count": null,
   "id": "ae6a80f5",
   "metadata": {},
   "outputs": [],
   "source": [
    "for person in user_ratings:\n",
    "    user_items = []\n",
    "    for item in user_ratings[person]:\n",
    "        user_items.append(user_ratings[person][item])\n",
    "    user_mean = round((mean(user_items)), 1)\n",
    "    user_means[person] = user_mean"
   ]
  },
  {
   "cell_type": "code",
   "execution_count": null,
   "id": "85e4cf71",
   "metadata": {},
   "outputs": [],
   "source": [
    "user_means[\"Threnody\"]"
   ]
  },
  {
   "cell_type": "code",
   "execution_count": null,
   "id": "078648db",
   "metadata": {},
   "outputs": [],
   "source": [
    "user_means[\"moosh21\"]"
   ]
  },
  {
   "cell_type": "code",
   "execution_count": null,
   "id": "0a36444e",
   "metadata": {},
   "outputs": [],
   "source": [
    "user_means[\"Shade92008\"]"
   ]
  },
  {
   "cell_type": "code",
   "execution_count": null,
   "id": "4bcb8120",
   "metadata": {},
   "outputs": [],
   "source": [
    "user_means[\"Torsten\"]"
   ]
  },
  {
   "cell_type": "code",
   "execution_count": null,
   "id": "04b11498",
   "metadata": {},
   "outputs": [],
   "source": [
    "# save dictionary\n",
    "with open(\"data_store/data_cleaned/user_means.json\", \"w\") as convert_file:\n",
    "    convert_file.write(json.dumps(user_means))"
   ]
  },
  {
   "cell_type": "code",
   "execution_count": null,
   "id": "6fc5792c",
   "metadata": {},
   "outputs": [],
   "source": [
    "del user_means\n",
    "gc.collect()"
   ]
  },
  {
   "cell_type": "code",
   "execution_count": null,
   "id": "185bf2a8",
   "metadata": {},
   "outputs": [],
   "source": [
    "# Opening JSON file\n",
    "with open(\"data_store/data_cleaned/user_means.json\") as json_file:\n",
    "    user_means_dict = json.load(json_file)"
   ]
  },
  {
   "cell_type": "code",
   "execution_count": null,
   "id": "f2a462b1",
   "metadata": {},
   "outputs": [],
   "source": [
    "user_means = pd.DataFrame.from_dict(user_means_dict, orient=\"index\")\n",
    "user_means.rename(columns={0: \"Mean\"}, inplace=True)\n",
    "user_means.head()"
   ]
  },
  {
   "cell_type": "code",
   "execution_count": null,
   "id": "aea9aca7",
   "metadata": {},
   "outputs": [],
   "source": [
    "user_means.to_pickle(\"data_store/data_cleaned/user_means.pkl\")"
   ]
  }
 ],
 "metadata": {
  "kernelspec": {
   "display_name": "boardgamegeek-ZH0FNRKg",
   "language": "python",
   "name": "python3"
  },
  "language_info": {
   "codemirror_mode": {
    "name": "ipython",
    "version": 3
   },
   "file_extension": ".py",
   "mimetype": "text/x-python",
   "name": "python",
   "nbconvert_exporter": "python",
   "pygments_lexer": "ipython3",
   "version": "3.12.6"
  },
  "toc": {
   "base_numbering": 1,
   "nav_menu": {},
   "number_sections": true,
   "sideBar": true,
   "skip_h1_title": false,
   "title_cell": "Table of Contents",
   "title_sidebar": "Contents",
   "toc_cell": false,
   "toc_position": {
    "height": "calc(100% - 180px)",
    "left": "10px",
    "top": "150px",
    "width": "335.99px"
   },
   "toc_section_display": true,
   "toc_window_display": true
  }
 },
 "nbformat": 4,
 "nbformat_minor": 5
}
