{
 "cells": [
  {
   "cell_type": "markdown",
   "id": "979811e9",
   "metadata": {},
   "source": [
    "# Setup"
   ]
  },
  {
   "cell_type": "markdown",
   "id": "e4e48291",
   "metadata": {},
   "source": [
    "## Notebook Preparation"
   ]
  },
  {
   "cell_type": "markdown",
   "id": "e76df09b",
   "metadata": {},
   "source": [
    "### Package Imports"
   ]
  },
  {
   "cell_type": "code",
   "execution_count": 1,
   "id": "57e943a4",
   "metadata": {},
   "outputs": [],
   "source": [
    "import pandas as pd\n",
    "import numpy as np\n",
    "import requests\n",
    "import regex as re\n",
    "import time\n",
    "import os\n",
    "import gc\n",
    "import json\n",
    "from statistics import mean\n",
    "import copy\n",
    "\n",
    "# ignore warnings (gets rid of Pandas copy warnings)\n",
    "import warnings\n",
    "warnings.filterwarnings('ignore')\n",
    "pd.options.display.max_columns = None\n",
    "\n",
    "pd.set_option('display.max_columns', None)\n",
    "pd.set_option('display.max_rows', 30)"
   ]
  },
  {
   "cell_type": "markdown",
   "id": "275f08a9",
   "metadata": {},
   "source": [
    "### Notebook Functions"
   ]
  },
  {
   "cell_type": "code",
   "execution_count": 2,
   "id": "60e73b00",
   "metadata": {},
   "outputs": [],
   "source": [
    "def get_user(user_matrix, user, game_ids, scaled=True):\n",
    "    '''\n",
    "    Takes in a sparse matrix of users and items, a specific user to retrieve, and a list of game_ids\n",
    "    Get the mean for the user\n",
    "    Builds a list of user's rated items and subtracts user mean from all ratings\n",
    "    Builds a corresponding list of game ids for the rated games\n",
    "    Gets intersection of user's rated ids with the overall game_ids\n",
    "    Stores user game_id:rating in user ratings dictionary \n",
    "    Returns the user dictionary\n",
    "    \n",
    "    Inputs: \n",
    "    user_matrix: sparse matrix of users and game ratings\n",
    "    user: user to retrieve\n",
    "    game_ids: all possible game_ids in matrix\n",
    "    \n",
    "    Outputs:\n",
    "    overall_user: user entry with user's game ratings\n",
    "    user_mean: user's mean rating\n",
    "    '''\n",
    "    \n",
    "    # get the mean rating for that user\n",
    "    user_mean = user_matrix[user].mean()\n",
    "    \n",
    "    if scaled:\n",
    "    \n",
    "        # normalize the ratings for that user by subtracting their mean from all ratings, store in list\n",
    "        game_ratings = list(user_matrix.loc[user_matrix[user].notna()][user] - user_mean)\n",
    "    \n",
    "    else:\n",
    "        game_ratings = list(user_matrix.loc[user_matrix[user].notna()][user])\n",
    "    \n",
    "    # Get a list of all of the game IDs that the user rated (meaning are not NaN)\n",
    "    users_game_ids = list(user_matrix.loc[user_matrix[user].notna()][user].index)\n",
    "    \n",
    "    game_ids_set = set(game_ids).intersection(set(users_game_ids))\n",
    "    \n",
    "    # make a dictionary to store their ratings\n",
    "    user_game_ratings = {}\n",
    "    \n",
    "    # for each matching key, value in game_ids and game_ratings for the user\n",
    "    for key, value in zip(game_ids_set, game_ratings):\n",
    "        # set as key: value in the game rating dict\n",
    "        user_game_ratings[int(key)] = value\n",
    "    \n",
    "    # Make a dictionary to store the overall user\n",
    "    overall_user = {}\n",
    "      \n",
    "    # store the user's ratings\n",
    "    #overall_user['Ratings'] = user_game_ratings\n",
    "    overall_user = user_game_ratings\n",
    "    \n",
    "    return overall_user, user_mean"
   ]
  },
  {
   "cell_type": "code",
   "execution_count": 3,
   "id": "e44711fc",
   "metadata": {},
   "outputs": [],
   "source": [
    "def make_user_dictionaries(path_item, scaled=True):\n",
    "\n",
    "    temp_dictionary = {}\n",
    "    \n",
    "    path = 'data_cleaned/ratings_matrix_cleaned_'+path_item+'.pkl'\n",
    "    user_matrix = pd.read_pickle(path)\n",
    "    user_matrix = user_matrix.T\n",
    "    user_matrix.index = user_matrix.index.astype('int32')\n",
    "    user_matrix.shape\n",
    "    \n",
    "    for user in user_matrix.columns:\n",
    "    \n",
    "        #print(\"Starting user \"+user)\n",
    "    \n",
    "        # copy the current user dictionary to the synthetic ratings storage dictionary\n",
    "        temp_dictionary[user], user_mean = get_user(user_matrix, user, game_ids, scaled)\n",
    "        user_means[user] = user_mean\n",
    "    \n",
    "    return temp_dictionary, user_means"
   ]
  },
  {
   "cell_type": "markdown",
   "id": "b612b97d",
   "metadata": {},
   "source": [
    "# Build Dictionaries of Real Ratings"
   ]
  },
  {
   "cell_type": "markdown",
   "id": "4f6faa7d",
   "metadata": {},
   "source": [
    "Don't run this stuff again!!"
   ]
  },
  {
   "cell_type": "markdown",
   "id": "c63a5d2f",
   "metadata": {},
   "source": [
    "## Unscaled Ratings"
   ]
  },
  {
   "cell_type": "code",
   "execution_count": 105,
   "id": "b6a1b393",
   "metadata": {},
   "outputs": [],
   "source": [
    "real_user_ratings_dictionary_unscaled = {}"
   ]
  },
  {
   "cell_type": "code",
   "execution_count": 116,
   "id": "0cc440b2",
   "metadata": {},
   "outputs": [
    {
     "ename": "NameError",
     "evalue": "name 'temp_dictionary' is not defined",
     "output_type": "error",
     "traceback": [
      "\u001b[1;31m---------------------------------------------------------------------------\u001b[0m",
      "\u001b[1;31mNameError\u001b[0m                                 Traceback (most recent call last)",
      "\u001b[1;32m~\\AppData\\Local\\Temp/ipykernel_25784/441043804.py\u001b[0m in \u001b[0;36m<module>\u001b[1;34m\u001b[0m\n\u001b[0;32m      7\u001b[0m \u001b[0mreal_user_ratings_long_01\u001b[0m\u001b[1;33m.\u001b[0m\u001b[0msort_values\u001b[0m\u001b[1;33m(\u001b[0m\u001b[1;34m'UserID'\u001b[0m\u001b[1;33m,\u001b[0m \u001b[0minplace\u001b[0m\u001b[1;33m=\u001b[0m\u001b[1;32mTrue\u001b[0m\u001b[1;33m)\u001b[0m\u001b[1;33m\u001b[0m\u001b[1;33m\u001b[0m\u001b[0m\n\u001b[0;32m      8\u001b[0m \u001b[0mreal_user_ratings_long_01\u001b[0m\u001b[1;33m.\u001b[0m\u001b[0mreset_index\u001b[0m\u001b[1;33m(\u001b[0m\u001b[0mdrop\u001b[0m\u001b[1;33m=\u001b[0m\u001b[1;32mTrue\u001b[0m\u001b[1;33m,\u001b[0m \u001b[0minplace\u001b[0m\u001b[1;33m=\u001b[0m\u001b[1;32mTrue\u001b[0m\u001b[1;33m)\u001b[0m\u001b[1;33m\u001b[0m\u001b[1;33m\u001b[0m\u001b[0m\n\u001b[1;32m----> 9\u001b[1;33m \u001b[1;32mdel\u001b[0m \u001b[0mtemp_dictionary\u001b[0m\u001b[1;33m\u001b[0m\u001b[1;33m\u001b[0m\u001b[0m\n\u001b[0m\u001b[0;32m     10\u001b[0m \u001b[1;32mdel\u001b[0m \u001b[0mreal_user_ratings\u001b[0m\u001b[1;33m\u001b[0m\u001b[1;33m\u001b[0m\u001b[0m\n\u001b[0;32m     11\u001b[0m \u001b[1;33m\u001b[0m\u001b[0m\n",
      "\u001b[1;31mNameError\u001b[0m: name 'temp_dictionary' is not defined"
     ]
    }
   ],
   "source": [
    "temp_dictionary01, user_means01 = make_user_dictionaries('01', scaled=False)\n",
    "\n",
    "real_user_ratings = pd.DataFrame.from_dict(temp_dictionary01).T\n",
    "real_user_ratings.reset_index(inplace=True)\n",
    "real_user_ratings.rename(columns={'index':'UserID'}, inplace=True)\n",
    "real_user_ratings_long_01 = real_user_ratings.melt(id_vars='UserID', var_name='BGGId', value_name='Rating').dropna()\n",
    "real_user_ratings_long_01.sort_values('UserID', inplace=True)\n",
    "real_user_ratings_long_01.reset_index(drop=True, inplace=True)\n",
    "\n",
    "del real_user_ratings\n",
    "\n",
    "gc.collect()"
   ]
  },
  {
   "cell_type": "code",
   "execution_count": 117,
   "id": "c96a232f",
   "metadata": {},
   "outputs": [
    {
     "data": {
      "text/plain": [
       "0"
      ]
     },
     "execution_count": 117,
     "metadata": {},
     "output_type": "execute_result"
    }
   ],
   "source": [
    "temp_dictionary02, user_means02 = make_user_dictionaries('02', scaled=False)\n",
    "\n",
    "real_user_ratings = pd.DataFrame.from_dict(temp_dictionary02).T\n",
    "\n",
    "real_user_ratings.reset_index(inplace=True)\n",
    "real_user_ratings.rename(columns={'index':'UserID'}, inplace=True)\n",
    "real_user_ratings_long_02 = real_user_ratings.melt(id_vars='UserID', var_name='BGGId', value_name='Rating').dropna()\n",
    "real_user_ratings_long_02.sort_values('UserID', inplace=True)\n",
    "real_user_ratings_long_02.reset_index(drop=True, inplace=True)\n",
    "\n",
    "del real_user_ratings\n",
    "\n",
    "gc.collect()"
   ]
  },
  {
   "cell_type": "code",
   "execution_count": 118,
   "id": "758c06e8",
   "metadata": {},
   "outputs": [
    {
     "data": {
      "text/plain": [
       "0"
      ]
     },
     "execution_count": 118,
     "metadata": {},
     "output_type": "execute_result"
    }
   ],
   "source": [
    "temp_dictionary03, user_means03 = make_user_dictionaries('03', scaled=False)\n",
    "\n",
    "real_user_ratings = pd.DataFrame.from_dict(temp_dictionary03).T\n",
    "\n",
    "real_user_ratings.reset_index(inplace=True)\n",
    "real_user_ratings.rename(columns={'index':'UserID'}, inplace=True)\n",
    "real_user_ratings_long_03 = real_user_ratings.melt(id_vars='UserID', var_name='BGGId', value_name='Rating').dropna()\n",
    "real_user_ratings_long_03.sort_values('UserID', inplace=True)\n",
    "real_user_ratings_long_03.reset_index(drop=True, inplace=True)\n",
    "\n",
    "del real_user_ratings\n",
    "\n",
    "gc.collect()"
   ]
  },
  {
   "cell_type": "code",
   "execution_count": 119,
   "id": "187b4e90",
   "metadata": {},
   "outputs": [
    {
     "data": {
      "text/plain": [
       "0"
      ]
     },
     "execution_count": 119,
     "metadata": {},
     "output_type": "execute_result"
    }
   ],
   "source": [
    "temp_dictionary04, user_means04 = make_user_dictionaries('04', scaled=False)\n",
    "\n",
    "real_user_ratings = pd.DataFrame.from_dict(temp_dictionary04).T\n",
    "\n",
    "real_user_ratings.reset_index(inplace=True)\n",
    "real_user_ratings.rename(columns={'index':'UserID'}, inplace=True)\n",
    "real_user_ratings_long_04 = real_user_ratings.melt(id_vars='UserID', var_name='BGGId', value_name='Rating').dropna()\n",
    "real_user_ratings_long_04.sort_values('UserID', inplace=True)\n",
    "real_user_ratings_long_04.reset_index(drop=True, inplace=True)\n",
    "\n",
    "del real_user_ratings\n",
    "\n",
    "gc.collect()"
   ]
  },
  {
   "cell_type": "code",
   "execution_count": 120,
   "id": "82be485d",
   "metadata": {},
   "outputs": [
    {
     "data": {
      "text/plain": [
       "0"
      ]
     },
     "execution_count": 120,
     "metadata": {},
     "output_type": "execute_result"
    }
   ],
   "source": [
    "temp_dictionary05, user_means05 = make_user_dictionaries('05', scaled=False)\n",
    "\n",
    "real_user_ratings = pd.DataFrame.from_dict(temp_dictionary05).T\n",
    "\n",
    "real_user_ratings.reset_index(inplace=True)\n",
    "real_user_ratings.rename(columns={'index':'UserID'}, inplace=True)\n",
    "real_user_ratings_long_05 = real_user_ratings.melt(id_vars='UserID', var_name='BGGId', value_name='Rating').dropna()\n",
    "real_user_ratings_long_05.sort_values('UserID', inplace=True)\n",
    "real_user_ratings_long_05.reset_index(drop=True, inplace=True)\n",
    "\n",
    "del real_user_ratings\n",
    "\n",
    "gc.collect()"
   ]
  },
  {
   "cell_type": "code",
   "execution_count": 121,
   "id": "67f2509e",
   "metadata": {},
   "outputs": [
    {
     "data": {
      "text/plain": [
       "0"
      ]
     },
     "execution_count": 121,
     "metadata": {},
     "output_type": "execute_result"
    }
   ],
   "source": [
    "temp_dictionary06, user_means06 = make_user_dictionaries('06', scaled=False)\n",
    "\n",
    "real_user_ratings = pd.DataFrame.from_dict(temp_dictionary06).T\n",
    "\n",
    "real_user_ratings.reset_index(inplace=True)\n",
    "real_user_ratings.rename(columns={'index':'UserID'}, inplace=True)\n",
    "real_user_ratings_long_06 = real_user_ratings.melt(id_vars='UserID', var_name='BGGId', value_name='Rating').dropna()\n",
    "real_user_ratings_long_06.sort_values('UserID', inplace=True)\n",
    "real_user_ratings_long_06.reset_index(drop=True, inplace=True)\n",
    "\n",
    "del real_user_ratings\n",
    "\n",
    "gc.collect()"
   ]
  },
  {
   "cell_type": "markdown",
   "id": "79604e73",
   "metadata": {},
   "source": [
    "### Lookup Dictionary"
   ]
  },
  {
   "cell_type": "code",
   "execution_count": 122,
   "id": "4fe2dd7c",
   "metadata": {},
   "outputs": [],
   "source": [
    "real_user_ratings_dictionary_unscaled.update(temp_dictionary01)\n",
    "real_user_ratings_dictionary_unscaled.update(temp_dictionary02)\n",
    "real_user_ratings_dictionary_unscaled.update(temp_dictionary03)\n",
    "real_user_ratings_dictionary_unscaled.update(temp_dictionary04)\n",
    "real_user_ratings_dictionary_unscaled.update(temp_dictionary05)\n",
    "real_user_ratings_dictionary_unscaled.update(temp_dictionary06)"
   ]
  },
  {
   "cell_type": "code",
   "execution_count": 125,
   "id": "5589aa93",
   "metadata": {},
   "outputs": [
    {
     "data": {
      "text/plain": [
       "102460"
      ]
     },
     "execution_count": 125,
     "metadata": {},
     "output_type": "execute_result"
    }
   ],
   "source": [
    "len(real_user_ratings_dictionary_unscaled)"
   ]
  },
  {
   "cell_type": "code",
   "execution_count": 128,
   "id": "fdc499d9",
   "metadata": {},
   "outputs": [],
   "source": [
    "with open('real_user_ratings_dictionary_unscaled.json', 'w') as convert_file:\n",
    "     convert_file.write(json.dumps(real_user_ratings_dictionary_unscaled))"
   ]
  },
  {
   "cell_type": "markdown",
   "id": "69fd7d62",
   "metadata": {},
   "source": [
    "### Longform DF"
   ]
  },
  {
   "cell_type": "code",
   "execution_count": 124,
   "id": "51589b69",
   "metadata": {},
   "outputs": [],
   "source": [
    "real_user_ratings_long_unscaled = pd.concat([real_user_ratings_long_01, real_user_ratings_long_02, real_user_ratings_long_03, real_user_ratings_long_04, real_user_ratings_long_05, real_user_ratings_long_06], ignore_index=True)"
   ]
  },
  {
   "cell_type": "code",
   "execution_count": 127,
   "id": "4b217575",
   "metadata": {},
   "outputs": [
    {
     "data": {
      "text/plain": [
       "(11424255, 3)"
      ]
     },
     "execution_count": 127,
     "metadata": {},
     "output_type": "execute_result"
    }
   ],
   "source": [
    "real_user_ratings_long_unscaled.shape"
   ]
  },
  {
   "cell_type": "code",
   "execution_count": 129,
   "id": "4dd8b274",
   "metadata": {},
   "outputs": [],
   "source": [
    "real_user_ratings_long_unscaled.to_pickle('real_user_ratings_long_unscaled.pkl')"
   ]
  },
  {
   "cell_type": "markdown",
   "id": "2e34d603",
   "metadata": {},
   "source": [
    "## Scaled Ratings"
   ]
  },
  {
   "cell_type": "code",
   "execution_count": 135,
   "id": "31ed55bd",
   "metadata": {},
   "outputs": [
    {
     "data": {
      "text/plain": [
       "0"
      ]
     },
     "execution_count": 135,
     "metadata": {},
     "output_type": "execute_result"
    }
   ],
   "source": [
    "temp_dictionary01, user_means01 = make_user_dictionaries('01')\n",
    "\n",
    "real_user_ratings = pd.DataFrame.from_dict(temp_dictionary01).T\n",
    "real_user_ratings.reset_index(inplace=True)\n",
    "real_user_ratings.rename(columns={'index':'UserID'}, inplace=True)\n",
    "real_user_ratings_long_01 = real_user_ratings.melt(id_vars='UserID', var_name='BGGId', value_name='Rating').dropna()\n",
    "real_user_ratings_long_01.sort_values('UserID', inplace=True)\n",
    "real_user_ratings_long_01.reset_index(drop=True, inplace=True)\n",
    "\n",
    "del real_user_ratings\n",
    "\n",
    "gc.collect()"
   ]
  },
  {
   "cell_type": "code",
   "execution_count": 136,
   "id": "2f09e50a",
   "metadata": {},
   "outputs": [
    {
     "data": {
      "text/plain": [
       "0"
      ]
     },
     "execution_count": 136,
     "metadata": {},
     "output_type": "execute_result"
    }
   ],
   "source": [
    "temp_dictionary02, user_means02 = make_user_dictionaries('02')\n",
    "\n",
    "real_user_ratings = pd.DataFrame.from_dict(temp_dictionary02).T\n",
    "\n",
    "real_user_ratings.reset_index(inplace=True)\n",
    "real_user_ratings.rename(columns={'index':'UserID'}, inplace=True)\n",
    "real_user_ratings_long_02 = real_user_ratings.melt(id_vars='UserID', var_name='BGGId', value_name='Rating').dropna()\n",
    "real_user_ratings_long_02.sort_values('UserID', inplace=True)\n",
    "real_user_ratings_long_02.reset_index(drop=True, inplace=True)\n",
    "\n",
    "del real_user_ratings\n",
    "\n",
    "gc.collect()"
   ]
  },
  {
   "cell_type": "code",
   "execution_count": null,
   "id": "20663e82",
   "metadata": {},
   "outputs": [],
   "source": [
    "temp_dictionary03, user_means03 = make_user_dictionaries('03')\n",
    "\n",
    "real_user_ratings = pd.DataFrame.from_dict(temp_dictionary03).T\n",
    "\n",
    "real_user_ratings.reset_index(inplace=True)\n",
    "real_user_ratings.rename(columns={'index':'UserID'}, inplace=True)\n",
    "real_user_ratings_long_03 = real_user_ratings.melt(id_vars='UserID', var_name='BGGId', value_name='Rating').dropna()\n",
    "real_user_ratings_long_03.sort_values('UserID', inplace=True)\n",
    "real_user_ratings_long_03.reset_index(drop=True, inplace=True)\n",
    "\n",
    "del real_user_ratings\n",
    "\n",
    "gc.collect()"
   ]
  },
  {
   "cell_type": "code",
   "execution_count": null,
   "id": "fcf7ee40",
   "metadata": {},
   "outputs": [],
   "source": [
    "temp_dictionary04, user_means04 = make_user_dictionaries('04')\n",
    "\n",
    "real_user_ratings = pd.DataFrame.from_dict(temp_dictionary04).T\n",
    "\n",
    "real_user_ratings.reset_index(inplace=True)\n",
    "real_user_ratings.rename(columns={'index':'UserID'}, inplace=True)\n",
    "real_user_ratings_long_04 = real_user_ratings.melt(id_vars='UserID', var_name='BGGId', value_name='Rating').dropna()\n",
    "real_user_ratings_long_04.sort_values('UserID', inplace=True)\n",
    "real_user_ratings_long_04.reset_index(drop=True, inplace=True)\n",
    "\n",
    "del real_user_ratings\n",
    "\n",
    "gc.collect()"
   ]
  },
  {
   "cell_type": "code",
   "execution_count": null,
   "id": "4554daf7",
   "metadata": {},
   "outputs": [],
   "source": [
    "temp_dictionary05, user_means05 = make_user_dictionaries('05')\n",
    "\n",
    "real_user_ratings = pd.DataFrame.from_dict(temp_dictionary05).T\n",
    "\n",
    "real_user_ratings.reset_index(inplace=True)\n",
    "real_user_ratings.rename(columns={'index':'UserID'}, inplace=True)\n",
    "real_user_ratings_long_05 = real_user_ratings.melt(id_vars='UserID', var_name='BGGId', value_name='Rating').dropna()\n",
    "real_user_ratings_long_05.sort_values('UserID', inplace=True)\n",
    "real_user_ratings_long_05.reset_index(drop=True, inplace=True)\n",
    "\n",
    "del real_user_ratings\n",
    "\n",
    "gc.collect()"
   ]
  },
  {
   "cell_type": "code",
   "execution_count": null,
   "id": "cb650934",
   "metadata": {},
   "outputs": [],
   "source": [
    "temp_dictionary06, user_means06 = make_user_dictionaries('06')\n",
    "\n",
    "real_user_ratings = pd.DataFrame.from_dict(temp_dictionary06).T\n",
    "\n",
    "real_user_ratings.reset_index(inplace=True)\n",
    "real_user_ratings.rename(columns={'index':'UserID'}, inplace=True)\n",
    "real_user_ratings_long_06 = real_user_ratings.melt(id_vars='UserID', var_name='BGGId', value_name='Rating').dropna()\n",
    "real_user_ratings_long_06.sort_values('UserID', inplace=True)\n",
    "real_user_ratings_long_06.reset_index(drop=True, inplace=True)\n",
    "\n",
    "del real_user_ratings\n",
    "\n",
    "gc.collect()"
   ]
  },
  {
   "cell_type": "markdown",
   "id": "8abdad23",
   "metadata": {},
   "source": [
    "### Lookup Dictionary"
   ]
  },
  {
   "cell_type": "code",
   "execution_count": 122,
   "id": "aa28aa41",
   "metadata": {},
   "outputs": [],
   "source": [
    "real_user_ratings_dictionary_scaled = {}\n",
    "real_user_ratings_dictionary_scaled.update(temp_dictionary01)\n",
    "real_user_ratings_dictionary_scaled.update(temp_dictionary02)\n",
    "real_user_ratings_dictionary_scaled.update(temp_dictionary03)\n",
    "real_user_ratings_dictionary_scaled.update(temp_dictionary04)\n",
    "real_user_ratings_dictionary_scaled.update(temp_dictionary05)\n",
    "real_user_ratings_dictionary_scaled.update(temp_dictionary06)"
   ]
  },
  {
   "cell_type": "code",
   "execution_count": 125,
   "id": "cb4cf95d",
   "metadata": {},
   "outputs": [
    {
     "data": {
      "text/plain": [
       "102460"
      ]
     },
     "execution_count": 125,
     "metadata": {},
     "output_type": "execute_result"
    }
   ],
   "source": [
    "len(real_user_ratings_dictionary_scaled)"
   ]
  },
  {
   "cell_type": "code",
   "execution_count": null,
   "id": "f858fa56",
   "metadata": {},
   "outputs": [],
   "source": [
    "with open('real_user_ratings_dictionary_scaled.json', 'w') as convert_file:\n",
    "     convert_file.write(json.dumps(real_user_ratings_dictionary_scaled))"
   ]
  },
  {
   "cell_type": "code",
   "execution_count": null,
   "id": "a054f7bb",
   "metadata": {},
   "outputs": [],
   "source": [
    "# Opening JSON file\n",
    "with open('real_user_ratings_dictionary_dump.json') as json_file:\n",
    "    real_user_ratings_dictionary = json.load(json_file)"
   ]
  },
  {
   "cell_type": "markdown",
   "id": "bd689103",
   "metadata": {},
   "source": [
    "### Longform DF"
   ]
  },
  {
   "cell_type": "code",
   "execution_count": null,
   "id": "097cbf0a",
   "metadata": {},
   "outputs": [],
   "source": [
    "real_user_ratings_long_scaled = pd.concat([real_user_ratings_long_01, real_user_ratings_long_02, real_user_ratings_long_03, real_user_ratings_long_04, real_user_ratings_long_05, real_user_ratings_long_06], ignore_index=True)"
   ]
  },
  {
   "cell_type": "code",
   "execution_count": null,
   "id": "73d4ec95",
   "metadata": {},
   "outputs": [],
   "source": [
    "real_user_ratings_long_scaled.shape"
   ]
  },
  {
   "cell_type": "code",
   "execution_count": null,
   "id": "f66d47e7",
   "metadata": {},
   "outputs": [],
   "source": [
    "real_user_ratings_long_scaled.to_pickle('real_user_ratings_long_scaled.pkl')"
   ]
  },
  {
   "cell_type": "markdown",
   "id": "e9170a2b",
   "metadata": {},
   "source": [
    "# Build Dictionary of Synthetic Ratings"
   ]
  },
  {
   "cell_type": "markdown",
   "id": "bc5d59fc",
   "metadata": {},
   "source": [
    "## Scaled Ratings"
   ]
  },
  {
   "cell_type": "markdown",
   "id": "bcf1294c",
   "metadata": {},
   "source": [
    "### Lookup Dictionary"
   ]
  },
  {
   "cell_type": "code",
   "execution_count": 10,
   "id": "9f0ad18b",
   "metadata": {},
   "outputs": [],
   "source": [
    "# Opening JSON file\n",
    "with open('synthetic_ratings/users_dump_syntheticratings01.json') as json_file:\n",
    "    users_dump_syntheticratings01 = json.load(json_file)\n",
    "with open('synthetic_ratings/users_dump_syntheticratings02.json') as json_file:\n",
    "    users_dump_syntheticratings02 = json.load(json_file)\n",
    "with open('synthetic_ratings/users_dump_syntheticratings03.json') as json_file:\n",
    "    users_dump_syntheticratings03 = json.load(json_file)\n",
    "with open('synthetic_ratings/users_dump_syntheticratings04.json') as json_file:\n",
    "    users_dump_syntheticratings04 = json.load(json_file)\n",
    "with open('synthetic_ratings/users_dump_syntheticratings05.json') as json_file:\n",
    "    users_dump_syntheticratings05 = json.load(json_file)\n",
    "with open('synthetic_ratings/users_dump_syntheticratings06.json') as json_file:\n",
    "    users_dump_syntheticratings06 = json.load(json_file)\n",
    "with open('synthetic_ratings/users_dump_syntheticratings07.json') as json_file:\n",
    "    users_dump_syntheticratings07 = json.load(json_file)\n",
    "with open('synthetic_ratings/users_dump_syntheticratings08.json') as json_file:\n",
    "    users_dump_syntheticratings08 = json.load(json_file)\n",
    "with open('synthetic_ratings/users_dump_syntheticratings09.json') as json_file:\n",
    "    users_dump_syntheticratings09 = json.load(json_file)"
   ]
  },
  {
   "cell_type": "code",
   "execution_count": 12,
   "id": "48ebeb78",
   "metadata": {},
   "outputs": [],
   "source": [
    "synth_user_ratings_dictionary_scaled = {}\n",
    "synth_user_ratings_dictionary_scaled.update(users_dump_syntheticratings01)\n",
    "synth_user_ratings_dictionary_scaled.update(users_dump_syntheticratings02)\n",
    "synth_user_ratings_dictionary_scaled.update(users_dump_syntheticratings03)\n",
    "synth_user_ratings_dictionary_scaled.update(users_dump_syntheticratings04)\n",
    "synth_user_ratings_dictionary_scaled.update(users_dump_syntheticratings05)\n",
    "synth_user_ratings_dictionary_scaled.update(users_dump_syntheticratings06)\n",
    "synth_user_ratings_dictionary_scaled.update(users_dump_syntheticratings07)\n",
    "synth_user_ratings_dictionary_scaled.update(users_dump_syntheticratings08)\n",
    "synth_user_ratings_dictionary_scaled.update(users_dump_syntheticratings09)"
   ]
  },
  {
   "cell_type": "code",
   "execution_count": 13,
   "id": "f0a57a33",
   "metadata": {},
   "outputs": [
    {
     "data": {
      "text/plain": [
       "102460"
      ]
     },
     "execution_count": 13,
     "metadata": {},
     "output_type": "execute_result"
    }
   ],
   "source": [
    "len(synth_user_ratings_dictionary_scaled)"
   ]
  },
  {
   "cell_type": "code",
   "execution_count": 14,
   "id": "e3e26fa0",
   "metadata": {},
   "outputs": [],
   "source": [
    "with open('synth_user_ratings_dictionary_scaled.json', 'w') as convert_file:\n",
    "     convert_file.write(json.dumps(synth_user_ratings_dictionary_scaled))"
   ]
  },
  {
   "cell_type": "code",
   "execution_count": 15,
   "id": "029fa744",
   "metadata": {},
   "outputs": [
    {
     "data": {
      "text/plain": [
       "21"
      ]
     },
     "execution_count": 15,
     "metadata": {},
     "output_type": "execute_result"
    }
   ],
   "source": [
    "del users_dump_syntheticratings01\n",
    "del users_dump_syntheticratings02\n",
    "del users_dump_syntheticratings03\n",
    "del users_dump_syntheticratings04\n",
    "del users_dump_syntheticratings05\n",
    "del users_dump_syntheticratings06\n",
    "del users_dump_syntheticratings07\n",
    "del users_dump_syntheticratings08\n",
    "del users_dump_syntheticratings09\n",
    "\n",
    "del synth_user_ratings_dictionary_scaled\n",
    "\n",
    "gc.collect()"
   ]
  },
  {
   "cell_type": "markdown",
   "id": "5d196fae",
   "metadata": {},
   "source": [
    "### Longform DF"
   ]
  },
  {
   "cell_type": "code",
   "execution_count": 16,
   "id": "0a307385",
   "metadata": {},
   "outputs": [],
   "source": [
    "synthetic01 = pd.read_pickle('synthetic_ratings/synthetic_ratings_01.pkl')\n",
    "synthetic02 = pd.read_pickle('synthetic_ratings/synthetic_ratings_02.pkl')\n",
    "synthetic03 = pd.read_pickle('synthetic_ratings/synthetic_ratings_03.pkl')\n",
    "synthetic04 = pd.read_pickle('synthetic_ratings/synthetic_ratings_04.pkl')\n",
    "synthetic05 = pd.read_pickle('synthetic_ratings/synthetic_ratings_05.pkl')\n",
    "synthetic06 = pd.read_pickle('synthetic_ratings/synthetic_ratings_06.pkl')\n",
    "synthetic07 = pd.read_pickle('synthetic_ratings/synthetic_ratings_07.pkl')\n",
    "synthetic08 = pd.read_pickle('synthetic_ratings/synthetic_ratings_08.pkl')\n",
    "synthetic09 = pd.read_pickle('synthetic_ratings/synthetic_ratings_09.pkl')"
   ]
  },
  {
   "cell_type": "code",
   "execution_count": 17,
   "id": "02a26cf6",
   "metadata": {},
   "outputs": [],
   "source": [
    "synth_user_ratings_long_scaled = pd.concat([synthetic01, synthetic02, synthetic03, synthetic04, synthetic05, synthetic06, synthetic07, synthetic08, synthetic09], ignore_index=True)"
   ]
  },
  {
   "cell_type": "code",
   "execution_count": 19,
   "id": "2b229b20",
   "metadata": {},
   "outputs": [
    {
     "data": {
      "text/plain": [
       "(53062675, 3)"
      ]
     },
     "execution_count": 19,
     "metadata": {},
     "output_type": "execute_result"
    }
   ],
   "source": [
    "synth_user_ratings_long_scaled.shape"
   ]
  },
  {
   "cell_type": "code",
   "execution_count": 20,
   "id": "c42bda38",
   "metadata": {},
   "outputs": [],
   "source": [
    "synth_user_ratings_long_scaled.to_pickle('synth_user_ratings_long_scaled.pkl')"
   ]
  },
  {
   "cell_type": "code",
   "execution_count": 21,
   "id": "1d0a907b",
   "metadata": {},
   "outputs": [
    {
     "data": {
      "text/plain": [
       "84"
      ]
     },
     "execution_count": 21,
     "metadata": {},
     "output_type": "execute_result"
    }
   ],
   "source": [
    "del synthetic01\n",
    "del synthetic02\n",
    "del synthetic03\n",
    "del synthetic04\n",
    "del synthetic05\n",
    "del synthetic06\n",
    "del synthetic07\n",
    "del synthetic08\n",
    "del synthetic09\n",
    "\n",
    "del synth_user_ratings_long_scaled\n",
    "\n",
    "gc.collect()"
   ]
  },
  {
   "cell_type": "markdown",
   "id": "335afb58",
   "metadata": {},
   "source": [
    "## Unscaled Ratings"
   ]
  },
  {
   "cell_type": "code",
   "execution_count": 4,
   "id": "33b8f068",
   "metadata": {},
   "outputs": [],
   "source": [
    "with open('users_dump_means.json') as json_file:\n",
    "    user_means = json.load(json_file)"
   ]
  },
  {
   "cell_type": "markdown",
   "id": "b4d89380",
   "metadata": {},
   "source": [
    "### Lookup Dictionary"
   ]
  },
  {
   "cell_type": "code",
   "execution_count": 5,
   "id": "586acc6a",
   "metadata": {},
   "outputs": [],
   "source": [
    "# Opening JSON file\n",
    "with open('synthetic_ratings/users_dump_syntheticratings01.json') as json_file:\n",
    "    users_dump_syntheticratings01 = json.load(json_file)\n",
    "with open('synthetic_ratings/users_dump_syntheticratings02.json') as json_file:\n",
    "    users_dump_syntheticratings02 = json.load(json_file)\n",
    "with open('synthetic_ratings/users_dump_syntheticratings03.json') as json_file:\n",
    "    users_dump_syntheticratings03 = json.load(json_file)\n",
    "with open('synthetic_ratings/users_dump_syntheticratings04.json') as json_file:\n",
    "    users_dump_syntheticratings04 = json.load(json_file)\n",
    "with open('synthetic_ratings/users_dump_syntheticratings05.json') as json_file:\n",
    "    users_dump_syntheticratings05 = json.load(json_file)\n",
    "with open('synthetic_ratings/users_dump_syntheticratings06.json') as json_file:\n",
    "    users_dump_syntheticratings06 = json.load(json_file)\n",
    "with open('synthetic_ratings/users_dump_syntheticratings07.json') as json_file:\n",
    "    users_dump_syntheticratings07 = json.load(json_file)\n",
    "with open('synthetic_ratings/users_dump_syntheticratings08.json') as json_file:\n",
    "    users_dump_syntheticratings08 = json.load(json_file)\n",
    "with open('synthetic_ratings/users_dump_syntheticratings09.json') as json_file:\n",
    "    users_dump_syntheticratings09 = json.load(json_file)"
   ]
  },
  {
   "cell_type": "code",
   "execution_count": 6,
   "id": "7419a0b4",
   "metadata": {},
   "outputs": [],
   "source": [
    "for user in users_dump_syntheticratings01:\n",
    "    user_mean = user_means[user]\n",
    "    for item in users_dump_syntheticratings01[user]:\n",
    "        users_dump_syntheticratings01[user][item] += user_mean   "
   ]
  },
  {
   "cell_type": "code",
   "execution_count": 7,
   "id": "86428b69",
   "metadata": {},
   "outputs": [],
   "source": [
    "for user in users_dump_syntheticratings02:\n",
    "    user_mean = user_means[user]\n",
    "    for item in users_dump_syntheticratings02[user]:\n",
    "        users_dump_syntheticratings02[user][item] += user_mean"
   ]
  },
  {
   "cell_type": "code",
   "execution_count": 8,
   "id": "87f11cbb",
   "metadata": {},
   "outputs": [],
   "source": [
    "for user in users_dump_syntheticratings03:\n",
    "    user_mean = user_means[user]\n",
    "    for item in users_dump_syntheticratings03[user]:\n",
    "        users_dump_syntheticratings03[user][item] += user_mean"
   ]
  },
  {
   "cell_type": "code",
   "execution_count": 9,
   "id": "a4901bb1",
   "metadata": {},
   "outputs": [],
   "source": [
    "for user in users_dump_syntheticratings04:\n",
    "    user_mean = user_means[user]\n",
    "    for item in users_dump_syntheticratings04[user]:\n",
    "        users_dump_syntheticratings04[user][item] += user_mean"
   ]
  },
  {
   "cell_type": "code",
   "execution_count": 10,
   "id": "811d8406",
   "metadata": {},
   "outputs": [],
   "source": [
    "for user in users_dump_syntheticratings05:\n",
    "    user_mean = user_means[user]\n",
    "    for item in users_dump_syntheticratings05[user]:\n",
    "        users_dump_syntheticratings05[user][item] += user_mean"
   ]
  },
  {
   "cell_type": "code",
   "execution_count": 11,
   "id": "37984363",
   "metadata": {},
   "outputs": [],
   "source": [
    "for user in users_dump_syntheticratings06:\n",
    "    user_mean = user_means[user]\n",
    "    for item in users_dump_syntheticratings06[user]:\n",
    "        users_dump_syntheticratings06[user][item] += user_mean"
   ]
  },
  {
   "cell_type": "code",
   "execution_count": 12,
   "id": "d877c413",
   "metadata": {},
   "outputs": [],
   "source": [
    "for user in users_dump_syntheticratings07:\n",
    "    user_mean = user_means[user]\n",
    "    for item in users_dump_syntheticratings07[user]:\n",
    "        users_dump_syntheticratings07[user][item] += user_mean"
   ]
  },
  {
   "cell_type": "code",
   "execution_count": 13,
   "id": "14aa362c",
   "metadata": {},
   "outputs": [],
   "source": [
    "for user in users_dump_syntheticratings08:\n",
    "    user_mean = user_means[user]\n",
    "    for item in users_dump_syntheticratings08[user]:\n",
    "        users_dump_syntheticratings08[user][item] += user_mean"
   ]
  },
  {
   "cell_type": "code",
   "execution_count": 14,
   "id": "88a16854",
   "metadata": {},
   "outputs": [],
   "source": [
    "for user in users_dump_syntheticratings09:\n",
    "    user_mean = user_means[user]\n",
    "    for item in users_dump_syntheticratings09[user]:\n",
    "        users_dump_syntheticratings09[user][item] += user_mean"
   ]
  },
  {
   "cell_type": "code",
   "execution_count": 15,
   "id": "7c7ecc25",
   "metadata": {},
   "outputs": [],
   "source": [
    "synth_user_ratings_dictionary_unscaled = {}\n",
    "synth_user_ratings_dictionary_unscaled.update(users_dump_syntheticratings01)\n",
    "synth_user_ratings_dictionary_unscaled.update(users_dump_syntheticratings02)\n",
    "synth_user_ratings_dictionary_unscaled.update(users_dump_syntheticratings03)\n",
    "synth_user_ratings_dictionary_unscaled.update(users_dump_syntheticratings04)\n",
    "synth_user_ratings_dictionary_unscaled.update(users_dump_syntheticratings05)\n",
    "synth_user_ratings_dictionary_unscaled.update(users_dump_syntheticratings06)\n",
    "synth_user_ratings_dictionary_unscaled.update(users_dump_syntheticratings07)\n",
    "synth_user_ratings_dictionary_unscaled.update(users_dump_syntheticratings08)\n",
    "synth_user_ratings_dictionary_unscaled.update(users_dump_syntheticratings09)"
   ]
  },
  {
   "cell_type": "code",
   "execution_count": 17,
   "id": "5fe99f8b",
   "metadata": {},
   "outputs": [
    {
     "data": {
      "text/plain": [
       "84"
      ]
     },
     "execution_count": 17,
     "metadata": {},
     "output_type": "execute_result"
    }
   ],
   "source": [
    "del users_dump_syntheticratings01\n",
    "del users_dump_syntheticratings02\n",
    "del users_dump_syntheticratings03\n",
    "del users_dump_syntheticratings04\n",
    "del users_dump_syntheticratings05\n",
    "del users_dump_syntheticratings06\n",
    "del users_dump_syntheticratings07\n",
    "del users_dump_syntheticratings08\n",
    "del users_dump_syntheticratings09\n",
    "del user_means\n",
    "\n",
    "gc.collect()"
   ]
  },
  {
   "cell_type": "code",
   "execution_count": 20,
   "id": "fd2e0d73",
   "metadata": {},
   "outputs": [
    {
     "ename": "MemoryError",
     "evalue": "",
     "output_type": "error",
     "traceback": [
      "\u001b[1;31m---------------------------------------------------------------------------\u001b[0m",
      "\u001b[1;31mMemoryError\u001b[0m                               Traceback (most recent call last)",
      "\u001b[1;32m~\\AppData\\Local\\Temp/ipykernel_25312/2272567297.py\u001b[0m in \u001b[0;36m<module>\u001b[1;34m\u001b[0m\n\u001b[0;32m      1\u001b[0m \u001b[1;32mwith\u001b[0m \u001b[0mopen\u001b[0m\u001b[1;33m(\u001b[0m\u001b[1;34m'synth_user_ratings_dictionary_unscaled.json'\u001b[0m\u001b[1;33m,\u001b[0m \u001b[1;34m'w'\u001b[0m\u001b[1;33m)\u001b[0m \u001b[1;32mas\u001b[0m \u001b[0mconvert_file\u001b[0m\u001b[1;33m:\u001b[0m\u001b[1;33m\u001b[0m\u001b[1;33m\u001b[0m\u001b[0m\n\u001b[1;32m----> 2\u001b[1;33m      \u001b[0mconvert_file\u001b[0m\u001b[1;33m.\u001b[0m\u001b[0mwrite\u001b[0m\u001b[1;33m(\u001b[0m\u001b[0mjson\u001b[0m\u001b[1;33m.\u001b[0m\u001b[0mdumps\u001b[0m\u001b[1;33m(\u001b[0m\u001b[0msynth_user_ratings_dictionary_unscaled\u001b[0m\u001b[1;33m)\u001b[0m\u001b[1;33m)\u001b[0m\u001b[1;33m\u001b[0m\u001b[1;33m\u001b[0m\u001b[0m\n\u001b[0m",
      "\u001b[1;32m~\\miniconda3\\envs\\cpu\\lib\\json\\__init__.py\u001b[0m in \u001b[0;36mdumps\u001b[1;34m(obj, skipkeys, ensure_ascii, check_circular, allow_nan, cls, indent, separators, default, sort_keys, **kw)\u001b[0m\n\u001b[0;32m    229\u001b[0m         \u001b[0mcls\u001b[0m \u001b[1;32mis\u001b[0m \u001b[1;32mNone\u001b[0m \u001b[1;32mand\u001b[0m \u001b[0mindent\u001b[0m \u001b[1;32mis\u001b[0m \u001b[1;32mNone\u001b[0m \u001b[1;32mand\u001b[0m \u001b[0mseparators\u001b[0m \u001b[1;32mis\u001b[0m \u001b[1;32mNone\u001b[0m \u001b[1;32mand\u001b[0m\u001b[1;33m\u001b[0m\u001b[1;33m\u001b[0m\u001b[0m\n\u001b[0;32m    230\u001b[0m         default is None and not sort_keys and not kw):\n\u001b[1;32m--> 231\u001b[1;33m         \u001b[1;32mreturn\u001b[0m \u001b[0m_default_encoder\u001b[0m\u001b[1;33m.\u001b[0m\u001b[0mencode\u001b[0m\u001b[1;33m(\u001b[0m\u001b[0mobj\u001b[0m\u001b[1;33m)\u001b[0m\u001b[1;33m\u001b[0m\u001b[1;33m\u001b[0m\u001b[0m\n\u001b[0m\u001b[0;32m    232\u001b[0m     \u001b[1;32mif\u001b[0m \u001b[0mcls\u001b[0m \u001b[1;32mis\u001b[0m \u001b[1;32mNone\u001b[0m\u001b[1;33m:\u001b[0m\u001b[1;33m\u001b[0m\u001b[1;33m\u001b[0m\u001b[0m\n\u001b[0;32m    233\u001b[0m         \u001b[0mcls\u001b[0m \u001b[1;33m=\u001b[0m \u001b[0mJSONEncoder\u001b[0m\u001b[1;33m\u001b[0m\u001b[1;33m\u001b[0m\u001b[0m\n",
      "\u001b[1;32m~\\miniconda3\\envs\\cpu\\lib\\json\\encoder.py\u001b[0m in \u001b[0;36mencode\u001b[1;34m(self, o)\u001b[0m\n\u001b[0;32m    197\u001b[0m         \u001b[1;31m# exceptions aren't as detailed.  The list call should be roughly\u001b[0m\u001b[1;33m\u001b[0m\u001b[1;33m\u001b[0m\u001b[1;33m\u001b[0m\u001b[0m\n\u001b[0;32m    198\u001b[0m         \u001b[1;31m# equivalent to the PySequence_Fast that ''.join() would do.\u001b[0m\u001b[1;33m\u001b[0m\u001b[1;33m\u001b[0m\u001b[1;33m\u001b[0m\u001b[0m\n\u001b[1;32m--> 199\u001b[1;33m         \u001b[0mchunks\u001b[0m \u001b[1;33m=\u001b[0m \u001b[0mself\u001b[0m\u001b[1;33m.\u001b[0m\u001b[0miterencode\u001b[0m\u001b[1;33m(\u001b[0m\u001b[0mo\u001b[0m\u001b[1;33m,\u001b[0m \u001b[0m_one_shot\u001b[0m\u001b[1;33m=\u001b[0m\u001b[1;32mTrue\u001b[0m\u001b[1;33m)\u001b[0m\u001b[1;33m\u001b[0m\u001b[1;33m\u001b[0m\u001b[0m\n\u001b[0m\u001b[0;32m    200\u001b[0m         \u001b[1;32mif\u001b[0m \u001b[1;32mnot\u001b[0m \u001b[0misinstance\u001b[0m\u001b[1;33m(\u001b[0m\u001b[0mchunks\u001b[0m\u001b[1;33m,\u001b[0m \u001b[1;33m(\u001b[0m\u001b[0mlist\u001b[0m\u001b[1;33m,\u001b[0m \u001b[0mtuple\u001b[0m\u001b[1;33m)\u001b[0m\u001b[1;33m)\u001b[0m\u001b[1;33m:\u001b[0m\u001b[1;33m\u001b[0m\u001b[1;33m\u001b[0m\u001b[0m\n\u001b[0;32m    201\u001b[0m             \u001b[0mchunks\u001b[0m \u001b[1;33m=\u001b[0m \u001b[0mlist\u001b[0m\u001b[1;33m(\u001b[0m\u001b[0mchunks\u001b[0m\u001b[1;33m)\u001b[0m\u001b[1;33m\u001b[0m\u001b[1;33m\u001b[0m\u001b[0m\n",
      "\u001b[1;32m~\\miniconda3\\envs\\cpu\\lib\\json\\encoder.py\u001b[0m in \u001b[0;36miterencode\u001b[1;34m(self, o, _one_shot)\u001b[0m\n\u001b[0;32m    255\u001b[0m                 \u001b[0mself\u001b[0m\u001b[1;33m.\u001b[0m\u001b[0mkey_separator\u001b[0m\u001b[1;33m,\u001b[0m \u001b[0mself\u001b[0m\u001b[1;33m.\u001b[0m\u001b[0mitem_separator\u001b[0m\u001b[1;33m,\u001b[0m \u001b[0mself\u001b[0m\u001b[1;33m.\u001b[0m\u001b[0msort_keys\u001b[0m\u001b[1;33m,\u001b[0m\u001b[1;33m\u001b[0m\u001b[1;33m\u001b[0m\u001b[0m\n\u001b[0;32m    256\u001b[0m                 self.skipkeys, _one_shot)\n\u001b[1;32m--> 257\u001b[1;33m         \u001b[1;32mreturn\u001b[0m \u001b[0m_iterencode\u001b[0m\u001b[1;33m(\u001b[0m\u001b[0mo\u001b[0m\u001b[1;33m,\u001b[0m \u001b[1;36m0\u001b[0m\u001b[1;33m)\u001b[0m\u001b[1;33m\u001b[0m\u001b[1;33m\u001b[0m\u001b[0m\n\u001b[0m\u001b[0;32m    258\u001b[0m \u001b[1;33m\u001b[0m\u001b[0m\n\u001b[0;32m    259\u001b[0m def _make_iterencode(markers, _default, _encoder, _indent, _floatstr,\n",
      "\u001b[1;31mMemoryError\u001b[0m: "
     ]
    }
   ],
   "source": [
    "with open('synth_user_ratings_dictionary_unscaled.json', 'w') as convert_file:\n",
    "     convert_file.write(json.dumps(synth_user_ratings_dictionary_unscaled))"
   ]
  },
  {
   "cell_type": "markdown",
   "id": "71ec0cfe",
   "metadata": {},
   "source": [
    "### Longform DF"
   ]
  },
  {
   "cell_type": "code",
   "execution_count": null,
   "id": "91872bf8",
   "metadata": {},
   "outputs": [],
   "source": [
    "synth_user_ratings = pd.DataFrame.from_dict(users_dump_syntheticratings01).T\n",
    "\n",
    "synth_user_ratings.reset_index(inplace=True)\n",
    "synth_user_ratings.rename(columns={'index':'UserID'}, inplace=True)\n",
    "synth_user_ratings_long_01 = synth_user_ratings.melt(id_vars='UserID', var_name='BGGId', value_name='Rating').dropna()\n",
    "synth_user_ratings_long_01.sort_values('UserID', inplace=True)\n",
    "synth_user_ratings_long_01.reset_index(drop=True, inplace=True)\n",
    "\n",
    "del synth_user_ratings\n",
    "\n",
    "gc.collect()"
   ]
  },
  {
   "cell_type": "code",
   "execution_count": null,
   "id": "9b93a7fd",
   "metadata": {},
   "outputs": [],
   "source": [
    "synth_user_ratings = pd.DataFrame.from_dict(users_dump_syntheticratings02).T\n",
    "\n",
    "synth_user_ratings.reset_index(inplace=True)\n",
    "synth_user_ratings.rename(columns={'index':'UserID'}, inplace=True)\n",
    "synth_user_ratings_long_02 = synth_user_ratings.melt(id_vars='UserID', var_name='BGGId', value_name='Rating').dropna()\n",
    "synth_user_ratings_long_02.sort_values('UserID', inplace=True)\n",
    "synth_user_ratings_long_02.reset_index(drop=True, inplace=True)\n",
    "\n",
    "del synth_user_ratings\n",
    "\n",
    "gc.collect()"
   ]
  },
  {
   "cell_type": "code",
   "execution_count": null,
   "id": "b87b16c3",
   "metadata": {},
   "outputs": [],
   "source": [
    "synth_user_ratings = pd.DataFrame.from_dict(users_dump_syntheticratings03).T\n",
    "\n",
    "synth_user_ratings.reset_index(inplace=True)\n",
    "synth_user_ratings.rename(columns={'index':'UserID'}, inplace=True)\n",
    "synth_user_ratings_long_03 = synth_user_ratings.melt(id_vars='UserID', var_name='BGGId', value_name='Rating').dropna()\n",
    "synth_user_ratings_long_03.sort_values('UserID', inplace=True)\n",
    "synth_user_ratings_long_03.reset_index(drop=True, inplace=True)\n",
    "\n",
    "del synth_user_ratings\n",
    "\n",
    "gc.collect()"
   ]
  },
  {
   "cell_type": "code",
   "execution_count": null,
   "id": "98642b6f",
   "metadata": {},
   "outputs": [],
   "source": [
    "synth_user_ratings = pd.DataFrame.from_dict(users_dump_syntheticratings04).T\n",
    "\n",
    "synth_user_ratings.reset_index(inplace=True)\n",
    "synth_user_ratings.rename(columns={'index':'UserID'}, inplace=True)\n",
    "synth_user_ratings_long_04 = synth_user_ratings.melt(id_vars='UserID', var_name='BGGId', value_name='Rating').dropna()\n",
    "synth_user_ratings_long_04.sort_values('UserID', inplace=True)\n",
    "synth_user_ratings_long_04.reset_index(drop=True, inplace=True)\n",
    "\n",
    "del synth_user_ratings\n",
    "\n",
    "gc.collect()"
   ]
  },
  {
   "cell_type": "code",
   "execution_count": null,
   "id": "a3965537",
   "metadata": {},
   "outputs": [],
   "source": [
    "synth_user_ratings = pd.DataFrame.from_dict(users_dump_syntheticratings05).T\n",
    "\n",
    "synth_user_ratings.reset_index(inplace=True)\n",
    "synth_user_ratings.rename(columns={'index':'UserID'}, inplace=True)\n",
    "synth_user_ratings_long_05 = synth_user_ratings.melt(id_vars='UserID', var_name='BGGId', value_name='Rating').dropna()\n",
    "synth_user_ratings_long_05.sort_values('UserID', inplace=True)\n",
    "synth_user_ratings_long_05.reset_index(drop=True, inplace=True)\n",
    "\n",
    "del synth_user_ratings\n",
    "\n",
    "gc.collect()"
   ]
  },
  {
   "cell_type": "code",
   "execution_count": null,
   "id": "6ddb54be",
   "metadata": {},
   "outputs": [],
   "source": [
    "synth_user_ratings = pd.DataFrame.from_dict(users_dump_syntheticratings06).T\n",
    "\n",
    "synth_user_ratings.reset_index(inplace=True)\n",
    "synth_user_ratings.rename(columns={'index':'UserID'}, inplace=True)\n",
    "synth_user_ratings_long_06 = synth_user_ratings.melt(id_vars='UserID', var_name='BGGId', value_name='Rating').dropna()\n",
    "synth_user_ratings_long_06.sort_values('UserID', inplace=True)\n",
    "synth_user_ratings_long_06.reset_index(drop=True, inplace=True)\n",
    "\n",
    "del synth_user_ratings\n",
    "\n",
    "gc.collect()"
   ]
  },
  {
   "cell_type": "code",
   "execution_count": null,
   "id": "803dc382",
   "metadata": {},
   "outputs": [],
   "source": [
    "synth_user_ratings = pd.DataFrame.from_dict(users_dump_syntheticratings07).T\n",
    "\n",
    "synth_user_ratings.reset_index(inplace=True)\n",
    "synth_user_ratings.rename(columns={'index':'UserID'}, inplace=True)\n",
    "synth_user_ratings_long_07 = synth_user_ratings.melt(id_vars='UserID', var_name='BGGId', value_name='Rating').dropna()\n",
    "synth_user_ratings_long_07.sort_values('UserID', inplace=True)\n",
    "synth_user_ratings_long_07.reset_index(drop=True, inplace=True)\n",
    "\n",
    "del synth_user_ratings\n",
    "\n",
    "gc.collect()"
   ]
  },
  {
   "cell_type": "code",
   "execution_count": null,
   "id": "26ff993b",
   "metadata": {},
   "outputs": [],
   "source": [
    "synth_user_ratings = pd.DataFrame.from_dict(users_dump_syntheticratings08).T\n",
    "\n",
    "synth_user_ratings.reset_index(inplace=True)\n",
    "synth_user_ratings.rename(columns={'index':'UserID'}, inplace=True)\n",
    "synth_user_ratings_long_08 = synth_user_ratings.melt(id_vars='UserID', var_name='BGGId', value_name='Rating').dropna()\n",
    "synth_user_ratings_long_08.sort_values('UserID', inplace=True)\n",
    "synth_user_ratings_long_08.reset_index(drop=True, inplace=True)\n",
    "\n",
    "del synth_user_ratings\n",
    "\n",
    "gc.collect()"
   ]
  },
  {
   "cell_type": "code",
   "execution_count": null,
   "id": "6a11da09",
   "metadata": {},
   "outputs": [],
   "source": [
    "synth_user_ratings = pd.DataFrame.from_dict(users_dump_syntheticratings09).T\n",
    "\n",
    "synth_user_ratings.reset_index(inplace=True)\n",
    "synth_user_ratings.rename(columns={'index':'UserID'}, inplace=True)\n",
    "synth_user_ratings_long_09 = synth_user_ratings.melt(id_vars='UserID', var_name='BGGId', value_name='Rating').dropna()\n",
    "synth_user_ratings_long_09.sort_values('UserID', inplace=True)\n",
    "synth_user_ratings_long_09.reset_index(drop=True, inplace=True)\n",
    "\n",
    "del synth_user_ratings\n",
    "\n",
    "gc.collect()"
   ]
  },
  {
   "cell_type": "code",
   "execution_count": 17,
   "id": "a4f4ca10",
   "metadata": {},
   "outputs": [],
   "source": [
    "synth_user_ratings_long_unscaled = pd.concat([synth_user_ratings_long_01, synth_user_ratings_long_02, synth_user_ratings_long_03, synth_user_ratings_long_04, synth_user_ratings_long_05, synth_user_ratings_long_06, synth_user_ratings_long_07, synth_user_ratings_long_08, synth_user_ratings_long_09], ignore_index=True)"
   ]
  },
  {
   "cell_type": "code",
   "execution_count": null,
   "id": "118d2a84",
   "metadata": {},
   "outputs": [],
   "source": [
    "synth_user_ratings_long_unscaled.shape"
   ]
  },
  {
   "cell_type": "code",
   "execution_count": null,
   "id": "04530751",
   "metadata": {},
   "outputs": [],
   "source": [
    "synth_user_ratings_long_unscaled.to_pickle('synth_user_ratings_long_unscaled.pkl')"
   ]
  },
  {
   "cell_type": "markdown",
   "id": "193cc63b",
   "metadata": {},
   "source": [
    "# Build User Means Dictionary"
   ]
  },
  {
   "cell_type": "code",
   "execution_count": null,
   "id": "bde8aa6b",
   "metadata": {},
   "outputs": [],
   "source": [
    "user_means = {}\n",
    "\n",
    "user_means.update(user_means01)\n",
    "user_means.update(user_means02)\n",
    "user_means.update(user_means03)\n",
    "user_means.update(user_means04)\n",
    "user_means.update(user_means05)\n",
    "user_means.update(user_means06)"
   ]
  },
  {
   "cell_type": "code",
   "execution_count": null,
   "id": "dd633af6",
   "metadata": {},
   "outputs": [],
   "source": [
    "with open('users_dump_means.json', 'w') as convert_file:\n",
    "     convert_file.write(json.dumps(user_means))"
   ]
  },
  {
   "cell_type": "code",
   "execution_count": null,
   "id": "02c5d773",
   "metadata": {},
   "outputs": [],
   "source": [
    "del real_user_ratings\n",
    "del real_user_ratings_long\n",
    "gc.collect()"
   ]
  },
  {
   "cell_type": "code",
   "execution_count": null,
   "id": "9cf4c2b8",
   "metadata": {},
   "outputs": [],
   "source": [
    "user_means = pd.DataFrame.from_dict(user_means, columns=['user_mean'], orient='index')"
   ]
  },
  {
   "cell_type": "code",
   "execution_count": null,
   "id": "19358a7c",
   "metadata": {},
   "outputs": [],
   "source": [
    "user_means.to_pickle('user_means.pkl')"
   ]
  },
  {
   "cell_type": "code",
   "execution_count": 22,
   "id": "e85c1b18",
   "metadata": {},
   "outputs": [],
   "source": [
    "with open('users_dump_means.json') as json_file:\n",
    "    user_means = json.load(json_file)"
   ]
  },
  {
   "cell_type": "code",
   "execution_count": 23,
   "id": "78d87ac7",
   "metadata": {},
   "outputs": [
    {
     "data": {
      "text/plain": [
       "5.293032786885246"
      ]
     },
     "execution_count": 23,
     "metadata": {},
     "output_type": "execute_result"
    }
   ],
   "source": [
    "user_means['-Johnny-']"
   ]
  },
  {
   "cell_type": "code",
   "execution_count": null,
   "id": "77219d65",
   "metadata": {},
   "outputs": [],
   "source": []
  }
 ],
 "metadata": {
  "kernelspec": {
   "display_name": "Python 3 (ipykernel)",
   "language": "python",
   "name": "python3"
  },
  "language_info": {
   "codemirror_mode": {
    "name": "ipython",
    "version": 3
   },
   "file_extension": ".py",
   "mimetype": "text/x-python",
   "name": "python",
   "nbconvert_exporter": "python",
   "pygments_lexer": "ipython3",
   "version": "3.7.10"
  },
  "toc": {
   "base_numbering": 1,
   "nav_menu": {},
   "number_sections": true,
   "sideBar": true,
   "skip_h1_title": false,
   "title_cell": "Table of Contents",
   "title_sidebar": "Contents",
   "toc_cell": false,
   "toc_position": {
    "height": "calc(100% - 180px)",
    "left": "10px",
    "top": "150px",
    "width": "292.865px"
   },
   "toc_section_display": true,
   "toc_window_display": true
  }
 },
 "nbformat": 4,
 "nbformat_minor": 5
}
