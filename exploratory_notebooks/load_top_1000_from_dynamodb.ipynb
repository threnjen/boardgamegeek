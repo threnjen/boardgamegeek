{
 "cells": [
  {
   "cell_type": "code",
   "execution_count": 30,
   "metadata": {},
   "outputs": [],
   "source": [
    "import pandas as pd\n",
    "from config import CONFIGS\n",
    "import os\n",
    "import gc\n",
    "import boto3\n",
    "\n",
    "from utils.processing_functions import load_file_local_first, save_file_local_first"
   ]
  },
  {
   "cell_type": "code",
   "execution_count": 3,
   "metadata": {},
   "outputs": [],
   "source": [
    "ENVIRONMENT = os.environ.get(\"ENVIRONMENT\", \"dev\")\n",
    "S3_SCRAPER_BUCKET = CONFIGS[\"s3_scraper_bucket\"]\n",
    "GAME_CONFIGS = CONFIGS[\"games\"]\n",
    "RATINGS_CONFIGS = CONFIGS[\"ratings\"]\n",
    "IS_LOCAL = True if os.environ.get(\"IS_LOCAL\", \"False\").lower() == \"true\" else False"
   ]
  },
  {
   "cell_type": "code",
   "execution_count": 12,
   "metadata": {},
   "outputs": [],
   "source": [
    "def load_reduced_game_df():\n",
    "        print(f\"\\nLoading game data from {GAME_CONFIGS['clean_dfs_directory']}\")\n",
    "        game_df = load_file_local_first(\n",
    "            path=GAME_CONFIGS[\"clean_dfs_directory\"], file_name=\"games_clean.pkl\"\n",
    "        )\n",
    "\n",
    "        game_df_reduced = game_df.sort_values(\"BayesAvgRating\", ascending=False)[\n",
    "            0 : 1000\n",
    "        ]\n",
    "\n",
    "        del game_df\n",
    "        gc.collect()\n",
    "        print(\"Loaded and refined games data\")\n",
    "\n",
    "        return game_df_reduced"
   ]
  },
  {
   "cell_type": "code",
   "execution_count": null,
   "metadata": {},
   "outputs": [],
   "source": [
    "df = load_reduced_game_df()"
   ]
  },
  {
   "cell_type": "code",
   "execution_count": null,
   "metadata": {},
   "outputs": [],
   "source": [
    "df.shape"
   ]
  },
  {
   "cell_type": "code",
   "execution_count": null,
   "metadata": {},
   "outputs": [],
   "source": [
    "df.head()"
   ]
  },
  {
   "cell_type": "code",
   "execution_count": null,
   "metadata": {},
   "outputs": [],
   "source": [
    "game_ids = df[\"BGGId\"].values"
   ]
  },
  {
   "cell_type": "code",
   "execution_count": 18,
   "metadata": {},
   "outputs": [],
   "source": [
    "dynamodb_client = boto3.client(\"dynamodb\")\n",
    "item = dynamodb_client.get_item(\n",
    "                TableName=\"game_generated_descriptions\", Key={\"game_id\": {\"S\": \"224517\"}}\n",
    "            )[\"Item\"]"
   ]
  },
  {
   "cell_type": "code",
   "execution_count": null,
   "metadata": {},
   "outputs": [],
   "source": [
    "for game in game_ids:\n",
    "    print(f\"Getting data for game {game}\")\n",
    "\n",
    "    dynamodb_id = str(game)\n",
    "    try:\n",
    "        item = dynamodb_client.get_item(\n",
    "            TableName=\"game_generated_descriptions\", Key={\"game_id\": {\"S\": dynamodb_id}}\n",
    "        )[\"Item\"]\n",
    "        df.loc[df['BGGId'] == game, 'generated_pros'] = item['generated_pros']['S']\n",
    "        df.loc[df['BGGId'] == game, 'generated_cons'] = item['generated_cons']['S']\n",
    "        df.loc[df['BGGId'] == game, 'generated_description'] = item['generated_description']['S']\n",
    "    except Exception as e:\n",
    "        print(f\"Game {dynamodb_id} not found in dynamodb, Error: {e}\")\n"
   ]
  },
  {
   "cell_type": "code",
   "execution_count": null,
   "metadata": {},
   "outputs": [],
   "source": [
    "df.head()"
   ]
  },
  {
   "cell_type": "code",
   "execution_count": null,
   "metadata": {},
   "outputs": [],
   "source": [
    "save_file_local_first(path=GAME_CONFIGS[\"clean_dfs_directory\"], file_name=\"top_1000_with_attached_rag.pkl\", data=df)"
   ]
  },
  {
   "cell_type": "code",
   "execution_count": null,
   "metadata": {},
   "outputs": [],
   "source": []
  }
 ],
 "metadata": {
  "kernelspec": {
   "display_name": "boardgamegeek-ZH0FNRKg",
   "language": "python",
   "name": "python3"
  },
  "language_info": {
   "codemirror_mode": {
    "name": "ipython",
    "version": 3
   },
   "file_extension": ".py",
   "mimetype": "text/x-python",
   "name": "python",
   "nbconvert_exporter": "python",
   "pygments_lexer": "ipython3",
   "version": "3.12.6"
  }
 },
 "nbformat": 4,
 "nbformat_minor": 2
}
