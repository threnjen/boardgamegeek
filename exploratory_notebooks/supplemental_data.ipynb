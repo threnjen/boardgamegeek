{
 "cells": [
  {
   "cell_type": "code",
   "execution_count": 1,
   "metadata": {},
   "outputs": [],
   "source": [
    "import pandas as pd\n",
    "import matplotlib.pyplot as plt\n",
    "import gc"
   ]
  },
  {
   "cell_type": "code",
   "execution_count": 2,
   "metadata": {},
   "outputs": [],
   "source": [
    "# user_df = pd.read_csv(\"../data/prod/users/user_dfs_dirty/user_data.csv\", sep=\"\\t\", low_memory=False)\n",
    "user_df = pd.read_pickle(\"../data/prod/users/user_dfs_dirty/user_data.pkl\")\n",
    "# games_df = pd.read_csv(\"../data/prod/games/game_dfs_clean/games_clean.csv\", sep=\"\\t\", low_memory=False)"
   ]
  },
  {
   "cell_type": "code",
   "execution_count": 3,
   "metadata": {},
   "outputs": [
    {
     "data": {
      "text/plain": [
       "13141"
      ]
     },
     "execution_count": 3,
     "metadata": {},
     "output_type": "execute_result"
    }
   ],
   "source": [
    "len(user_df['rating'].unique())"
   ]
  },
  {
   "cell_type": "code",
   "execution_count": 4,
   "metadata": {},
   "outputs": [
    {
     "data": {
      "text/plain": [
       "94"
      ]
     },
     "execution_count": 4,
     "metadata": {},
     "output_type": "execute_result"
    }
   ],
   "source": [
    "user_df['rating'] = round(user_df['rating'], 1)\n",
    "len(user_df['rating'].unique())"
   ]
  },
  {
   "cell_type": "code",
   "execution_count": 5,
   "metadata": {},
   "outputs": [],
   "source": [
    "user_ratings_count_df = user_df.groupby('username').count()['rating']\n",
    "user_names_less_than_5 = user_ratings_count_df[user_ratings_count_df < 5].index\n",
    "user_df = user_df.drop(user_df[user_df['username'].isin(user_names_less_than_5)].index)"
   ]
  },
  {
   "cell_type": "code",
   "execution_count": 6,
   "metadata": {},
   "outputs": [
    {
     "name": "stdout",
     "output_type": "stream",
     "text": [
      "<class 'pandas.core.frame.DataFrame'>\n",
      "Index: 25655928 entries, 2 to 25996450\n",
      "Data columns (total 4 columns):\n",
      " #   Column    Dtype  \n",
      "---  ------    -----  \n",
      " 0   username  object \n",
      " 1   BGGId     int64  \n",
      " 2   rating    float64\n",
      " 3   value     object \n",
      "dtypes: float64(1), int64(1), object(2)\n",
      "memory usage: 978.7+ MB\n"
     ]
    }
   ],
   "source": [
    "user_df.info()"
   ]
  },
  {
   "cell_type": "code",
   "execution_count": 7,
   "metadata": {},
   "outputs": [
    {
     "data": {
      "text/html": [
       "<div>\n",
       "<style scoped>\n",
       "    .dataframe tbody tr th:only-of-type {\n",
       "        vertical-align: middle;\n",
       "    }\n",
       "\n",
       "    .dataframe tbody tr th {\n",
       "        vertical-align: top;\n",
       "    }\n",
       "\n",
       "    .dataframe thead th {\n",
       "        text-align: right;\n",
       "    }\n",
       "</style>\n",
       "<table border=\"1\" class=\"dataframe\">\n",
       "  <thead>\n",
       "    <tr style=\"text-align: right;\">\n",
       "      <th></th>\n",
       "      <th>BGGId</th>\n",
       "      <th>rating</th>\n",
       "    </tr>\n",
       "  </thead>\n",
       "  <tbody>\n",
       "    <tr>\n",
       "      <th>count</th>\n",
       "      <td>2.565593e+07</td>\n",
       "      <td>2.565593e+07</td>\n",
       "    </tr>\n",
       "    <tr>\n",
       "      <th>mean</th>\n",
       "      <td>1.416023e+05</td>\n",
       "      <td>7.127076e+00</td>\n",
       "    </tr>\n",
       "    <tr>\n",
       "      <th>std</th>\n",
       "      <td>1.121992e+05</td>\n",
       "      <td>1.558745e+00</td>\n",
       "    </tr>\n",
       "    <tr>\n",
       "      <th>min</th>\n",
       "      <td>1.000000e+00</td>\n",
       "      <td>0.000000e+00</td>\n",
       "    </tr>\n",
       "    <tr>\n",
       "      <th>25%</th>\n",
       "      <td>2.773900e+04</td>\n",
       "      <td>6.000000e+00</td>\n",
       "    </tr>\n",
       "    <tr>\n",
       "      <th>50%</th>\n",
       "      <td>1.465080e+05</td>\n",
       "      <td>7.000000e+00</td>\n",
       "    </tr>\n",
       "    <tr>\n",
       "      <th>75%</th>\n",
       "      <td>2.286870e+05</td>\n",
       "      <td>8.000000e+00</td>\n",
       "    </tr>\n",
       "    <tr>\n",
       "      <th>max</th>\n",
       "      <td>4.296530e+05</td>\n",
       "      <td>1.000000e+01</td>\n",
       "    </tr>\n",
       "  </tbody>\n",
       "</table>\n",
       "</div>"
      ],
      "text/plain": [
       "              BGGId        rating\n",
       "count  2.565593e+07  2.565593e+07\n",
       "mean   1.416023e+05  7.127076e+00\n",
       "std    1.121992e+05  1.558745e+00\n",
       "min    1.000000e+00  0.000000e+00\n",
       "25%    2.773900e+04  6.000000e+00\n",
       "50%    1.465080e+05  7.000000e+00\n",
       "75%    2.286870e+05  8.000000e+00\n",
       "max    4.296530e+05  1.000000e+01"
      ]
     },
     "execution_count": 7,
     "metadata": {},
     "output_type": "execute_result"
    }
   ],
   "source": [
    "user_df.describe()"
   ]
  },
  {
   "cell_type": "code",
   "execution_count": 8,
   "metadata": {},
   "outputs": [
    {
     "data": {
      "text/plain": [
       "350990"
      ]
     },
     "execution_count": 8,
     "metadata": {},
     "output_type": "execute_result"
    }
   ],
   "source": [
    "unique_users = list(user_df['username'].unique())\n",
    "len(unique_users)"
   ]
  },
  {
   "cell_type": "code",
   "execution_count": 9,
   "metadata": {},
   "outputs": [
    {
     "data": {
      "text/plain": [
       "<Axes: >"
      ]
     },
     "execution_count": 9,
     "metadata": {},
     "output_type": "execute_result"
    },
    {
     "data": {
      "image/png": "[encoded data removed]",
      "text/plain": [
       "<Figure size 640x480 with 1 Axes>"
      ]
     },
     "metadata": {},
     "output_type": "display_data"
    }
   ],
   "source": [
    "user_df['rating'].hist()"
   ]
  },
  {
   "cell_type": "code",
   "execution_count": 10,
   "metadata": {},
   "outputs": [
    {
     "data": {
      "text/plain": [
       "(np.float64(6.0),\n",
       " np.float64(8.0),\n",
       " np.float64(2.0),\n",
       " np.float64(4.5),\n",
       " np.float64(9.5))"
      ]
     },
     "execution_count": 10,
     "metadata": {},
     "output_type": "execute_result"
    }
   ],
   "source": [
    "Q1 = user_df['rating'].quantile(0.25)\n",
    "Q3 = user_df['rating'].quantile(0.75)\n",
    "IQR = Q3 - Q1\n",
    "\n",
    "lower_bound = Q1 - .75 * IQR\n",
    "upper_bound = Q3 + .75 * IQR\n",
    "\n",
    "Q1, Q3, IQR, lower_bound, upper_bound"
   ]
  },
  {
   "cell_type": "code",
   "execution_count": 11,
   "metadata": {},
   "outputs": [],
   "source": [
    "# # Group by username and evaluate criteria\n",
    "# user_criteria = user_df.groupby('username')['rating'].agg(\n",
    "#     all_above_upper=lambda x: (x > upper_bound).all(),\n",
    "#     all_below_lower=lambda x: (x < lower_bound).all(),\n",
    "#     all_outside_bounds=lambda x: ((x > upper_bound) | (x < lower_bound)).all()\n",
    "# )"
   ]
  },
  {
   "cell_type": "code",
   "execution_count": 12,
   "metadata": {},
   "outputs": [],
   "source": [
    "# # Identify users to exclude\n",
    "# users_to_exclude = user_criteria.query(\"all_above_upper or all_below_lower or all_outside_bounds\").index\n",
    "# users_to_exclude"
   ]
  },
  {
   "cell_type": "code",
   "execution_count": 13,
   "metadata": {},
   "outputs": [],
   "source": [
    "# # Filter out these users\n",
    "# filtered_df = user_df[~user_df['username'].isin(users_to_exclude)]\n",
    "\n",
    "# filtered_df.head()"
   ]
  },
  {
   "cell_type": "code",
   "execution_count": 14,
   "metadata": {},
   "outputs": [],
   "source": [
    "# excluded_df = user_df[user_df['username'].isin(users_to_exclude)]\n",
    "\n",
    "# excluded_df.head()"
   ]
  },
  {
   "cell_type": "code",
   "execution_count": 15,
   "metadata": {},
   "outputs": [],
   "source": [
    "# len(excluded_df)"
   ]
  },
  {
   "cell_type": "code",
   "execution_count": 16,
   "metadata": {},
   "outputs": [
    {
     "data": {
      "text/html": [
       "<div>\n",
       "<style scoped>\n",
       "    .dataframe tbody tr th:only-of-type {\n",
       "        vertical-align: middle;\n",
       "    }\n",
       "\n",
       "    .dataframe tbody tr th {\n",
       "        vertical-align: top;\n",
       "    }\n",
       "\n",
       "    .dataframe thead th {\n",
       "        text-align: right;\n",
       "    }\n",
       "</style>\n",
       "<table border=\"1\" class=\"dataframe\">\n",
       "  <thead>\n",
       "    <tr style=\"text-align: right;\">\n",
       "      <th></th>\n",
       "      <th>username</th>\n",
       "      <th>BGGId</th>\n",
       "      <th>rating</th>\n",
       "      <th>value</th>\n",
       "    </tr>\n",
       "  </thead>\n",
       "  <tbody>\n",
       "    <tr>\n",
       "      <th>12043050</th>\n",
       "      <td>Threnody</td>\n",
       "      <td>555</td>\n",
       "      <td>7.0</td>\n",
       "      <td>NaN</td>\n",
       "    </tr>\n",
       "    <tr>\n",
       "      <th>12043051</th>\n",
       "      <td>Threnody</td>\n",
       "      <td>891</td>\n",
       "      <td>6.0</td>\n",
       "      <td>The is obviously a party game.  With two peopl...</td>\n",
       "    </tr>\n",
       "    <tr>\n",
       "      <th>12043052</th>\n",
       "      <td>Threnody</td>\n",
       "      <td>278</td>\n",
       "      <td>6.0</td>\n",
       "      <td>I LOVE this game, but for some reason my husba...</td>\n",
       "    </tr>\n",
       "    <tr>\n",
       "      <th>12043053</th>\n",
       "      <td>Threnody</td>\n",
       "      <td>281259</td>\n",
       "      <td>8.0</td>\n",
       "      <td>NaN</td>\n",
       "    </tr>\n",
       "    <tr>\n",
       "      <th>12043054</th>\n",
       "      <td>Threnody</td>\n",
       "      <td>201808</td>\n",
       "      <td>7.0</td>\n",
       "      <td>NaN</td>\n",
       "    </tr>\n",
       "  </tbody>\n",
       "</table>\n",
       "</div>"
      ],
      "text/plain": [
       "          username   BGGId  rating  \\\n",
       "12043050  Threnody     555     7.0   \n",
       "12043051  Threnody     891     6.0   \n",
       "12043052  Threnody     278     6.0   \n",
       "12043053  Threnody  281259     8.0   \n",
       "12043054  Threnody  201808     7.0   \n",
       "\n",
       "                                                      value  \n",
       "12043050                                                NaN  \n",
       "12043051  The is obviously a party game.  With two peopl...  \n",
       "12043052  I LOVE this game, but for some reason my husba...  \n",
       "12043053                                                NaN  \n",
       "12043054                                                NaN  "
      ]
     },
     "execution_count": 16,
     "metadata": {},
     "output_type": "execute_result"
    }
   ],
   "source": [
    "user_df[user_df['username'] == 'Threnody'].head()"
   ]
  },
  {
   "cell_type": "code",
   "execution_count": 17,
   "metadata": {},
   "outputs": [],
   "source": [
    "user_df.to_pickle(\"../data/prod/users/user_dfs_clean/user_data.pkl\")"
   ]
  },
  {
   "cell_type": "code",
   "execution_count": 18,
   "metadata": {},
   "outputs": [],
   "source": [
    "user_df.to_csv(\"../data/prod/users/user_dfs_clean/user_data.csv\", sep=\"\\t\", index=False)"
   ]
  },
  {
   "cell_type": "code",
   "execution_count": null,
   "metadata": {},
   "outputs": [],
   "source": []
  }
 ],
 "metadata": {
  "kernelspec": {
   "display_name": "boardgamegeek-ZH0FNRKg",
   "language": "python",
   "name": "python3"
  },
  "language_info": {
   "codemirror_mode": {
    "name": "ipython",
    "version": 3
   },
   "file_extension": ".py",
   "mimetype": "text/x-python",
   "name": "python",
   "nbconvert_exporter": "python",
   "pygments_lexer": "ipython3",
   "version": "3.12.6"
  }
 },
 "nbformat": 4,
 "nbformat_minor": 2
}
