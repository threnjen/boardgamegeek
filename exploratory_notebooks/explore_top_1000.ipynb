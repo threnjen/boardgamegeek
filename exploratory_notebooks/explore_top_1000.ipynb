{
 "cells": [
  {
   "cell_type": "code",
   "execution_count": 68,
   "metadata": {},
   "outputs": [],
   "source": [
    "import pandas as pd\n",
    "from config import CONFIGS\n",
    "import os\n",
    "import re\n",
    "\n",
    "from utils.processing_functions import load_file_local_first, save_file_local_first\n",
    "from pydantic import BaseModel, ConfigDict\n",
    "from nltk.corpus import stopwords\n",
    "\n",
    "from typing import Tuple\n",
    "\n",
    "# hide warnings\n",
    "import warnings\n",
    "warnings.filterwarnings(\"ignore\")\n",
    "\n",
    "ENVIRONMENT = os.environ.get(\"ENVIRONMENT\", \"dev\")\n",
    "S3_SCRAPER_BUCKET = CONFIGS[\"s3_scraper_bucket\"]\n",
    "GAME_CONFIGS = CONFIGS[\"games\"]\n",
    "RATINGS_CONFIGS = CONFIGS[\"ratings\"]\n",
    "IS_LOCAL = True if os.environ.get(\"IS_LOCAL\", \"False\").lower() == \"true\" else False"
   ]
  },
  {
   "cell_type": "code",
   "execution_count": 161,
   "metadata": {},
   "outputs": [],
   "source": [
    "def clean_weird_characters(text):\n",
    "    text = text.replace(\"\\n\",\"\").replace(\"\\r\",\"\").replace(\"\\t\",\"\")\n",
    "    cleaned_text = re.sub(r\"[^a-zA-Z0-9:,.\\-\\s]\", \"\", text).strip()\n",
    "    return cleaned_text\n",
    "\n",
    "def filter_stopwords(text: str) -> str:\n",
    "    stop_words = set(stopwords.words(\"english\"))\n",
    "    word_tokens = text.split(\" \")\n",
    "    filtered_sentence = [w for w in word_tokens if not w.lower() in stop_words]\n",
    "    return \" \".join(filtered_sentence)\n",
    "\n",
    "def strip_common_gpt_text(text: str) -> str:\n",
    "    text = text.replace(\"many players appreciate games\", \"\")\n",
    "    text = text.replace(\"many players appreciate\", \"\")\n",
    "    text = text.replace(\"players noted\", \"\")\n",
    "    text = text.replace(\"players noted that\", \"\")\n",
    "    text = text.replace(\"game offers\", \"\")\n",
    "    text = text.replace(\"offers\", \"\")\n",
    "    text = text.replace(\"players appreciate\", \"\")\n",
    "    text = text.replace(\"players appreciate games\", \"\")\n",
    "    text = text.replace(\" s \", \"s \")\n",
    "    text = text.replace(\" p \", \"p \")\n",
    "    text = text.replace(\" 's\", \"s\")\n",
    "    text = text.replace(\"  \", \" \")\n",
    "    text = text.replace(\"vs.\", \"versus\")\n",
    "    return text\n",
    "\n",
    "def initial_components_processing(row) -> list:\n",
    "    row = re.sub('([a-z0-9])([A-Z])', r'\\1 \\2', row) # split words on Snake case\n",
    "    row = row.lower() # make row all lower case\n",
    "    row = strip_common_gpt_text(row) # get rid of common GPT text\n",
    "    row = re.sub(r'[^\\w\\s.,:]', '', row) # get rid of special characters except for periods and commas\n",
    "    return row.split(\". \") # split on periods\n",
    "    return row\n",
    "\n",
    "def clean_field_to_sentences(row):\n",
    "    row = filter_stopwords(row) # get rid of stopwords\n",
    "    components = initial_components_processing(row)\n",
    "    components = [re.sub(r'[^\\w\\s]', '', component).replace(\"  \", \" \").strip() for component in components]\n",
    "    return components\n",
    "\n",
    "def clean_field_to_integral_components(row):\n",
    "    components = initial_components_processing(row)\n",
    "    components =  [re.sub(r'[^\\w\\s]', '', x.split(\":\")[0]).replace(\"  \", \" \").replace(\"''\", \"\").strip() for x in components if x.strip() != \"\"]\n",
    "    components = [\" \".join(x.split(' ')[:5]) for x in components]\n",
    "    return components\n"
   ]
  },
  {
   "cell_type": "code",
   "execution_count": 162,
   "metadata": {},
   "outputs": [],
   "source": [
    "df = load_file_local_first(\n",
    "            path=GAME_CONFIGS[\"clean_dfs_directory\"], file_name=\"top_1000_with_attached_rag.pkl\"\n",
    "        )\n",
    "desired_columns = ['BGGId','Name','Description']+[x for x in df.columns if 'generated' in x]\n",
    "\n",
    "desc_df = df[desired_columns]\n",
    "# desc_df.head()"
   ]
  },
  {
   "cell_type": "code",
   "execution_count": 163,
   "metadata": {},
   "outputs": [],
   "source": [
    "desc_df['Description'] = desc_df['Description'].apply(clean_weird_characters)\n",
    "desc_df['Positive_Components'] = desc_df['generated_pros'].apply(clean_field_to_integral_components)\n",
    "desc_df['Negative_Components'] = desc_df['generated_cons'].apply(clean_field_to_integral_components)\n",
    "desc_df['Positive_Sentences'] = desc_df['generated_pros'].apply(clean_field_to_sentences)\n",
    "desc_df['Negative_Sentences'] = desc_df['generated_cons'].apply(clean_field_to_sentences)\n",
    "\n",
    "# desc_df.head()"
   ]
  },
  {
   "cell_type": "markdown",
   "metadata": {},
   "source": [
    "### Test problematic entries"
   ]
  },
  {
   "cell_type": "code",
   "execution_count": 164,
   "metadata": {},
   "outputs": [],
   "source": [
    "entry = 10\n",
    "# entry = 136"
   ]
  },
  {
   "cell_type": "code",
   "execution_count": 165,
   "metadata": {},
   "outputs": [
    {
     "data": {
      "text/plain": [
       "' Complex Rules: Some players find the rules to be fiddly and not clearly explained, which can lead to confusion during gameplay. Pacing Issues: A few reviews mention that the game can feel slow or cumbersome, particularly in terms of setup and execution of turns. Not for Everyone: The cardbased mechanics and narrative elements may not appeal to all players, with some feeling that it lacks depth. Initial Hook: Several users noted that the game did not immediately capture their interest, requiring more time to fully appreciate. Solo Play Limitations: While some enjoy playing solo, others feel that the game is better suited for group play, which can limit its appeal for solo gamers.'"
      ]
     },
     "execution_count": 165,
     "metadata": {},
     "output_type": "execute_result"
    }
   ],
   "source": [
    "desc_df.iloc[entry]['generated_cons']"
   ]
  },
  {
   "cell_type": "code",
   "execution_count": 166,
   "metadata": {},
   "outputs": [
    {
     "data": {
      "text/plain": [
       "['complex rules',\n",
       " 'pacing issues',\n",
       " 'not for everyone',\n",
       " 'initial hook',\n",
       " 'solo play limitations']"
      ]
     },
     "execution_count": 166,
     "metadata": {},
     "output_type": "execute_result"
    }
   ],
   "source": [
    "desc_df.iloc[entry]['Negative_Components']"
   ]
  },
  {
   "cell_type": "code",
   "execution_count": 167,
   "metadata": {},
   "outputs": [
    {
     "data": {
      "text/plain": [
       "['complex rules players find rules fiddly clearly explained lead confusion gameplay',\n",
       " 'pacing issues reviews mention game feel slow cumbersome particularly terms setup execution turns',\n",
       " 'everyone cardbased mechanics narrative elements may appeal players feeling lacks depth',\n",
       " 'initial hook several users noted game immediately capture interest requiring time fully appreciate',\n",
       " 'solo play limitations enjoy playing solo others feel game better suited group play limit appeal solo gamers']"
      ]
     },
     "execution_count": 167,
     "metadata": {},
     "output_type": "execute_result"
    }
   ],
   "source": [
    "desc_df.iloc[entry]['Negative_Sentences']"
   ]
  },
  {
   "cell_type": "code",
   "execution_count": 168,
   "metadata": {},
   "outputs": [
    {
     "data": {
      "text/html": [
       "<div>\n",
       "<style scoped>\n",
       "    .dataframe tbody tr th:only-of-type {\n",
       "        vertical-align: middle;\n",
       "    }\n",
       "\n",
       "    .dataframe tbody tr th {\n",
       "        vertical-align: top;\n",
       "    }\n",
       "\n",
       "    .dataframe thead th {\n",
       "        text-align: right;\n",
       "    }\n",
       "</style>\n",
       "<table border=\"1\" class=\"dataframe\">\n",
       "  <thead>\n",
       "    <tr style=\"text-align: right;\">\n",
       "      <th></th>\n",
       "      <th>BGGId</th>\n",
       "      <th>Description</th>\n",
       "      <th>About</th>\n",
       "      <th>Positive_Components</th>\n",
       "      <th>Negative_Components</th>\n",
       "      <th>Positive_Sentences</th>\n",
       "      <th>Negative_Sentences</th>\n",
       "    </tr>\n",
       "  </thead>\n",
       "  <tbody>\n",
       "    <tr>\n",
       "      <th>0</th>\n",
       "      <td>224517</td>\n",
       "      <td>Brass: Birmingham is an economic strategy game...</td>\n",
       "      <td>This game is a strategic economic simulation s...</td>\n",
       "      <td>[strategic depth, excellent design, player int...</td>\n",
       "      <td>[steep learning curve, fiddly mechanics, varia...</td>\n",
       "      <td>[strategic depth games complexity multitude de...</td>\n",
       "      <td>[steep learning curve players find rules diffi...</td>\n",
       "    </tr>\n",
       "    <tr>\n",
       "      <th>1</th>\n",
       "      <td>161936</td>\n",
       "      <td>Pandemic Legacy is a co-operative campaign gam...</td>\n",
       "      <td>This game is a cooperative board game where pl...</td>\n",
       "      <td>[engaging storyline, cooperative gameplay, rep...</td>\n",
       "      <td>[complexity, time commitment, group dependency...</td>\n",
       "      <td>[engaging storyline evolving narrative keeps p...</td>\n",
       "      <td>[complexity players find numerous choices rule...</td>\n",
       "    </tr>\n",
       "    <tr>\n",
       "      <th>2</th>\n",
       "      <td>174430</td>\n",
       "      <td>Gloomhaven  is a game of Euro-inspired tactica...</td>\n",
       "      <td>This game is a cooperative tactical adventure ...</td>\n",
       "      <td>[content variety, replayability, tactical dept...</td>\n",
       "      <td>[setup time, complexity, pacing issues, high c...</td>\n",
       "      <td>[content variety immense amount content ensuri...</td>\n",
       "      <td>[setup time many reviews mention game requires...</td>\n",
       "    </tr>\n",
       "    <tr>\n",
       "      <th>3</th>\n",
       "      <td>342942</td>\n",
       "      <td>In Ark Nova, you will plan and design a modern...</td>\n",
       "      <td>This game is a strategic board game where play...</td>\n",
       "      <td>[engaging theme, unique mechanics, high replay...</td>\n",
       "      <td>[lengthy gameplay, luck factor, complexity, an...</td>\n",
       "      <td>[engaging theme zoo management theme appealing...</td>\n",
       "      <td>[lengthy gameplay many reviews highlight game ...</td>\n",
       "    </tr>\n",
       "    <tr>\n",
       "      <th>4</th>\n",
       "      <td>363622</td>\n",
       "      <td>Castles of Burgundy is a legendary Board Game ...</td>\n",
       "      <td>This game is a strategic board game that revol...</td>\n",
       "      <td>[high production quality, engaging mechanics, ...</td>\n",
       "      <td>[complexity for new players, setup time, poten...</td>\n",
       "      <td>[high production quality game boasts exception...</td>\n",
       "      <td>[complexity new players reviews mention game c...</td>\n",
       "    </tr>\n",
       "  </tbody>\n",
       "</table>\n",
       "</div>"
      ],
      "text/plain": [
       "    BGGId                                        Description  \\\n",
       "0  224517  Brass: Birmingham is an economic strategy game...   \n",
       "1  161936  Pandemic Legacy is a co-operative campaign gam...   \n",
       "2  174430  Gloomhaven  is a game of Euro-inspired tactica...   \n",
       "3  342942  In Ark Nova, you will plan and design a modern...   \n",
       "4  363622  Castles of Burgundy is a legendary Board Game ...   \n",
       "\n",
       "                                               About  \\\n",
       "0  This game is a strategic economic simulation s...   \n",
       "1  This game is a cooperative board game where pl...   \n",
       "2  This game is a cooperative tactical adventure ...   \n",
       "3  This game is a strategic board game where play...   \n",
       "4  This game is a strategic board game that revol...   \n",
       "\n",
       "                                 Positive_Components  \\\n",
       "0  [strategic depth, excellent design, player int...   \n",
       "1  [engaging storyline, cooperative gameplay, rep...   \n",
       "2  [content variety, replayability, tactical dept...   \n",
       "3  [engaging theme, unique mechanics, high replay...   \n",
       "4  [high production quality, engaging mechanics, ...   \n",
       "\n",
       "                                 Negative_Components  \\\n",
       "0  [steep learning curve, fiddly mechanics, varia...   \n",
       "1  [complexity, time commitment, group dependency...   \n",
       "2  [setup time, complexity, pacing issues, high c...   \n",
       "3  [lengthy gameplay, luck factor, complexity, an...   \n",
       "4  [complexity for new players, setup time, poten...   \n",
       "\n",
       "                                  Positive_Sentences  \\\n",
       "0  [strategic depth games complexity multitude de...   \n",
       "1  [engaging storyline evolving narrative keeps p...   \n",
       "2  [content variety immense amount content ensuri...   \n",
       "3  [engaging theme zoo management theme appealing...   \n",
       "4  [high production quality game boasts exception...   \n",
       "\n",
       "                                  Negative_Sentences  \n",
       "0  [steep learning curve players find rules diffi...  \n",
       "1  [complexity players find numerous choices rule...  \n",
       "2  [setup time many reviews mention game requires...  \n",
       "3  [lengthy gameplay many reviews highlight game ...  \n",
       "4  [complexity new players reviews mention game c...  "
      ]
     },
     "execution_count": 168,
     "metadata": {},
     "output_type": "execute_result"
    }
   ],
   "source": [
    "desc_df = desc_df.drop(columns=['Name','generated_pros','generated_cons'])\n",
    "desc_df = desc_df.rename(columns={'generated_description':'About'})\n",
    "desc_df.to_pickle(\"top_1000_cleaned_rag.pkl\")\n",
    "desc_df.head()"
   ]
  },
  {
   "cell_type": "code",
   "execution_count": null,
   "metadata": {},
   "outputs": [],
   "source": []
  },
  {
   "cell_type": "code",
   "execution_count": null,
   "metadata": {},
   "outputs": [
    {
     "name": "stdout",
     "output_type": "stream",
     "text": [
      "0 15 steep learning curve players find rules difficult grasp barrier new players unfamiliar heavy strategy games\n",
      "0 16 lengthy playtime game take significant amount time play may appeal everyone especially looking quicker gaming sessions\n",
      "10 17 solo play limitations enjoy playing solo others feel game better suited group play limit appeal solo gamers\n",
      "99 18 player count limitations game may scale well different player counts leading less enjoyable experience played right number participants\n",
      "112 20 mixed experiences player counts game shines certain player counts reviews suggest may perform well fewer players leading less engaging experience\n",
      "127 21 limited thematic depth reviews mention game lacks strong connection thematic elements expected source material feeling like mashup mechanics rather cohesive journey\n"
     ]
    }
   ],
   "source": [
    "# find the entry with the most words in a component\n",
    "\n",
    "max_len = 0\n",
    "max_entry = \"\"\n",
    "\n",
    "for i, row in desc_df.iterrows():\n",
    "    row_sentences = row['Negative_Sentences']\n",
    "    for sentence in row_sentences:\n",
    "        if len(sentence.split()) > max_len:\n",
    "            max_len = len(sentence.split())\n",
    "            max_entry = i\n",
    "            print(i, max_len, sentence)\n"
   ]
  }
 ],
 "metadata": {
  "kernelspec": {
   "display_name": "boardgamegeek-ZH0FNRKg",
   "language": "python",
   "name": "python3"
  },
  "language_info": {
   "codemirror_mode": {
    "name": "ipython",
    "version": 3
   },
   "file_extension": ".py",
   "mimetype": "text/x-python",
   "name": "python",
   "nbconvert_exporter": "python",
   "pygments_lexer": "ipython3",
   "version": "3.12.6"
  }
 },
 "nbformat": 4,
 "nbformat_minor": 2
}
