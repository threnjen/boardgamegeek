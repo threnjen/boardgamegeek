{
 "cells": [
  {
   "cell_type": "code",
   "execution_count": 1,
   "metadata": {},
   "outputs": [
    {
     "name": "stdout",
     "output_type": "stream",
     "text": [
      "IS_LOCAL: True\n",
      "\n",
      "Checking for local config file and evaluating for updates from S3.\n",
      "Loading config from local\n"
     ]
    },
    {
     "name": "stderr",
     "output_type": "stream",
     "text": [
      "/Users/jennywadkins/.local/share/virtualenvs/boardgamegeek-ZH0FNRKg/lib/python3.12/site-packages/pydantic/_internal/_generate_schema.py:504: UserWarning: <module 'weaviate.client' from '/Users/jennywadkins/.local/share/virtualenvs/boardgamegeek-ZH0FNRKg/lib/python3.12/site-packages/weaviate/client.py'> is not a Python type (it may be an instance of an object), Pydantic will allow any object with no validation since we cannot even enforce that the input is an instance of the given type. To get rid of this error wrap the type with `pydantic.SkipValidation`.\n",
      "  warn(\n"
     ]
    },
    {
     "data": {
      "text/plain": [
       "<weaviate.client.WeaviateClient at 0x12c915580>"
      ]
     },
     "execution_count": 1,
     "metadata": {},
     "output_type": "execute_result"
    }
   ],
   "source": [
    "import pandas as pd\n",
    "import numpy as np\n",
    "from config import CONFIGS\n",
    "import os\n",
    "import os\n",
    "from datetime import datetime\n",
    "\n",
    "from utils.processing_functions import explode_columnar_df\n",
    "from utils.weaviate_client import WeaviateClient\n",
    "\n",
    "from sklearn.preprocessing import MinMaxScaler\n",
    "from sklearn.metrics.pairwise import cosine_distances\n",
    "\n",
    "# visualization packages\n",
    "import matplotlib.pyplot as plt\n",
    "import seaborn as sns\n",
    "%matplotlib inline\n",
    "\n",
    "# turn off jupyter warnings\n",
    "import warnings\n",
    "warnings.filterwarnings('ignore')\n",
    "\n",
    "ENVIRONMENT = os.environ.get(\"ENVIRONMENT\", \"dev\")\n",
    "S3_SCRAPER_BUCKET = CONFIGS[\"s3_scraper_bucket\"]\n",
    "GAME_CONFIGS = CONFIGS[\"games\"]\n",
    "RATINGS_CONFIGS = CONFIGS[\"ratings\"]\n",
    "IS_LOCAL = True if os.environ.get(\"IS_LOCAL\", \"False\").lower() == \"true\" else False\n",
    "\n",
    "read_dir = \"data/prod/games/game_dfs_clean/\"\n",
    "sims_dir = \"data/prod/games/similarity_files/\"\n",
    "\n",
    "weaviate_client = WeaviateClient()\n",
    "weaviate_client.connect_weaviate_client_docker()\n"
   ]
  },
  {
   "cell_type": "markdown",
   "metadata": {},
   "source": [
    "# Content Similarity Models"
   ]
  },
  {
   "cell_type": "markdown",
   "metadata": {},
   "source": [
    "### File Setup for All Models"
   ]
  },
  {
   "cell_type": "code",
   "execution_count": 2,
   "metadata": {},
   "outputs": [
    {
     "data": {
      "text/html": [
       "<div>\n",
       "<style scoped>\n",
       "    .dataframe tbody tr th:only-of-type {\n",
       "        vertical-align: middle;\n",
       "    }\n",
       "\n",
       "    .dataframe tbody tr th {\n",
       "        vertical-align: top;\n",
       "    }\n",
       "\n",
       "    .dataframe thead th {\n",
       "        text-align: right;\n",
       "    }\n",
       "</style>\n",
       "<table border=\"1\" class=\"dataframe\">\n",
       "  <thead>\n",
       "    <tr style=\"text-align: right;\">\n",
       "      <th></th>\n",
       "      <th>bggid</th>\n",
       "      <th>description</th>\n",
       "      <th>about</th>\n",
       "    </tr>\n",
       "  </thead>\n",
       "  <tbody>\n",
       "    <tr>\n",
       "      <th>0</th>\n",
       "      <td>224517</td>\n",
       "      <td>brass birmingham economic strategy game sequel...</td>\n",
       "      <td>game strategic economic simulation set industr...</td>\n",
       "    </tr>\n",
       "    <tr>\n",
       "      <th>1</th>\n",
       "      <td>161936</td>\n",
       "      <td>pandemic legacy cooperative campaign game over...</td>\n",
       "      <td>game cooperative board game players work toget...</td>\n",
       "    </tr>\n",
       "    <tr>\n",
       "      <th>2</th>\n",
       "      <td>174430</td>\n",
       "      <td>gloomhavenis game euroinspired tactical combat...</td>\n",
       "      <td>game cooperative tactical adventure combines e...</td>\n",
       "    </tr>\n",
       "    <tr>\n",
       "      <th>3</th>\n",
       "      <td>342942</td>\n",
       "      <td>ark nova plan design modern scientifically man...</td>\n",
       "      <td>game strategic board game players manage zoo f...</td>\n",
       "    </tr>\n",
       "    <tr>\n",
       "      <th>4</th>\n",
       "      <td>363622</td>\n",
       "      <td>castles burgundy legendary board game design c...</td>\n",
       "      <td>game strategic board game revolves around deve...</td>\n",
       "    </tr>\n",
       "  </tbody>\n",
       "</table>\n",
       "</div>"
      ],
      "text/plain": [
       "    bggid                                        description  \\\n",
       "0  224517  brass birmingham economic strategy game sequel...   \n",
       "1  161936  pandemic legacy cooperative campaign game over...   \n",
       "2  174430  gloomhavenis game euroinspired tactical combat...   \n",
       "3  342942  ark nova plan design modern scientifically man...   \n",
       "4  363622  castles burgundy legendary board game design c...   \n",
       "\n",
       "                                               about  \n",
       "0  game strategic economic simulation set industr...  \n",
       "1  game cooperative board game players work toget...  \n",
       "2  game cooperative tactical adventure combines e...  \n",
       "3  game strategic board game players manage zoo f...  \n",
       "4  game strategic board game revolves around deve...  "
      ]
     },
     "execution_count": 2,
     "metadata": {},
     "output_type": "execute_result"
    }
   ],
   "source": [
    "games_df = pd.read_pickle(f\"{read_dir}games_clean.pkl\")\n",
    "games_df = games_df.sort_values(\"BayesAvgRating\", ascending=False)[\n",
    "            0 : 1000\n",
    "        ].reset_index(drop=True)\n",
    "\n",
    "id_game_map = {x:y for x,y in zip(games_df['BGGId'],games_df['Name'])}\n",
    "game_id_map = {y:x for x,y in zip(games_df['BGGId'],games_df['Name'])}\n",
    "bgg_ids = games_df['BGGId'].values\n",
    "relevant_df = games_df[['BGGId']]\n",
    "\n",
    "rag_cleaned_sentences_df = pd.read_pickle(f'{sims_dir}top_1000_cleaned_rag.pkl')\n",
    "rag_cleaned_sentences_df = relevant_df.merge(rag_cleaned_sentences_df, on=\"BGGId\", how=\"left\")\n",
    "rag_cleaned_sentences_df = rag_cleaned_sentences_df.drop(columns=[\"Positive_Components\",\"Positive_Sentences\",\"Negative_Components\",\"Negative_Sentences\"], axis=1)\n",
    "rag_cleaned_sentences_df.columns = [x.lower() for x in rag_cleaned_sentences_df.columns]\n",
    "\n",
    "rag_cleaned_sentences_df.head()"
   ]
  },
  {
   "cell_type": "code",
   "execution_count": 3,
   "metadata": {},
   "outputs": [
    {
     "data": {
      "text/html": [
       "<div>\n",
       "<style scoped>\n",
       "    .dataframe tbody tr th:only-of-type {\n",
       "        vertical-align: middle;\n",
       "    }\n",
       "\n",
       "    .dataframe tbody tr th {\n",
       "        vertical-align: top;\n",
       "    }\n",
       "\n",
       "    .dataframe thead th {\n",
       "        text-align: right;\n",
       "    }\n",
       "</style>\n",
       "<table border=\"1\" class=\"dataframe\">\n",
       "  <thead>\n",
       "    <tr style=\"text-align: right;\">\n",
       "      <th></th>\n",
       "      <th>bggid</th>\n",
       "      <th>description</th>\n",
       "      <th>about</th>\n",
       "      <th>positive_strategic_depth</th>\n",
       "      <th>positive_excellent_design</th>\n",
       "      <th>positive_player_interaction</th>\n",
       "      <th>positive_replayability</th>\n",
       "      <th>positive_thematic_integration</th>\n",
       "      <th>positive_component_quality</th>\n",
       "      <th>negative_steep_learning_curve</th>\n",
       "      <th>...</th>\n",
       "      <th>negative_anticlimactic_endings</th>\n",
       "      <th>positive_excellent_production_values</th>\n",
       "      <th>positive_attractive_artwork</th>\n",
       "      <th>positive_accessible_non_gamers</th>\n",
       "      <th>positive_variable_experiences</th>\n",
       "      <th>negative_catch_up_mechanics</th>\n",
       "      <th>positive_simple_to_learning</th>\n",
       "      <th>negative_action_limitations</th>\n",
       "      <th>positive_good_themes</th>\n",
       "      <th>positive_good_interactions</th>\n",
       "    </tr>\n",
       "  </thead>\n",
       "  <tbody>\n",
       "    <tr>\n",
       "      <th>0</th>\n",
       "      <td>224517</td>\n",
       "      <td>brass birmingham economic strategy game sequel...</td>\n",
       "      <td>game strategic economic simulation set industr...</td>\n",
       "      <td>1.000</td>\n",
       "      <td>1.000</td>\n",
       "      <td>1.000</td>\n",
       "      <td>1.000</td>\n",
       "      <td>1.000</td>\n",
       "      <td>1.000</td>\n",
       "      <td>1.000</td>\n",
       "      <td>...</td>\n",
       "      <td>0.0</td>\n",
       "      <td>0.0</td>\n",
       "      <td>0.0</td>\n",
       "      <td>0.0</td>\n",
       "      <td>0.0</td>\n",
       "      <td>0.0</td>\n",
       "      <td>0.0</td>\n",
       "      <td>0.0</td>\n",
       "      <td>0.0</td>\n",
       "      <td>0.0</td>\n",
       "    </tr>\n",
       "    <tr>\n",
       "      <th>1</th>\n",
       "      <td>161936</td>\n",
       "      <td>pandemic legacy cooperative campaign game over...</td>\n",
       "      <td>game cooperative board game players work toget...</td>\n",
       "      <td>0.834</td>\n",
       "      <td>0.739</td>\n",
       "      <td>0.848</td>\n",
       "      <td>0.951</td>\n",
       "      <td>0.746</td>\n",
       "      <td>0.683</td>\n",
       "      <td>0.843</td>\n",
       "      <td>...</td>\n",
       "      <td>0.0</td>\n",
       "      <td>0.0</td>\n",
       "      <td>0.0</td>\n",
       "      <td>0.0</td>\n",
       "      <td>0.0</td>\n",
       "      <td>0.0</td>\n",
       "      <td>0.0</td>\n",
       "      <td>0.0</td>\n",
       "      <td>0.0</td>\n",
       "      <td>0.0</td>\n",
       "    </tr>\n",
       "    <tr>\n",
       "      <th>2</th>\n",
       "      <td>174430</td>\n",
       "      <td>gloomhavenis game euroinspired tactical combat...</td>\n",
       "      <td>game cooperative tactical adventure combines e...</td>\n",
       "      <td>1.000</td>\n",
       "      <td>0.853</td>\n",
       "      <td>0.785</td>\n",
       "      <td>1.000</td>\n",
       "      <td>0.610</td>\n",
       "      <td>0.893</td>\n",
       "      <td>0.943</td>\n",
       "      <td>...</td>\n",
       "      <td>0.0</td>\n",
       "      <td>0.0</td>\n",
       "      <td>0.0</td>\n",
       "      <td>0.0</td>\n",
       "      <td>0.0</td>\n",
       "      <td>0.0</td>\n",
       "      <td>0.0</td>\n",
       "      <td>0.0</td>\n",
       "      <td>0.0</td>\n",
       "      <td>0.0</td>\n",
       "    </tr>\n",
       "    <tr>\n",
       "      <th>3</th>\n",
       "      <td>342942</td>\n",
       "      <td>ark nova plan design modern scientifically man...</td>\n",
       "      <td>game strategic board game players manage zoo f...</td>\n",
       "      <td>1.000</td>\n",
       "      <td>0.774</td>\n",
       "      <td>1.000</td>\n",
       "      <td>0.904</td>\n",
       "      <td>0.734</td>\n",
       "      <td>0.974</td>\n",
       "      <td>0.832</td>\n",
       "      <td>...</td>\n",
       "      <td>0.0</td>\n",
       "      <td>0.0</td>\n",
       "      <td>0.0</td>\n",
       "      <td>0.0</td>\n",
       "      <td>0.0</td>\n",
       "      <td>0.0</td>\n",
       "      <td>0.0</td>\n",
       "      <td>0.0</td>\n",
       "      <td>0.0</td>\n",
       "      <td>0.0</td>\n",
       "    </tr>\n",
       "    <tr>\n",
       "      <th>4</th>\n",
       "      <td>363622</td>\n",
       "      <td>castles burgundy legendary board game design c...</td>\n",
       "      <td>game strategic board game revolves around deve...</td>\n",
       "      <td>0.855</td>\n",
       "      <td>0.784</td>\n",
       "      <td>0.862</td>\n",
       "      <td>1.000</td>\n",
       "      <td>0.758</td>\n",
       "      <td>0.922</td>\n",
       "      <td>0.835</td>\n",
       "      <td>...</td>\n",
       "      <td>0.0</td>\n",
       "      <td>0.0</td>\n",
       "      <td>0.0</td>\n",
       "      <td>0.0</td>\n",
       "      <td>0.0</td>\n",
       "      <td>0.0</td>\n",
       "      <td>0.0</td>\n",
       "      <td>0.0</td>\n",
       "      <td>0.0</td>\n",
       "      <td>0.0</td>\n",
       "    </tr>\n",
       "  </tbody>\n",
       "</table>\n",
       "<p>5 rows × 2055 columns</p>\n",
       "</div>"
      ],
      "text/plain": [
       "    bggid                                        description  \\\n",
       "0  224517  brass birmingham economic strategy game sequel...   \n",
       "1  161936  pandemic legacy cooperative campaign game over...   \n",
       "2  174430  gloomhavenis game euroinspired tactical combat...   \n",
       "3  342942  ark nova plan design modern scientifically man...   \n",
       "4  363622  castles burgundy legendary board game design c...   \n",
       "\n",
       "                                               about  \\\n",
       "0  game strategic economic simulation set industr...   \n",
       "1  game cooperative board game players work toget...   \n",
       "2  game cooperative tactical adventure combines e...   \n",
       "3  game strategic board game players manage zoo f...   \n",
       "4  game strategic board game revolves around deve...   \n",
       "\n",
       "   positive_strategic_depth  positive_excellent_design  \\\n",
       "0                     1.000                      1.000   \n",
       "1                     0.834                      0.739   \n",
       "2                     1.000                      0.853   \n",
       "3                     1.000                      0.774   \n",
       "4                     0.855                      0.784   \n",
       "\n",
       "   positive_player_interaction  positive_replayability  \\\n",
       "0                        1.000                   1.000   \n",
       "1                        0.848                   0.951   \n",
       "2                        0.785                   1.000   \n",
       "3                        1.000                   0.904   \n",
       "4                        0.862                   1.000   \n",
       "\n",
       "   positive_thematic_integration  positive_component_quality  \\\n",
       "0                          1.000                       1.000   \n",
       "1                          0.746                       0.683   \n",
       "2                          0.610                       0.893   \n",
       "3                          0.734                       0.974   \n",
       "4                          0.758                       0.922   \n",
       "\n",
       "   negative_steep_learning_curve  ...  negative_anticlimactic_endings  \\\n",
       "0                          1.000  ...                             0.0   \n",
       "1                          0.843  ...                             0.0   \n",
       "2                          0.943  ...                             0.0   \n",
       "3                          0.832  ...                             0.0   \n",
       "4                          0.835  ...                             0.0   \n",
       "\n",
       "   positive_excellent_production_values  positive_attractive_artwork  \\\n",
       "0                                   0.0                          0.0   \n",
       "1                                   0.0                          0.0   \n",
       "2                                   0.0                          0.0   \n",
       "3                                   0.0                          0.0   \n",
       "4                                   0.0                          0.0   \n",
       "\n",
       "   positive_accessible_non_gamers  positive_variable_experiences  \\\n",
       "0                             0.0                            0.0   \n",
       "1                             0.0                            0.0   \n",
       "2                             0.0                            0.0   \n",
       "3                             0.0                            0.0   \n",
       "4                             0.0                            0.0   \n",
       "\n",
       "   negative_catch_up_mechanics  positive_simple_to_learning  \\\n",
       "0                          0.0                          0.0   \n",
       "1                          0.0                          0.0   \n",
       "2                          0.0                          0.0   \n",
       "3                          0.0                          0.0   \n",
       "4                          0.0                          0.0   \n",
       "\n",
       "   negative_action_limitations  positive_good_themes  \\\n",
       "0                          0.0                   0.0   \n",
       "1                          0.0                   0.0   \n",
       "2                          0.0                   0.0   \n",
       "3                          0.0                   0.0   \n",
       "4                          0.0                   0.0   \n",
       "\n",
       "   positive_good_interactions  \n",
       "0                         0.0  \n",
       "1                         0.0  \n",
       "2                         0.0  \n",
       "3                         0.0  \n",
       "4                         0.0  \n",
       "\n",
       "[5 rows x 2055 columns]"
      ]
     },
     "execution_count": 3,
     "metadata": {},
     "output_type": "execute_result"
    }
   ],
   "source": [
    "all_rag_attributes_df = pd.read_pickle(f\"{sims_dir}top_1000_cleaned_rag_with_ratings_extrap.pkl\")\n",
    "all_rag_attributes_df = all_rag_attributes_df.drop(columns=[\"Description\",\"About\",\"Positive_Components\",\"Negative_Components\",\"Positive_Sentences\",\"Negative_Sentences\"])\n",
    "all_rag_attributes_df.columns = all_rag_attributes_df.columns.str.replace(\" \",\"_\")\n",
    "all_rag_attributes_df.columns = [x.lower() for x in all_rag_attributes_df.columns]\n",
    "all_rag_attributes_df = rag_cleaned_sentences_df.merge(all_rag_attributes_df, on=\"bggid\", how=\"left\")\n",
    "\n",
    "all_rag_attributes_df.head()"
   ]
  },
  {
   "cell_type": "code",
   "execution_count": 4,
   "metadata": {},
   "outputs": [
    {
     "data": {
      "text/html": [
       "<div>\n",
       "<style scoped>\n",
       "    .dataframe tbody tr th:only-of-type {\n",
       "        vertical-align: middle;\n",
       "    }\n",
       "\n",
       "    .dataframe tbody tr th {\n",
       "        vertical-align: top;\n",
       "    }\n",
       "\n",
       "    .dataframe thead th {\n",
       "        text-align: right;\n",
       "    }\n",
       "</style>\n",
       "<table border=\"1\" class=\"dataframe\">\n",
       "  <thead>\n",
       "    <tr style=\"text-align: right;\">\n",
       "      <th></th>\n",
       "      <th>positive_strategic_depth</th>\n",
       "      <th>positive_excellent_design</th>\n",
       "      <th>positive_player_interaction</th>\n",
       "      <th>positive_replayability</th>\n",
       "      <th>positive_thematic_integration</th>\n",
       "      <th>positive_component_quality</th>\n",
       "      <th>negative_steep_learning_curve</th>\n",
       "      <th>negative_fiddly_mechanics</th>\n",
       "      <th>negative_variable_enjoyment</th>\n",
       "      <th>negative_lengthy_playtime</th>\n",
       "      <th>...</th>\n",
       "      <th>negative_anticlimactic_endings</th>\n",
       "      <th>positive_excellent_production_values</th>\n",
       "      <th>positive_attractive_artwork</th>\n",
       "      <th>positive_accessible_non_gamers</th>\n",
       "      <th>positive_variable_experiences</th>\n",
       "      <th>negative_catch_up_mechanics</th>\n",
       "      <th>positive_simple_to_learning</th>\n",
       "      <th>negative_action_limitations</th>\n",
       "      <th>positive_good_themes</th>\n",
       "      <th>positive_good_interactions</th>\n",
       "    </tr>\n",
       "    <tr>\n",
       "      <th>bggid</th>\n",
       "      <th></th>\n",
       "      <th></th>\n",
       "      <th></th>\n",
       "      <th></th>\n",
       "      <th></th>\n",
       "      <th></th>\n",
       "      <th></th>\n",
       "      <th></th>\n",
       "      <th></th>\n",
       "      <th></th>\n",
       "      <th></th>\n",
       "      <th></th>\n",
       "      <th></th>\n",
       "      <th></th>\n",
       "      <th></th>\n",
       "      <th></th>\n",
       "      <th></th>\n",
       "      <th></th>\n",
       "      <th></th>\n",
       "      <th></th>\n",
       "      <th></th>\n",
       "    </tr>\n",
       "  </thead>\n",
       "  <tbody>\n",
       "    <tr>\n",
       "      <th>224517</th>\n",
       "      <td>1.000</td>\n",
       "      <td>1.000</td>\n",
       "      <td>1.000</td>\n",
       "      <td>1.000</td>\n",
       "      <td>1.000</td>\n",
       "      <td>1.000</td>\n",
       "      <td>1.000</td>\n",
       "      <td>1.000</td>\n",
       "      <td>1.000</td>\n",
       "      <td>1.000</td>\n",
       "      <td>...</td>\n",
       "      <td>0.0</td>\n",
       "      <td>0.0</td>\n",
       "      <td>0.0</td>\n",
       "      <td>0.0</td>\n",
       "      <td>0.0</td>\n",
       "      <td>0.0</td>\n",
       "      <td>0.0</td>\n",
       "      <td>0.0</td>\n",
       "      <td>0.0</td>\n",
       "      <td>0.0</td>\n",
       "    </tr>\n",
       "    <tr>\n",
       "      <th>161936</th>\n",
       "      <td>0.834</td>\n",
       "      <td>0.739</td>\n",
       "      <td>0.848</td>\n",
       "      <td>0.951</td>\n",
       "      <td>0.746</td>\n",
       "      <td>0.683</td>\n",
       "      <td>0.843</td>\n",
       "      <td>0.780</td>\n",
       "      <td>0.729</td>\n",
       "      <td>0.789</td>\n",
       "      <td>...</td>\n",
       "      <td>0.0</td>\n",
       "      <td>0.0</td>\n",
       "      <td>0.0</td>\n",
       "      <td>0.0</td>\n",
       "      <td>0.0</td>\n",
       "      <td>0.0</td>\n",
       "      <td>0.0</td>\n",
       "      <td>0.0</td>\n",
       "      <td>0.0</td>\n",
       "      <td>0.0</td>\n",
       "    </tr>\n",
       "    <tr>\n",
       "      <th>174430</th>\n",
       "      <td>1.000</td>\n",
       "      <td>0.853</td>\n",
       "      <td>0.785</td>\n",
       "      <td>1.000</td>\n",
       "      <td>0.610</td>\n",
       "      <td>0.893</td>\n",
       "      <td>0.943</td>\n",
       "      <td>0.834</td>\n",
       "      <td>0.773</td>\n",
       "      <td>0.824</td>\n",
       "      <td>...</td>\n",
       "      <td>0.0</td>\n",
       "      <td>0.0</td>\n",
       "      <td>0.0</td>\n",
       "      <td>0.0</td>\n",
       "      <td>0.0</td>\n",
       "      <td>0.0</td>\n",
       "      <td>0.0</td>\n",
       "      <td>0.0</td>\n",
       "      <td>0.0</td>\n",
       "      <td>0.0</td>\n",
       "    </tr>\n",
       "    <tr>\n",
       "      <th>342942</th>\n",
       "      <td>1.000</td>\n",
       "      <td>0.774</td>\n",
       "      <td>1.000</td>\n",
       "      <td>0.904</td>\n",
       "      <td>0.734</td>\n",
       "      <td>0.974</td>\n",
       "      <td>0.832</td>\n",
       "      <td>0.822</td>\n",
       "      <td>0.769</td>\n",
       "      <td>0.902</td>\n",
       "      <td>...</td>\n",
       "      <td>0.0</td>\n",
       "      <td>0.0</td>\n",
       "      <td>0.0</td>\n",
       "      <td>0.0</td>\n",
       "      <td>0.0</td>\n",
       "      <td>0.0</td>\n",
       "      <td>0.0</td>\n",
       "      <td>0.0</td>\n",
       "      <td>0.0</td>\n",
       "      <td>0.0</td>\n",
       "    </tr>\n",
       "    <tr>\n",
       "      <th>363622</th>\n",
       "      <td>0.855</td>\n",
       "      <td>0.784</td>\n",
       "      <td>0.862</td>\n",
       "      <td>1.000</td>\n",
       "      <td>0.758</td>\n",
       "      <td>0.922</td>\n",
       "      <td>0.835</td>\n",
       "      <td>0.780</td>\n",
       "      <td>0.775</td>\n",
       "      <td>0.798</td>\n",
       "      <td>...</td>\n",
       "      <td>0.0</td>\n",
       "      <td>0.0</td>\n",
       "      <td>0.0</td>\n",
       "      <td>0.0</td>\n",
       "      <td>0.0</td>\n",
       "      <td>0.0</td>\n",
       "      <td>0.0</td>\n",
       "      <td>0.0</td>\n",
       "      <td>0.0</td>\n",
       "      <td>0.0</td>\n",
       "    </tr>\n",
       "  </tbody>\n",
       "</table>\n",
       "<p>5 rows × 2052 columns</p>\n",
       "</div>"
      ],
      "text/plain": [
       "        positive_strategic_depth  positive_excellent_design  \\\n",
       "bggid                                                         \n",
       "224517                     1.000                      1.000   \n",
       "161936                     0.834                      0.739   \n",
       "174430                     1.000                      0.853   \n",
       "342942                     1.000                      0.774   \n",
       "363622                     0.855                      0.784   \n",
       "\n",
       "        positive_player_interaction  positive_replayability  \\\n",
       "bggid                                                         \n",
       "224517                        1.000                   1.000   \n",
       "161936                        0.848                   0.951   \n",
       "174430                        0.785                   1.000   \n",
       "342942                        1.000                   0.904   \n",
       "363622                        0.862                   1.000   \n",
       "\n",
       "        positive_thematic_integration  positive_component_quality  \\\n",
       "bggid                                                               \n",
       "224517                          1.000                       1.000   \n",
       "161936                          0.746                       0.683   \n",
       "174430                          0.610                       0.893   \n",
       "342942                          0.734                       0.974   \n",
       "363622                          0.758                       0.922   \n",
       "\n",
       "        negative_steep_learning_curve  negative_fiddly_mechanics  \\\n",
       "bggid                                                              \n",
       "224517                          1.000                      1.000   \n",
       "161936                          0.843                      0.780   \n",
       "174430                          0.943                      0.834   \n",
       "342942                          0.832                      0.822   \n",
       "363622                          0.835                      0.780   \n",
       "\n",
       "        negative_variable_enjoyment  negative_lengthy_playtime  ...  \\\n",
       "bggid                                                           ...   \n",
       "224517                        1.000                      1.000  ...   \n",
       "161936                        0.729                      0.789  ...   \n",
       "174430                        0.773                      0.824  ...   \n",
       "342942                        0.769                      0.902  ...   \n",
       "363622                        0.775                      0.798  ...   \n",
       "\n",
       "        negative_anticlimactic_endings  positive_excellent_production_values  \\\n",
       "bggid                                                                          \n",
       "224517                             0.0                                   0.0   \n",
       "161936                             0.0                                   0.0   \n",
       "174430                             0.0                                   0.0   \n",
       "342942                             0.0                                   0.0   \n",
       "363622                             0.0                                   0.0   \n",
       "\n",
       "        positive_attractive_artwork  positive_accessible_non_gamers  \\\n",
       "bggid                                                                 \n",
       "224517                          0.0                             0.0   \n",
       "161936                          0.0                             0.0   \n",
       "174430                          0.0                             0.0   \n",
       "342942                          0.0                             0.0   \n",
       "363622                          0.0                             0.0   \n",
       "\n",
       "        positive_variable_experiences  negative_catch_up_mechanics  \\\n",
       "bggid                                                                \n",
       "224517                            0.0                          0.0   \n",
       "161936                            0.0                          0.0   \n",
       "174430                            0.0                          0.0   \n",
       "342942                            0.0                          0.0   \n",
       "363622                            0.0                          0.0   \n",
       "\n",
       "        positive_simple_to_learning  negative_action_limitations  \\\n",
       "bggid                                                              \n",
       "224517                          0.0                          0.0   \n",
       "161936                          0.0                          0.0   \n",
       "174430                          0.0                          0.0   \n",
       "342942                          0.0                          0.0   \n",
       "363622                          0.0                          0.0   \n",
       "\n",
       "        positive_good_themes  positive_good_interactions  \n",
       "bggid                                                     \n",
       "224517                   0.0                         0.0  \n",
       "161936                   0.0                         0.0  \n",
       "174430                   0.0                         0.0  \n",
       "342942                   0.0                         0.0  \n",
       "363622                   0.0                         0.0  \n",
       "\n",
       "[5 rows x 2052 columns]"
      ]
     },
     "execution_count": 4,
     "metadata": {},
     "output_type": "execute_result"
    }
   ],
   "source": [
    "rag_pros_cons_only_df = all_rag_attributes_df.drop(columns=[\"about\",\"description\"],axis=1)\n",
    "rag_pros_cons_only_df = rag_pros_cons_only_df.fillna(0).set_index(\"bggid\")\n",
    "rag_pros_cons_only_df.columns = [x.lower() for x in rag_pros_cons_only_df.columns]\n",
    "\n",
    "positive_columns = [x for x in rag_pros_cons_only_df.columns if x.startswith('positive_')]\n",
    "negative_columns = [x for x in rag_pros_cons_only_df.columns if x.startswith('negative_')]\n",
    "all_columns_to_produce = positive_columns + negative_columns\n",
    "\n",
    "models_df_storage = {}\n",
    "arrays_df_storage = {}\n",
    "\n",
    "rag_pros_cons_only_df.head()"
   ]
  },
  {
   "cell_type": "code",
   "execution_count": 5,
   "metadata": {},
   "outputs": [
    {
     "name": "stdout",
     "output_type": "stream",
     "text": [
      "Pandemic 30549\n"
     ]
    }
   ],
   "source": [
    "test_games = [\"Dominion\", \"Gloomhaven\", \"Too Many Bones\", \"Pandemic\", \"Splendor\", \"Viticulture Essential Edition\", \"Great Western Trail\", \"Everdell\", \"Chess\", \"Azul\", \"Codenames\", \"Pandemic Legacy: Season 1\"]\n",
    "\n",
    "game_name = \"Pandemic\"\n",
    "game_id = int(games_df[games_df['Name']==game_name]['BGGId'].values[0])\n",
    "print(game_name, game_id)"
   ]
  },
  {
   "cell_type": "code",
   "execution_count": 6,
   "metadata": {},
   "outputs": [],
   "source": [
    "def get_closet_picks_weaviate(df, game_id, model, n_picks=10):\n",
    "    uuid = df.loc[df['bggid']==game_id]['UUID'].values[0]\n",
    "\n",
    "    similars = weaviate_client.find_near_objects(collection_name=model, uuid=uuid, limit=n_picks)\n",
    "\n",
    "    picks = {}\n",
    "\n",
    "    for item in similars:\n",
    "        picks[str(item.uuid)]=item.metadata.distance\n",
    "        \n",
    "    picks = pd.DataFrame.from_dict(picks, columns=['distance'], orient='index').sort_values(by='distance', ascending=True).reset_index().rename(columns={'index':'UUID'})\n",
    "\n",
    "    picks = picks.merge(df, on='UUID', how='inner')[1:]\n",
    "\n",
    "    return picks[['bggid','distance']].head(n_picks)"
   ]
  },
  {
   "cell_type": "code",
   "execution_count": 7,
   "metadata": {},
   "outputs": [],
   "source": [
    "def build_results_for_game(game_name):\n",
    "    game_id = game_id_map[game_name]\n",
    "    print(f\"\\nEvaluation: {game_name} {game_id}\")\n",
    "\n",
    "    single_game_results = {}\n",
    "\n",
    "    for model, model_df in arrays_df_storage.items():\n",
    "        print(f\"Model: {model}\")\n",
    "\n",
    "        mask = model_df[game_id].sort_values(ascending=True) < 1.0\n",
    "        picks = model_df[game_id].sort_values(ascending=True)[mask]\n",
    "\n",
    "        # remove the entry that is the same as the game_id, by index. It is not necessarily entry 0\n",
    "        picks = picks.drop(game_id)\n",
    "\n",
    "        single_game_results[model] = picks\n",
    "\n",
    "    for collection_name, model_df in models_df_storage.items():\n",
    "        print(f\"Model: {collection_name}\")\n",
    "\n",
    "        picks = get_closet_picks_weaviate(df=model_df, game_id=game_id, model=collection_name, n_picks=100)\n",
    "\n",
    "        single_game_results[collection_name] = {x:y for x,y in zip(picks['bggid'], picks['distance'])}\n",
    "\n",
    "    results_df = pd.DataFrame(single_game_results)\n",
    "\n",
    "    results_df = results_df.fillna(1).round(3)\n",
    "    results_df['average_score'] = results_df.mean(axis=1).round(2)\n",
    "\n",
    "    results_df['name'] = results_df.index.map(id_game_map)\n",
    "\n",
    "    return results_df.sort_values(\"average_score\", ascending=True).head(50)"
   ]
  },
  {
   "cell_type": "code",
   "execution_count": 8,
   "metadata": {},
   "outputs": [],
   "source": [
    "def explode_merge_fill(df, reference_df, fill=False, explode=False):\n",
    "    if explode:\n",
    "        df = explode_columnar_df(df)\n",
    "    df = reference_df.merge(df, on='BGGId', how='left').set_index('BGGId')\n",
    "\n",
    "    if fill==True:\n",
    "        df = df.astype(float).replace(0,0.01)\n",
    "        df = df.fillna(0.01)\n",
    "    else:\n",
    "        df = df.fillna(0)\n",
    "    return df\n",
    "\n",
    "def get_cosine_distances_df(df):\n",
    "    cosine_sims = cosine_distances(df).round(3)\n",
    "    return pd.DataFrame(cosine_sims, columns=bgg_ids, index=bgg_ids)"
   ]
  },
  {
   "cell_type": "markdown",
   "metadata": {},
   "source": [
    "## Array Models - Themes, Categories, Mechanics, Mechanics, Pros-Cons, Game Family"
   ]
  },
  {
   "cell_type": "markdown",
   "metadata": {},
   "source": [
    "### Weight"
   ]
  },
  {
   "cell_type": "code",
   "execution_count": 9,
   "metadata": {},
   "outputs": [],
   "source": [
    "# model=\"weight\"\n",
    "# weight_df = games_df[['BGGId', 'GameWeight']].set_index(\"BGGId\").round(2)\n",
    "\n",
    "# # Create the matrix of absolute differences\n",
    "# matrix = pd.DataFrame(\n",
    "#     np.abs(weight_df['GameWeight'].values[:, None] - weight_df['GameWeight'].values),\n",
    "#     index=weight_df.index,\n",
    "#     columns=weight_df.index\n",
    "# ).round(4)\n",
    "\n",
    "# arrays_df_storage[model] = matrix\n",
    "\n",
    "# {id_game_map[x]:y for x,y in zip(matrix[game_id].sort_values(ascending=True)[:15].index, matrix[game_id].sort_values(ascending=True)[:15])}"
   ]
  },
  {
   "cell_type": "markdown",
   "metadata": {},
   "source": [
    "### Game Family"
   ]
  },
  {
   "cell_type": "code",
   "execution_count": 10,
   "metadata": {},
   "outputs": [
    {
     "data": {
      "text/plain": [
       "{'Fall of Rome': 0.0,\n",
       " 'Pandemic': 0.0,\n",
       " 'Star Wars: The Clone Wars': 0.0,\n",
       " 'Iberia': 0.0,\n",
       " 'Pandemic: Rising Tide': 0.0,\n",
       " 'Pandemic Legacy: Season 0': 0.0,\n",
       " 'Pandemic: The Cure': 0.0,\n",
       " 'Reign of Cthulhu': 0.0,\n",
       " 'Pandemic Legacy: Season 1': 0.0,\n",
       " 'Pandemic Legacy: Season 2': 0.0,\n",
       " 'Horizons of Spirit Island': 1.0,\n",
       " 'Pax Porfiriana': 1.0,\n",
       " 'Baseball Highlights: 2045': 1.0,\n",
       " 'Pathfinder Adventure Card Game: Rise of the Runelords – Base Set': 1.0,\n",
       " 'Nexus Ops': 1.0}"
      ]
     },
     "execution_count": 10,
     "metadata": {},
     "output_type": "execute_result"
    }
   ],
   "source": [
    "model=\"game_family\"\n",
    "\n",
    "family_df = explode_merge_fill(games_df[['BGGId', 'Family']], relevant_df, explode=True, fill=False)\n",
    "sims_by_id = get_cosine_distances_df(family_df)\n",
    "\n",
    "arrays_df_storage[model] = sims_by_id\n",
    "\n",
    "results = [id_game_map[x] for x in (sims_by_id[game_id].sort_values(ascending=True)[:10].index)]\n",
    "\n",
    "{id_game_map[x]:y for x,y in zip(sims_by_id[game_id].sort_values(ascending=True)[:15].index, sims_by_id[game_id].sort_values(ascending=True)[:15])}"
   ]
  },
  {
   "cell_type": "markdown",
   "metadata": {},
   "source": [
    "### Themes"
   ]
  },
  {
   "cell_type": "code",
   "execution_count": 11,
   "metadata": {},
   "outputs": [
    {
     "data": {
      "text/plain": [
       "{'Pandemic': 0.0,\n",
       " 'Pandemic Legacy: Season 1': 0.184,\n",
       " 'Iberia': 0.293,\n",
       " 'Dice Hospital': 0.293,\n",
       " 'Pandemic: The Cure': 0.5,\n",
       " 'Terraforming Mars: Ares Expedition': 0.592,\n",
       " 'Pandemic Legacy: Season 2': 0.646,\n",
       " 'Messina 1347': 0.646,\n",
       " 'Clinic: Deluxe Edition': 0.646,\n",
       " 'Terraforming Mars': 0.711,\n",
       " 'Vinhos': 1.0,\n",
       " \"Warp's Edge\": 1.0,\n",
       " 'Colosseum': 1.0,\n",
       " 'Pathfinder Adventure Card Game: Rise of the Runelords – Base Set': 1.0,\n",
       " 'Nexus Ops': 1.0}"
      ]
     },
     "execution_count": 11,
     "metadata": {},
     "output_type": "execute_result"
    }
   ],
   "source": [
    "model = \"themes\"\n",
    "\n",
    "themes_df = pd.read_pickle(f\"{read_dir}themes_clean.pkl\")\n",
    "themes_df = explode_merge_fill(themes_df, relevant_df, explode=True, fill=False)\n",
    "sims_by_id = get_cosine_distances_df(themes_df)\n",
    "\n",
    "arrays_df_storage[model] = sims_by_id\n",
    "\n",
    "{id_game_map[x]:y for x,y in zip(sims_by_id[game_id].sort_values(ascending=True)[:15].index, sims_by_id[game_id].sort_values(ascending=True)[:15])}\n"
   ]
  },
  {
   "cell_type": "markdown",
   "metadata": {},
   "source": [
    "### Categories Only"
   ]
  },
  {
   "cell_type": "code",
   "execution_count": 12,
   "metadata": {},
   "outputs": [],
   "source": [
    "# TO DO: Add this to the game cleaning script\n",
    "\n",
    "# category_df = df[['BGGId','Cat:Thematic', 'Cat:Strategy', 'Cat:War', 'Cat:Family', 'Cat:CGS', 'Cat:Abstract', 'Cat:Party', 'Cat:Childrens']]\n",
    "# subcats_df = pd.read_pickle(f\"{read_dir}subcategories_clean.pkl\")\n",
    "# subcats_df = explode_columnar_df(subcats_df).reset_index()\n",
    "# category_df = category_df.merge(subcats_df, on=\"BGGId\", how=\"left\")\n",
    "# category_df = category_df.set_index(\"BGGId\")\n",
    "# category_df.to_pickle(f\"{read_dir}categories_clean.pkl\")\n",
    "# category_df.head()"
   ]
  },
  {
   "cell_type": "code",
   "execution_count": 13,
   "metadata": {},
   "outputs": [
    {
     "data": {
      "text/plain": [
       "{'Small World Underground': 0.0,\n",
       " 'Kingsburg': 0.0,\n",
       " 'First Rat': 0.0,\n",
       " 'Chinatown': 0.0,\n",
       " 'Raccoon Tycoon': 0.0,\n",
       " 'My City': 0.0,\n",
       " 'Small World': 0.0,\n",
       " 'Kingdom Builder': 0.0,\n",
       " 'Stone Age: Anniversary': 0.0,\n",
       " 'Dice Hospital': 0.0,\n",
       " 'Fresco': 0.0,\n",
       " 'Libertalia: Winds of Galecrest': 0.0,\n",
       " 'Isle of Skye: From Chieftain to King': 0.0,\n",
       " 'Clank!: Catacombs': 0.0,\n",
       " 'Blue Moon City': 0.0}"
      ]
     },
     "execution_count": 13,
     "metadata": {},
     "output_type": "execute_result"
    }
   ],
   "source": [
    "model = \"categories\"\n",
    "\n",
    "cat_df = pd.read_pickle(f\"{read_dir}categories_clean.pkl\")\n",
    "\n",
    "cat_df = explode_merge_fill(cat_df, relevant_df)\n",
    "\n",
    "sims_by_id = get_cosine_distances_df(cat_df)\n",
    "\n",
    "arrays_df_storage[model] = sims_by_id\n",
    "\n",
    "{id_game_map[x]:y for x,y in zip(sims_by_id[game_id].sort_values(ascending=True)[:15].index, sims_by_id[game_id].sort_values(ascending=True)[:15])}"
   ]
  },
  {
   "cell_type": "markdown",
   "metadata": {},
   "source": [
    "### Mechanics Only"
   ]
  },
  {
   "cell_type": "code",
   "execution_count": 14,
   "metadata": {},
   "outputs": [
    {
     "data": {
      "text/plain": [
       "{'Pandemic': 0.0,\n",
       " 'Reign of Cthulhu': 0.143,\n",
       " 'Pandemic Legacy: Season 0': 0.163,\n",
       " 'Pandemic Legacy: Season 1': 0.163,\n",
       " 'Star Wars: The Clone Wars': 0.198,\n",
       " 'Defenders of the Realm': 0.228,\n",
       " 'Pandemic Legacy: Season 2': 0.236,\n",
       " 'Fall of Rome': 0.244,\n",
       " 'Iberia': 0.244,\n",
       " 'Pandemic: The Cure': 0.283,\n",
       " 'Cerebria: The Inside World': 0.332,\n",
       " 'Pandemic: Rising Tide': 0.332,\n",
       " 'Black Orchestra': 0.345,\n",
       " 'Zombicide Season 2: Prison Outbreak': 0.383,\n",
       " 'Unmatched Adventures: Tales to Amaze': 0.402}"
      ]
     },
     "execution_count": 14,
     "metadata": {},
     "output_type": "execute_result"
    }
   ],
   "source": [
    "model = \"mechanics\"\n",
    "\n",
    "mech_df = pd.read_pickle(f\"{read_dir}mechanics_clean.pkl\")\n",
    "\n",
    "mech_df = explode_merge_fill(mech_df, relevant_df, explode=True)\n",
    "sims_by_id = get_cosine_distances_df(mech_df)\n",
    "\n",
    "arrays_df_storage[model] = sims_by_id\n",
    "\n",
    "{id_game_map[x]:y for x,y in zip(sims_by_id[game_id].sort_values(ascending=True)[:15].index, sims_by_id[game_id].sort_values(ascending=True)[:15])}"
   ]
  },
  {
   "cell_type": "markdown",
   "metadata": {},
   "source": [
    "### Pros Cons"
   ]
  },
  {
   "cell_type": "code",
   "execution_count": 15,
   "metadata": {},
   "outputs": [
    {
     "data": {
      "text/plain": [
       "{'Pandemic': 0.0,\n",
       " 'Anachrony': 0.091,\n",
       " 'Sub Terra': 0.097,\n",
       " 'Forbidden Island': 0.098,\n",
       " 'Western Legends': 0.099,\n",
       " 'Dice Forge': 0.1,\n",
       " 'Slay the Spire: The Board Game': 0.102,\n",
       " 'Gears of War: The Board Game': 0.102,\n",
       " 'Escape: The Curse of the Temple': 0.102,\n",
       " 'The Lord of the Rings: The Card Game': 0.103,\n",
       " 'Viticulture Essential Edition': 0.103,\n",
       " 'Keep the Heroes Out!': 0.104,\n",
       " 'SpaceCorp: 2025-2300AD': 0.104,\n",
       " \"Andromeda's Edge\": 0.104,\n",
       " 'This War of Mine: The Board Game': 0.104}"
      ]
     },
     "execution_count": 15,
     "metadata": {},
     "output_type": "execute_result"
    }
   ],
   "source": [
    "model = \"pros_cons_only\"\n",
    "\n",
    "sims_by_id = get_cosine_distances_df(rag_pros_cons_only_df)\n",
    "\n",
    "arrays_df_storage[model] = sims_by_id\n",
    "\n",
    "{id_game_map[x]:y for x,y in zip(sims_by_id[game_id].sort_values(ascending=True)[:15].index, sims_by_id[game_id].sort_values(ascending=True)[:15])}"
   ]
  },
  {
   "cell_type": "markdown",
   "metadata": {},
   "source": [
    "### Various Numerical Attributes"
   ]
  },
  {
   "cell_type": "code",
   "execution_count": 16,
   "metadata": {},
   "outputs": [
    {
     "data": {
      "text/html": [
       "<div>\n",
       "<style scoped>\n",
       "    .dataframe tbody tr th:only-of-type {\n",
       "        vertical-align: middle;\n",
       "    }\n",
       "\n",
       "    .dataframe tbody tr th {\n",
       "        vertical-align: top;\n",
       "    }\n",
       "\n",
       "    .dataframe thead th {\n",
       "        text-align: right;\n",
       "    }\n",
       "</style>\n",
       "<table border=\"1\" class=\"dataframe\">\n",
       "  <thead>\n",
       "    <tr style=\"text-align: right;\">\n",
       "      <th></th>\n",
       "      <th>bestplayers</th>\n",
       "      <th>mfgplaytime</th>\n",
       "      <th>bayesavgrating</th>\n",
       "      <th>rank:strategygames</th>\n",
       "      <th>rank:abstracts</th>\n",
       "      <th>rank:partygames</th>\n",
       "      <th>rank:wargames</th>\n",
       "      <th>rank:thematic</th>\n",
       "      <th>rank:familygames</th>\n",
       "      <th>rank:childrensgames</th>\n",
       "      <th>rank:cgs</th>\n",
       "      <th>gameweight</th>\n",
       "    </tr>\n",
       "    <tr>\n",
       "      <th>bggid</th>\n",
       "      <th></th>\n",
       "      <th></th>\n",
       "      <th></th>\n",
       "      <th></th>\n",
       "      <th></th>\n",
       "      <th></th>\n",
       "      <th></th>\n",
       "      <th></th>\n",
       "      <th></th>\n",
       "      <th></th>\n",
       "      <th></th>\n",
       "      <th></th>\n",
       "    </tr>\n",
       "  </thead>\n",
       "  <tbody>\n",
       "    <tr>\n",
       "      <th>224517</th>\n",
       "      <td>0.181818</td>\n",
       "      <td>0.100</td>\n",
       "      <td>1.000000</td>\n",
       "      <td>0.000000</td>\n",
       "      <td>1.0</td>\n",
       "      <td>1.0</td>\n",
       "      <td>1.0</td>\n",
       "      <td>1.000000</td>\n",
       "      <td>1.0</td>\n",
       "      <td>1.0</td>\n",
       "      <td>1.0</td>\n",
       "      <td>0.751198</td>\n",
       "    </tr>\n",
       "    <tr>\n",
       "      <th>161936</th>\n",
       "      <td>0.272727</td>\n",
       "      <td>0.050</td>\n",
       "      <td>0.979446</td>\n",
       "      <td>0.000036</td>\n",
       "      <td>1.0</td>\n",
       "      <td>1.0</td>\n",
       "      <td>1.0</td>\n",
       "      <td>0.000000</td>\n",
       "      <td>1.0</td>\n",
       "      <td>1.0</td>\n",
       "      <td>1.0</td>\n",
       "      <td>0.479042</td>\n",
       "    </tr>\n",
       "    <tr>\n",
       "      <th>174430</th>\n",
       "      <td>0.181818</td>\n",
       "      <td>0.100</td>\n",
       "      <td>0.961011</td>\n",
       "      <td>0.000107</td>\n",
       "      <td>1.0</td>\n",
       "      <td>1.0</td>\n",
       "      <td>1.0</td>\n",
       "      <td>0.000036</td>\n",
       "      <td>1.0</td>\n",
       "      <td>1.0</td>\n",
       "      <td>1.0</td>\n",
       "      <td>0.762142</td>\n",
       "    </tr>\n",
       "    <tr>\n",
       "      <th>342942</th>\n",
       "      <td>0.090909</td>\n",
       "      <td>0.125</td>\n",
       "      <td>0.959305</td>\n",
       "      <td>0.000071</td>\n",
       "      <td>1.0</td>\n",
       "      <td>1.0</td>\n",
       "      <td>1.0</td>\n",
       "      <td>1.000000</td>\n",
       "      <td>1.0</td>\n",
       "      <td>1.0</td>\n",
       "      <td>1.0</td>\n",
       "      <td>0.724519</td>\n",
       "    </tr>\n",
       "    <tr>\n",
       "      <th>363622</th>\n",
       "      <td>0.090909</td>\n",
       "      <td>0.100</td>\n",
       "      <td>0.911909</td>\n",
       "      <td>0.000107</td>\n",
       "      <td>1.0</td>\n",
       "      <td>1.0</td>\n",
       "      <td>1.0</td>\n",
       "      <td>1.000000</td>\n",
       "      <td>1.0</td>\n",
       "      <td>1.0</td>\n",
       "      <td>1.0</td>\n",
       "      <td>0.490902</td>\n",
       "    </tr>\n",
       "  </tbody>\n",
       "</table>\n",
       "</div>"
      ],
      "text/plain": [
       "        bestplayers  mfgplaytime  bayesavgrating  rank:strategygames  \\\n",
       "bggid                                                                  \n",
       "224517     0.181818        0.100        1.000000            0.000000   \n",
       "161936     0.272727        0.050        0.979446            0.000036   \n",
       "174430     0.181818        0.100        0.961011            0.000107   \n",
       "342942     0.090909        0.125        0.959305            0.000071   \n",
       "363622     0.090909        0.100        0.911909            0.000107   \n",
       "\n",
       "        rank:abstracts  rank:partygames  rank:wargames  rank:thematic  \\\n",
       "bggid                                                                   \n",
       "224517             1.0              1.0            1.0       1.000000   \n",
       "161936             1.0              1.0            1.0       0.000000   \n",
       "174430             1.0              1.0            1.0       0.000036   \n",
       "342942             1.0              1.0            1.0       1.000000   \n",
       "363622             1.0              1.0            1.0       1.000000   \n",
       "\n",
       "        rank:familygames  rank:childrensgames  rank:cgs  gameweight  \n",
       "bggid                                                                \n",
       "224517               1.0                  1.0       1.0    0.751198  \n",
       "161936               1.0                  1.0       1.0    0.479042  \n",
       "174430               1.0                  1.0       1.0    0.762142  \n",
       "342942               1.0                  1.0       1.0    0.724519  \n",
       "363622               1.0                  1.0       1.0    0.490902  "
      ]
     },
     "execution_count": 16,
     "metadata": {},
     "output_type": "execute_result"
    }
   ],
   "source": [
    "various_df = games_df[['BGGId', 'Name',\n",
    "    'BestPlayers',# 'YearPublished',\n",
    "       'MfgPlaytime',\n",
    "       'BayesAvgRating',\n",
    "       'Rank:strategygames', 'Rank:abstracts', 'Rank:partygames',\n",
    "       'Rank:wargames', 'Rank:thematic', 'Rank:familygames',\n",
    "       'Rank:childrensgames', 'Rank:cgs', 'GameWeight']].copy()\n",
    "\n",
    "# Find the mask where 'Rank:strategygames' is NA\n",
    "mask = various_df['Rank:strategygames'].isna()\n",
    "\n",
    "# Assign the index positions only to the rows matching the mask\n",
    "various_df.loc[mask, 'Rank:strategygames'] = various_df.index[mask]\n",
    "\n",
    "# various_df['GameAgeYears'] = datetime.now().year - various_df['YearPublished']\n",
    "# various_df = various_df.drop(columns=['Name','YearPublished'], axis=1)\n",
    "\n",
    "various_df = various_df.drop(columns=['Name'], axis=1)\n",
    "\n",
    "various_df.columns = [x.lower() for x in various_df.columns]\n",
    "\n",
    "various_df = various_df.set_index('bggid')\n",
    "\n",
    "scaler = MinMaxScaler(feature_range=(0,1))\n",
    "\n",
    "for col in various_df.columns:\n",
    "    various_df[col] = scaler.fit_transform(various_df[[col]])\n",
    "\n",
    "various_df = various_df.fillna(0)\n",
    "\n",
    "various_df.head()"
   ]
  },
  {
   "cell_type": "code",
   "execution_count": 17,
   "metadata": {},
   "outputs": [],
   "source": [
    "# sns.set(font_scale=1)\n",
    "# games_c = various_df.drop(\"Name\", axis=1).set_index(\"BGGId\").corr()\n",
    "# # plot a heat map for all correlations in our data set\n",
    "\n",
    "# # make our figure\n",
    "# fig, ax = plt.subplots(figsize=(10, 10))\n",
    "\n",
    "# # we want our heatmap to not show the upper triangle, which is redundant data\n",
    "# games_c_mask = np.triu(np.ones_like(games_c, dtype=bool))\n",
    "\n",
    "# # adjust mask and df to hide center diagonal\n",
    "# games_c_mask = games_c_mask[1:, :-1]\n",
    "# corr = games_c.iloc[1:, :-1].copy()\n",
    "\n",
    "# # color map\n",
    "# cmap = sns.diverging_palette(220, 20, as_cmap=True)\n",
    "\n",
    "# # plot heatmap\n",
    "# sns.heatmap(\n",
    "#     corr,\n",
    "#     mask=games_c_mask,\n",
    "#     annot=True,\n",
    "#     fmt=\".2f\",\n",
    "#     cmap=cmap,\n",
    "#     vmin=-1,\n",
    "#     vmax=1,\n",
    "#     cbar_kws={\"shrink\": 0.8},\n",
    "#     square=True,\n",
    "# )\n",
    "\n",
    "# # yticks rotate\n",
    "# plt.yticks(rotation=1)\n",
    "\n",
    "# # title\n",
    "# title = \"CORRELATION MATRIX\\nRanking Categories\\n\"\n",
    "# plt.title(title, fontsize=14)\n",
    "\n",
    "# # plt.savefig('images/heatmap.png')\n",
    "\n",
    "# plt.show()"
   ]
  },
  {
   "cell_type": "code",
   "execution_count": 18,
   "metadata": {},
   "outputs": [
    {
     "data": {
      "text/plain": [
       "{'Pandemic': 0.0,\n",
       " 'Anachrony': 0.091,\n",
       " 'Sub Terra': 0.097,\n",
       " 'Forbidden Island': 0.098,\n",
       " 'Western Legends': 0.099,\n",
       " 'Dice Forge': 0.1,\n",
       " 'Slay the Spire: The Board Game': 0.102,\n",
       " 'Gears of War: The Board Game': 0.102,\n",
       " 'Escape: The Curse of the Temple': 0.102,\n",
       " 'The Lord of the Rings: The Card Game': 0.103,\n",
       " 'Viticulture Essential Edition': 0.103,\n",
       " 'Keep the Heroes Out!': 0.104,\n",
       " 'SpaceCorp: 2025-2300AD': 0.104,\n",
       " \"Andromeda's Edge\": 0.104,\n",
       " 'This War of Mine: The Board Game': 0.104}"
      ]
     },
     "execution_count": 18,
     "metadata": {},
     "output_type": "execute_result"
    }
   ],
   "source": [
    "model = \"various_attributes\"\n",
    "\n",
    "sims_byid = get_cosine_distances_df(various_df)\n",
    "\n",
    "arrays_df_storage[model] = sims_byid\n",
    "\n",
    "{id_game_map[x]:y for x,y in zip(sims_by_id[game_id].sort_values(ascending=True)[:15].index, sims_by_id[game_id].sort_values(ascending=True)[:15])}"
   ]
  },
  {
   "cell_type": "markdown",
   "metadata": {},
   "source": [
    "## Vector DB Models"
   ]
  },
  {
   "cell_type": "markdown",
   "metadata": {},
   "source": [
    "### About Only"
   ]
  },
  {
   "cell_type": "code",
   "execution_count": 19,
   "metadata": {},
   "outputs": [],
   "source": [
    "collection_name = \"about\"\n",
    "\n",
    "about_df = rag_cleaned_sentences_df[['bggid','about']].copy()\n",
    "\n",
    "weaviate_client.create_bgg_collection(collection_name=collection_name, reset=True, use_about=True)\n",
    "\n",
    "about_df = weaviate_client.add_bgg_collection_batch(df=about_df, collection_name=collection_name, use_about=True)\n",
    "\n",
    "about_df.to_pickle(f'{sims_dir}about_df.pkl')"
   ]
  },
  {
   "cell_type": "code",
   "execution_count": 20,
   "metadata": {},
   "outputs": [
    {
     "data": {
      "text/html": [
       "<div>\n",
       "<style scoped>\n",
       "    .dataframe tbody tr th:only-of-type {\n",
       "        vertical-align: middle;\n",
       "    }\n",
       "\n",
       "    .dataframe tbody tr th {\n",
       "        vertical-align: top;\n",
       "    }\n",
       "\n",
       "    .dataframe thead th {\n",
       "        text-align: right;\n",
       "    }\n",
       "</style>\n",
       "<table border=\"1\" class=\"dataframe\">\n",
       "  <thead>\n",
       "    <tr style=\"text-align: right;\">\n",
       "      <th></th>\n",
       "      <th>bggid</th>\n",
       "      <th>distance</th>\n",
       "      <th>name</th>\n",
       "    </tr>\n",
       "  </thead>\n",
       "  <tbody>\n",
       "    <tr>\n",
       "      <th>1</th>\n",
       "      <td>161936</td>\n",
       "      <td>0.216663</td>\n",
       "      <td>Pandemic Legacy: Season 1</td>\n",
       "    </tr>\n",
       "    <tr>\n",
       "      <th>2</th>\n",
       "      <td>43528</td>\n",
       "      <td>0.226600</td>\n",
       "      <td>World Without End</td>\n",
       "    </tr>\n",
       "    <tr>\n",
       "      <th>3</th>\n",
       "      <td>314040</td>\n",
       "      <td>0.229330</td>\n",
       "      <td>Pandemic Legacy: Season 0</td>\n",
       "    </tr>\n",
       "    <tr>\n",
       "      <th>4</th>\n",
       "      <td>214029</td>\n",
       "      <td>0.234133</td>\n",
       "      <td>SpaceCorp: 2025-2300AD</td>\n",
       "    </tr>\n",
       "    <tr>\n",
       "      <th>5</th>\n",
       "      <td>265402</td>\n",
       "      <td>0.236717</td>\n",
       "      <td>In the Hall of the Mountain King</td>\n",
       "    </tr>\n",
       "    <tr>\n",
       "      <th>6</th>\n",
       "      <td>269511</td>\n",
       "      <td>0.239793</td>\n",
       "      <td>Cooper Island</td>\n",
       "    </tr>\n",
       "    <tr>\n",
       "      <th>7</th>\n",
       "      <td>150658</td>\n",
       "      <td>0.240081</td>\n",
       "      <td>Pandemic: The Cure</td>\n",
       "    </tr>\n",
       "    <tr>\n",
       "      <th>8</th>\n",
       "      <td>234671</td>\n",
       "      <td>0.241333</td>\n",
       "      <td>Pandemic: Rising Tide</td>\n",
       "    </tr>\n",
       "    <tr>\n",
       "      <th>9</th>\n",
       "      <td>286751</td>\n",
       "      <td>0.243859</td>\n",
       "      <td>Zombicide: 2nd Edition</td>\n",
       "    </tr>\n",
       "  </tbody>\n",
       "</table>\n",
       "</div>"
      ],
      "text/plain": [
       "    bggid  distance                              name\n",
       "1  161936  0.216663         Pandemic Legacy: Season 1\n",
       "2   43528  0.226600                 World Without End\n",
       "3  314040  0.229330         Pandemic Legacy: Season 0\n",
       "4  214029  0.234133            SpaceCorp: 2025-2300AD\n",
       "5  265402  0.236717  In the Hall of the Mountain King\n",
       "6  269511  0.239793                     Cooper Island\n",
       "7  150658  0.240081                Pandemic: The Cure\n",
       "8  234671  0.241333             Pandemic: Rising Tide\n",
       "9  286751  0.243859            Zombicide: 2nd Edition"
      ]
     },
     "execution_count": 20,
     "metadata": {},
     "output_type": "execute_result"
    }
   ],
   "source": [
    "collection_name = \"about\"\n",
    "\n",
    "about_df = pd.read_pickle(f'{sims_dir}about_df.pkl')\n",
    "models_df_storage[collection_name] = about_df\n",
    "\n",
    "picks = get_closet_picks_weaviate(about_df, game_id, model=collection_name, n_picks=10)\n",
    "\n",
    "picks['name'] = [id_game_map[x] for x in picks['bggid']]\n",
    "\n",
    "picks"
   ]
  },
  {
   "cell_type": "markdown",
   "metadata": {},
   "source": [
    "### Description"
   ]
  },
  {
   "cell_type": "code",
   "execution_count": 21,
   "metadata": {},
   "outputs": [],
   "source": [
    "# collection_name = \"description\"\n",
    "\n",
    "# desc_df = rag_cleaned_sentences_df[['bggid','description']].copy()\n",
    "\n",
    "# weaviate_client.create_bgg_collection(collection_name=collection_name, reset=True, use_about=False, use_description=True)\n",
    "\n",
    "# about_df = weaviate_client.add_bgg_collection_batch(df=desc_df, collection_name=collection_name, use_about=False, use_description=True)\n",
    "\n",
    "# desc_df.to_pickle(f'{sims_dir}desc_df.pkl')"
   ]
  },
  {
   "cell_type": "code",
   "execution_count": 22,
   "metadata": {},
   "outputs": [
    {
     "ename": "WeaviateQueryError",
     "evalue": "Query call with protocol GRPC search failed with message <AioRpcError of RPC that terminated with:\n\tstatus = StatusCode.UNKNOWN\n\tdetails = \"explorer: get class: concurrentTargetVectorSearch): explorer: get class: vectorize search vector: nearObject params: vector not found\"\n\tdebug_error_string = \"UNKNOWN:Error received from peer  {grpc_message:\"explorer: get class: concurrentTargetVectorSearch): explorer: get class: vectorize search vector: nearObject params: vector not found\", grpc_status:2, created_time:\"2025-01-02T13:04:20.882134-08:00\"}\"\n>.",
     "output_type": "error",
     "traceback": [
      "\u001b[0;31m---------------------------------------------------------------------------\u001b[0m",
      "\u001b[0;31mAioRpcError\u001b[0m                               Traceback (most recent call last)",
      "File \u001b[0;32m~/.local/share/virtualenvs/boardgamegeek-ZH0FNRKg/lib/python3.12/site-packages/weaviate/collections/grpc/query.py:804\u001b[0m, in \u001b[0;36m_QueryGRPC.__call\u001b[0;34m(self, request)\u001b[0m\n\u001b[1;32m    803\u001b[0m \u001b[38;5;28;01massert\u001b[39;00m \u001b[38;5;28mself\u001b[39m\u001b[38;5;241m.\u001b[39m_connection\u001b[38;5;241m.\u001b[39mgrpc_stub \u001b[38;5;129;01mis\u001b[39;00m \u001b[38;5;129;01mnot\u001b[39;00m \u001b[38;5;28;01mNone\u001b[39;00m\n\u001b[0;32m--> 804\u001b[0m res \u001b[38;5;241m=\u001b[39m \u001b[38;5;28;01mawait\u001b[39;00m _Retry(\u001b[38;5;241m4\u001b[39m)\u001b[38;5;241m.\u001b[39mwith_exponential_backoff(\n\u001b[1;32m    805\u001b[0m     \u001b[38;5;241m0\u001b[39m,\n\u001b[1;32m    806\u001b[0m     \u001b[38;5;124mf\u001b[39m\u001b[38;5;124m\"\u001b[39m\u001b[38;5;124mSearching in collection \u001b[39m\u001b[38;5;132;01m{\u001b[39;00mrequest\u001b[38;5;241m.\u001b[39mcollection\u001b[38;5;132;01m}\u001b[39;00m\u001b[38;5;124m\"\u001b[39m,\n\u001b[1;32m    807\u001b[0m     \u001b[38;5;28mself\u001b[39m\u001b[38;5;241m.\u001b[39m_connection\u001b[38;5;241m.\u001b[39mgrpc_stub\u001b[38;5;241m.\u001b[39mSearch,\n\u001b[1;32m    808\u001b[0m     request,\n\u001b[1;32m    809\u001b[0m     metadata\u001b[38;5;241m=\u001b[39m\u001b[38;5;28mself\u001b[39m\u001b[38;5;241m.\u001b[39m_connection\u001b[38;5;241m.\u001b[39mgrpc_headers(),\n\u001b[1;32m    810\u001b[0m     timeout\u001b[38;5;241m=\u001b[39m\u001b[38;5;28mself\u001b[39m\u001b[38;5;241m.\u001b[39m_connection\u001b[38;5;241m.\u001b[39mtimeout_config\u001b[38;5;241m.\u001b[39mquery,\n\u001b[1;32m    811\u001b[0m )\n\u001b[1;32m    812\u001b[0m \u001b[38;5;28;01mreturn\u001b[39;00m cast(search_get_pb2\u001b[38;5;241m.\u001b[39mSearchReply, res)\n",
      "File \u001b[0;32m~/.local/share/virtualenvs/boardgamegeek-ZH0FNRKg/lib/python3.12/site-packages/weaviate/collections/grpc/retry.py:31\u001b[0m, in \u001b[0;36m_Retry.with_exponential_backoff\u001b[0;34m(self, count, error, f, *args, **kwargs)\u001b[0m\n\u001b[1;32m     30\u001b[0m \u001b[38;5;28;01mif\u001b[39;00m e\u001b[38;5;241m.\u001b[39mcode() \u001b[38;5;241m!=\u001b[39m StatusCode\u001b[38;5;241m.\u001b[39mUNAVAILABLE:\n\u001b[0;32m---> 31\u001b[0m     \u001b[38;5;28;01mraise\u001b[39;00m e\n\u001b[1;32m     32\u001b[0m logger\u001b[38;5;241m.\u001b[39minfo(\n\u001b[1;32m     33\u001b[0m     \u001b[38;5;124mf\u001b[39m\u001b[38;5;124m\"\u001b[39m\u001b[38;5;132;01m{\u001b[39;00merror\u001b[38;5;132;01m}\u001b[39;00m\u001b[38;5;124m received exception: \u001b[39m\u001b[38;5;132;01m{\u001b[39;00me\u001b[38;5;132;01m}\u001b[39;00m\u001b[38;5;124m. Retrying with exponential backoff in \u001b[39m\u001b[38;5;132;01m{\u001b[39;00m\u001b[38;5;241m2\u001b[39m\u001b[38;5;241m*\u001b[39m\u001b[38;5;241m*\u001b[39mcount\u001b[38;5;132;01m}\u001b[39;00m\u001b[38;5;124m seconds\u001b[39m\u001b[38;5;124m\"\u001b[39m\n\u001b[1;32m     34\u001b[0m )\n",
      "File \u001b[0;32m~/.local/share/virtualenvs/boardgamegeek-ZH0FNRKg/lib/python3.12/site-packages/weaviate/collections/grpc/retry.py:28\u001b[0m, in \u001b[0;36m_Retry.with_exponential_backoff\u001b[0;34m(self, count, error, f, *args, **kwargs)\u001b[0m\n\u001b[1;32m     27\u001b[0m \u001b[38;5;28;01mtry\u001b[39;00m:\n\u001b[0;32m---> 28\u001b[0m     \u001b[38;5;28;01mreturn\u001b[39;00m \u001b[38;5;28;01mawait\u001b[39;00m f(\u001b[38;5;241m*\u001b[39margs, \u001b[38;5;241m*\u001b[39m\u001b[38;5;241m*\u001b[39mkwargs)\n\u001b[1;32m     29\u001b[0m \u001b[38;5;28;01mexcept\u001b[39;00m AioRpcError \u001b[38;5;28;01mas\u001b[39;00m e:\n",
      "File \u001b[0;32m~/.local/share/virtualenvs/boardgamegeek-ZH0FNRKg/lib/python3.12/site-packages/grpc/aio/_call.py:327\u001b[0m, in \u001b[0;36m_UnaryResponseMixin.__await__\u001b[0;34m(self)\u001b[0m\n\u001b[1;32m    326\u001b[0m     \u001b[38;5;28;01melse\u001b[39;00m:\n\u001b[0;32m--> 327\u001b[0m         \u001b[38;5;28;01mraise\u001b[39;00m _create_rpc_error(\n\u001b[1;32m    328\u001b[0m             \u001b[38;5;28mself\u001b[39m\u001b[38;5;241m.\u001b[39m_cython_call\u001b[38;5;241m.\u001b[39m_initial_metadata,\n\u001b[1;32m    329\u001b[0m             \u001b[38;5;28mself\u001b[39m\u001b[38;5;241m.\u001b[39m_cython_call\u001b[38;5;241m.\u001b[39m_status,\n\u001b[1;32m    330\u001b[0m         )\n\u001b[1;32m    331\u001b[0m \u001b[38;5;28;01melse\u001b[39;00m:\n",
      "\u001b[0;31mAioRpcError\u001b[0m: <AioRpcError of RPC that terminated with:\n\tstatus = StatusCode.UNKNOWN\n\tdetails = \"explorer: get class: concurrentTargetVectorSearch): explorer: get class: vectorize search vector: nearObject params: vector not found\"\n\tdebug_error_string = \"UNKNOWN:Error received from peer  {grpc_message:\"explorer: get class: concurrentTargetVectorSearch): explorer: get class: vectorize search vector: nearObject params: vector not found\", grpc_status:2, created_time:\"2025-01-02T13:04:20.882134-08:00\"}\"\n>",
      "\nDuring handling of the above exception, another exception occurred:\n",
      "\u001b[0;31mWeaviateQueryError\u001b[0m                        Traceback (most recent call last)",
      "Cell \u001b[0;32mIn[22], line 6\u001b[0m\n\u001b[1;32m      3\u001b[0m only_desc_df \u001b[38;5;241m=\u001b[39m pd\u001b[38;5;241m.\u001b[39mread_pickle(\u001b[38;5;124mf\u001b[39m\u001b[38;5;124m'\u001b[39m\u001b[38;5;132;01m{\u001b[39;00msims_dir\u001b[38;5;132;01m}\u001b[39;00m\u001b[38;5;124mdesc_df.pkl\u001b[39m\u001b[38;5;124m'\u001b[39m)\n\u001b[1;32m      4\u001b[0m models_df_storage[collection_name] \u001b[38;5;241m=\u001b[39m only_desc_df\n\u001b[0;32m----> 6\u001b[0m picks \u001b[38;5;241m=\u001b[39m \u001b[43mget_closet_picks_weaviate\u001b[49m\u001b[43m(\u001b[49m\u001b[43monly_desc_df\u001b[49m\u001b[43m,\u001b[49m\u001b[43m \u001b[49m\u001b[43mgame_id\u001b[49m\u001b[43m,\u001b[49m\u001b[43m \u001b[49m\u001b[43mmodel\u001b[49m\u001b[38;5;241;43m=\u001b[39;49m\u001b[43mcollection_name\u001b[49m\u001b[43m,\u001b[49m\u001b[43m \u001b[49m\u001b[43mn_picks\u001b[49m\u001b[38;5;241;43m=\u001b[39;49m\u001b[38;5;241;43m10\u001b[39;49m\u001b[43m)\u001b[49m\n\u001b[1;32m      8\u001b[0m picks[\u001b[38;5;124m'\u001b[39m\u001b[38;5;124mname\u001b[39m\u001b[38;5;124m'\u001b[39m] \u001b[38;5;241m=\u001b[39m [id_game_map[x] \u001b[38;5;28;01mfor\u001b[39;00m x \u001b[38;5;129;01min\u001b[39;00m picks[\u001b[38;5;124m'\u001b[39m\u001b[38;5;124mbggid\u001b[39m\u001b[38;5;124m'\u001b[39m]]\n\u001b[1;32m     10\u001b[0m picks\n",
      "Cell \u001b[0;32mIn[6], line 4\u001b[0m, in \u001b[0;36mget_closet_picks_weaviate\u001b[0;34m(df, game_id, model, n_picks)\u001b[0m\n\u001b[1;32m      1\u001b[0m \u001b[38;5;28;01mdef\u001b[39;00m \u001b[38;5;21mget_closet_picks_weaviate\u001b[39m(df, game_id, model, n_picks\u001b[38;5;241m=\u001b[39m\u001b[38;5;241m10\u001b[39m):\n\u001b[1;32m      2\u001b[0m     uuid \u001b[38;5;241m=\u001b[39m df\u001b[38;5;241m.\u001b[39mloc[df[\u001b[38;5;124m'\u001b[39m\u001b[38;5;124mbggid\u001b[39m\u001b[38;5;124m'\u001b[39m]\u001b[38;5;241m==\u001b[39mgame_id][\u001b[38;5;124m'\u001b[39m\u001b[38;5;124mUUID\u001b[39m\u001b[38;5;124m'\u001b[39m]\u001b[38;5;241m.\u001b[39mvalues[\u001b[38;5;241m0\u001b[39m]\n\u001b[0;32m----> 4\u001b[0m     similars \u001b[38;5;241m=\u001b[39m \u001b[43mweaviate_client\u001b[49m\u001b[38;5;241;43m.\u001b[39;49m\u001b[43mfind_near_objects\u001b[49m\u001b[43m(\u001b[49m\u001b[43mcollection_name\u001b[49m\u001b[38;5;241;43m=\u001b[39;49m\u001b[43mmodel\u001b[49m\u001b[43m,\u001b[49m\u001b[43m \u001b[49m\u001b[43muuid\u001b[49m\u001b[38;5;241;43m=\u001b[39;49m\u001b[43muuid\u001b[49m\u001b[43m,\u001b[49m\u001b[43m \u001b[49m\u001b[43mlimit\u001b[49m\u001b[38;5;241;43m=\u001b[39;49m\u001b[43mn_picks\u001b[49m\u001b[43m)\u001b[49m\n\u001b[1;32m      6\u001b[0m     picks \u001b[38;5;241m=\u001b[39m {}\n\u001b[1;32m      8\u001b[0m     \u001b[38;5;28;01mfor\u001b[39;00m item \u001b[38;5;129;01min\u001b[39;00m similars:\n",
      "File \u001b[0;32m~/github_repos/boardgamegeek/utils/weaviate_client.py:59\u001b[0m, in \u001b[0;36mWeaviateClient.find_near_objects\u001b[0;34m(self, collection_name, uuid, limit)\u001b[0m\n\u001b[1;32m     57\u001b[0m \u001b[38;5;28;01mdef\u001b[39;00m \u001b[38;5;21mfind_near_objects\u001b[39m(\u001b[38;5;28mself\u001b[39m, collection_name, uuid, limit: \u001b[38;5;28mint\u001b[39m \u001b[38;5;241m=\u001b[39m \u001b[38;5;241m20\u001b[39m):\n\u001b[1;32m     58\u001b[0m     collection \u001b[38;5;241m=\u001b[39m \u001b[38;5;28mself\u001b[39m\u001b[38;5;241m.\u001b[39mweaviate_client\u001b[38;5;241m.\u001b[39mcollections\u001b[38;5;241m.\u001b[39mget(collection_name)\n\u001b[0;32m---> 59\u001b[0m     response \u001b[38;5;241m=\u001b[39m \u001b[43mcollection\u001b[49m\u001b[38;5;241;43m.\u001b[39;49m\u001b[43mquery\u001b[49m\u001b[38;5;241;43m.\u001b[39;49m\u001b[43mnear_object\u001b[49m\u001b[43m(\u001b[49m\n\u001b[1;32m     60\u001b[0m \u001b[43m        \u001b[49m\u001b[43mnear_object\u001b[49m\u001b[38;5;241;43m=\u001b[39;49m\u001b[43muuid\u001b[49m\u001b[43m,\u001b[49m\n\u001b[1;32m     61\u001b[0m \u001b[43m        \u001b[49m\u001b[43mlimit\u001b[49m\u001b[38;5;241;43m=\u001b[39;49m\u001b[43mlimit\u001b[49m\u001b[43m,\u001b[49m\n\u001b[1;32m     62\u001b[0m \u001b[43m        \u001b[49m\u001b[43mreturn_metadata\u001b[49m\u001b[38;5;241;43m=\u001b[39;49m\u001b[43mMetadataQuery\u001b[49m\u001b[43m(\u001b[49m\u001b[43mdistance\u001b[49m\u001b[38;5;241;43m=\u001b[39;49m\u001b[38;5;28;43;01mTrue\u001b[39;49;00m\u001b[43m)\u001b[49m\u001b[43m,\u001b[49m\n\u001b[1;32m     63\u001b[0m \u001b[43m    \u001b[49m\u001b[43m)\u001b[49m\n\u001b[1;32m     64\u001b[0m     \u001b[38;5;28;01mreturn\u001b[39;00m response\u001b[38;5;241m.\u001b[39mobjects\n",
      "File \u001b[0;32m~/.local/share/virtualenvs/boardgamegeek-ZH0FNRKg/lib/python3.12/site-packages/weaviate/syncify.py:23\u001b[0m, in \u001b[0;36mconvert.<locals>.sync_method\u001b[0;34m(self, __new_name, *args, **kwargs)\u001b[0m\n\u001b[1;32m     20\u001b[0m \u001b[38;5;129m@wraps\u001b[39m(method)  \u001b[38;5;66;03m# type: ignore\u001b[39;00m\n\u001b[1;32m     21\u001b[0m \u001b[38;5;28;01mdef\u001b[39;00m \u001b[38;5;21msync_method\u001b[39m(\u001b[38;5;28mself\u001b[39m, \u001b[38;5;241m*\u001b[39margs, __new_name\u001b[38;5;241m=\u001b[39mnew_name, \u001b[38;5;241m*\u001b[39m\u001b[38;5;241m*\u001b[39mkwargs):\n\u001b[1;32m     22\u001b[0m     async_func \u001b[38;5;241m=\u001b[39m \u001b[38;5;28mgetattr\u001b[39m(\u001b[38;5;28mcls\u001b[39m, __new_name)\n\u001b[0;32m---> 23\u001b[0m     \u001b[38;5;28;01mreturn\u001b[39;00m \u001b[43m_EventLoopSingleton\u001b[49m\u001b[38;5;241;43m.\u001b[39;49m\u001b[43mget_instance\u001b[49m\u001b[43m(\u001b[49m\u001b[43m)\u001b[49m\u001b[38;5;241;43m.\u001b[39;49m\u001b[43mrun_until_complete\u001b[49m\u001b[43m(\u001b[49m\n\u001b[1;32m     24\u001b[0m \u001b[43m        \u001b[49m\u001b[43masync_func\u001b[49m\u001b[43m,\u001b[49m\u001b[43m \u001b[49m\u001b[38;5;28;43mself\u001b[39;49m\u001b[43m,\u001b[49m\u001b[43m \u001b[49m\u001b[38;5;241;43m*\u001b[39;49m\u001b[43margs\u001b[49m\u001b[43m,\u001b[49m\u001b[43m \u001b[49m\u001b[38;5;241;43m*\u001b[39;49m\u001b[38;5;241;43m*\u001b[39;49m\u001b[43mkwargs\u001b[49m\n\u001b[1;32m     25\u001b[0m \u001b[43m    \u001b[49m\u001b[43m)\u001b[49m\n",
      "File \u001b[0;32m~/.local/share/virtualenvs/boardgamegeek-ZH0FNRKg/lib/python3.12/site-packages/weaviate/event_loop.py:42\u001b[0m, in \u001b[0;36m_EventLoop.run_until_complete\u001b[0;34m(self, f, *args, **kwargs)\u001b[0m\n\u001b[1;32m     40\u001b[0m     \u001b[38;5;28;01mraise\u001b[39;00m WeaviateClosedClientError()\n\u001b[1;32m     41\u001b[0m fut \u001b[38;5;241m=\u001b[39m asyncio\u001b[38;5;241m.\u001b[39mrun_coroutine_threadsafe(f(\u001b[38;5;241m*\u001b[39margs, \u001b[38;5;241m*\u001b[39m\u001b[38;5;241m*\u001b[39mkwargs), \u001b[38;5;28mself\u001b[39m\u001b[38;5;241m.\u001b[39mloop)\n\u001b[0;32m---> 42\u001b[0m \u001b[38;5;28;01mreturn\u001b[39;00m \u001b[43mfut\u001b[49m\u001b[38;5;241;43m.\u001b[39;49m\u001b[43mresult\u001b[49m\u001b[43m(\u001b[49m\u001b[43m)\u001b[49m\n",
      "File \u001b[0;32m~/.pyenv/versions/3.12.6/lib/python3.12/concurrent/futures/_base.py:456\u001b[0m, in \u001b[0;36mFuture.result\u001b[0;34m(self, timeout)\u001b[0m\n\u001b[1;32m    454\u001b[0m     \u001b[38;5;28;01mraise\u001b[39;00m CancelledError()\n\u001b[1;32m    455\u001b[0m \u001b[38;5;28;01melif\u001b[39;00m \u001b[38;5;28mself\u001b[39m\u001b[38;5;241m.\u001b[39m_state \u001b[38;5;241m==\u001b[39m FINISHED:\n\u001b[0;32m--> 456\u001b[0m     \u001b[38;5;28;01mreturn\u001b[39;00m \u001b[38;5;28;43mself\u001b[39;49m\u001b[38;5;241;43m.\u001b[39;49m\u001b[43m__get_result\u001b[49m\u001b[43m(\u001b[49m\u001b[43m)\u001b[49m\n\u001b[1;32m    457\u001b[0m \u001b[38;5;28;01melse\u001b[39;00m:\n\u001b[1;32m    458\u001b[0m     \u001b[38;5;28;01mraise\u001b[39;00m \u001b[38;5;167;01mTimeoutError\u001b[39;00m()\n",
      "File \u001b[0;32m~/.pyenv/versions/3.12.6/lib/python3.12/concurrent/futures/_base.py:401\u001b[0m, in \u001b[0;36mFuture.__get_result\u001b[0;34m(self)\u001b[0m\n\u001b[1;32m    399\u001b[0m \u001b[38;5;28;01mif\u001b[39;00m \u001b[38;5;28mself\u001b[39m\u001b[38;5;241m.\u001b[39m_exception:\n\u001b[1;32m    400\u001b[0m     \u001b[38;5;28;01mtry\u001b[39;00m:\n\u001b[0;32m--> 401\u001b[0m         \u001b[38;5;28;01mraise\u001b[39;00m \u001b[38;5;28mself\u001b[39m\u001b[38;5;241m.\u001b[39m_exception\n\u001b[1;32m    402\u001b[0m     \u001b[38;5;28;01mfinally\u001b[39;00m:\n\u001b[1;32m    403\u001b[0m         \u001b[38;5;66;03m# Break a reference cycle with the exception in self._exception\u001b[39;00m\n\u001b[1;32m    404\u001b[0m         \u001b[38;5;28mself\u001b[39m \u001b[38;5;241m=\u001b[39m \u001b[38;5;28;01mNone\u001b[39;00m\n",
      "File \u001b[0;32m~/.local/share/virtualenvs/boardgamegeek-ZH0FNRKg/lib/python3.12/site-packages/weaviate/collections/queries/near_object/query.py:86\u001b[0m, in \u001b[0;36m_NearObjectQueryAsync.near_object\u001b[0;34m(self, near_object, certainty, distance, limit, offset, auto_limit, filters, group_by, rerank, target_vector, include_vector, return_metadata, return_properties, return_references)\u001b[0m\n\u001b[1;32m     21\u001b[0m \u001b[38;5;28;01masync\u001b[39;00m \u001b[38;5;28;01mdef\u001b[39;00m \u001b[38;5;21mnear_object\u001b[39m(\n\u001b[1;32m     22\u001b[0m     \u001b[38;5;28mself\u001b[39m,\n\u001b[1;32m     23\u001b[0m     near_object: UUID,\n\u001b[0;32m   (...)\u001b[0m\n\u001b[1;32m     37\u001b[0m     return_references: Optional[ReturnReferences[TReferences]] \u001b[38;5;241m=\u001b[39m \u001b[38;5;28;01mNone\u001b[39;00m,\n\u001b[1;32m     38\u001b[0m ) \u001b[38;5;241m-\u001b[39m\u001b[38;5;241m>\u001b[39m QuerySearchReturnType[Properties, References, TProperties, TReferences]:\n\u001b[1;32m     39\u001b[0m \u001b[38;5;250m    \u001b[39m\u001b[38;5;124;03m\"\"\"Search for objects in this collection by another object using a vector-based similarity search.\u001b[39;00m\n\u001b[1;32m     40\u001b[0m \n\u001b[1;32m     41\u001b[0m \u001b[38;5;124;03m    See the [docs](https://weaviate.io/developers/weaviate/api/graphql/search-operators#nearobject) for a more detailed explanation.\u001b[39;00m\n\u001b[0;32m   (...)\u001b[0m\n\u001b[1;32m     84\u001b[0m \u001b[38;5;124;03m            If the request to the Weaviate server fails.\u001b[39;00m\n\u001b[1;32m     85\u001b[0m \u001b[38;5;124;03m    \"\"\"\u001b[39;00m\n\u001b[0;32m---> 86\u001b[0m     res \u001b[38;5;241m=\u001b[39m \u001b[38;5;28;01mawait\u001b[39;00m \u001b[38;5;28mself\u001b[39m\u001b[38;5;241m.\u001b[39m_query\u001b[38;5;241m.\u001b[39mnear_object(\n\u001b[1;32m     87\u001b[0m         near_object\u001b[38;5;241m=\u001b[39mnear_object,\n\u001b[1;32m     88\u001b[0m         certainty\u001b[38;5;241m=\u001b[39mcertainty,\n\u001b[1;32m     89\u001b[0m         distance\u001b[38;5;241m=\u001b[39mdistance,\n\u001b[1;32m     90\u001b[0m         limit\u001b[38;5;241m=\u001b[39mlimit,\n\u001b[1;32m     91\u001b[0m         offset\u001b[38;5;241m=\u001b[39moffset,\n\u001b[1;32m     92\u001b[0m         autocut\u001b[38;5;241m=\u001b[39mauto_limit,\n\u001b[1;32m     93\u001b[0m         filters\u001b[38;5;241m=\u001b[39mfilters,\n\u001b[1;32m     94\u001b[0m         group_by\u001b[38;5;241m=\u001b[39m_GroupBy\u001b[38;5;241m.\u001b[39mfrom_input(group_by),\n\u001b[1;32m     95\u001b[0m         rerank\u001b[38;5;241m=\u001b[39mrerank,\n\u001b[1;32m     96\u001b[0m         target_vector\u001b[38;5;241m=\u001b[39mtarget_vector,\n\u001b[1;32m     97\u001b[0m         return_metadata\u001b[38;5;241m=\u001b[39m\u001b[38;5;28mself\u001b[39m\u001b[38;5;241m.\u001b[39m_parse_return_metadata(return_metadata, include_vector),\n\u001b[1;32m     98\u001b[0m         return_properties\u001b[38;5;241m=\u001b[39m\u001b[38;5;28mself\u001b[39m\u001b[38;5;241m.\u001b[39m_parse_return_properties(return_properties),\n\u001b[1;32m     99\u001b[0m         return_references\u001b[38;5;241m=\u001b[39m\u001b[38;5;28mself\u001b[39m\u001b[38;5;241m.\u001b[39m_parse_return_references(return_references),\n\u001b[1;32m    100\u001b[0m     )\n\u001b[1;32m    101\u001b[0m     \u001b[38;5;28;01mreturn\u001b[39;00m \u001b[38;5;28mself\u001b[39m\u001b[38;5;241m.\u001b[39m_result_to_query_or_groupby_return(\n\u001b[1;32m    102\u001b[0m         res,\n\u001b[1;32m    103\u001b[0m         _QueryOptions\u001b[38;5;241m.\u001b[39mfrom_input(\n\u001b[0;32m   (...)\u001b[0m\n\u001b[1;32m    113\u001b[0m         return_references,\n\u001b[1;32m    114\u001b[0m     )\n",
      "File \u001b[0;32m~/.local/share/virtualenvs/boardgamegeek-ZH0FNRKg/lib/python3.12/site-packages/weaviate/collections/grpc/query.py:814\u001b[0m, in \u001b[0;36m_QueryGRPC.__call\u001b[0;34m(self, request)\u001b[0m\n\u001b[1;32m    812\u001b[0m     \u001b[38;5;28;01mreturn\u001b[39;00m cast(search_get_pb2\u001b[38;5;241m.\u001b[39mSearchReply, res)\n\u001b[1;32m    813\u001b[0m \u001b[38;5;28;01mexcept\u001b[39;00m (AioRpcError, WeaviateRetryError) \u001b[38;5;28;01mas\u001b[39;00m e:\n\u001b[0;32m--> 814\u001b[0m     \u001b[38;5;28;01mraise\u001b[39;00m WeaviateQueryError(\u001b[38;5;28mstr\u001b[39m(e), \u001b[38;5;124m\"\u001b[39m\u001b[38;5;124mGRPC search\u001b[39m\u001b[38;5;124m\"\u001b[39m)\n",
      "\u001b[0;31mWeaviateQueryError\u001b[0m: Query call with protocol GRPC search failed with message <AioRpcError of RPC that terminated with:\n\tstatus = StatusCode.UNKNOWN\n\tdetails = \"explorer: get class: concurrentTargetVectorSearch): explorer: get class: vectorize search vector: nearObject params: vector not found\"\n\tdebug_error_string = \"UNKNOWN:Error received from peer  {grpc_message:\"explorer: get class: concurrentTargetVectorSearch): explorer: get class: vectorize search vector: nearObject params: vector not found\", grpc_status:2, created_time:\"2025-01-02T13:04:20.882134-08:00\"}\"\n>."
     ]
    }
   ],
   "source": [
    "collection_name = \"description\"\n",
    "\n",
    "only_desc_df = pd.read_pickle(f'{sims_dir}desc_df.pkl')\n",
    "models_df_storage[collection_name] = only_desc_df\n",
    "\n",
    "picks = get_closet_picks_weaviate(only_desc_df, game_id, model=collection_name, n_picks=10)\n",
    "\n",
    "picks['name'] = [id_game_map[x] for x in picks['bggid']]\n",
    "\n",
    "picks"
   ]
  },
  {
   "cell_type": "markdown",
   "metadata": {},
   "source": [
    "### About and Description"
   ]
  },
  {
   "cell_type": "code",
   "execution_count": null,
   "metadata": {},
   "outputs": [],
   "source": [
    "collection_name = \"about_and_desc\"\n",
    "\n",
    "about_and_desc_df = rag_cleaned_sentences_df[['bggid','about', 'description']].copy()\n",
    "\n",
    "weaviate_client.create_bgg_collection(collection_name=collection_name, reset=True, use_about=True, use_description=True)\n",
    "\n",
    "about_df = weaviate_client.add_bgg_collection_batch(df=about_and_desc_df, collection_name=collection_name, use_about=True, use_description=True)\n",
    "\n",
    "about_and_desc_df.to_pickle(f'{sims_dir}about_and_desc_df.pkl')"
   ]
  },
  {
   "cell_type": "code",
   "execution_count": null,
   "metadata": {},
   "outputs": [],
   "source": [
    "collection_name = \"about_and_desc\"\n",
    "\n",
    "desc_df = pd.read_pickle(f'{sims_dir}about_and_desc_df.pkl')\n",
    "models_df_storage[collection_name] = desc_df\n",
    "\n",
    "picks = get_closet_picks_weaviate(desc_df, game_id, model=collection_name, n_picks=10)\n",
    "\n",
    "picks['name'] = [id_game_map[x] for x in picks['bggid']]\n",
    "\n",
    "picks"
   ]
  },
  {
   "cell_type": "markdown",
   "metadata": {},
   "source": [
    "### About and Keywords"
   ]
  },
  {
   "cell_type": "code",
   "execution_count": null,
   "metadata": {},
   "outputs": [],
   "source": [
    "# collection_name = \"about_and_pros_cons\"\n",
    "\n",
    "# about_and_pros_cons = all_rag_attributes_df.drop(columns=['description']).copy()\n",
    "\n",
    "# weaviate_client.create_bgg_collection(collection_name=collection_name, reset=True, use_about=True, attributes=all_columns_to_produce)\n",
    "\n",
    "# about_df = weaviate_client.add_bgg_collection_batch(df=about_and_pros_cons, collection_name=collection_name, use_about=True, attributes=all_columns_to_produce)\n",
    "\n",
    "# about_and_pros_cons.to_pickle(f'{sims_dir}about_and_pros_cons.pkl')"
   ]
  },
  {
   "cell_type": "code",
   "execution_count": null,
   "metadata": {},
   "outputs": [],
   "source": [
    "collection_name = \"about_and_pros_cons\"\n",
    "\n",
    "about_and_pros_cons = pd.read_pickle(f'{sims_dir}about_and_pros_cons.pkl')\n",
    "models_df_storage[collection_name] = about_and_pros_cons\n",
    "\n",
    "picks = get_closet_picks_weaviate(about_and_pros_cons, game_id, model=collection_name, n_picks=30)\n",
    "\n",
    "picks['name'] = [id_game_map[x] for x in picks['bggid']]\n",
    "\n",
    "picks"
   ]
  },
  {
   "cell_type": "code",
   "execution_count": null,
   "metadata": {},
   "outputs": [],
   "source": [
    "weird_matches = about_and_pros_cons[about_and_pros_cons['bggid'].isin([game_id,43528,269511,161936,265402,231733])][['bggid','about']]\n",
    "weird_dict = {id_game_map[x]:y for x,y in weird_matches.values}\n",
    "\n",
    "for key, value in weird_dict.items():\n",
    "    print(f\"\\n{key}: {value}\")"
   ]
  },
  {
   "cell_type": "markdown",
   "metadata": {},
   "source": [
    "### With Keywords, About, and Desc"
   ]
  },
  {
   "cell_type": "code",
   "execution_count": null,
   "metadata": {},
   "outputs": [],
   "source": [
    "# collection_name = \"all_attributes\"\n",
    "\n",
    "# # Optional scaling of attributes\n",
    "# # scaler = MinMaxScaler(feature_range=(0,1)) \n",
    "# # for col in all_columns_to_produce:\n",
    "# #     df[col] = scaler.fit_transform(df[[col]])\n",
    "\n",
    "# weaviate_client.create_bgg_collection(collection_name=collection_name, reset=True, use_about=True, use_description=True, attributes=all_columns_to_produce)\n",
    "\n",
    "# all_attributes_df = weaviate_client.add_bgg_collection_batch(df=all_rag_attributes_df, collection_name=collection_name, use_about=True, use_description=True, attributes=all_columns_to_produce)\n",
    "\n",
    "# all_attributes_df.to_pickle(f'{sims_dir}all_attributes_df.pkl')"
   ]
  },
  {
   "cell_type": "code",
   "execution_count": null,
   "metadata": {},
   "outputs": [],
   "source": [
    "collection_name = \"all_attributes\"\n",
    "\n",
    "all_attributes_df = pd.read_pickle(f'{sims_dir}all_attributes_df.pkl')\n",
    "models_df_storage[collection_name] = all_attributes_df\n",
    "\n",
    "picks = get_closet_picks_weaviate(all_attributes_df, game_id, model=collection_name, n_picks=10)\n",
    "\n",
    "picks['name'] = [id_game_map[x] for x in picks['bggid']]\n",
    "\n",
    "picks"
   ]
  },
  {
   "cell_type": "markdown",
   "metadata": {},
   "source": [
    "### Scaling Work on Results"
   ]
  },
  {
   "cell_type": "code",
   "execution_count": 57,
   "metadata": {},
   "outputs": [],
   "source": [
    "def build_results_for_game(game_name):\n",
    "    game_id = game_id_map[game_name]\n",
    "    print(f\"\\nEvaluation: {game_name} {game_id}\")\n",
    "\n",
    "    single_game_results = {}\n",
    "\n",
    "    for model, model_df in arrays_df_storage.items():\n",
    "        print(f\"Model: {model}\")\n",
    "\n",
    "        mask = model_df[game_id].sort_values(ascending=True) < 1.0\n",
    "        picks = model_df[game_id].sort_values(ascending=True)[mask]\n",
    "\n",
    "        # remove the entry that is the same as the game_id, by index. It is not necessarily entry 0\n",
    "        picks = picks.drop(game_id)\n",
    "\n",
    "        single_game_results[model] = picks\n",
    "\n",
    "    for collection_name, model_df in models_df_storage.items():\n",
    "        print(f\"Model: {collection_name}\")\n",
    "\n",
    "        picks = get_closet_picks_weaviate(df=model_df, game_id=game_id, model=collection_name, n_picks=100)\n",
    "\n",
    "        single_game_results[collection_name] = {x:y for x,y in zip(picks['bggid'], picks['distance'])}\n",
    "\n",
    "    results_df = pd.DataFrame(single_game_results)\n",
    "\n",
    "    results_df = results_df.fillna(1).round(3)\n",
    "\n",
    "    # for col in results_df.columns:\n",
    "    #     scaler = MinMaxScaler(feature_range=(0,results_df[col].max()))\n",
    "    #     results_df[col] = scaler.fit_transform(results_df[[col]]).round(3)\n",
    "\n",
    "    results_df['average_score'] = results_df.mean(axis=1).round(2)\n",
    "\n",
    "    results_df['name'] = results_df.index.map(id_game_map)\n",
    "    results_df = results_df.sort_values(\"average_score\", ascending=True).head(20)\n",
    "\n",
    "    return results_df"
   ]
  },
  {
   "cell_type": "code",
   "execution_count": null,
   "metadata": {},
   "outputs": [],
   "source": [
    "test_df = build_results_for_game(\"Pandemic\")\n",
    "\n",
    "test_df"
   ]
  },
  {
   "cell_type": "code",
   "execution_count": null,
   "metadata": {},
   "outputs": [],
   "source": [
    "about_and_pros_cons.head()"
   ]
  },
  {
   "cell_type": "code",
   "execution_count": 31,
   "metadata": {},
   "outputs": [],
   "source": [
    "pandemic_ids = [int(x) for x in games_df[games_df['Name'].str.lower().str.contains(\"pandemic\")]['BGGId'].values]\n",
    "pandemic_names = [id_game_map[i] for i in pandemic_ids]"
   ]
  },
  {
   "cell_type": "code",
   "execution_count": null,
   "metadata": {},
   "outputs": [],
   "source": [
    "pandemic_cats = cat_df[cat_df.index.isin(pandemic_ids)]\n",
    "cosine_sims = cosine_distances(pandemic_cats).round(3)\n",
    "pd.DataFrame(cosine_sims, columns=pandemic_names, index=pandemic_names)"
   ]
  },
  {
   "cell_type": "code",
   "execution_count": null,
   "metadata": {},
   "outputs": [],
   "source": [
    "pandemic_cats = mech_df[mech_df.index.isin(pandemic_ids)]\n",
    "cosine_sims = cosine_distances(pandemic_cats).round(3)\n",
    "pd.DataFrame(cosine_sims, columns=pandemic_names, index=pandemic_names)"
   ]
  },
  {
   "cell_type": "code",
   "execution_count": null,
   "metadata": {},
   "outputs": [],
   "source": [
    "pandemic_cats = rag_pros_cons_only_df[rag_pros_cons_only_df.index.isin(pandemic_ids)]\n",
    "cosine_sims = cosine_distances(pandemic_cats).round(3)\n",
    "pd.DataFrame(cosine_sims, columns=pandemic_names, index=pandemic_names)"
   ]
  },
  {
   "cell_type": "code",
   "execution_count": null,
   "metadata": {},
   "outputs": [],
   "source": [
    "pandemic_cats = various_df[various_df.index.isin(pandemic_ids)]\n",
    "cosine_sims = cosine_distances(pandemic_cats).round(3)\n",
    "pd.DataFrame(cosine_sims, columns=pandemic_names, index=pandemic_names)"
   ]
  },
  {
   "cell_type": "code",
   "execution_count": null,
   "metadata": {},
   "outputs": [],
   "source": []
  },
  {
   "cell_type": "code",
   "execution_count": null,
   "metadata": {},
   "outputs": [],
   "source": []
  },
  {
   "cell_type": "markdown",
   "metadata": {},
   "source": [
    "### All Comparisons"
   ]
  },
  {
   "cell_type": "code",
   "execution_count": null,
   "metadata": {},
   "outputs": [],
   "source": [
    "break"
   ]
  },
  {
   "cell_type": "code",
   "execution_count": null,
   "metadata": {},
   "outputs": [],
   "source": [
    "models_df_storage.keys(), arrays_df_storage.keys()"
   ]
  },
  {
   "cell_type": "code",
   "execution_count": null,
   "metadata": {},
   "outputs": [],
   "source": [
    "test_games"
   ]
  },
  {
   "cell_type": "code",
   "execution_count": null,
   "metadata": {},
   "outputs": [],
   "source": [
    "build_results_for_game(\"Too Many Bones\")"
   ]
  },
  {
   "cell_type": "code",
   "execution_count": null,
   "metadata": {},
   "outputs": [],
   "source": [
    "build_results_for_game(\"Gloomhaven\")"
   ]
  },
  {
   "cell_type": "code",
   "execution_count": null,
   "metadata": {},
   "outputs": [],
   "source": [
    "all_game_results = {}\n",
    "for game_name in test_games:\n",
    "    all_game_results[game_name] = build_results_for_game(game_name)"
   ]
  },
  {
   "cell_type": "code",
   "execution_count": null,
   "metadata": {},
   "outputs": [],
   "source": [
    "all_game_results[\"Dominion\"]"
   ]
  },
  {
   "cell_type": "code",
   "execution_count": null,
   "metadata": {},
   "outputs": [],
   "source": [
    "all_game_results[\"Gloomhaven\"]"
   ]
  },
  {
   "cell_type": "code",
   "execution_count": null,
   "metadata": {},
   "outputs": [],
   "source": [
    "all_game_results[\"Everdell\"]"
   ]
  },
  {
   "cell_type": "code",
   "execution_count": null,
   "metadata": {},
   "outputs": [],
   "source": [
    "all_game_results[\"Viticulture Essential Edition\"]"
   ]
  },
  {
   "cell_type": "code",
   "execution_count": null,
   "metadata": {},
   "outputs": [],
   "source": [
    "all_game_results[\"Pandemic\"]"
   ]
  },
  {
   "cell_type": "code",
   "execution_count": null,
   "metadata": {},
   "outputs": [],
   "source": [
    "all_game_results[\"Splendor\"]"
   ]
  },
  {
   "cell_type": "code",
   "execution_count": null,
   "metadata": {},
   "outputs": [],
   "source": [
    "all_game_results[\"Great Western Trail\"]"
   ]
  },
  {
   "cell_type": "code",
   "execution_count": null,
   "metadata": {},
   "outputs": [],
   "source": [
    "all_game_results[\"Chess\"]"
   ]
  },
  {
   "cell_type": "code",
   "execution_count": null,
   "metadata": {},
   "outputs": [],
   "source": [
    "all_game_results[\"Azul\"]"
   ]
  },
  {
   "cell_type": "code",
   "execution_count": null,
   "metadata": {},
   "outputs": [],
   "source": [
    "all_game_results[\"Codenames\"]"
   ]
  },
  {
   "cell_type": "code",
   "execution_count": null,
   "metadata": {},
   "outputs": [],
   "source": [
    "all_game_results[\"Pandemic Legacy: Season 1\"]"
   ]
  },
  {
   "cell_type": "code",
   "execution_count": null,
   "metadata": {},
   "outputs": [],
   "source": [
    "game_id = game_id_map[\"Gloomhaven\"]\n",
    "print(game_id)\n",
    "this_game_family = games_df.loc[games_df[\"BGGId\"]==game_id]['Family']\n",
    "ids_in_this_family = games_df.loc[games_df[\"Family\"]==this_game_family.values[0]]['BGGId']\n",
    "games_df[games_df[\"BGGId\"].isin(ids_in_this_family)]"
   ]
  },
  {
   "cell_type": "code",
   "execution_count": null,
   "metadata": {},
   "outputs": [],
   "source": [
    "test_df = build_results_for_game(\"Gloomhaven\")\n",
    "test_df"
   ]
  },
  {
   "cell_type": "code",
   "execution_count": null,
   "metadata": {},
   "outputs": [],
   "source": []
  }
 ],
 "metadata": {
  "kernelspec": {
   "display_name": "boardgamegeek-ZH0FNRKg",
   "language": "python",
   "name": "python3"
  },
  "language_info": {
   "codemirror_mode": {
    "name": "ipython",
    "version": 3
   },
   "file_extension": ".py",
   "mimetype": "text/x-python",
   "name": "python",
   "nbconvert_exporter": "python",
   "pygments_lexer": "ipython3",
   "version": "3.12.6"
  }
 },
 "nbformat": 4,
 "nbformat_minor": 2
}
