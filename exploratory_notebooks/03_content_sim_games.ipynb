{
 "cells": [
  {
   "cell_type": "code",
   "execution_count": null,
   "metadata": {},
   "outputs": [],
   "source": [
    "import pandas as pd\n",
    "import numpy as np\n",
    "from config import CONFIGS\n",
    "import os\n",
    "import os\n",
    "from datetime import datetime\n",
    "\n",
    "from utils.processing_functions import explode_columnar_df\n",
    "from utils.weaviate_client import WeaviateClient\n",
    "\n",
    "from sklearn.preprocessing import MinMaxScaler\n",
    "from sklearn.metrics.pairwise import cosine_distances\n",
    "\n",
    "# visualization packages\n",
    "import matplotlib.pyplot as plt\n",
    "import seaborn as sns\n",
    "%matplotlib inline\n",
    "\n",
    "\n",
    "ENVIRONMENT = os.environ.get(\"ENVIRONMENT\", \"dev\")\n",
    "S3_SCRAPER_BUCKET = CONFIGS[\"s3_scraper_bucket\"]\n",
    "GAME_CONFIGS = CONFIGS[\"games\"]\n",
    "RATINGS_CONFIGS = CONFIGS[\"ratings\"]\n",
    "IS_LOCAL = True if os.environ.get(\"IS_LOCAL\", \"False\").lower() == \"true\" else False\n",
    "\n",
    "read_dir = \"data/prod/games/game_dfs_clean/\"\n",
    "sims_dir = \"data/prod/games/similarity_files/\"\n",
    "\n",
    "weaviate_client = WeaviateClient()\n",
    "weaviate_client.connect_weaviate_client_docker()\n"
   ]
  },
  {
   "cell_type": "markdown",
   "metadata": {},
   "source": [
    "# Content Similarity Models"
   ]
  },
  {
   "cell_type": "markdown",
   "metadata": {},
   "source": [
    "### File Setup for All Models"
   ]
  },
  {
   "cell_type": "code",
   "execution_count": null,
   "metadata": {},
   "outputs": [],
   "source": [
    "games_df = pd.read_pickle(f\"{read_dir}games_clean.pkl\")\n",
    "games_df = games_df.sort_values(\"BayesAvgRating\", ascending=False)[\n",
    "            0 : 1000\n",
    "        ].reset_index(drop=True)\n",
    "games_df.head(2)"
   ]
  },
  {
   "cell_type": "code",
   "execution_count": null,
   "metadata": {},
   "outputs": [],
   "source": [
    "id_game_map = {x:y for x,y in zip(games_df['BGGId'],games_df['Name'])}\n",
    "game_id_map = {y:x for x,y in zip(games_df['BGGId'],games_df['Name'])}\n",
    "bgg_ids = games_df['BGGId'].values\n",
    "relevant_df = games_df[['BGGId']]\n",
    "relevant_df.head(2)"
   ]
  },
  {
   "cell_type": "code",
   "execution_count": null,
   "metadata": {},
   "outputs": [],
   "source": [
    "test_games = [\"Dominion\", \"Gloomhaven\", \"Pandemic\", \"Splendor\", \"Viticulture Essential Edition\", \"Great Western Trail\", \"Everdell\", \"Chess\", \"Azul\", \"Codenames\", \"Pandemic Legacy: Season 1\"]\n",
    "\n",
    "game_name = test_games[4]\n",
    "game_id = int(games_df[games_df['Name']==game_name]['BGGId'].values[0])\n",
    "game_name, game_id"
   ]
  },
  {
   "cell_type": "code",
   "execution_count": null,
   "metadata": {},
   "outputs": [],
   "source": [
    "rag_cleaned_sentences_df = pd.read_pickle(f'{sims_dir}top_1000_cleaned_rag.pkl')\n",
    "rag_cleaned_sentences_df = relevant_df.merge(rag_cleaned_sentences_df, on=\"BGGId\", how=\"left\")\n",
    "rag_cleaned_sentences_df = rag_cleaned_sentences_df.drop(columns=[\"Positive_Components\",\"Positive_Sentences\",\"Negative_Components\",\"Negative_Sentences\"], axis=1)\n",
    "rag_cleaned_sentences_df.columns = [x.lower() for x in rag_cleaned_sentences_df.columns]\n",
    "rag_cleaned_sentences_df.head(2)"
   ]
  },
  {
   "cell_type": "code",
   "execution_count": null,
   "metadata": {},
   "outputs": [],
   "source": [
    "all_rag_attributes_df = pd.read_pickle(f\"{sims_dir}top_1000_cleaned_rag_with_ratings_extrap.pkl\")\n",
    "all_rag_attributes_df = all_rag_attributes_df.drop(columns=[\"Description\",\"About\",\"Positive_Components\",\"Negative_Components\",\"Positive_Sentences\",\"Negative_Sentences\"])\n",
    "all_rag_attributes_df.columns = all_rag_attributes_df.columns.str.replace(\" \",\"_\")\n",
    "all_rag_attributes_df.columns = [x.lower() for x in all_rag_attributes_df.columns]\n",
    "all_rag_attributes_df = rag_cleaned_sentences_df.merge(all_rag_attributes_df, on=\"bggid\", how=\"left\")\n",
    "all_rag_attributes_df.head(2)"
   ]
  },
  {
   "cell_type": "code",
   "execution_count": null,
   "metadata": {},
   "outputs": [],
   "source": [
    "rag_pros_cons_only_df = all_rag_attributes_df.drop(columns=[\"about\",\"description\"],axis=1)\n",
    "rag_pros_cons_only_df = rag_pros_cons_only_df.fillna(0).set_index(\"bggid\")\n",
    "rag_pros_cons_only_df.columns = [x.lower() for x in rag_pros_cons_only_df.columns]\n",
    "rag_pros_cons_only_df.head(2)"
   ]
  },
  {
   "cell_type": "code",
   "execution_count": null,
   "metadata": {},
   "outputs": [],
   "source": [
    "positive_columns = [x for x in rag_pros_cons_only_df.columns if x.startswith('positive_')]\n",
    "negative_columns = [x for x in rag_pros_cons_only_df.columns if x.startswith('negative_')]\n",
    "\n",
    "all_columns_to_produce = positive_columns + negative_columns\n",
    "all_columns_to_produce[:5]"
   ]
  },
  {
   "cell_type": "code",
   "execution_count": null,
   "metadata": {},
   "outputs": [],
   "source": [
    "models_df_storage = {}\n",
    "arrays_df_storage = {}"
   ]
  },
  {
   "cell_type": "code",
   "execution_count": null,
   "metadata": {},
   "outputs": [],
   "source": [
    "def get_closet_picks(df, game_id, model, n_picks=10):\n",
    "    uuid = df.loc[df['bggid']==game_id]['UUID'].values[0]\n",
    "\n",
    "    similars = weaviate_client.find_near_objects(collection_name=model, uuid=uuid, limit=50)\n",
    "\n",
    "    picks = {}\n",
    "\n",
    "    for item in similars:\n",
    "        picks[str(item.uuid)]=item.metadata.distance\n",
    "        \n",
    "    picks = pd.DataFrame.from_dict(picks, columns=['distance'], orient='index').sort_values(by='distance', ascending=True).reset_index().rename(columns={'index':'UUID'})\n",
    "\n",
    "    picks = picks.merge(df, on='UUID', how='inner')[1:]\n",
    "\n",
    "    return picks[['bggid','distance']].head(n_picks)"
   ]
  },
  {
   "cell_type": "code",
   "execution_count": null,
   "metadata": {},
   "outputs": [],
   "source": [
    "def build_results_for_game(game_name):\n",
    "    game_id = game_id_map[game_name]\n",
    "    print(f\"\\nEvaluation: {game_name} {game_id}\")\n",
    "\n",
    "    single_game_results = {}\n",
    "\n",
    "    for model, model_df in arrays_df_storage.items():\n",
    "        print(f\"Model: {model}\")\n",
    "\n",
    "        picks = model_df[game_id].sort_values(ascending=True)[1:]\n",
    "\n",
    "        single_game_results[model] = picks\n",
    "\n",
    "    for collection_name, model_df in models_df_storage.items():\n",
    "        print(f\"Model: {collection_name}\")\n",
    "\n",
    "        picks = get_closet_picks(df=model_df, game_id=game_id, model=collection_name, n_picks=50)\n",
    "\n",
    "        single_game_results[collection_name] = {x:y for x,y in zip(picks['bggid'], picks['distance'])}\n",
    "\n",
    "    results_df = pd.DataFrame(single_game_results)\n",
    "\n",
    "    scaler = MinMaxScaler(feature_range=(0,1))\n",
    "    for col in results_df.columns:\n",
    "        results_df[col] = scaler.fit_transform(results_df[[col]])\n",
    "\n",
    "    results_df = results_df.fillna(1).round(3)\n",
    "    results_df['average_score'] = results_df.mean(axis=1).round(2)\n",
    "\n",
    "    results_df['name'] = results_df.index.map(id_game_map)\n",
    "\n",
    "    return results_df.sort_values(\"average_score\", ascending=True).head(20)"
   ]
  },
  {
   "cell_type": "markdown",
   "metadata": {},
   "source": [
    "## Array Models - Themes, Categories, Mechanics, Mechanics, Pros-Cons, Game Family"
   ]
  },
  {
   "cell_type": "markdown",
   "metadata": {},
   "source": [
    "### Themes"
   ]
  },
  {
   "cell_type": "code",
   "execution_count": null,
   "metadata": {},
   "outputs": [],
   "source": [
    "model = \"themes\"\n",
    "\n",
    "themes_df = pd.read_pickle(f\"{read_dir}themes_clean.pkl\")\n",
    "themes_df = explode_columnar_df(themes_df)\n",
    "themes_df = relevant_df.merge(themes_df, on='BGGId', how='left').set_index('BGGId')\n",
    "themes_df = themes_df.astype(float).replace(0,0.01)\n",
    "themes_df = themes_df.fillna(0.01)\n",
    "\n",
    "cosine_sims = cosine_distances(themes_df).round(3)\n",
    "\n",
    "sims_byid = pd.DataFrame(cosine_sims, columns=bgg_ids, index=bgg_ids)\n",
    "\n",
    "arrays_df_storage[model] = sims_byid\n",
    "\n",
    "results = [id_game_map[x] for x in (sims_byid[game_id].sort_values(ascending=True)[:10].index)]\n",
    "results"
   ]
  },
  {
   "cell_type": "markdown",
   "metadata": {},
   "source": [
    "Sanity Checks"
   ]
  },
  {
   "cell_type": "code",
   "execution_count": null,
   "metadata": {},
   "outputs": [],
   "source": [
    "results_ids = [game_id_map[x] for x,y in game_id_map.items() if x in results]\n",
    "tester_df = themes_df[themes_df.index.isin(results_ids)]\n",
    "matching_columns = [x for x in tester_df.columns if tester_df[x].sum()>(tester_df.shape[0]*.01 + .001)]\n",
    "only_matches = tester_df[matching_columns]\n",
    "only_matches['name'] = only_matches.index.map(id_game_map)\n",
    "names = only_matches['name'].values\n",
    "only_matches"
   ]
  },
  {
   "cell_type": "code",
   "execution_count": null,
   "metadata": {},
   "outputs": [],
   "source": [
    "pd.DataFrame(cosine_distances(tester_df[matching_columns]), columns=names, index=names).round(3)"
   ]
  },
  {
   "cell_type": "markdown",
   "metadata": {},
   "source": [
    "### Categories Only"
   ]
  },
  {
   "cell_type": "code",
   "execution_count": 14,
   "metadata": {},
   "outputs": [],
   "source": [
    "# TO DO: Add this to the game cleaning script\n",
    "\n",
    "# category_df = df[['BGGId','Cat:Thematic', 'Cat:Strategy', 'Cat:War', 'Cat:Family', 'Cat:CGS', 'Cat:Abstract', 'Cat:Party', 'Cat:Childrens']]\n",
    "# subcats_df = pd.read_pickle(f\"{read_dir}subcategories_clean.pkl\")\n",
    "# subcats_df = explode_columnar_df(subcats_df).reset_index()\n",
    "# category_df = category_df.merge(subcats_df, on=\"BGGId\", how=\"left\")\n",
    "# category_df = category_df.set_index(\"BGGId\")\n",
    "# category_df.to_pickle(f\"{read_dir}categories_clean.pkl\")\n",
    "# category_df.head()"
   ]
  },
  {
   "cell_type": "code",
   "execution_count": null,
   "metadata": {},
   "outputs": [],
   "source": [
    "cat_df.head(2)"
   ]
  },
  {
   "cell_type": "code",
   "execution_count": null,
   "metadata": {},
   "outputs": [],
   "source": [
    "model = \"categories\"\n",
    "\n",
    "cat_df = pd.read_pickle(f\"{read_dir}categories_clean.pkl\")\n",
    "cat_df = relevant_df.merge(cat_df, on='BGGId', how='left').set_index('BGGId')\n",
    "# cat_df = cat_df.astype(float).replace(0,0.01)\n",
    "cat_df = cat_df.fillna(0.01)\n",
    "\n",
    "cosine_sims = cosine_distances(cat_df).round(3)\n",
    "\n",
    "sims_byid = pd.DataFrame(cosine_sims, columns=bgg_ids, index=bgg_ids)\n",
    "\n",
    "arrays_df_storage[model] = sims_byid\n",
    "\n",
    "results = [id_game_map[x] for x in (sims_byid[game_id].sort_values(ascending=True)[:10].index)]\n",
    "results\n"
   ]
  },
  {
   "cell_type": "markdown",
   "metadata": {},
   "source": [
    "Sanity Checks"
   ]
  },
  {
   "cell_type": "code",
   "execution_count": null,
   "metadata": {},
   "outputs": [],
   "source": [
    "results_ids = [game_id_map[x] for x,y in game_id_map.items() if x in results]\n",
    "tester_df = cat_df[cat_df.index.isin(results_ids)]\n",
    "matching_columns = [x for x in tester_df.columns if tester_df[x].sum()>(tester_df.shape[0]*.01 + .001)]\n",
    "only_matches = tester_df[matching_columns]\n",
    "only_matches['name'] = only_matches.index.map(id_game_map)\n",
    "names = only_matches['name'].values\n",
    "only_matches"
   ]
  },
  {
   "cell_type": "code",
   "execution_count": null,
   "metadata": {},
   "outputs": [],
   "source": [
    "pd.DataFrame(cosine_distances(tester_df[matching_columns]), columns=names, index=names)"
   ]
  },
  {
   "cell_type": "markdown",
   "metadata": {},
   "source": [
    "### Mechanics Only"
   ]
  },
  {
   "cell_type": "code",
   "execution_count": null,
   "metadata": {},
   "outputs": [],
   "source": [
    "model = \"mechanics\"\n",
    "\n",
    "mech_df = pd.read_pickle(f\"{read_dir}mechanics_clean.pkl\")\n",
    "mech_df = explode_columnar_df(mech_df)\n",
    "mech_df = relevant_df.merge(mech_df, on='BGGId', how='left').set_index('BGGId')\n",
    "mech_df = mech_df.astype(float).replace(0,0.01)\n",
    "mech_df = mech_df.fillna(0.01)\n",
    "\n",
    "cosine_sims = cosine_distances(mech_df).round(3)\n",
    "\n",
    "sims_byid = pd.DataFrame(cosine_sims, columns=bgg_ids, index=bgg_ids)\n",
    "\n",
    "arrays_df_storage[model] = sims_byid\n",
    "\n",
    "results = [id_game_map[x] for x in (sims_byid[game_id].sort_values(ascending=True)[:10].index)]\n",
    "results"
   ]
  },
  {
   "cell_type": "markdown",
   "metadata": {},
   "source": [
    "Sanity Checks"
   ]
  },
  {
   "cell_type": "code",
   "execution_count": null,
   "metadata": {},
   "outputs": [],
   "source": [
    "results_ids = [game_id_map[x] for x,y in game_id_map.items() if x in results]\n",
    "tester_df = mech_df[mech_df.index.isin(results_ids)]\n",
    "matching_columns = [x for x in tester_df.columns if tester_df[x].sum()>(tester_df.shape[0]*.01 + .001)]\n",
    "only_matches = tester_df[matching_columns]\n",
    "only_matches['name'] = only_matches.index.map(id_game_map)\n",
    "names = only_matches['name'].values\n",
    "only_matches"
   ]
  },
  {
   "cell_type": "code",
   "execution_count": null,
   "metadata": {},
   "outputs": [],
   "source": [
    "pd.DataFrame(cosine_distances(tester_df[matching_columns]), columns=names, index=names)"
   ]
  },
  {
   "cell_type": "markdown",
   "metadata": {},
   "source": [
    "### Pros Cons"
   ]
  },
  {
   "cell_type": "code",
   "execution_count": null,
   "metadata": {},
   "outputs": [],
   "source": [
    "model = \"pros_cons_only\"\n",
    "\n",
    "cosine_sims = cosine_distances(rag_pros_cons_only_df).round(3)\n",
    "\n",
    "sims_byid = pd.DataFrame(cosine_sims, columns=bgg_ids, index=bgg_ids)\n",
    "\n",
    "arrays_df_storage[model] = sims_byid\n",
    "\n",
    "results = [id_game_map[x] for x in (sims_byid[game_id].sort_values(ascending=True)[:10].index)]\n",
    "results"
   ]
  },
  {
   "cell_type": "markdown",
   "metadata": {},
   "source": [
    "Sanity Checks"
   ]
  },
  {
   "cell_type": "code",
   "execution_count": null,
   "metadata": {},
   "outputs": [],
   "source": [
    "results_ids = [game_id_map[x] for x,y in game_id_map.items() if x in results]\n",
    "tester_df = rag_pros_cons_only_df[rag_pros_cons_only_df.index.isin(results_ids)]\n",
    "matching_columns = [x for x in tester_df.columns if tester_df[x].sum()>(tester_df.shape[0]*.01 + .001)]\n",
    "only_matches = tester_df[matching_columns]\n",
    "only_matches['name'] = only_matches.index.map(id_game_map)\n",
    "names = only_matches['name'].values\n",
    "only_matches"
   ]
  },
  {
   "cell_type": "code",
   "execution_count": null,
   "metadata": {},
   "outputs": [],
   "source": [
    "pd.DataFrame(cosine_distances(tester_df[matching_columns]), columns=names, index=names)"
   ]
  },
  {
   "cell_type": "markdown",
   "metadata": {},
   "source": [
    "### Weight"
   ]
  },
  {
   "cell_type": "code",
   "execution_count": null,
   "metadata": {},
   "outputs": [],
   "source": [
    "model=\"weight\"\n",
    "weight_df = games_df[['BGGId', 'GameWeight']].set_index(\"BGGId\").round(2)\n",
    "\n",
    "# Create the matrix of absolute differences\n",
    "matrix = pd.DataFrame(\n",
    "    np.abs(weight_df['GameWeight'].values[:, None] - weight_df['GameWeight'].values),\n",
    "    index=weight_df.index,\n",
    "    columns=weight_df.index\n",
    ")\n",
    "\n",
    "arrays_df_storage[model] = matrix\n",
    "\n",
    "results = [id_game_map[x] for x in (matrix[game_id].sort_values(ascending=True)[:10].index)]\n",
    "results"
   ]
  },
  {
   "cell_type": "markdown",
   "metadata": {},
   "source": [
    "Sanity Checks"
   ]
  },
  {
   "cell_type": "code",
   "execution_count": null,
   "metadata": {},
   "outputs": [],
   "source": [
    "results_ids = [game_id_map[x] for x,y in game_id_map.items() if x in results]\n",
    "tester_df = weight_df[weight_df.index.isin(results_ids)]\n",
    "matching_columns = [x for x in tester_df.columns if tester_df[x].sum()>(tester_df.shape[0]*.01 + .001)]\n",
    "only_matches = tester_df[matching_columns]\n",
    "only_matches['name'] = only_matches.index.map(id_game_map)\n",
    "names = only_matches['name'].values\n",
    "only_matches.sort_values(\"GameWeight\")"
   ]
  },
  {
   "cell_type": "markdown",
   "metadata": {},
   "source": [
    "### Game Family"
   ]
  },
  {
   "cell_type": "code",
   "execution_count": null,
   "metadata": {},
   "outputs": [],
   "source": [
    "model=\"game_family\"\n",
    "family_df = explode_columnar_df(games_df[['BGGId', 'Family']])\n",
    "family_df = family_df.replace(0,0.01)\n",
    "\n",
    "family_bgg_ids = family_df.index\n",
    "\n",
    "cosine_sims = cosine_distances(family_df).round(3)\n",
    "\n",
    "sims_byid = pd.DataFrame(cosine_sims, columns=family_bgg_ids, index=family_bgg_ids)\n",
    "\n",
    "arrays_df_storage[model] = sims_byid\n",
    "\n",
    "results = [id_game_map[x] for x in (sims_byid[game_id].sort_values(ascending=True)[:10].index)]\n",
    "results"
   ]
  },
  {
   "cell_type": "markdown",
   "metadata": {},
   "source": [
    "Sanity Checks"
   ]
  },
  {
   "cell_type": "code",
   "execution_count": null,
   "metadata": {},
   "outputs": [],
   "source": [
    "results_ids = [game_id_map[x] for x,y in game_id_map.items() if x in results]\n",
    "tester_df = family_df[family_df.index.isin(results_ids)]\n",
    "matching_columns = [x for x in tester_df.columns if tester_df[x].sum()>(tester_df.shape[0]*.01 + .001)]\n",
    "only_matches = tester_df[matching_columns]\n",
    "only_matches['name'] = only_matches.index.map(id_game_map)\n",
    "names = only_matches['name'].values\n",
    "only_matches"
   ]
  },
  {
   "cell_type": "markdown",
   "metadata": {},
   "source": [
    "### Various Numerical Attributes"
   ]
  },
  {
   "cell_type": "code",
   "execution_count": null,
   "metadata": {},
   "outputs": [],
   "source": [
    "various_df = games_df[['BGGId', 'Name',\n",
    "    'BestPlayers',# 'YearPublished',\n",
    "       'MfgPlaytime',\n",
    "       'BayesAvgRating',\n",
    "       'Rank:strategygames', 'Rank:abstracts', 'Rank:partygames',\n",
    "       'Rank:wargames', 'Rank:thematic', 'Rank:familygames',\n",
    "       'Rank:childrensgames', 'Rank:cgs', 'GameWeight']].copy()\n",
    "\n",
    "# Find the mask where 'Rank:strategygames' is NA\n",
    "mask = various_df['Rank:strategygames'].isna()\n",
    "\n",
    "# Assign the index positions only to the rows matching the mask\n",
    "various_df.loc[mask, 'Rank:strategygames'] = various_df.index[mask]\n",
    "\n",
    "# various_df['GameAgeYears'] = datetime.now().year - various_df['YearPublished']\n",
    "# various_df = various_df.drop(columns=['Name','YearPublished'], axis=1)\n",
    "\n",
    "various_df = various_df.drop(columns=['Name'], axis=1)\n",
    "\n",
    "various_df.columns = [x.lower() for x in various_df.columns]\n",
    "\n",
    "various_df.head()"
   ]
  },
  {
   "cell_type": "code",
   "execution_count": 29,
   "metadata": {},
   "outputs": [],
   "source": [
    "# sns.set(font_scale=1)\n",
    "# games_c = various_df.drop(\"Name\", axis=1).set_index(\"BGGId\").corr()\n",
    "# # plot a heat map for all correlations in our data set\n",
    "\n",
    "# # make our figure\n",
    "# fig, ax = plt.subplots(figsize=(10, 10))\n",
    "\n",
    "# # we want our heatmap to not show the upper triangle, which is redundant data\n",
    "# games_c_mask = np.triu(np.ones_like(games_c, dtype=bool))\n",
    "\n",
    "# # adjust mask and df to hide center diagonal\n",
    "# games_c_mask = games_c_mask[1:, :-1]\n",
    "# corr = games_c.iloc[1:, :-1].copy()\n",
    "\n",
    "# # color map\n",
    "# cmap = sns.diverging_palette(220, 20, as_cmap=True)\n",
    "\n",
    "# # plot heatmap\n",
    "# sns.heatmap(\n",
    "#     corr,\n",
    "#     mask=games_c_mask,\n",
    "#     annot=True,\n",
    "#     fmt=\".2f\",\n",
    "#     cmap=cmap,\n",
    "#     vmin=-1,\n",
    "#     vmax=1,\n",
    "#     cbar_kws={\"shrink\": 0.8},\n",
    "#     square=True,\n",
    "# )\n",
    "\n",
    "# # yticks rotate\n",
    "# plt.yticks(rotation=1)\n",
    "\n",
    "# # title\n",
    "# title = \"CORRELATION MATRIX\\nRanking Categories\\n\"\n",
    "# plt.title(title, fontsize=14)\n",
    "\n",
    "# # plt.savefig('images/heatmap.png')\n",
    "\n",
    "# plt.show()"
   ]
  },
  {
   "cell_type": "code",
   "execution_count": null,
   "metadata": {},
   "outputs": [],
   "source": [
    "various_df = various_df.set_index('bggid')\n",
    "\n",
    "scaler = MinMaxScaler(feature_range=(0,1))\n",
    "\n",
    "for col in various_df.columns:\n",
    "    various_df[col] = scaler.fit_transform(various_df[[col]])\n",
    "\n",
    "various_df = various_df.fillna(0)\n",
    "\n",
    "various_df.head(2)"
   ]
  },
  {
   "cell_type": "code",
   "execution_count": null,
   "metadata": {},
   "outputs": [],
   "source": [
    "model = \"various_attributes\"\n",
    "\n",
    "cosine_sims = cosine_distances(various_df).round(3)\n",
    "\n",
    "sims_byid = pd.DataFrame(cosine_sims, columns=bgg_ids, index=bgg_ids)\n",
    "\n",
    "arrays_df_storage[model] = sims_byid\n",
    "\n",
    "results = [id_game_map[x] for x in (sims_byid[game_id].sort_values(ascending=True)[:10].index)]\n",
    "results"
   ]
  },
  {
   "cell_type": "markdown",
   "metadata": {},
   "source": [
    "Sanity Checks"
   ]
  },
  {
   "cell_type": "code",
   "execution_count": null,
   "metadata": {},
   "outputs": [],
   "source": [
    "results_ids = [game_id_map[x] for x,y in game_id_map.items() if x in results]\n",
    "tester_df = various_df[various_df.index.isin(results_ids)]\n",
    "matching_columns = [x for x in tester_df.columns if tester_df[x].sum()>(tester_df.shape[0]*.01 + .001)]\n",
    "only_matches = tester_df[matching_columns]\n",
    "only_matches['name'] = only_matches.index.map(id_game_map)\n",
    "names = only_matches['name'].values\n",
    "only_matches"
   ]
  },
  {
   "cell_type": "code",
   "execution_count": null,
   "metadata": {},
   "outputs": [],
   "source": [
    "pd.DataFrame(cosine_distances(tester_df[matching_columns]), columns=names, index=names)"
   ]
  },
  {
   "cell_type": "markdown",
   "metadata": {},
   "source": [
    "## Vector DB Models"
   ]
  },
  {
   "cell_type": "markdown",
   "metadata": {},
   "source": [
    "### About Only"
   ]
  },
  {
   "cell_type": "code",
   "execution_count": 34,
   "metadata": {},
   "outputs": [],
   "source": [
    "# collection_name = \"about_only\"\n",
    "\n",
    "# about_df = rag_cleaned_sentences_df[['bggid','about']].copy()\n",
    "\n",
    "# weaviate_client.create_bgg_collection(collection_name=collection_name, reset=True, use_about=True)\n",
    "\n",
    "# about_df = weaviate_client.add_bgg_collection_batch(df=about_df, collection_name=collection_name, use_about=True)\n",
    "\n",
    "# about_df.to_pickle(f'{sims_dir}about_df.pkl')"
   ]
  },
  {
   "cell_type": "code",
   "execution_count": null,
   "metadata": {},
   "outputs": [],
   "source": [
    "collection_name = \"about_only\"\n",
    "\n",
    "about_df = pd.read_pickle(f'{sims_dir}about_df.pkl')\n",
    "models_df_storage[collection_name] = about_df\n",
    "\n",
    "picks = get_closet_picks(about_df, game_id, model=collection_name, n_picks=10)\n",
    "\n",
    "picks['name'] = [id_game_map[x] for x in picks['bggid']]\n",
    "\n",
    "picks"
   ]
  },
  {
   "cell_type": "markdown",
   "metadata": {},
   "source": [
    "### About and Description"
   ]
  },
  {
   "cell_type": "code",
   "execution_count": 36,
   "metadata": {},
   "outputs": [],
   "source": [
    "# collection_name = \"about_and_desc\"\n",
    "\n",
    "# desc_df = rag_cleaned_sentences_df[['bggid','about', 'description']].copy()\n",
    "\n",
    "# weaviate_client.create_bgg_collection(collection_name=collection_name, reset=True, use_about=True, use_description=True)\n",
    "\n",
    "# about_df = weaviate_client.add_bgg_collection_batch(df=desc_df, collection_name=collection_name, use_about=True, use_description=True)\n",
    "\n",
    "# desc_df.to_pickle(f'{sims_dir}desc_df.pkl')"
   ]
  },
  {
   "cell_type": "code",
   "execution_count": 37,
   "metadata": {},
   "outputs": [],
   "source": [
    "# collection_name = \"about_and_desc\"\n",
    "\n",
    "# desc_df = pd.read_pickle(f'{sims_dir}desc_df.pkl')\n",
    "# models_df_storage[collection_name] = desc_df\n",
    "\n",
    "# picks = get_closet_picks(desc_df, game_id, model=collection_name, n_picks=10)\n",
    "\n",
    "# picks['name'] = [id_game_map[x] for x in picks['bggid']]\n",
    "\n",
    "# picks"
   ]
  },
  {
   "cell_type": "markdown",
   "metadata": {},
   "source": [
    "### About and Keywords"
   ]
  },
  {
   "cell_type": "code",
   "execution_count": 38,
   "metadata": {},
   "outputs": [],
   "source": [
    "# collection_name = \"about_and_pros_cons\"\n",
    "\n",
    "# about_and_pros_cons = all_rag_attributes_df.drop(columns=['description']).copy()\n",
    "\n",
    "# weaviate_client.create_bgg_collection(collection_name=collection_name, reset=True, use_about=True, attributes=all_columns_to_produce)\n",
    "\n",
    "# about_df = weaviate_client.add_bgg_collection_batch(df=about_and_pros_cons, collection_name=collection_name, use_about=True, attributes=all_columns_to_produce)\n",
    "\n",
    "# about_and_pros_cons.to_pickle(f'{sims_dir}about_and_pros_cons.pkl')"
   ]
  },
  {
   "cell_type": "code",
   "execution_count": null,
   "metadata": {},
   "outputs": [],
   "source": [
    "collection_name = \"about_and_pros_cons\"\n",
    "\n",
    "about_and_pros_cons = pd.read_pickle(f'{sims_dir}about_and_pros_cons.pkl')\n",
    "models_df_storage[collection_name] = about_and_pros_cons\n",
    "\n",
    "picks = get_closet_picks(about_and_pros_cons, game_id, model=collection_name, n_picks=10)\n",
    "\n",
    "picks['name'] = [id_game_map[x] for x in picks['bggid']]\n",
    "\n",
    "picks"
   ]
  },
  {
   "cell_type": "markdown",
   "metadata": {},
   "source": [
    "### With Keywords, About, and Desc"
   ]
  },
  {
   "cell_type": "code",
   "execution_count": 40,
   "metadata": {},
   "outputs": [],
   "source": [
    "# collection_name = \"all_attributes\"\n",
    "\n",
    "# # Optional scaling of attributes\n",
    "# # scaler = MinMaxScaler(feature_range=(0,1))\n",
    "# # for col in all_columns_to_produce:\n",
    "# #     df[col] = scaler.fit_transform(df[[col]])\n",
    "\n",
    "# weaviate_client.create_bgg_collection(collection_name=collection_name, reset=True, use_about=True, use_description=True, attributes=all_columns_to_produce)\n",
    "\n",
    "# all_attributes_df = weaviate_client.add_bgg_collection_batch(df=all_rag_attributes_df, collection_name=collection_name, use_about=True, use_description=True, attributes=all_columns_to_produce)\n",
    "\n",
    "# all_attributes_df.to_pickle(f'{sims_dir}all_attributes_df.pkl')"
   ]
  },
  {
   "cell_type": "code",
   "execution_count": 41,
   "metadata": {},
   "outputs": [],
   "source": [
    "# collection_name = \"all_attributes\"\n",
    "\n",
    "# all_attributes_df = pd.read_pickle(f'{sims_dir}all_attributes_df.pkl')\n",
    "# models_df_storage[collection_name] = all_attributes_df\n",
    "\n",
    "# picks = get_closet_picks(all_attributes_df, game_id, model=collection_name, n_picks=10)\n",
    "\n",
    "# picks['name'] = [id_game_map[x] for x in picks['bggid']]\n",
    "\n",
    "# picks"
   ]
  },
  {
   "cell_type": "markdown",
   "metadata": {},
   "source": [
    "### All Comparisons"
   ]
  },
  {
   "cell_type": "code",
   "execution_count": null,
   "metadata": {},
   "outputs": [],
   "source": [
    "models_df_storage.keys(), arrays_df_storage.keys()"
   ]
  },
  {
   "cell_type": "code",
   "execution_count": null,
   "metadata": {},
   "outputs": [],
   "source": [
    "test_games"
   ]
  },
  {
   "cell_type": "code",
   "execution_count": 44,
   "metadata": {},
   "outputs": [],
   "source": [
    "game_name = test_games[-1]"
   ]
  },
  {
   "cell_type": "code",
   "execution_count": null,
   "metadata": {},
   "outputs": [],
   "source": [
    "all_game_results = {}\n",
    "for game_name in test_games:\n",
    "    all_game_results[game_name] = build_results_for_game(game_name)"
   ]
  },
  {
   "cell_type": "code",
   "execution_count": null,
   "metadata": {},
   "outputs": [],
   "source": [
    "all_game_results[\"Dominion\"]"
   ]
  },
  {
   "cell_type": "code",
   "execution_count": null,
   "metadata": {},
   "outputs": [],
   "source": [
    "all_game_results[\"Gloomhaven\"]"
   ]
  },
  {
   "cell_type": "code",
   "execution_count": null,
   "metadata": {},
   "outputs": [],
   "source": [
    "all_game_results[\"Everdell\"]"
   ]
  },
  {
   "cell_type": "code",
   "execution_count": null,
   "metadata": {},
   "outputs": [],
   "source": [
    "all_game_results[\"Pandemic\"]"
   ]
  },
  {
   "cell_type": "code",
   "execution_count": null,
   "metadata": {},
   "outputs": [],
   "source": [
    "all_game_results[\"Splendor\"]"
   ]
  },
  {
   "cell_type": "code",
   "execution_count": null,
   "metadata": {},
   "outputs": [],
   "source": [
    "all_game_results[\"Viticulture Essential Edition\"]"
   ]
  },
  {
   "cell_type": "code",
   "execution_count": null,
   "metadata": {},
   "outputs": [],
   "source": [
    "all_game_results[\"Great Western Trail\"]"
   ]
  },
  {
   "cell_type": "code",
   "execution_count": null,
   "metadata": {},
   "outputs": [],
   "source": [
    "all_game_results[\"Chess\"]"
   ]
  },
  {
   "cell_type": "code",
   "execution_count": null,
   "metadata": {},
   "outputs": [],
   "source": [
    "all_game_results[\"Azul\"]"
   ]
  },
  {
   "cell_type": "code",
   "execution_count": null,
   "metadata": {},
   "outputs": [],
   "source": [
    "all_game_results[\"Codenames\"]"
   ]
  },
  {
   "cell_type": "code",
   "execution_count": null,
   "metadata": {},
   "outputs": [],
   "source": [
    "all_game_results[\"Pandemic Legacy: Season 1\"]"
   ]
  }
 ],
 "metadata": {
  "kernelspec": {
   "display_name": "boardgamegeek-ZH0FNRKg",
   "language": "python",
   "name": "python3"
  },
  "language_info": {
   "codemirror_mode": {
    "name": "ipython",
    "version": 3
   },
   "file_extension": ".py",
   "mimetype": "text/x-python",
   "name": "python",
   "nbconvert_exporter": "python",
   "pygments_lexer": "ipython3",
   "version": "3.12.6"
  }
 },
 "nbformat": 4,
 "nbformat_minor": 2
}
