{
 "cells": [
  {
   "cell_type": "markdown",
   "id": "d3036688",
   "metadata": {},
   "source": [
    "# Notebook Objective and Setup\n",
    "\n",
    "BGG03 is the scrubbing and cleaning of the various data obtained in notebooks BGG01 and BGG02. The following datasets are cleaned, constructed, or otherwise prepared for EDA and modeling.\n",
    "\n",
    "    * Games\n",
    "    * Mechanics\n",
    "    * Subcategories\n",
    "    * Designers\n",
    "    * Artists\n",
    "    * Publishers\n",
    "    * Awards\n",
    "    * Ratings Distribution\n",
    "    * Comments\n",
    "    * Ratings Matrix"
   ]
  },
  {
   "cell_type": "markdown",
   "id": "91689d85",
   "metadata": {},
   "source": [
    "## Package Imports"
   ]
  },
  {
   "cell_type": "code",
   "execution_count": null,
   "id": "21981028",
   "metadata": {},
   "outputs": [],
   "source": [
    "import pandas as pd\n",
    "import numpy as np\n",
    "import requests\n",
    "import regex as re\n",
    "import time\n",
    "import os\n",
    "import gc\n",
    "import json\n",
    "\n",
    "# ignore warnings (gets rid of Pandas copy warnings)\n",
    "import warnings\n",
    "warnings.filterwarnings('ignore')\n",
    "pd.options.display.max_columns = None\n",
    "\n",
    "pd.set_option('display.max_columns', None)\n",
    "pd.set_option('display.max_rows', 30)\n",
    "\n",
    "# NLP tools\n",
    "import spacy\n",
    "nlp = spacy.load(\"en_core_web_sm\")\n",
    "import re\n",
    "import nltk\n",
    "from sklearn.feature_extraction.text import CountVectorizer, TfidfVectorizer\n",
    "from nltk.tokenize import word_tokenize"
   ]
  },
  {
   "cell_type": "markdown",
   "id": "7221c69a",
   "metadata": {},
   "source": [
    "## Notebook Functions"
   ]
  },
  {
   "cell_type": "code",
   "execution_count": null,
   "id": "454c7e68",
   "metadata": {},
   "outputs": [],
   "source": [
    "def integer_reduce(data, columns, fill_value=0):\n",
    "    '''\n",
    "    Reduces an integer type to its smallest memory size type\n",
    "    \n",
    "    Inputs:\n",
    "    data: dataframe to reduce\n",
    "    columns: columns to reduce\n",
    "    fill_value: fill value to use if none\n",
    "    \n",
    "    Returns: \n",
    "    data: dataframe with memory reduced data types\n",
    "    '''\n",
    "    for column in columns:\n",
    "        print(column)\n",
    "        data[column].fillna(fill_value, inplace=True)\n",
    "        if (data[column].max() <= 127) & (data[column].min() >= -128):\n",
    "            data[column] = data[column].astype('int8')\n",
    "        elif (data[column].max() <= 32767) & (data[column].min() >= -32768):\n",
    "            data[column] = data[column].astype('int16')\n",
    "        elif (data[column].max() <= 2147483647) & (data[column].min() >= -2147483648):\n",
    "            data[column] = data[column].astype('int32')\n",
    "        \n",
    "    return data"
   ]
  },
  {
   "cell_type": "code",
   "execution_count": null,
   "id": "05e2c3bd",
   "metadata": {},
   "outputs": [],
   "source": [
    "def text_block_processor(text):\n",
    "    '''Takes a block of text. Divides block into sentences with words lemmatized.\n",
    "    Sends each sentence to word processor. Concatenates all words into one string\n",
    "    Otherwise returns string of cleaned and processed words from text block\n",
    "    \n",
    "    ARGUMENTS:\n",
    "    block of text\n",
    "    '''\n",
    "    \n",
    "    text = str(text)\n",
    "    line = re.sub(r'[^a-zA-Z\\s]', '', text).lower() # removes all special characters and numbers, and makes lower case\n",
    "    line2 = re.sub(r'\\s{2}', '', line).lower() # removes extra blocks of 2 spaces\n",
    "    tokens = nlp(line)\n",
    "    words = []\n",
    "    for token in tokens:\n",
    "        if token.is_stop == False:\n",
    "            token_preprocessed = token.lemma_\n",
    "            if token_preprocessed != '': # only continues if returned word is not empty\n",
    "                words.append(token_preprocessed) # appends word to list of words\n",
    "    line = ' '.join(words)\n",
    "    \n",
    "    return line\n"
   ]
  },
  {
   "cell_type": "code",
   "execution_count": null,
   "id": "235df78d",
   "metadata": {},
   "outputs": [],
   "source": [
    "def fix_numbers(x):\n",
    "    '''\n",
    "    Checks for numbers or strings\n",
    "    If a string, strips off the \"k\" and multiply by 10000\n",
    "    Sends back cleaned int\n",
    "    '''\n",
    "    \n",
    "    if type(x) is int:\n",
    "        return int(x)\n",
    "    \n",
    "    if str.endswith(x, 'k'):\n",
    "        x = str(x).strip('k')\n",
    "        new_num = int(float(x)*1000)\n",
    "        return int(new_num)\n",
    "    \n",
    "    else: \n",
    "        return int(x)"
   ]
  },
  {
   "cell_type": "code",
   "execution_count": null,
   "id": "7818a2c4",
   "metadata": {},
   "outputs": [],
   "source": [
    "def clean_ratings(id_num, game_ids):\n",
    "    '''\n",
    "    Loads and cleans a raw user ratings file\n",
    "    Drops game ids not present in games file\n",
    "    Drops users with fewer than 10 ratings\n",
    "    \n",
    "    Inputs:\n",
    "    id_num: the appendation of the file to find the path\n",
    "    game_ids: list of game ids in the games file\n",
    "    \n",
    "    Outputs:\n",
    "    Cleaned user ratings file\n",
    "    '''\n",
    "    \n",
    "    print('\\nCleaning Frame #'+str(id_num))\n",
    "    \n",
    "    #load in raw users file according to id_num inputted\n",
    "    path = 'userid/user_ratings'+str(id_num)+'.pkl'\n",
    "    users = pd.read_pickle(path)\n",
    "    \n",
    "    # convert all datatypes to float\n",
    "    float_converted = users.astype('float')\n",
    "    \n",
    "    # delete and clean up raw users file\n",
    "    del users\n",
    "    gc.collect()\n",
    "    \n",
    "    # create intersection between user file and game list ids\n",
    "    float_converted.columns = float_converted.columns.astype('int32')\n",
    "    cleaned = float_converted[float_converted.columns.intersection(game_ids)]\n",
    "    \n",
    "    # delete and clean up\n",
    "    del float_converted\n",
    "    gc.collect()\n",
    "    \n",
    "    # make a list of users with fewer than 5 user ratings\n",
    "    sums = cleaned.count(axis=1)<5\n",
    "    # get indices for the rows with fewer than 5 ratings\n",
    "    drop_these = sums.loc[sums==True].index\n",
    "    # drop the users with fewer than 5 ratings\n",
    "    cleaned.drop(drop_these, axis=0, inplace=True)\n",
    "    \n",
    "    \n",
    "    # print memory usage\n",
    "    print(cleaned.info())\n",
    "    \n",
    "    # return cleaned file\n",
    "    return cleaned"
   ]
  },
  {
   "cell_type": "code",
   "execution_count": null,
   "id": "08f5eb98",
   "metadata": {},
   "outputs": [],
   "source": [
    "def create_ratings_file(start_file, end_file, game_ids):\n",
    "    '''\n",
    "    Puts together dataframes from a range of files\n",
    "    Each file calls the clean_ratings function\n",
    "    Then all files in range are concatenated\n",
    "    \n",
    "    Inputs:\n",
    "    start_file: start of file name appendation\n",
    "    end_file: end file name appendation\n",
    "    game_ids_list: list of game ids in the games file\n",
    "    \n",
    "    Outputs:\n",
    "    Cleaned and concatenated master file\n",
    "    \n",
    "    '''\n",
    "    \n",
    "    # make an empty dataframe\n",
    "    master_file = pd.DataFrame()\n",
    "    \n",
    "    # for each number in the range from start to end:\n",
    "    for id_num in np.arange(start_file,end_file+1,1):\n",
    "        print(id_num)\n",
    "        # clean the file calling clean_ratings\n",
    "        cleaned_item = clean_ratings(id_num, game_ids)\n",
    "        # append the file to the dataframe\n",
    "        master_file = pd.concat([master_file, cleaned_item], axis=0)\n",
    "    \n",
    "    master_file.drop_duplicates(keep='first', inplace=True)\n",
    "    \n",
    "    # clean up\n",
    "    del cleaned_item\n",
    "    gc.collect()\n",
    "    \n",
    "    return master_file"
   ]
  },
  {
   "cell_type": "markdown",
   "id": "cd9f15a3",
   "metadata": {},
   "source": [
    "# Games Files"
   ]
  },
  {
   "cell_type": "code",
   "execution_count": null,
   "id": "abc1576f",
   "metadata": {},
   "outputs": [],
   "source": [
    "games = pd.read_pickle('data_dirty_new_scraper/games.pkl')\n",
    "games"
   ]
  },
  {
   "cell_type": "code",
   "execution_count": null,
   "id": "e957975b",
   "metadata": {},
   "outputs": [],
   "source": [
    "games['Theme'].unique()"
   ]
  },
  {
   "cell_type": "code",
   "execution_count": null,
   "id": "6ed5c7ca",
   "metadata": {
    "scrolled": true
   },
   "outputs": [],
   "source": [
    "# Get info, make note of datatypes and memory usage\n",
    "games.info()"
   ]
  },
  {
   "cell_type": "code",
   "execution_count": null,
   "id": "5d8f9d3a",
   "metadata": {},
   "outputs": [],
   "source": [
    "#drops = games.loc[games['BGGId']==0].index # get indices of any games with no BGGId\n",
    "#drops\n",
    "#games.drop(games.loc[drops].index, axis=0, inplace=True) # drop games with no BGGId"
   ]
  },
  {
   "cell_type": "code",
   "execution_count": null,
   "id": "204fc961",
   "metadata": {},
   "outputs": [],
   "source": [
    "games.drop_duplicates(subset='BGGId', keep='first', inplace=True) # drop duplicate entires\n",
    "\n",
    "# drop non-boardgame related information\n",
    "games.drop(['NumAwards', 'NumFans', 'NumPageViews', 'RulesPosts', 'TotalPosts', 'Category', 'IsExpansion', 'Rank:rpgitem', 'Rank:boardgameaccessory', 'Rank:videogame', 'Rank:amiga', 'Rank:commodore64', 'Rank:arcade', 'Rank:atarist'], axis=1, inplace=True)\n",
    "\n",
    "games.shape # check shape of file"
   ]
  },
  {
   "cell_type": "code",
   "execution_count": null,
   "id": "dfd4fa44",
   "metadata": {},
   "outputs": [],
   "source": [
    "# what are the columns?\n",
    "games.columns"
   ]
  },
  {
   "cell_type": "code",
   "execution_count": null,
   "id": "4c1a643b",
   "metadata": {},
   "outputs": [],
   "source": [
    "games['BestPlayers'].fillna(0, inplace=True) # Fill NaN on BestPlayers\n",
    "games['BestPlayers'].unique() # What are the unique BestPlayers entries?"
   ]
  },
  {
   "cell_type": "code",
   "execution_count": null,
   "id": "4db92d3b",
   "metadata": {},
   "outputs": [],
   "source": [
    "# Clean up Best Players so all are integers\n",
    "games.loc[(games['BestPlayers']=='3+'), 'BestPlayers'] = 3\n",
    "games.loc[(games['BestPlayers']=='0+'), 'BestPlayers'] = 4\n",
    "\n",
    "# change dtype on BestPlayers to int8\n",
    "games['BestPlayers'] = games['BestPlayers'].astype('int8')"
   ]
  },
  {
   "cell_type": "code",
   "execution_count": null,
   "id": "c66551c9",
   "metadata": {},
   "outputs": [],
   "source": [
    "# Add Categories with binary flags\n",
    "games.loc[games['Rank:thematic'].notna(), 'Cat:Thematic'] = int(1)\n",
    "games.loc[games['Rank:strategygames'].notna(), 'Cat:Strategy'] = int(1)\n",
    "games.loc[games['Rank:wargames'].notna(), 'Cat:War'] = int(1)\n",
    "games.loc[games['Rank:familygames'].notna(), 'Cat:Family'] = int(1)\n",
    "games.loc[games['Rank:cgs'].notna(), 'Cat:CGS'] = int(1)\n",
    "games.loc[games['Rank:abstracts'].notna(), 'Cat:Abstract'] = int(1)\n",
    "games.loc[games['Rank:partygames'].notna(), 'Cat:Party'] = int(1)\n",
    "games.loc[games['Rank:childrensgames'].notna(), 'Cat:Childrens'] = int(1)"
   ]
  },
  {
   "cell_type": "code",
   "execution_count": null,
   "id": "9ea53202",
   "metadata": {
    "scrolled": true
   },
   "outputs": [],
   "source": [
    "# prepare different column sets for memory integer reduction\n",
    "\n",
    "# integer reduction with fill_values of 0\n",
    "int_columns=['BGGId', 'YearPublished', 'MinPlayers', 'MaxPlayers', 'NumOwned',\n",
    "       'NumWant', 'NumWish', 'NumWeightVotes', 'MfgPlaytime', 'ComMinPlaytime',\n",
    "       'ComMaxPlaytime','MfgAgeRec', 'NumUserRatings', 'NumComments',\n",
    "       'NumAlternates', 'NumExpansions', 'NumImplementations',\n",
    "       'IsReimplementation', 'Kickstarted', 'Cat:Thematic', 'Cat:Strategy', \n",
    "        'Cat:War', 'Cat:Family', 'Cat:CGS', 'Cat:Abstract', 'Cat:Party', 'Cat:Childrens']\n",
    "\n",
    "# integer reduction with fill_values of 21926 (lower is better on these)\n",
    "ranks = ['Rank:boardgame', 'Rank:thematic', 'Rank:strategygames',\n",
    "       'Rank:wargames', 'Rank:familygames', 'Rank:cgs', 'Rank:abstracts',\n",
    "       'Rank:partygames', 'Rank:childrensgames']\n",
    "\n",
    "# call integer_reduce on the sets\n",
    "games = integer_reduce(games, int_columns, fill_value=0)\n",
    "\n",
    "games = integer_reduce(games, ranks, fill_value=21926)\n",
    "\n",
    "games.info() # recheck data types and memory usage"
   ]
  },
  {
   "cell_type": "code",
   "execution_count": null,
   "id": "dbd88b57",
   "metadata": {},
   "outputs": [],
   "source": [
    "# any games with no name listed?\n",
    "games.loc[games['Name']==0]"
   ]
  },
  {
   "cell_type": "code",
   "execution_count": null,
   "id": "28443406",
   "metadata": {},
   "outputs": [],
   "source": [
    "# if so, drop them and reset index\n",
    "#empty_games = list(games.loc[games['Name']==0].index)\n",
    "#games.drop(games.index[empty_games], inplace=True)\n",
    "#games.reset_index(inplace=True, drop=True)"
   ]
  },
  {
   "cell_type": "code",
   "execution_count": null,
   "id": "7275b869",
   "metadata": {},
   "outputs": [],
   "source": [
    "# Drop all games that are not yet released, then reset index\n",
    "#not_released = list(games.loc[games['YearPublished']>2021].index)\n",
    "#games.drop(games.index[not_released], inplace=True)\n",
    "#games.reset_index(inplace=True, drop=True)"
   ]
  },
  {
   "cell_type": "code",
   "execution_count": null,
   "id": "58c4e8fc",
   "metadata": {},
   "outputs": [],
   "source": [
    "# All games with over 12 players are set at 13 players.\n",
    "games.loc[games['MaxPlayers']>12, 'MaxPlayers'] = 13"
   ]
  },
  {
   "cell_type": "code",
   "execution_count": null,
   "id": "ab13a3eb",
   "metadata": {},
   "outputs": [],
   "source": [
    "# Games with min players of 0, we will set their min players = 2\n",
    "games.loc[games['MinPlayers']<1, 'MaxPlayers'] = 2"
   ]
  },
  {
   "cell_type": "code",
   "execution_count": null,
   "id": "7f09b9c7",
   "metadata": {},
   "outputs": [],
   "source": [
    "themes = pd.DataFrame(games['Theme'])\n",
    "games.drop('Theme', axis=1, inplace=True)"
   ]
  },
  {
   "cell_type": "code",
   "execution_count": null,
   "id": "ed7ee65e",
   "metadata": {},
   "outputs": [],
   "source": [
    "# process the Description column text\n",
    "games['Description'] = games['Description'].apply(lambda x: text_block_processor(x))"
   ]
  },
  {
   "cell_type": "code",
   "execution_count": null,
   "id": "6fdaba48",
   "metadata": {},
   "outputs": [],
   "source": [
    "games.reset_index(inplace=True, drop=True)"
   ]
  },
  {
   "cell_type": "code",
   "execution_count": null,
   "id": "120bb277",
   "metadata": {},
   "outputs": [],
   "source": [
    "# Cleaned and prepared games frame\n",
    "games"
   ]
  },
  {
   "cell_type": "code",
   "execution_count": null,
   "id": "f062f687",
   "metadata": {},
   "outputs": [],
   "source": [
    "# save to file\n",
    "games.to_pickle('data_cleaned_new_scraper/games.pkl')"
   ]
  },
  {
   "cell_type": "markdown",
   "id": "d4ca5dbd",
   "metadata": {},
   "source": [
    "## Mechanics and Subcategories"
   ]
  },
  {
   "cell_type": "markdown",
   "id": "699eff70",
   "metadata": {},
   "source": [
    "### Load and Clean Mechanics"
   ]
  },
  {
   "cell_type": "code",
   "execution_count": null,
   "id": "07ed995a",
   "metadata": {},
   "outputs": [],
   "source": [
    "# Load mechanics and check memory usage\n",
    "mechanics = pd.read_pickle('data_dirty_new_scraper/mechanics.pkl')\n",
    "mechanics"
   ]
  },
  {
   "cell_type": "code",
   "execution_count": null,
   "id": "5a770ec1",
   "metadata": {},
   "outputs": [],
   "source": [
    "mechanics.drop_duplicates(subset='BGGId', keep='first', inplace=True)  # drop duplicates\n",
    "mechanics.fillna(0, inplace=True) # fill nan\n",
    "\n",
    "mechanics.reset_index(inplace=True, drop=True) # reset index\n",
    "mechanics.info() # check memory usage"
   ]
  },
  {
   "cell_type": "code",
   "execution_count": null,
   "id": "6676b389",
   "metadata": {},
   "outputs": [],
   "source": [
    "# Clean up mechanics\n",
    "# Here we are using our domain knowledge to compact several different catogories into one\n",
    "\n",
    "auction_list = ['Auction: Dexterity','Auction: Dutch','Auction: Dutch Priority',\n",
    "                'Auction: Fixed Placement','Auction: English','Auction: Once Around','Auction: Sealed Bid',\n",
    "                'Auction: Turn Order Until Pass','Multiple-Lot Auction','Closed Economy Auction','Selection Order Bid',\n",
    "                'Constrained Bidding']\n",
    "\n",
    "turn_order_list = ['Turn Order: Auction','Turn Order: Claim Action','Turn Order: Pass Order',\n",
    "                   'Turn Order: Progressive','Turn Order: Random','Turn Order: Role Order','Turn Order: Stat-Based']\n",
    "\n",
    "dumb_physical_list = ['Acting','Hot Potato','Singing','Rock-Paper-Scissors']\n",
    "\n",
    "drafting = ['Card Drafting']\n",
    "\n",
    "legacy = ['Legacy']\n",
    "\n",
    "worker_placement = ['Worker Placement with Dice Workers','Worker Placement, Different Worker Types'] #'Worker Placement',\n",
    "\n",
    "dexterity = ['Stacking and Balancing', 'Flicking']\n",
    "\n",
    "# compacting categories here:\n",
    "\n",
    "for item in worker_placement:\n",
    "    mechanics.loc[mechanics[item]==1, 'Worker Placement'] = int(1)\n",
    "    mechanics.drop([item], axis=1, inplace=True)\n",
    "\n",
    "for item in auction_list:\n",
    "    mechanics.loc[mechanics[item]==1, 'Auction/Bidding'] = int(1)\n",
    "    mechanics.drop([item], axis=1, inplace=True)\n",
    "\n",
    "mechanics['Dexterity'] = int(0)\n",
    "for item in dexterity:\n",
    "    mechanics.loc[mechanics[item]==1, 'Dexterity'] = int(1)\n",
    "    mechanics.drop([item], axis=1, inplace=True)\n",
    "    \n",
    "mechanics['Physical'] = int(0)\n",
    "for item in dumb_physical_list:\n",
    "    mechanics.loc[mechanics[item]==1, 'Physical'] = int(1)\n",
    "    mechanics.drop([item], axis=1, inplace=True)\n",
    "    \n",
    "mechanics.loc[mechanics['Card Drafting']==1, 'Drafting'] = int(1)\n",
    "\n",
    "mechanics.loc[mechanics['Legacy']==1, 'Legacy Game'] = int(1)\n",
    "\n",
    "mechanics.drop(turn_order_list, axis=1, inplace=True)\n",
    "mechanics.drop(['Card Drafting','Legacy'], axis=1, inplace=True)"
   ]
  },
  {
   "cell_type": "code",
   "execution_count": null,
   "id": "d11cf2ea",
   "metadata": {},
   "outputs": [],
   "source": [
    "columns = mechanics.columns\n",
    "\n",
    "# call integer_reduce on the sets\n",
    "mechanics = integer_reduce(mechanics, columns, fill_value=0)"
   ]
  },
  {
   "cell_type": "code",
   "execution_count": null,
   "id": "605f6c67",
   "metadata": {},
   "outputs": [],
   "source": [
    "mechanics"
   ]
  },
  {
   "cell_type": "markdown",
   "id": "1dc5d37d",
   "metadata": {},
   "source": [
    "### Load and Clean Subcategories"
   ]
  },
  {
   "cell_type": "code",
   "execution_count": null,
   "id": "79310697",
   "metadata": {},
   "outputs": [],
   "source": [
    "themes_expanded = pd.get_dummies(themes)\n",
    "theme_sort = pd.DataFrame(themes_expanded.sum().sort_values(ascending=False))\n",
    "themes_over_1 = list(theme_sort.loc[theme_sort[0]>1].index)\n",
    "themes_attach = themes_expanded[themes_over_1]\n",
    "themes_attach"
   ]
  },
  {
   "cell_type": "code",
   "execution_count": null,
   "id": "c3802db1",
   "metadata": {},
   "outputs": [],
   "source": [
    "columns = themes_attach.columns\n",
    "\n",
    "# call integer_reduce on the sets\n",
    "themes_attach = integer_reduce(themes_attach, columns, fill_value=0)"
   ]
  },
  {
   "cell_type": "code",
   "execution_count": null,
   "id": "46facb36",
   "metadata": {
    "scrolled": true
   },
   "outputs": [],
   "source": [
    "# load subcategories file and check memory usage\n",
    "\n",
    "indices = list(games['BGGId'])\n",
    "subcategories = pd.read_pickle('data_dirty_new_scraper/subcategories.pkl')\n",
    "subcategories.info()"
   ]
  },
  {
   "cell_type": "code",
   "execution_count": null,
   "id": "3a5be0c3",
   "metadata": {},
   "outputs": [],
   "source": [
    "subcategories.reset_index(inplace=True, drop=True) # reset index"
   ]
  },
  {
   "cell_type": "code",
   "execution_count": null,
   "id": "434ace31",
   "metadata": {},
   "outputs": [],
   "source": [
    "subcategories.drop_duplicates(subset='BGGId', keep='first', inplace=True) # drop duplicates\n",
    "subcategories.fillna(0, inplace=True) # fill nan\n",
    "#subcategories.set_index('BGGId', drop=True, inplace=True) # drop bad games\n",
    "#subcategories = subcategories.loc[indices] # use only indices in games file\n",
    "\n",
    "columns = subcategories.columns\n",
    "\n",
    "# call integer_reduce on the sets\n",
    "subcategories = integer_reduce(subcategories, columns, fill_value=0)\n",
    "\n",
    "\n",
    "subcategories"
   ]
  },
  {
   "cell_type": "markdown",
   "id": "2f13f6ba",
   "metadata": {},
   "source": [
    "### Clean/Combine Mechanics and Subcategories"
   ]
  },
  {
   "cell_type": "markdown",
   "id": "d13cfeb0",
   "metadata": {},
   "source": [
    "Manually cleaning up Subcategories. This section on BGG has a lot of \"catch-all\" concept that involve theming, mechanics (which should be in the mechanics section), and large subcategories that should be alone. We use our domain knowledge to clean this section."
   ]
  },
  {
   "cell_type": "code",
   "execution_count": null,
   "id": "109c58b3",
   "metadata": {},
   "outputs": [],
   "source": [
    "# print our subcategories so we can prepare to sort them\n",
    "subcategories.columns"
   ]
  },
  {
   "cell_type": "code",
   "execution_count": null,
   "id": "26571b4a",
   "metadata": {},
   "outputs": [],
   "source": [
    "# picking the items that will go under \"themes\"\n",
    "subcats_themes = ['BGGId', 'Adventure', 'Fantasy', 'Fighting', 'Environmental', 'Medical', 'Economic',\n",
    "       'Industry / Manufacturing', 'Transportation', 'Science Fiction',\n",
    "       'Space Exploration', 'Civilization', 'Civil War',\n",
    "       'Movies / TV / Radio theme', 'Novel-based',\n",
    "       'Age of Reason', 'Mythology', 'Renaissance', 'American West', 'Animals',\n",
    "       'Modern Warfare', 'Medieval', 'Ancient','Nautical', 'Post-Napoleonic', 'Horror',\n",
    "         'Farming', 'Religious', 'Travel',\n",
    "       'Murder/Mystery', 'Pirates', 'Comic Book / Strip', 'Mature / Adult',\n",
    "       'Video Game Theme', 'Spies/Secret Agents','Arabian', 'Prehistoric',\n",
    "                 'Trains','Aviation / Flight', 'Zombies',\n",
    "       'World War II', 'Racing', 'Pike and Shot', 'World War I','Humor','Sports',\n",
    "                 'Mafia','American Indian Wars', 'Napoleonic',\n",
    "       'American Revolutionary War','Vietnam War', 'American Civil War','Number', 'Trivia',\n",
    "       'Music', 'Korean War', 'City Building', 'Political', 'Math', 'Maze',]"
   ]
  },
  {
   "cell_type": "code",
   "execution_count": null,
   "id": "5bdffc01",
   "metadata": {},
   "outputs": [],
   "source": [
    "# picking the items that will stay as subcategories\n",
    "subcats_subcategories = ['BGGId', 'Exploration', 'Miniatures', 'Territory Building', 'Card Game',\n",
    "             'Educational', 'Puzzle','Collectible Components',\n",
    "        'Word Game','Print & Play','Electronic']"
   ]
  },
  {
   "cell_type": "code",
   "execution_count": null,
   "id": "36038fa3",
   "metadata": {
    "scrolled": true
   },
   "outputs": [],
   "source": [
    "# looking at our mechanics in alphabetical order so we can see where to roll in the subcategory mechanics\n",
    "sorted(mechanics.columns)"
   ]
  },
  {
   "cell_type": "code",
   "execution_count": null,
   "id": "001d3bcf",
   "metadata": {},
   "outputs": [],
   "source": [
    "# drop subcategories that are none of the things\n",
    "subcategories.drop(['Expansion for Base-game',  'Game System', 'Book'], axis=1, inplace=True)"
   ]
  },
  {
   "cell_type": "code",
   "execution_count": null,
   "id": "8f9f329a",
   "metadata": {},
   "outputs": [],
   "source": [
    "# for mechanics that are mistakenly in the subcategories frame, make sure those mechanics are in the mechanics frame instead\n",
    "# remove them from the subcategories frame after moving them over\n",
    "\n",
    "indices = list(subcategories.loc[subcategories['Negotiation']==1].index)\n",
    "mechanics.loc[indices, 'Negotiation']=1\n",
    "subcategories.drop('Negotiation', axis=1, inplace=True)\n",
    "\n",
    "indices = list(subcategories.loc[subcategories['Action / Dexterity']==1].index)\n",
    "mechanics.loc[indices, 'Dexterity']=1\n",
    "subcategories.drop('Action / Dexterity', axis=1, inplace=True)\n",
    "\n",
    "indices = list(subcategories.loc[subcategories['Dice']==1].index)\n",
    "mechanics.loc[indices, 'Dice Rolling']=1\n",
    "subcategories.drop('Dice', axis=1, inplace=True)\n",
    "\n",
    "indices = list(subcategories.loc[subcategories['Bluffing']==1].index)\n",
    "mechanics.loc[indices, 'Betting and Bluffing']=1\n",
    "subcategories.drop('Bluffing', axis=1, inplace=True)\n",
    "\n",
    "indices = list(subcategories.loc[subcategories['Real-time']==1].index)\n",
    "mechanics.loc[indices, 'Real-Time']=1\n",
    "subcategories.drop('Real-time', axis=1, inplace=True)\n",
    "\n",
    "indices = list(subcategories.loc[subcategories['Memory']==1].index)\n",
    "mechanics.loc[indices, 'Memory']=1\n",
    "subcategories.drop('Memory', axis=1, inplace=True)\n",
    "\n",
    "indices = list(subcategories.loc[subcategories['Deduction']==1].index)\n",
    "mechanics.loc[indices, 'Deduction']=1\n",
    "subcategories.drop('Deduction', axis=1, inplace=True)\n"
   ]
  },
  {
   "cell_type": "code",
   "execution_count": null,
   "id": "f6fa948c",
   "metadata": {},
   "outputs": [],
   "source": [
    "# or for larger categories in the subcategories frame, move those to the games frame\n",
    "# remove them from the subcategories frame after moving them over\n",
    "\n",
    "indices = list(subcategories.loc[subcategories['Wargame']==1].index)\n",
    "games.loc[indices, 'Cat:War']=1\n",
    "subcategories.drop('Wargame', axis=1, inplace=True)\n",
    "\n",
    "indices = list(subcategories.loc[subcategories[\"Children's Game\"]==1].index)\n",
    "games.loc[indices, 'Cat:Childrens']=1\n",
    "subcategories.drop(\"Children's Game\", axis=1, inplace=True)\n",
    "\n",
    "indices = list(subcategories.loc[subcategories['Party Game']==1].index)\n",
    "games.loc[indices, 'Cat:Party']=1\n",
    "subcategories.drop('Party Game', axis=1, inplace=True)\n",
    "\n",
    "indices = list(subcategories.loc[subcategories['Abstract Strategy']==1].index)\n",
    "games.loc[indices, 'Cat:Abstract']=1\n",
    "subcategories.drop('Abstract Strategy', axis=1, inplace=True)"
   ]
  },
  {
   "cell_type": "code",
   "execution_count": null,
   "id": "8af7b9b5",
   "metadata": {},
   "outputs": [],
   "source": [
    "# make new data frames for THEMES and SUBCATEGORIES\n",
    "themes = subcategories[subcats_themes]\n",
    "themes = pd.concat([themes, themes_attach], axis=1)\n",
    "subcategories = subcategories[subcats_subcategories]"
   ]
  },
  {
   "cell_type": "markdown",
   "id": "86bee9ef",
   "metadata": {},
   "source": [
    "Save all the file we just cleaned or created!"
   ]
  },
  {
   "cell_type": "code",
   "execution_count": null,
   "id": "9b0c7333",
   "metadata": {},
   "outputs": [],
   "source": [
    "mechanics.to_pickle('data_cleaned_new_scraper/mechanics.pkl')"
   ]
  },
  {
   "cell_type": "code",
   "execution_count": null,
   "id": "ea8c6004",
   "metadata": {},
   "outputs": [],
   "source": [
    "subcategories.to_pickle('data_cleaned_new_scraper/subcategories.pkl')"
   ]
  },
  {
   "cell_type": "code",
   "execution_count": null,
   "id": "b3aec3dc",
   "metadata": {},
   "outputs": [],
   "source": [
    "themes.to_pickle('data_cleaned_new_scraper/themes.pkl')"
   ]
  },
  {
   "cell_type": "markdown",
   "id": "16a5c351",
   "metadata": {},
   "source": [
    "## Designers"
   ]
  },
  {
   "cell_type": "code",
   "execution_count": null,
   "id": "c227aad3",
   "metadata": {},
   "outputs": [],
   "source": [
    "# Load up our designers file!\n",
    "designers = pd.read_pickle('data_dirty_new_scraper/designers.pkl')\n",
    "designers.info()"
   ]
  },
  {
   "cell_type": "code",
   "execution_count": null,
   "id": "e77e2a35",
   "metadata": {
    "scrolled": true
   },
   "outputs": [],
   "source": [
    "designers.drop_duplicates(subset='BGGId', keep='first', inplace=True) # drop duplicates\n",
    "designers.fillna(0, inplace=True) # Fill NaN\n",
    "\n",
    "# change all flags to int8\n",
    "temp_id = designers['BGGId'] \n",
    "designers.drop('BGGId', axis=1, inplace=True)\n",
    "designers = designers.astype('int8')\n",
    "designers['BGGId'] = temp_id\n",
    "\n",
    "designers.reset_index(inplace=True, drop=True)# reset index\n",
    "designers.info() # check memory usage"
   ]
  },
  {
   "cell_type": "code",
   "execution_count": null,
   "id": "4a4e2733",
   "metadata": {},
   "outputs": [],
   "source": [
    "# save file of all possible designers\n",
    "designers.to_pickle('data_cleaned_new_scraper/designers_all.pkl')"
   ]
  },
  {
   "cell_type": "code",
   "execution_count": null,
   "id": "371ee642",
   "metadata": {},
   "outputs": [],
   "source": [
    "# locate all row that sum to 3 or less (find low experience designers)\n",
    "\n",
    "# change the 3 to whatever desired for more or less experience\n",
    "lowexp_rows = designers.loc[:, designers.sum(axis=0) <= 3]\n",
    "\n",
    "# Locate the columns that contain the low experience designers\n",
    "lowexp_columns = lowexp_rows[lowexp_rows.sum(axis=1) > 0]\n",
    "\n",
    "# get indices of those low-exp columns\n",
    "indices = lowexp_columns.index\n",
    "\n",
    "# make new column for low exp designer\n",
    "designers['Low-Exp Designer'] = 0\n",
    "\n",
    "# for each index in the low exp list, set low exp designer to 1\n",
    "for index in indices:\n",
    "    designers.loc[index, 'Low-Exp Designer'] = 1\n",
    "    \n",
    "# drop all columns for one-off designers\n",
    "designers.drop(designers.loc[:, designers.sum(axis=0) <= 3], axis=1, inplace=True)"
   ]
  },
  {
   "cell_type": "code",
   "execution_count": null,
   "id": "4efecfae",
   "metadata": {},
   "outputs": [],
   "source": [
    "# save file of designers reduced to 3 or more works\n",
    "designers.to_pickle('data_cleaned_new_scraper/designers_reduced.pkl')"
   ]
  },
  {
   "cell_type": "markdown",
   "id": "94d12cf7",
   "metadata": {},
   "source": [
    "## Artists"
   ]
  },
  {
   "cell_type": "code",
   "execution_count": null,
   "id": "79376597",
   "metadata": {},
   "outputs": [],
   "source": [
    "# load artists file\n",
    "artists = pd.read_pickle('data_dirty_new_scraper/artists.pkl')\n",
    "artists.info()"
   ]
  },
  {
   "cell_type": "code",
   "execution_count": null,
   "id": "5ec9c35f",
   "metadata": {},
   "outputs": [],
   "source": [
    "artists.drop_duplicates(subset='BGGId', keep='first', inplace=True) # drop duplicates\n",
    "artists.fillna(0, inplace=True) # fill nan\n",
    "\n",
    "# convert flags to int8\n",
    "temp_id = artists['BGGId']\n",
    "artists.drop('BGGId', axis=1, inplace=True)\n",
    "artists = artists.astype('int8')\n",
    "artists['BGGId'] = temp_id\n",
    "\n",
    "artists.reset_index(inplace=True, drop=True)# reset index\n",
    "artists.info()# get memory usage"
   ]
  },
  {
   "cell_type": "code",
   "execution_count": null,
   "id": "8a50ad07",
   "metadata": {},
   "outputs": [],
   "source": [
    "# save all artists to file\n",
    "artists.to_pickle('data_cleaned_new_scraper/artists_all.pkl')"
   ]
  },
  {
   "cell_type": "code",
   "execution_count": null,
   "id": "f2be019e",
   "metadata": {},
   "outputs": [],
   "source": [
    "# locate all row that sum to 3 or less (find low experience artists)\n",
    "\n",
    "# change the 3 to whatever desired for more or less experience\n",
    "lowexp_rows = artists.loc[:, artists.sum(axis=0) <= 3]\n",
    "\n",
    "# Locate the columns that contain the low experience artists\n",
    "lowexp_columns = lowexp_rows[lowexp_rows.sum(axis=1) > 0]\n",
    "\n",
    "# get indices of those low-exp columns\n",
    "indices = lowexp_columns.index\n",
    "\n",
    "# make new column for low exp Artist\n",
    "artists['Low-Exp Artist'] = 0\n",
    "\n",
    "# for each index in the low exp list, set low exp Artist to 1\n",
    "for index in indices:\n",
    "    artists.loc[index, 'Low-Exp Artist'] = 1\n",
    "    \n",
    "# drop all columns for one-off artists\n",
    "artists.drop(artists.loc[:, artists.sum(axis=0) <= 3], axis=1, inplace=True)"
   ]
  },
  {
   "cell_type": "code",
   "execution_count": null,
   "id": "eeecb0d5",
   "metadata": {},
   "outputs": [],
   "source": [
    "# save artists to file reduces to 3 or more works\n",
    "artists.to_pickle('data_cleaned_new_scraper/artists_reduced.pkl')"
   ]
  },
  {
   "cell_type": "markdown",
   "id": "3b1c4fa5",
   "metadata": {},
   "source": [
    "## Publishers"
   ]
  },
  {
   "cell_type": "code",
   "execution_count": null,
   "id": "127c2837",
   "metadata": {},
   "outputs": [],
   "source": [
    "# load publishers\n",
    "publishers = pd.read_pickle('data_dirty_new_scraper/publishers.pkl')\n",
    "publishers.info()"
   ]
  },
  {
   "cell_type": "code",
   "execution_count": null,
   "id": "1ac644a8",
   "metadata": {},
   "outputs": [],
   "source": [
    "publishers.drop_duplicates(subset='BGGId', keep='first', inplace=True) # drop duplicates\n",
    "publishers.fillna(0, inplace=True)# fill nan\n",
    "\n",
    "# set flags to int8\n",
    "temp_id = publishers['BGGId']\n",
    "publishers.drop('BGGId', axis=1, inplace=True)\n",
    "publishers = publishers.astype('int8')\n",
    "publishers['BGGId'] = temp_id\n",
    "\n",
    "publishers.reset_index(inplace=True, drop=True) # reset index\n",
    "publishers.info() # get memory usage"
   ]
  },
  {
   "cell_type": "code",
   "execution_count": null,
   "id": "475303cb",
   "metadata": {},
   "outputs": [],
   "source": [
    "# save all publishers to file\n",
    "publishers.to_pickle('data_cleaned_new_scraper/publishers_all.pkl')"
   ]
  },
  {
   "cell_type": "code",
   "execution_count": null,
   "id": "9807a849",
   "metadata": {},
   "outputs": [],
   "source": [
    "# locate all row that sum to 3 or less (find low experience publishers)\n",
    "\n",
    "# change the 3 to whatever desired for more or less experience\n",
    "lowexp_rows = publishers.loc[:, publishers.sum(axis=0) <= 3]\n",
    "\n",
    "# Locate the columns that contain the low experience publishers\n",
    "lowexp_columns = lowexp_rows[lowexp_rows.sum(axis=1) > 0]\n",
    "\n",
    "# get indices of those low-exp columns\n",
    "indices = lowexp_columns.index\n",
    "\n",
    "# make new column for low exp Publisher\n",
    "publishers['Low-Exp Publisher'] = 0\n",
    "\n",
    "# for each index in the low exp list, set low exp Publisher to 1\n",
    "for index in indices:\n",
    "    publishers.loc[index, 'Low-Exp Publisher'] = 1\n",
    "    \n",
    "# drop all columns for one-off publishers\n",
    "publishers.drop(publishers.loc[:, publishers.sum(axis=0) <= 3], axis=1, inplace=True)"
   ]
  },
  {
   "cell_type": "code",
   "execution_count": null,
   "id": "06e0c2e5",
   "metadata": {},
   "outputs": [],
   "source": [
    "# save publishers reduced to 3 or more works\n",
    "publishers.to_pickle('data_cleaned_new_scraper/publishers_reduced.pkl')"
   ]
  },
  {
   "cell_type": "markdown",
   "id": "254f0f66",
   "metadata": {},
   "source": [
    "## Ratings Distribution"
   ]
  },
  {
   "cell_type": "code",
   "execution_count": null,
   "id": "551bd3ea",
   "metadata": {},
   "outputs": [],
   "source": [
    "# Load the storage dictionary for this block\n",
    "with open('data_cleaned/raw_ratings.json') as json_file:\n",
    "    raw_ratings = json.load(json_file) "
   ]
  },
  {
   "cell_type": "code",
   "execution_count": null,
   "id": "38337bca",
   "metadata": {},
   "outputs": [],
   "source": [
    "ratings_distribution = pd.DataFrame()\n",
    "\n",
    "for item in raw_ratings.keys():\n",
    "    \n",
    "    print(item)\n",
    "    \n",
    "    ratings_temp = pd.DataFrame(raw_ratings[item]).round(1)\n",
    "    ratings_counts = pd.DataFrame(ratings_temp.value_counts()).sort_index().T\n",
    "    \n",
    "    ratings_distribution = ratings_distribution.append(ratings_counts)"
   ]
  },
  {
   "cell_type": "code",
   "execution_count": null,
   "id": "c24280a9",
   "metadata": {},
   "outputs": [],
   "source": [
    "ratings_distribution.set_axis(list(raw_ratings.keys()), axis=0, inplace=True)"
   ]
  },
  {
   "cell_type": "code",
   "execution_count": null,
   "id": "4f883111",
   "metadata": {},
   "outputs": [],
   "source": [
    "ratings_distribution.fillna(0, inplace=True)"
   ]
  },
  {
   "cell_type": "code",
   "execution_count": null,
   "id": "e81fc033",
   "metadata": {},
   "outputs": [],
   "source": [
    "ratings_distribution['total_ratings'] = ratings_distribution.sum(axis=1)"
   ]
  },
  {
   "cell_type": "code",
   "execution_count": null,
   "id": "fd06cdfb",
   "metadata": {},
   "outputs": [],
   "source": [
    "ratings_distribution = ratings_distribution.T.reset_index().T"
   ]
  },
  {
   "cell_type": "code",
   "execution_count": null,
   "id": "7060ecc4",
   "metadata": {},
   "outputs": [],
   "source": [
    "ratings_distribution.rename(columns={0:'BGGId'}, inplace=True)"
   ]
  },
  {
   "cell_type": "code",
   "execution_count": null,
   "id": "e4d46e49",
   "metadata": {},
   "outputs": [],
   "source": [
    "ratings_distribution['BGGId'] = ratings_distribution['BGGId'].astype('int64')"
   ]
  },
  {
   "cell_type": "code",
   "execution_count": null,
   "id": "5d2c89f4",
   "metadata": {},
   "outputs": [],
   "source": [
    "ratings_distribution.to_pickle('data_cleaned/ratings_distribution.pkl')"
   ]
  },
  {
   "cell_type": "markdown",
   "id": "f37b384a",
   "metadata": {},
   "source": [
    "# Ratings - by Item, User, & Comments"
   ]
  },
  {
   "cell_type": "code",
   "execution_count": null,
   "id": "a42acdbf",
   "metadata": {},
   "outputs": [],
   "source": [
    "files = []\n",
    "\n",
    "for item in os.listdir('data_dirty_new_scraper/'):\n",
    "    if item.startswith('user_ratings_comments'):\n",
    "        files.append(item)"
   ]
  },
  {
   "cell_type": "markdown",
   "id": "49d05f57",
   "metadata": {},
   "source": [
    "## Test Code"
   ]
  },
  {
   "cell_type": "code",
   "execution_count": null,
   "id": "2cb8a88f",
   "metadata": {},
   "outputs": [],
   "source": [
    "master_comments = pd.DataFrame()\n",
    "\n",
    "comments_one = pd.read_pickle('data_dirty_new_scraper/'+item)\n",
    "\n",
    "# call integer_reduce on the sets\n",
    "comments_one['BGGId'] = comments_one['BGGId'].astype(int)\n",
    "comments_one['Rating'] = comments_one['Rating'].astype(float)\n",
    "\n",
    "comments_one.head()"
   ]
  },
  {
   "cell_type": "code",
   "execution_count": null,
   "id": "00c333f0",
   "metadata": {},
   "outputs": [],
   "source": [
    "master_comments = master_comments.append(comments_one)\n",
    "master_comments.head()"
   ]
  },
  {
   "cell_type": "code",
   "execution_count": null,
   "id": "ad258203",
   "metadata": {},
   "outputs": [],
   "source": [
    "ratings = comments_one[['BGGId', 'Rating', 'Username']]\n",
    "ratings.head()"
   ]
  },
  {
   "cell_type": "code",
   "execution_count": null,
   "id": "5febae51",
   "metadata": {},
   "outputs": [],
   "source": [
    "ratings[:10].apply(lambda x: process_dataframe_ratings(x, user_ratings, raw_ratings), axis=1)"
   ]
  },
  {
   "cell_type": "code",
   "execution_count": null,
   "id": "2ecb9264",
   "metadata": {
    "scrolled": true
   },
   "outputs": [],
   "source": [
    "user_ratings"
   ]
  },
  {
   "cell_type": "code",
   "execution_count": null,
   "id": "2a67b77b",
   "metadata": {
    "scrolled": true
   },
   "outputs": [],
   "source": [
    "raw_ratings[68448]"
   ]
  },
  {
   "cell_type": "markdown",
   "id": "058baa8e",
   "metadata": {},
   "source": [
    "## Deploy - Master_Comments"
   ]
  },
  {
   "cell_type": "code",
   "execution_count": null,
   "id": "3cca4643",
   "metadata": {},
   "outputs": [],
   "source": [
    "master_comments = pd.DataFrame()\n",
    "\n",
    "for item in files:\n",
    "    \n",
    "    print(\"Deploying \"+str(item))\n",
    "    comments_one = pd.read_pickle('data_dirty_new_scraper/'+item)\n",
    "    \n",
    "    # call integer_reduce on the sets\n",
    "    comments_one['BGGId'] = comments_one['BGGId'].astype(int)\n",
    "    comments_one['Rating'] = comments_one['Rating'].astype(float)\n",
    "\n",
    "    master_comments = master_comments.append(comments_one)\n",
    "    master_comments.drop_duplicates(keep='first', inplace=True)\n",
    "    \n",
    "    master_comments.to_pickle('data_cleaned_new_scraper/master_comments.pkl')\n",
    "    \n",
    "    del comments_one\n",
    "    gc.collect()"
   ]
  },
  {
   "cell_type": "code",
   "execution_count": null,
   "id": "9c4585c1",
   "metadata": {},
   "outputs": [],
   "source": [
    "master_comments.info()"
   ]
  },
  {
   "cell_type": "code",
   "execution_count": null,
   "id": "81736e0a",
   "metadata": {},
   "outputs": [],
   "source": [
    "master_comments.drop_duplicates(keep='first', inplace=True)"
   ]
  },
  {
   "cell_type": "code",
   "execution_count": null,
   "id": "1d18e5e4",
   "metadata": {},
   "outputs": [],
   "source": [
    "master_comments.to_pickle('data_cleaned_new_scraper/master_comments.pkl')"
   ]
  },
  {
   "cell_type": "markdown",
   "id": "f4de1b3b",
   "metadata": {},
   "source": [
    "## Deploy - User and Item Ratings"
   ]
  },
  {
   "cell_type": "code",
   "execution_count": null,
   "id": "b7acbee8",
   "metadata": {},
   "outputs": [],
   "source": [
    "game_ids_current = pd.read_pickle('data_dirty_new_scraper/game_ids_current')\n",
    "game_ids = list(game_ids_current)"
   ]
  },
  {
   "cell_type": "code",
   "execution_count": null,
   "id": "3731dbbd",
   "metadata": {},
   "outputs": [],
   "source": [
    "user_ratings = {}\n",
    "\n",
    "raw_ratings = {}\n",
    "\n",
    "for item in game_ids:\n",
    "    raw_ratings[item] = []"
   ]
  },
  {
   "cell_type": "code",
   "execution_count": null,
   "id": "c86a71bc",
   "metadata": {},
   "outputs": [],
   "source": [
    "def process_dataframe_ratings(x, user_ratings, raw_ratings):\n",
    "    \n",
    "    try:\n",
    "        user_ratings[x['Username']][x['BGGId']] = float(x['Rating']) \n",
    "    \n",
    "    except:\n",
    "        user_ratings[x['Username']] = {}\n",
    "        user_ratings[x['Username']][x['BGGId']] = float(x['Rating']) \n",
    "    \n",
    "    raw_ratings[x['BGGId']].append(x['Rating'])"
   ]
  },
  {
   "cell_type": "code",
   "execution_count": null,
   "id": "d552dd62",
   "metadata": {},
   "outputs": [],
   "source": [
    "ratings = master_comments[['BGGId', 'Rating', 'Username']]\n",
    "del master_comments\n",
    "gc.collect() \n",
    "    \n",
    "ratings.apply(lambda x: process_dataframe_ratings(x, user_ratings, raw_ratings), axis=1)\n",
    "    \n",
    "# save dictionary\n",
    "with open('data_cleaned_new_scraper/raw_ratings.json', 'w') as convert_file:\n",
    "    convert_file.write(json.dumps(raw_ratings))\n",
    "    \n",
    "with open('data_cleaned_new_scraper/user_ratings.json', 'w') as convert_file:\n",
    "    convert_file.write(json.dumps(user_ratings))\n",
    "    \n",
    "del ratings\n",
    "gc.collect() "
   ]
  },
  {
   "cell_type": "code",
   "execution_count": null,
   "id": "d3206b9f",
   "metadata": {},
   "outputs": [],
   "source": [
    "user_ratings['Torsten']"
   ]
  },
  {
   "cell_type": "code",
   "execution_count": null,
   "id": "f763eeba",
   "metadata": {},
   "outputs": [],
   "source": [
    "len(raw_ratings[91671])"
   ]
  },
  {
   "cell_type": "markdown",
   "id": "2d54d214",
   "metadata": {},
   "source": [
    "### Winnow Users to 5+ Ratings"
   ]
  },
  {
   "cell_type": "code",
   "execution_count": null,
   "id": "447ec010",
   "metadata": {},
   "outputs": [],
   "source": [
    "# Opening JSON file\n",
    "with open('data_cleaned_new_scraper/user_ratings.json') as json_file:\n",
    "    user_ratings = json.load(json_file)"
   ]
  },
  {
   "cell_type": "code",
   "execution_count": null,
   "id": "cbb2e3c4",
   "metadata": {},
   "outputs": [],
   "source": [
    "all_users = list(user_ratings.keys())"
   ]
  },
  {
   "cell_type": "code",
   "execution_count": null,
   "id": "0b6c8e06",
   "metadata": {},
   "outputs": [],
   "source": [
    "for user in all_users:\n",
    "\n",
    "    if len(user_ratings[user]) < 5:\n",
    "        print(\"Removing user \"+user)\n",
    "        del user_ratings[user]\n",
    "        continue"
   ]
  },
  {
   "cell_type": "code",
   "execution_count": null,
   "id": "20f2886d",
   "metadata": {},
   "outputs": [],
   "source": [
    "with open('data_cleaned_new_scraper/user_ratings.json', 'w') as convert_file:\n",
    "    convert_file.write(json.dumps(user_ratings))"
   ]
  },
  {
   "cell_type": "markdown",
   "id": "9bb14680",
   "metadata": {},
   "source": [
    "# DEPRECATED"
   ]
  },
  {
   "cell_type": "markdown",
   "id": "5b5996a6",
   "metadata": {},
   "source": [
    "## Ratings Dist"
   ]
  },
  {
   "cell_type": "code",
   "execution_count": null,
   "id": "e4f1ca4a",
   "metadata": {},
   "outputs": [],
   "source": [
    "# open ratings distribution\n",
    "ratings_dist = pd.read_pickle('data_dirty_new_scraper/ratings_dist.pkl')\n",
    "ratings_dist.info()"
   ]
  },
  {
   "cell_type": "code",
   "execution_count": null,
   "id": "c550ce35",
   "metadata": {},
   "outputs": [],
   "source": [
    "ratings_dist.drop_duplicates(subset='BGGId', keep='first', inplace=True) # drop duplicates\n",
    "ratings_dist.fillna(0, inplace=True) # fill nan\n",
    "ratings_dist.drop(ratings_dist.index[empty_games], inplace=True) # drop empty games\n",
    "ratings_dist.reset_index(inplace=True, drop=True) # reset index\n",
    "ratings_dist.drop(ratings_dist.index[not_released], inplace=True) # drop unreleased games\n",
    "ratings_dist.reset_index(inplace=True, drop=True) # reset index\n",
    "\n",
    "# for each column:\n",
    "for column in ratings_dist.columns[1:]:\n",
    "    # fix numbers as needed (convert 1xk to 10000)\n",
    "    ratings_dist[column] = ratings_dist[column].apply(lambda x: fix_numbers(x))\n",
    "\n",
    "# add a column\n",
    "ratings_dist['num_votes'] = games['NumUserRatings']\n",
    "\n",
    "# convert types to int32\n",
    "temp_id = ratings_dist['BGGId']\n",
    "ratings_dist.drop('BGGId', axis=1, inplace=True)\n",
    "ratings_dist = ratings_dist.astype('int32')\n",
    "ratings_dist['BGGId'] = temp_id\n",
    "\n",
    "ratings_dist.info() # check memory usage"
   ]
  },
  {
   "cell_type": "code",
   "execution_count": null,
   "id": "e187227c",
   "metadata": {},
   "outputs": [],
   "source": [
    "# save to file\n",
    "ratings_dist.to_pickle('data_cleaned_new_scraper/ratings_dist.pkl')"
   ]
  },
  {
   "cell_type": "markdown",
   "id": "1487ec65",
   "metadata": {},
   "source": [
    "## Comments"
   ]
  },
  {
   "cell_type": "code",
   "execution_count": null,
   "id": "b732bc30",
   "metadata": {},
   "outputs": [],
   "source": [
    "# load comments\n",
    "comments = pd.read_pickle('data_dirty_new_scraper/comments.pkl')\n",
    "comments.info()"
   ]
  },
  {
   "cell_type": "code",
   "execution_count": null,
   "id": "48f6ac1f",
   "metadata": {},
   "outputs": [],
   "source": [
    "comments.drop_duplicates(subset=['BGGId', 'Username'], keep='first', inplace=True) # drop duplicates\n",
    "comments.reset_index(inplace=True, drop=True) # rest index\n",
    "comments.fillna(0, inplace=True) # fill na\n",
    "\n",
    "# clean the comments text\n",
    "comments['cleaned'] = comments['Value'].apply(lambda x: text_block_processor(x))\n",
    "    \n",
    "# drop the description field \n",
    "comments.drop('Value', axis=1, inplace=True)"
   ]
  },
  {
   "cell_type": "code",
   "execution_count": null,
   "id": "99361c48",
   "metadata": {},
   "outputs": [],
   "source": [
    "# save file\n",
    "comments.to_pickle('data_cleaned_new_scraper/comments.pkl')"
   ]
  },
  {
   "cell_type": "markdown",
   "id": "443cd215",
   "metadata": {},
   "source": [
    "## Ratings Matrix"
   ]
  },
  {
   "cell_type": "code",
   "execution_count": null,
   "id": "29817d97",
   "metadata": {},
   "outputs": [],
   "source": [
    "# dictionary of game IDs-Names\n",
    "\n",
    "# Load games\n",
    "games = pd.read_pickle('data_cleaned_new_scraper/games.pkl')\n",
    "\n",
    "# lists of game ids and game names\n",
    "game_ids = list(games['BGGId'])\n",
    "game_names = list(games['Name'])\n",
    "\n",
    "# make lookup dictionary\n",
    "game_id_lookup = {}\n",
    "\n",
    "# store ids and names in lookup dictionary\n",
    "for key, item in zip(game_ids, game_names):\n",
    "    game_id_lookup[key] = item\n",
    "\n",
    "    \n",
    "del games\n",
    "gc.collect()\n",
    "\n",
    "game_id_lookup"
   ]
  },
  {
   "cell_type": "code",
   "execution_count": null,
   "id": "e82d1106",
   "metadata": {
    "scrolled": true
   },
   "outputs": [],
   "source": [
    "# create a ratings matrix file from a set of files on disk\n",
    "ratings_matrix = create_ratings_file(51,57, game_ids)"
   ]
  },
  {
   "cell_type": "code",
   "execution_count": null,
   "id": "a5b281ac",
   "metadata": {},
   "outputs": [],
   "source": [
    "# save file to pickle, specify filename carefully!\n",
    "ratings_matrix.to_pickle('data_cleaned_new_scraper/ratings_matrix_cleaned_06.pkl')"
   ]
  },
  {
   "cell_type": "markdown",
   "id": "0b11d09b",
   "metadata": {},
   "source": [
    "### Data Validation"
   ]
  },
  {
   "cell_type": "code",
   "execution_count": null,
   "id": "102fd543",
   "metadata": {},
   "outputs": [],
   "source": [
    "ratings_matrix_1 = pd.read_pickle('userid/user_ratings31.pkl')\n",
    "ratings_matrix_2  = pd.read_pickle('userid/user_ratings32.pkl')"
   ]
  },
  {
   "cell_type": "code",
   "execution_count": null,
   "id": "b9265483",
   "metadata": {},
   "outputs": [],
   "source": [
    "this_user = pd.DataFrame(ratings_matrix_1.T['Threnody'].dropna(axis=0))\n",
    "this_user.rename(columns={'Threnody':'Rating'}, inplace=True)\n",
    "this_user.reset_index(inplace=True)\n",
    "this_user['Game'] = this_user['index'].astype('int32').map(game_id_lookup)\n",
    "this_user.drop('index', axis=1, inplace=True)\n",
    "this_user.sort_values('Rating', ascending=False).head(30)"
   ]
  },
  {
   "cell_type": "code",
   "execution_count": null,
   "id": "a6fe4319",
   "metadata": {
    "scrolled": true
   },
   "outputs": [],
   "source": [
    "# create a ratings matrix file from a set of files on disk\n",
    "ratings_matrix = create_ratings_file(31,32, game_ids)"
   ]
  },
  {
   "cell_type": "code",
   "execution_count": null,
   "id": "a884bafc",
   "metadata": {},
   "outputs": [],
   "source": [
    "ratings_matrix.head()"
   ]
  },
  {
   "cell_type": "code",
   "execution_count": null,
   "id": "15331d6a",
   "metadata": {},
   "outputs": [],
   "source": [
    "this_user = pd.DataFrame(ratings_matrix.T['Threnody'].dropna(axis=0))\n",
    "this_user.rename(columns={'Threnody':'Rating'}, inplace=True)\n",
    "this_user.reset_index(inplace=True)\n",
    "this_user['Game'] = this_user['index'].astype('int32').map(game_id_lookup)\n",
    "this_user.drop('index', axis=1, inplace=True)\n",
    "this_user.sort_values('Rating', ascending=False).head(30)"
   ]
  },
  {
   "cell_type": "code",
   "execution_count": null,
   "id": "bef9b589",
   "metadata": {},
   "outputs": [],
   "source": [
    "# save file to pickle, specify filename carefully!\n",
    "ratings_matrix.to_pickle('data_cleaned_new_scraper/ratings_matrix_cleaned_06.pkl')"
   ]
  },
  {
   "cell_type": "code",
   "execution_count": null,
   "id": "60fb5d35",
   "metadata": {},
   "outputs": [],
   "source": [
    "del ratings_matrix\n",
    "gc.collect()"
   ]
  }
 ],
 "metadata": {
  "kernelspec": {
   "display_name": "Python 3 (ipykernel)",
   "language": "python",
   "name": "python3"
  },
  "language_info": {
   "codemirror_mode": {
    "name": "ipython",
    "version": 3
   },
   "file_extension": ".py",
   "mimetype": "text/x-python",
   "name": "python",
   "nbconvert_exporter": "python",
   "pygments_lexer": "ipython3",
   "version": "3.7.10"
  },
  "toc": {
   "base_numbering": 1,
   "nav_menu": {},
   "number_sections": true,
   "sideBar": true,
   "skip_h1_title": false,
   "title_cell": "Table of Contents",
   "title_sidebar": "Contents",
   "toc_cell": false,
   "toc_position": {
    "height": "calc(100% - 180px)",
    "left": "10px",
    "top": "150px",
    "width": "335.99px"
   },
   "toc_section_display": true,
   "toc_window_display": true
  }
 },
 "nbformat": 4,
 "nbformat_minor": 5
}
