{
 "cells": [
  {
   "cell_type": "code",
   "execution_count": 27,
   "metadata": {},
   "outputs": [],
   "source": [
    "import pandas as pd\n",
    "import numpy as np\n",
    "import json\n",
    "\n",
    "NUMBER_PROCESSES = 100"
   ]
  },
  {
   "cell_type": "code",
   "execution_count": 110,
   "metadata": {},
   "outputs": [],
   "source": [
    "games = pd.read_pickle(\"../game_data_cleaner/game_dfs_dirty/games.pkl\")\n",
    "ratings_totals = pd.DataFrame(games[\"BGGId\"])\n",
    "ratings_totals[\"RatingsPages\"] = np.ceil(games[\"NumUserRatings\"].astype(int) / 100).astype(\"int\")\n",
    "ratings_totals = ratings_totals.sort_values(\n",
    "    \"RatingsPages\", ascending=False\n",
    ").reset_index(drop=True)\n",
    "\n",
    "total_ratings = ratings_totals[\"RatingsPages\"].sum()\n",
    "max_ratings_pages = int(np.ceil(total_ratings/NUMBER_PROCESSES))"
   ]
  },
  {
   "cell_type": "code",
   "execution_count": 111,
   "metadata": {},
   "outputs": [
    {
     "name": "stdout",
     "output_type": "stream",
     "text": [
      "group1 Complete\n",
      "group2 Complete\n",
      "group3 Complete\n",
      "group4 Complete\n",
      "group5 Complete\n",
      "group6 Complete\n",
      "group7 Complete\n",
      "group8 Complete\n",
      "group9 Complete\n",
      "group10 Complete\n",
      "group11 Complete\n",
      "group12 Complete\n",
      "group13 Complete\n",
      "group14 Complete\n",
      "group15 Complete\n",
      "group16 Complete\n",
      "group17 Complete\n",
      "group18 Complete\n",
      "group19 Complete\n",
      "group20 Complete\n",
      "group21 Complete\n",
      "group22 Complete\n",
      "group23 Complete\n",
      "group24 Complete\n",
      "group25 Complete\n",
      "group26 Complete\n",
      "group27 Complete\n",
      "group28 Complete\n",
      "group29 Complete\n",
      "group30 Complete\n",
      "group31 Complete\n",
      "group32 Complete\n",
      "group33 Complete\n",
      "group34 Complete\n",
      "group35 Complete\n",
      "group36 Complete\n",
      "group37 Complete\n",
      "group38 Complete\n",
      "group39 Complete\n",
      "group40 Complete\n",
      "group41 Complete\n",
      "group42 Complete\n",
      "group43 Complete\n",
      "group44 Complete\n",
      "group45 Complete\n",
      "group46 Complete\n",
      "group47 Complete\n",
      "group48 Complete\n",
      "group49 Complete\n"
     ]
    }
   ],
   "source": [
    "df_groups = {}\n",
    "group_counter = 1\n",
    "position = 0\n",
    "\n",
    "while len(ratings_totals) > 0:\n",
    "\n",
    "    group_positions = []\n",
    "    chunk_size = 0\n",
    "    bgg_id_lists = []\n",
    "    ratings_lists = []\n",
    "\n",
    "    while max_ratings_pages > chunk_size:\n",
    "        try:\n",
    "            num_ratings = ratings_totals.iloc[position]['RatingsPages']\n",
    "            bgg_id = ratings_totals.iloc[position]['BGGId']\n",
    "            bgg_id_lists.append(bgg_id)\n",
    "            ratings_lists.append(num_ratings)\n",
    "            chunk_size += num_ratings\n",
    "            ratings_totals = ratings_totals.drop(position)\n",
    "            position += 1\n",
    "\n",
    "        except:\n",
    "            break\n",
    "\n",
    "    # print(chunk_size)\n",
    "    if len(bgg_id_lists) == 0:\n",
    "        break\n",
    "    # group_positions = pd.DataFrame({'BGGId':bgg_id_lists, 'RatingsPages':ratings_lists})\n",
    "    df_groups[f\"group{group_counter}\"] = [bgg_id_lists, ratings_lists]\n",
    "    print(f\"group{group_counter} Complete\")\n",
    "    group_counter += 1"
   ]
  },
  {
   "cell_type": "code",
   "execution_count": 113,
   "metadata": {},
   "outputs": [],
   "source": [
    "def generate_ratings_urls(game_entries):\n",
    "    urls_list = []\n",
    "    bgg_ids = game_entries[0]\n",
    "    ratings_pages = game_entries[1]\n",
    "\n",
    "    for i in list(range(0, len(bgg_ids))):\n",
    "        current_bgg_id = bgg_ids[i]\n",
    "        max_page_number = ratings_pages[i]\n",
    "        page_numbers = range(1, max_page_number + 1)\n",
    "        # print(f\"Df last page: {max_page_number}\\n\", f\"First page: {page_numbers[0]}\\n\", f\"Last page: {page_numbers[-1]}\")\n",
    "\n",
    "        for page_number in page_numbers:\n",
    "            path = f\"https://www.boardgamegeek.com/xmlapi2/thing?id={current_bgg_id}&ratingcomments=1&page={str(page_number)}&pagesize=100\"\n",
    "            urls_list.append(path)\n",
    "    print(\"\\n\")\n",
    "\n",
    "    return urls_list"
   ]
  },
  {
   "cell_type": "code",
   "execution_count": 114,
   "metadata": {},
   "outputs": [
    {
     "name": "stdout",
     "output_type": "stream",
     "text": [
      "\n",
      "\n"
     ]
    }
   ],
   "source": [
    "urls_list = generate_ratings_urls(df_groups['group1'])"
   ]
  },
  {
   "cell_type": "code",
   "execution_count": null,
   "metadata": {},
   "outputs": [],
   "source": [
    "group_urls = {}\n",
    "group_num = 0\n",
    "\n",
    "for group, game_entries in df_groups.items():\n",
    "    group_num += 1\n",
    "    group_urls[\"group\" + str(group_num)] = generate_ratings_urls(game_entries)\n",
    "\n",
    "with open(\"../game_user_scraper/scraper_urls_raw/scraper_urls_ratings.json\", \"w\") as convert_file:\n",
    "    convert_file.write(json.dumps(group_urls))"
   ]
  }
 ],
 "metadata": {
  "kernelspec": {
   "display_name": "boardgamegeek-ZH0FNRKg",
   "language": "python",
   "name": "python3"
  },
  "language_info": {
   "codemirror_mode": {
    "name": "ipython",
    "version": 3
   },
   "file_extension": ".py",
   "mimetype": "text/x-python",
   "name": "python",
   "nbconvert_exporter": "python",
   "pygments_lexer": "ipython3",
   "version": "3.12.4"
  }
 },
 "nbformat": 4,
 "nbformat_minor": 2
}
