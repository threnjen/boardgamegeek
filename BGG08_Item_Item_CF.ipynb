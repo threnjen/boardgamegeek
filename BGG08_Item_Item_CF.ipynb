{
 "cells": [
  {
   "cell_type": "code",
   "execution_count": 1,
   "id": "a9adac55",
   "metadata": {},
   "outputs": [],
   "source": [
    "import pandas as pd\n",
    "import numpy as np\n",
    "import requests\n",
    "import regex as re\n",
    "import time\n",
    "import os\n",
    "import gc\n",
    "import json\n",
    "import copy\n",
    "from statistics import mean\n",
    "from statistics import median\n",
    "\n",
    "# ignore warnings (gets rid of Pandas copy warnings)\n",
    "import warnings\n",
    "warnings.filterwarnings('ignore')\n",
    "pd.options.display.max_columns = None\n",
    "\n",
    "pd.set_option('display.max_columns', None)\n",
    "pd.set_option('display.max_rows', 30)\n",
    "\n",
    "\n",
    "from sklearn.metrics.pairwise import cosine_similarity\n",
    "from sklearn.model_selection import train_test_split\n",
    "from sklearn.preprocessing import MinMaxScaler\n",
    "\n",
    "from scipy import spatial\n",
    "\n",
    "# scoring and algorithm selection packages\n",
    "from sklearn.metrics import mean_absolute_error, mean_squared_error, r2_score \n",
    "from sklearn.inspection import permutation_importance\n",
    "\n",
    "# visualization packages\n",
    "import matplotlib.pyplot as plt\n",
    "import seaborn as sns\n",
    "%matplotlib inline\n",
    "\n",
    "from surprise import KNNWithMeans, SVD, Dataset, Reader, dump, accuracy, NMF, BaselineOnly\n",
    "from surprise.model_selection.validation import cross_validate\n",
    "from surprise.model_selection import KFold\n",
    "from surprise.prediction_algorithms.matrix_factorization import SVD, SVDpp, NMF\n",
    "from surprise.prediction_algorithms.slope_one import SlopeOne\n",
    "from surprise.prediction_algorithms.co_clustering import CoClustering\n",
    "from surprise.prediction_algorithms.random_pred import NormalPredictor\n",
    "from surprise.prediction_algorithms.baseline_only import BaselineOnly\n",
    "from surprise.model_selection.search import GridSearchCV"
   ]
  },
  {
   "cell_type": "markdown",
   "id": "40722da1",
   "metadata": {},
   "source": [
    "## Load Files"
   ]
  },
  {
   "cell_type": "code",
   "execution_count": 2,
   "id": "074f8167",
   "metadata": {},
   "outputs": [],
   "source": [
    "# Opening JSON file\n",
    "#with open('data_cleaned/item_similarities_real_full.json') as json_file:\n",
    "#    item_similarities = json.load(json_file)"
   ]
  },
  {
   "cell_type": "code",
   "execution_count": 2,
   "id": "f43d2596",
   "metadata": {},
   "outputs": [],
   "source": [
    "# Opening JSON file\n",
    "with open('real_ratings/real_user_ratings_scaled.json') as json_file:\n",
    "    user_ratings = json.load(json_file)"
   ]
  },
  {
   "cell_type": "code",
   "execution_count": 3,
   "id": "ad253238",
   "metadata": {},
   "outputs": [],
   "source": [
    "# Opening JSON file\n",
    "with open('data_cleaned/item_similarities_real_full_75.json') as json_file:\n",
    "    item_similarities = json.load(json_file)"
   ]
  },
  {
   "cell_type": "code",
   "execution_count": 4,
   "id": "a916785a",
   "metadata": {},
   "outputs": [],
   "source": [
    "# Opening JSON file\n",
    "#with open('synthetic_ratings/users_synthetic_1000_2.json') as json_file:\n",
    "#    user_ratings = json.load(json_file)"
   ]
  },
  {
   "cell_type": "code",
   "execution_count": 5,
   "id": "498fc860",
   "metadata": {},
   "outputs": [],
   "source": [
    "# Opening JSON file\n",
    "with open('data_cleaned/user_means.json') as json_file:\n",
    "    user_means = json.load(json_file)"
   ]
  },
  {
   "cell_type": "code",
   "execution_count": 6,
   "id": "f76b4a0b",
   "metadata": {},
   "outputs": [],
   "source": [
    "# Opening JSON file\n",
    "with open('data_cleaned/item_means.json') as json_file:\n",
    "    item_means = json.load(json_file)"
   ]
  },
  {
   "cell_type": "code",
   "execution_count": 7,
   "id": "cff54287",
   "metadata": {},
   "outputs": [],
   "source": [
    "# Opening JSON file\n",
    "with open('data_cleaned/game_id_lookup.json') as json_file:\n",
    "    game_id_lookup = json.load(json_file)"
   ]
  },
  {
   "cell_type": "code",
   "execution_count": 8,
   "id": "3a617307",
   "metadata": {},
   "outputs": [],
   "source": [
    "game_ids = list(item_similarities.keys())"
   ]
  },
  {
   "cell_type": "markdown",
   "id": "8bb91307",
   "metadata": {},
   "source": [
    "## Predict items one user - Real Data"
   ]
  },
  {
   "cell_type": "code",
   "execution_count": 9,
   "id": "b77d867d",
   "metadata": {},
   "outputs": [],
   "source": [
    "user='Threnody'\n",
    "user_mean = user_means[user]"
   ]
  },
  {
   "cell_type": "code",
   "execution_count": 18,
   "id": "0af43679",
   "metadata": {},
   "outputs": [
    {
     "data": {
      "text/plain": [
       "{'25190': -2,\n",
       " '13': -11,\n",
       " '3076': -19,\n",
       " '822': -4,\n",
       " '68448': -2,\n",
       " '2651': -18,\n",
       " '30549': 4,\n",
       " '31260': -9,\n",
       " '14996': -5,\n",
       " '266192': -11,\n",
       " '110327': -7,\n",
       " '9209': -4,\n",
       " '70323': -1,\n",
       " '36218': 4,\n",
       " '28143': -7,\n",
       " '34635': -5,\n",
       " '178900': 4,\n",
       " '237182': -11,\n",
       " '162886': -14,\n",
       " '167791': 6,\n",
       " '98778': -1,\n",
       " '320': -23,\n",
       " '201808': -8,\n",
       " '41114': -2,\n",
       " '230802': 2,\n",
       " '124361': -6,\n",
       " '18602': -7,\n",
       " '157354': -2,\n",
       " '169786': 8,\n",
       " '148228': 6,\n",
       " '65244': 3,\n",
       " '1406': -14,\n",
       " '157969': -1,\n",
       " '170216': 0,\n",
       " '146508': -10,\n",
       " '37111': 3,\n",
       " '129622': 7,\n",
       " '224517': -7,\n",
       " '50': -2,\n",
       " '10547': 0,\n",
       " '478': 5,\n",
       " '11': 0,\n",
       " '40834': 3,\n",
       " '3955': -5,\n",
       " '118': -14,\n",
       " '199792': -1,\n",
       " '291457': -8,\n",
       " '27162': -1,\n",
       " '50381': 2,\n",
       " '2453': 2,\n",
       " '192291': 1,\n",
       " '3': -14,\n",
       " '233867': -1,\n",
       " '218603': -1,\n",
       " '43443': -6,\n",
       " '172818': -8,\n",
       " '1294': -7,\n",
       " '124708': -2,\n",
       " '182028': 6,\n",
       " '244521': 1,\n",
       " '239188': -1,\n",
       " '182874': -3,\n",
       " '37046': 3,\n",
       " '148949': 5,\n",
       " '102652': -2,\n",
       " '131357': 10,\n",
       " '219513': -3,\n",
       " '199561': 5,\n",
       " '2921': -22,\n",
       " '9216': -15,\n",
       " '155426': 5,\n",
       " '236457': 2,\n",
       " '220877': -12,\n",
       " '104006': 6,\n",
       " '247763': -1,\n",
       " '198994': -5,\n",
       " '193738': 7,\n",
       " '2425': -36,\n",
       " '161970': 4,\n",
       " '170042': 3,\n",
       " '555': -5,\n",
       " '188834': 4,\n",
       " '278': -7,\n",
       " '20100': 1,\n",
       " '2375': -20,\n",
       " '163412': 14,\n",
       " '204583': 7,\n",
       " '158899': 9,\n",
       " '156129': 5,\n",
       " '232405': -16,\n",
       " '161936': 14,\n",
       " '38453': 7,\n",
       " '215': 4,\n",
       " '5782': 1,\n",
       " '74': 2,\n",
       " '126042': 5,\n",
       " '92415': 7,\n",
       " '281259': 1,\n",
       " '150312': 5,\n",
       " '10': -1,\n",
       " '590': -7,\n",
       " '183394': 9,\n",
       " '163967': 7,\n",
       " '116': 5,\n",
       " '140': -4,\n",
       " '163068': 1,\n",
       " '161614': -4,\n",
       " '15364': -1,\n",
       " '2381': -2,\n",
       " '22345': 0,\n",
       " '1041': -21,\n",
       " '185343': 9,\n",
       " '17329': 2,\n",
       " '17223': -6,\n",
       " '118063': -24,\n",
       " '246784': 5,\n",
       " '192135': 5,\n",
       " '49': -4,\n",
       " '24068': 3,\n",
       " '228341': 4,\n",
       " '201921': 0,\n",
       " '194594': 8,\n",
       " '1198': 6,\n",
       " '206718': 6,\n",
       " '904': 0,\n",
       " '891': 4,\n",
       " '249259': 0,\n",
       " '258036': -3,\n",
       " '925': -4,\n",
       " '13823': 4,\n",
       " '8051': 1,\n",
       " '72321': 4,\n",
       " '233247': 3,\n",
       " '1339': 1,\n",
       " '17053': -4,\n",
       " '84876': 19,\n",
       " '245638': 9,\n",
       " '915': 5,\n",
       " '284083': 20,\n",
       " '224783': 2,\n",
       " '221194': 13,\n",
       " '250458': 5,\n",
       " '253284': 5,\n",
       " '221107': 18,\n",
       " '244536': 6,\n",
       " '195043': 3,\n",
       " '287954': 12,\n",
       " '132': 7,\n",
       " '147949': 29,\n",
       " '227789': 15,\n",
       " '174430': 12,\n",
       " '2338': 12,\n",
       " '244711': 14,\n",
       " '169426': 25,\n",
       " '171668': 29,\n",
       " '163166': 27,\n",
       " '463': 24,\n",
       " '168435': 31,\n",
       " '159455': 9,\n",
       " '195560': -13,\n",
       " '271869': -6,\n",
       " '205597': 1,\n",
       " '151247': -5,\n",
       " '2582': -3,\n",
       " '123607': -1,\n",
       " '3633': 5,\n",
       " '201248': 4,\n",
       " '162263': 8,\n",
       " '233262': 13,\n",
       " '235014': 16,\n",
       " '252877': 2,\n",
       " '1017': 4,\n",
       " '254513': 11,\n",
       " '286160': -1,\n",
       " '4659': 2,\n",
       " '213503': 5,\n",
       " '180785': 1,\n",
       " '866': -12}"
      ]
     },
     "execution_count": 18,
     "metadata": {},
     "output_type": "execute_result"
    }
   ],
   "source": [
    "user_ratings['Threnody']"
   ]
  },
  {
   "cell_type": "markdown",
   "id": "e86be3bc",
   "metadata": {},
   "source": [
    "### One Item Test"
   ]
  },
  {
   "cell_type": "code",
   "execution_count": 37,
   "id": "ba8bd865",
   "metadata": {
    "scrolled": true
   },
   "outputs": [
    {
     "data": {
      "text/plain": [
       "{}"
      ]
     },
     "execution_count": 37,
     "metadata": {},
     "output_type": "execute_result"
    }
   ],
   "source": [
    "game = '178900'\n",
    "\n",
    "# produces dict of similarities for game_ids that user has rated\n",
    "intersect_items = {key:value for (key, value) in item_similarities[game].items() if key in user_ratings[user].keys()}\n",
    "intersect_items"
   ]
  },
  {
   "cell_type": "code",
   "execution_count": 38,
   "id": "19351abd",
   "metadata": {},
   "outputs": [
    {
     "data": {
      "text/plain": [
       "'Codenames'"
      ]
     },
     "execution_count": 38,
     "metadata": {},
     "output_type": "execute_result"
    }
   ],
   "source": [
    "game_id_lookup[game]"
   ]
  },
  {
   "cell_type": "code",
   "execution_count": 39,
   "id": "ade19da1",
   "metadata": {
    "scrolled": true
   },
   "outputs": [
    {
     "data": {
      "text/plain": [
       "{'39431': 0.7718916535377502,\n",
       " '277424': 0.777122437953949,\n",
       " '3598': 0.7836260795593262,\n",
       " '10269': 0.7794942855834961,\n",
       " '36777': 0.8093695044517517,\n",
       " '135840': 0.7707837820053101,\n",
       " '154098': 0.857902467250824,\n",
       " '23870': 0.756094753742218,\n",
       " '1274': 0.7701854109764099,\n",
       " '41198': 0.7979899048805237,\n",
       " '330145': 0.9320590496063232}"
      ]
     },
     "execution_count": 39,
     "metadata": {},
     "output_type": "execute_result"
    }
   ],
   "source": [
    "item_similarities[game]"
   ]
  },
  {
   "cell_type": "code",
   "execution_count": 40,
   "id": "396a2dde",
   "metadata": {},
   "outputs": [
    {
     "ename": "KeyError",
     "evalue": "'178900'",
     "output_type": "error",
     "traceback": [
      "\u001b[1;31m---------------------------------------------------------------------------\u001b[0m",
      "\u001b[1;31mKeyError\u001b[0m                                  Traceback (most recent call last)",
      "\u001b[1;32m~\\AppData\\Local\\Temp/ipykernel_9632/677187898.py\u001b[0m in \u001b[0;36m<module>\u001b[1;34m\u001b[0m\n\u001b[1;32m----> 1\u001b[1;33m \u001b[0mintersect_items\u001b[0m\u001b[1;33m[\u001b[0m\u001b[0mgame\u001b[0m\u001b[1;33m]\u001b[0m\u001b[1;33m\u001b[0m\u001b[1;33m\u001b[0m\u001b[0m\n\u001b[0m",
      "\u001b[1;31mKeyError\u001b[0m: '178900'"
     ]
    }
   ],
   "source": [
    "intersect_items[game]"
   ]
  },
  {
   "cell_type": "code",
   "execution_count": 41,
   "id": "c5d688ae",
   "metadata": {},
   "outputs": [
    {
     "data": {
      "text/plain": [
       "4"
      ]
     },
     "execution_count": 41,
     "metadata": {},
     "output_type": "execute_result"
    }
   ],
   "source": [
    "user_ratings[user][game]"
   ]
  },
  {
   "cell_type": "code",
   "execution_count": 42,
   "id": "edb9e168",
   "metadata": {},
   "outputs": [
    {
     "data": {
      "text/plain": [
       "7.598622200044356"
      ]
     },
     "execution_count": 42,
     "metadata": {},
     "output_type": "execute_result"
    }
   ],
   "source": [
    "item_means[game]"
   ]
  },
  {
   "cell_type": "code",
   "execution_count": 43,
   "id": "0d932174",
   "metadata": {
    "scrolled": true
   },
   "outputs": [
    {
     "data": {
      "text/plain": [
       "[]"
      ]
     },
     "execution_count": 43,
     "metadata": {},
     "output_type": "execute_result"
    }
   ],
   "source": [
    "weighted = [intersect_items[game]*(user_ratings[user][game]/10) for game in intersect_items.keys()]\n",
    "weighted"
   ]
  },
  {
   "cell_type": "code",
   "execution_count": 44,
   "id": "464ac4fb",
   "metadata": {},
   "outputs": [
    {
     "data": {
      "text/plain": [
       "0"
      ]
     },
     "execution_count": 44,
     "metadata": {},
     "output_type": "execute_result"
    }
   ],
   "source": [
    "numer = sum(weighted)\n",
    "numer"
   ]
  },
  {
   "cell_type": "code",
   "execution_count": 45,
   "id": "e8cbcfbd",
   "metadata": {},
   "outputs": [
    {
     "data": {
      "text/plain": [
       "0"
      ]
     },
     "execution_count": 45,
     "metadata": {},
     "output_type": "execute_result"
    }
   ],
   "source": [
    "denom = sum(intersect_items.values())\n",
    "denom"
   ]
  },
  {
   "cell_type": "code",
   "execution_count": 46,
   "id": "0473b5fb",
   "metadata": {},
   "outputs": [
    {
     "ename": "ZeroDivisionError",
     "evalue": "division by zero",
     "output_type": "error",
     "traceback": [
      "\u001b[1;31m---------------------------------------------------------------------------\u001b[0m",
      "\u001b[1;31mZeroDivisionError\u001b[0m                         Traceback (most recent call last)",
      "\u001b[1;32m~\\AppData\\Local\\Temp/ipykernel_9632/552590477.py\u001b[0m in \u001b[0;36m<module>\u001b[1;34m\u001b[0m\n\u001b[1;32m----> 1\u001b[1;33m \u001b[0mnumer\u001b[0m\u001b[1;33m/\u001b[0m\u001b[0mdenom\u001b[0m\u001b[1;33m\u001b[0m\u001b[1;33m\u001b[0m\u001b[0m\n\u001b[0m",
      "\u001b[1;31mZeroDivisionError\u001b[0m: division by zero"
     ]
    }
   ],
   "source": [
    "numer/denom"
   ]
  },
  {
   "cell_type": "code",
   "execution_count": 34,
   "id": "1405b753",
   "metadata": {},
   "outputs": [
    {
     "data": {
      "text/plain": [
       "6.686616578405754"
      ]
     },
     "execution_count": 34,
     "metadata": {},
     "output_type": "execute_result"
    }
   ],
   "source": [
    "scaled_prediction = numer/denom + user_mean\n",
    "scaled_prediction"
   ]
  },
  {
   "cell_type": "code",
   "execution_count": 35,
   "id": "87fcff85",
   "metadata": {},
   "outputs": [
    {
     "data": {
      "text/plain": [
       "-3.4"
      ]
     },
     "execution_count": 35,
     "metadata": {},
     "output_type": "execute_result"
    }
   ],
   "source": [
    "sum([(user_ratings[user][game]/10) for game in intersect_items.keys()])"
   ]
  },
  {
   "cell_type": "code",
   "execution_count": 71,
   "id": "51fbf555",
   "metadata": {},
   "outputs": [
    {
     "data": {
      "text/plain": [
       "{'258036': 0.7731715440750122,\n",
       " '239188': 0.8248884677886963,\n",
       " '163967': 0.8215402960777283,\n",
       " '220877': 0.9615119099617004,\n",
       " '15364': 0.888222873210907,\n",
       " '118063': 0.9161118865013123}"
      ]
     },
     "execution_count": 71,
     "metadata": {},
     "output_type": "execute_result"
    }
   ],
   "source": [
    "game = '256170'\n",
    "\n",
    "intersect_items = {key:value for (key, value) in item_similarities[game].items() if key in user_ratings[user].keys()}\n",
    "intersect_items"
   ]
  },
  {
   "cell_type": "code",
   "execution_count": 72,
   "id": "93c351ed",
   "metadata": {},
   "outputs": [
    {
     "data": {
      "text/plain": [
       "[-0.23195146322250365,\n",
       " -0.08248884677886964,\n",
       " 0.5750782072544097,\n",
       " -1.1538142919540404,\n",
       " -0.08882228732109071,\n",
       " -2.1986685276031492]"
      ]
     },
     "execution_count": 72,
     "metadata": {},
     "output_type": "execute_result"
    }
   ],
   "source": [
    "weighted = [(intersect_items[game]*(user_ratings[user][game]/10)) for game in intersect_items.keys()]\n",
    "weighted"
   ]
  },
  {
   "cell_type": "code",
   "execution_count": 73,
   "id": "51459cd9",
   "metadata": {
    "scrolled": true
   },
   "outputs": [
    {
     "data": {
      "text/plain": [
       "-3.180667209625244"
      ]
     },
     "execution_count": 73,
     "metadata": {},
     "output_type": "execute_result"
    }
   ],
   "source": [
    "sum(weighted)"
   ]
  },
  {
   "cell_type": "code",
   "execution_count": 74,
   "id": "2681665d",
   "metadata": {},
   "outputs": [
    {
     "data": {
      "text/plain": [
       "5.1854469776153564"
      ]
     },
     "execution_count": 74,
     "metadata": {},
     "output_type": "execute_result"
    }
   ],
   "source": [
    "sum(intersect_items.values())"
   ]
  },
  {
   "cell_type": "code",
   "execution_count": 75,
   "id": "bd3c11d6",
   "metadata": {},
   "outputs": [
    {
     "data": {
      "text/plain": [
       "-0.6133834215942451"
      ]
     },
     "execution_count": 75,
     "metadata": {},
     "output_type": "execute_result"
    }
   ],
   "source": [
    "sum(weighted)/sum(intersect_items.values())"
   ]
  },
  {
   "cell_type": "code",
   "execution_count": 76,
   "id": "327f5ee3",
   "metadata": {},
   "outputs": [
    {
     "data": {
      "text/plain": [
       "-0.5301112016042073"
      ]
     },
     "execution_count": 76,
     "metadata": {},
     "output_type": "execute_result"
    }
   ],
   "source": [
    "mean(weighted)"
   ]
  },
  {
   "cell_type": "code",
   "execution_count": 77,
   "id": "dc0e467f",
   "metadata": {},
   "outputs": [
    {
     "data": {
      "text/plain": [
       "7.068965517241379"
      ]
     },
     "execution_count": 77,
     "metadata": {},
     "output_type": "execute_result"
    }
   ],
   "source": [
    "item_means[game]"
   ]
  },
  {
   "cell_type": "code",
   "execution_count": 78,
   "id": "124b3798",
   "metadata": {},
   "outputs": [
    {
     "name": "stdout",
     "output_type": "stream",
     "text": [
      "0.0010006427764892578\n"
     ]
    },
    {
     "data": {
      "text/plain": [
       "6.455582095647134"
      ]
     },
     "execution_count": 78,
     "metadata": {},
     "output_type": "execute_result"
    }
   ],
   "source": [
    "game = '256170'\n",
    "\n",
    "start = time.time()\n",
    "\n",
    "intersect_items = {key:value for (key, value) in item_similarities[game].items() if key in user_ratings[user].keys()}\n",
    "weighted = [(intersect_items[game]*(user_ratings[user][game]/10)) for game in intersect_items.keys()]\n",
    "#prediction = mean(weighted) + user_mean\n",
    "prediction = sum(weighted)/sum(intersect_items.values()) + item_means[game]\n",
    "\n",
    "\n",
    "end = time.time()\n",
    "print(end-start)\n",
    "prediction"
   ]
  },
  {
   "cell_type": "markdown",
   "id": "fa3feefc",
   "metadata": {},
   "source": [
    "### Make Predictions"
   ]
  },
  {
   "cell_type": "code",
   "execution_count": 59,
   "id": "1ecbaf3f",
   "metadata": {},
   "outputs": [
    {
     "name": "stdout",
     "output_type": "stream",
     "text": [
      "2.826305389404297\n"
     ]
    }
   ],
   "source": [
    "start = time.time()\n",
    "\n",
    "predictions = {}\n",
    "predictions[user] = {}\n",
    "\n",
    "user_mean = user_means[user]\n",
    "\n",
    "for game in game_ids:\n",
    "\n",
    "    intersect_items = {key:value for (key, value) in item_similarities[game].items() if key in user_ratings[user].keys()}\n",
    "    \n",
    "    if len(intersect_items)==0:\n",
    "        continue\n",
    "    \n",
    "    else:\n",
    "        intersect_items = {key:value for (key, value) in item_similarities[game].items() if key in user_ratings[user].keys()}\n",
    "        weighted = [intersect_items[game]*(user_ratings[user][game]/10) for game in intersect_items.keys()]\n",
    "        prediction = sum(weighted)/sum(intersect_items.values()) + item_means[game]\n",
    "        \n",
    "        if prediction > user_mean:\n",
    "            predictions[user][game] = round(prediction, 1)\n",
    "\n",
    "end = time.time()\n",
    "print(end-start)"
   ]
  },
  {
   "cell_type": "code",
   "execution_count": 60,
   "id": "112552b0",
   "metadata": {},
   "outputs": [
    {
     "data": {
      "text/plain": [
       "29"
      ]
     },
     "execution_count": 60,
     "metadata": {},
     "output_type": "execute_result"
    }
   ],
   "source": [
    "relevant = [key for key in user_ratings[user].keys() if user_ratings[user][key]>user_mean]\n",
    "len(relevant)"
   ]
  },
  {
   "cell_type": "code",
   "execution_count": 61,
   "id": "74c762ae",
   "metadata": {},
   "outputs": [
    {
     "data": {
      "text/plain": [
       "4"
      ]
     },
     "execution_count": 61,
     "metadata": {},
     "output_type": "execute_result"
    }
   ],
   "source": [
    "relevant_and_recommended = [key for key in predictions[user].keys() if key in user_ratings[user].keys() and user_ratings[user][key]>user_mean and predictions[user][key]>user_mean]\n",
    "len(relevant_and_recommended)"
   ]
  },
  {
   "cell_type": "code",
   "execution_count": 62,
   "id": "3ab5ce28",
   "metadata": {},
   "outputs": [
    {
     "data": {
      "text/plain": [
       "0.13793103448275862"
      ]
     },
     "execution_count": 62,
     "metadata": {},
     "output_type": "execute_result"
    }
   ],
   "source": [
    "len(relevant_and_recommended)/len(relevant)"
   ]
  },
  {
   "cell_type": "code",
   "execution_count": 63,
   "id": "f64dd4e9",
   "metadata": {},
   "outputs": [],
   "source": [
    "overlap_items = [key for key in predictions[user].keys() if key in user_ratings[user].keys()]"
   ]
  },
  {
   "cell_type": "code",
   "execution_count": 64,
   "id": "113c2d2c",
   "metadata": {
    "scrolled": false
   },
   "outputs": [
    {
     "data": {
      "text/plain": [
       "[7.9, 8.1, 9.8, 7.9, 7.9, 7.8, 8.1, 7.7, 7.5, 7.5]"
      ]
     },
     "execution_count": 64,
     "metadata": {},
     "output_type": "execute_result"
    }
   ],
   "source": [
    "preds = [value for (key, value) in predictions[user].items() if key in overlap_items]\n",
    "preds[:10]"
   ]
  },
  {
   "cell_type": "code",
   "execution_count": 79,
   "id": "d42a07ae",
   "metadata": {},
   "outputs": [
    {
     "data": {
      "text/plain": [
       "[7.970513628684536,\n",
       " 7.977541309519929,\n",
       " 5.955604557148107,\n",
       " 8.030818678882815,\n",
       " 7.987317437191287,\n",
       " 6.9682999863890025,\n",
       " 6.479960513326752,\n",
       " 8.037829614604462,\n",
       " 5.975320708613316,\n",
       " 7.038164332714695]"
      ]
     },
     "execution_count": 79,
     "metadata": {},
     "output_type": "execute_result"
    }
   ],
   "source": [
    "actuals = [(value/10+item_means[key]) for (key, value) in user_ratings[user].items() if key in overlap_items]\n",
    "actuals[:10]"
   ]
  },
  {
   "cell_type": "code",
   "execution_count": 80,
   "id": "5dc1fd3a",
   "metadata": {},
   "outputs": [
    {
     "data": {
      "text/plain": [
       "1.1452840460749285"
      ]
     },
     "execution_count": 80,
     "metadata": {},
     "output_type": "execute_result"
    }
   ],
   "source": [
    "mean_absolute_error(preds, actuals)"
   ]
  },
  {
   "cell_type": "code",
   "execution_count": 81,
   "id": "6bbfb734",
   "metadata": {},
   "outputs": [],
   "source": [
    "new_predictions = {key:value for (key, value) in predictions[user].items() if key not in user_ratings[user].keys()}"
   ]
  },
  {
   "cell_type": "code",
   "execution_count": 82,
   "id": "92849cd5",
   "metadata": {},
   "outputs": [
    {
     "data": {
      "text/html": [
       "<div>\n",
       "<style scoped>\n",
       "    .dataframe tbody tr th:only-of-type {\n",
       "        vertical-align: middle;\n",
       "    }\n",
       "\n",
       "    .dataframe tbody tr th {\n",
       "        vertical-align: top;\n",
       "    }\n",
       "\n",
       "    .dataframe thead th {\n",
       "        text-align: right;\n",
       "    }\n",
       "</style>\n",
       "<table border=\"1\" class=\"dataframe\">\n",
       "  <thead>\n",
       "    <tr style=\"text-align: right;\">\n",
       "      <th></th>\n",
       "      <th>0</th>\n",
       "      <th>Game</th>\n",
       "    </tr>\n",
       "  </thead>\n",
       "  <tbody>\n",
       "    <tr>\n",
       "      <th>257180</th>\n",
       "      <td>10.8</td>\n",
       "      <td>Kingdom Builder: Family Box</td>\n",
       "    </tr>\n",
       "    <tr>\n",
       "      <th>22359</th>\n",
       "      <td>10.8</td>\n",
       "      <td>Steel Wolves: The German Submarine Campaign Ag...</td>\n",
       "    </tr>\n",
       "    <tr>\n",
       "      <th>294652</th>\n",
       "      <td>10.7</td>\n",
       "      <td>By Stealth and Sea</td>\n",
       "    </tr>\n",
       "    <tr>\n",
       "      <th>306697</th>\n",
       "      <td>10.7</td>\n",
       "      <td>Smash Up: Marvel</td>\n",
       "    </tr>\n",
       "    <tr>\n",
       "      <th>320097</th>\n",
       "      <td>10.6</td>\n",
       "      <td>ECK: A solo trick-taking card game</td>\n",
       "    </tr>\n",
       "    <tr>\n",
       "      <th>290500</th>\n",
       "      <td>10.6</td>\n",
       "      <td>Flip &amp; Fish</td>\n",
       "    </tr>\n",
       "    <tr>\n",
       "      <th>127493</th>\n",
       "      <td>10.4</td>\n",
       "      <td>Bolt Action</td>\n",
       "    </tr>\n",
       "    <tr>\n",
       "      <th>271320</th>\n",
       "      <td>10.4</td>\n",
       "      <td>The Castles of Burgundy</td>\n",
       "    </tr>\n",
       "    <tr>\n",
       "      <th>310885</th>\n",
       "      <td>10.4</td>\n",
       "      <td>Belaad: The Land of Swords and Quills</td>\n",
       "    </tr>\n",
       "    <tr>\n",
       "      <th>295785</th>\n",
       "      <td>10.2</td>\n",
       "      <td>Euthia: Torment of Resurrection</td>\n",
       "    </tr>\n",
       "    <tr>\n",
       "      <th>60153</th>\n",
       "      <td>10.2</td>\n",
       "      <td>War of the Ring Collector's Edition</td>\n",
       "    </tr>\n",
       "    <tr>\n",
       "      <th>317519</th>\n",
       "      <td>10.1</td>\n",
       "      <td>Frostgrave: Second Edition</td>\n",
       "    </tr>\n",
       "    <tr>\n",
       "      <th>281657</th>\n",
       "      <td>10.0</td>\n",
       "      <td>Malifaux (Third Edition)</td>\n",
       "    </tr>\n",
       "    <tr>\n",
       "      <th>256885</th>\n",
       "      <td>10.0</td>\n",
       "      <td>The Fantasy Trip: Legacy Edition</td>\n",
       "    </tr>\n",
       "    <tr>\n",
       "      <th>251253</th>\n",
       "      <td>10.0</td>\n",
       "      <td>Heroes &amp; Treasure</td>\n",
       "    </tr>\n",
       "    <tr>\n",
       "      <th>2665</th>\n",
       "      <td>9.9</td>\n",
       "      <td>Russian Civil War 1918-1922</td>\n",
       "    </tr>\n",
       "    <tr>\n",
       "      <th>199182</th>\n",
       "      <td>9.9</td>\n",
       "      <td>Commands &amp; Colors Tricorne: The American Revol...</td>\n",
       "    </tr>\n",
       "    <tr>\n",
       "      <th>1430</th>\n",
       "      <td>9.8</td>\n",
       "      <td>Caesar: Epic Battle of Alesia</td>\n",
       "    </tr>\n",
       "    <tr>\n",
       "      <th>128204</th>\n",
       "      <td>9.8</td>\n",
       "      <td>Ars Victor</td>\n",
       "    </tr>\n",
       "    <tr>\n",
       "      <th>29603</th>\n",
       "      <td>9.8</td>\n",
       "      <td>D-Day at Omaha Beach</td>\n",
       "    </tr>\n",
       "    <tr>\n",
       "      <th>260168</th>\n",
       "      <td>9.8</td>\n",
       "      <td>Volleyball High</td>\n",
       "    </tr>\n",
       "    <tr>\n",
       "      <th>286770</th>\n",
       "      <td>9.8</td>\n",
       "      <td>Rosetta: The Lost Language</td>\n",
       "    </tr>\n",
       "    <tr>\n",
       "      <th>173514</th>\n",
       "      <td>9.8</td>\n",
       "      <td>Meeple Quest</td>\n",
       "    </tr>\n",
       "    <tr>\n",
       "      <th>345976</th>\n",
       "      <td>9.8</td>\n",
       "      <td>System Gateway (fan expansion for Android: Net...</td>\n",
       "    </tr>\n",
       "    <tr>\n",
       "      <th>107012</th>\n",
       "      <td>9.7</td>\n",
       "      <td>The Sun Never Sets volume II</td>\n",
       "    </tr>\n",
       "    <tr>\n",
       "      <th>302914</th>\n",
       "      <td>9.7</td>\n",
       "      <td>Dream Cruise</td>\n",
       "    </tr>\n",
       "    <tr>\n",
       "      <th>12269</th>\n",
       "      <td>9.7</td>\n",
       "      <td>Manassas</td>\n",
       "    </tr>\n",
       "    <tr>\n",
       "      <th>320084</th>\n",
       "      <td>9.7</td>\n",
       "      <td>The Dogs of War</td>\n",
       "    </tr>\n",
       "    <tr>\n",
       "      <th>42897</th>\n",
       "      <td>9.7</td>\n",
       "      <td>Infantry Attacks: August 1914</td>\n",
       "    </tr>\n",
       "    <tr>\n",
       "      <th>215565</th>\n",
       "      <td>9.6</td>\n",
       "      <td>Roads to Gettysburg II: Lee Strikes North</td>\n",
       "    </tr>\n",
       "  </tbody>\n",
       "</table>\n",
       "</div>"
      ],
      "text/plain": [
       "           0                                               Game\n",
       "257180  10.8                        Kingdom Builder: Family Box\n",
       "22359   10.8  Steel Wolves: The German Submarine Campaign Ag...\n",
       "294652  10.7                                 By Stealth and Sea\n",
       "306697  10.7                                   Smash Up: Marvel\n",
       "320097  10.6                 ECK: A solo trick-taking card game\n",
       "290500  10.6                                        Flip & Fish\n",
       "127493  10.4                                        Bolt Action\n",
       "271320  10.4                            The Castles of Burgundy\n",
       "310885  10.4              Belaad: The Land of Swords and Quills\n",
       "295785  10.2                    Euthia: Torment of Resurrection\n",
       "60153   10.2                War of the Ring Collector's Edition\n",
       "317519  10.1                         Frostgrave: Second Edition\n",
       "281657  10.0                           Malifaux (Third Edition)\n",
       "256885  10.0                   The Fantasy Trip: Legacy Edition\n",
       "251253  10.0                                  Heroes & Treasure\n",
       "2665     9.9                        Russian Civil War 1918-1922\n",
       "199182   9.9  Commands & Colors Tricorne: The American Revol...\n",
       "1430     9.8                      Caesar: Epic Battle of Alesia\n",
       "128204   9.8                                         Ars Victor\n",
       "29603    9.8                               D-Day at Omaha Beach\n",
       "260168   9.8                                    Volleyball High\n",
       "286770   9.8                         Rosetta: The Lost Language\n",
       "173514   9.8                                       Meeple Quest\n",
       "345976   9.8  System Gateway (fan expansion for Android: Net...\n",
       "107012   9.7                       The Sun Never Sets volume II\n",
       "302914   9.7                                       Dream Cruise\n",
       "12269    9.7                                           Manassas\n",
       "320084   9.7                                    The Dogs of War\n",
       "42897    9.7                      Infantry Attacks: August 1914\n",
       "215565   9.6          Roads to Gettysburg II: Lee Strikes North"
      ]
     },
     "execution_count": 82,
     "metadata": {},
     "output_type": "execute_result"
    }
   ],
   "source": [
    "df = pd.DataFrame.from_dict(new_predictions, orient='index').sort_values(0, ascending=False)\n",
    "df['Game'] = df.index.map(game_id_lookup)\n",
    "df.head(30)"
   ]
  },
  {
   "cell_type": "markdown",
   "id": "69630154",
   "metadata": {},
   "source": [
    "## Predict items one user - Synth 250 Data"
   ]
  },
  {
   "cell_type": "code",
   "execution_count": null,
   "id": "63229fcf",
   "metadata": {},
   "outputs": [],
   "source": [
    "# Opening JSON file\n",
    "with open('data_cleaned/item_similarities_synth250_over50only.json') as json_file:\n",
    "    item_similarities = json.load(json_file)"
   ]
  },
  {
   "cell_type": "code",
   "execution_count": null,
   "id": "f02597fe",
   "metadata": {},
   "outputs": [],
   "source": [
    "user='Threnody'"
   ]
  },
  {
   "cell_type": "markdown",
   "id": "d4b9ed2b",
   "metadata": {},
   "source": [
    "### Make Predictions"
   ]
  },
  {
   "cell_type": "code",
   "execution_count": null,
   "id": "b93fb870",
   "metadata": {},
   "outputs": [],
   "source": [
    "start = time.time()\n",
    "\n",
    "predictions = {}\n",
    "predictions[user] = {}\n",
    "\n",
    "for game in game_ids:\n",
    "\n",
    "    intersect_items = {key:value for (key, value) in item_similarities[game].items() if key in user_ratings[user].keys()}\n",
    "    \n",
    "    if len(intersect_items)==0:\n",
    "        continue\n",
    "    \n",
    "    else:\n",
    "        intersect_items = {key:value for (key, value) in item_similarities[game].items() if key in user_ratings[user].keys()}\n",
    "        weighted = [intersect_items[game]*user_ratings[user][game]/10 for game in intersect_items.keys()]\n",
    "        scaled_prediction = sum(weighted)/sum(intersect_items.values())\n",
    "        \n",
    "        if scaled_prediction > 0:\n",
    "            predictions[user][game] = round(scaled_prediction, 1)\n",
    "            \n",
    "            \n",
    "relevant = [key for key in user_ratings[user].keys() if user_ratings[user][key]>0]\n",
    "relevant_and_recommended = [key for key in predictions[user].keys() if key in user_ratings[user].keys() and user_ratings[user][key]>0 and predictions[user][key]>0]\n",
    "recall = len(relevant_and_recommended)/len(relevant)\n",
    "overlap_items = [key for key in predictions[user].keys() if key in user_ratings[user].keys()]\n",
    "preds = [value for (key, value) in predictions[user].items() if key in overlap_items]\n",
    "actuals = [value/10 for (key, value) in user_ratings[user].items() if key in overlap_items]\n",
    "mae = mean_absolute_error(preds, actuals)\n",
    "new_predictions = {key:value+user_means[user] for (key, value) in predictions[user].items() if key not in user_ratings[user].keys()}\n",
    "\n",
    "end = time.time()\n",
    "print(end-start)\n",
    "print(recall)\n",
    "print(mae)"
   ]
  },
  {
   "cell_type": "code",
   "execution_count": null,
   "id": "2092183f",
   "metadata": {},
   "outputs": [],
   "source": [
    "df = pd.DataFrame.from_dict(new_predictions, orient='index').sort_values(0, ascending=False)\n",
    "df['Game'] = df.index.map(game_id_lookup)\n",
    "df.head(50)"
   ]
  },
  {
   "cell_type": "code",
   "execution_count": null,
   "id": "02399cd4",
   "metadata": {},
   "outputs": [],
   "source": []
  }
 ],
 "metadata": {
  "kernelspec": {
   "display_name": "Python 3 (ipykernel)",
   "language": "python",
   "name": "python3"
  },
  "language_info": {
   "codemirror_mode": {
    "name": "ipython",
    "version": 3
   },
   "file_extension": ".py",
   "mimetype": "text/x-python",
   "name": "python",
   "nbconvert_exporter": "python",
   "pygments_lexer": "ipython3",
   "version": "3.7.10"
  },
  "toc": {
   "base_numbering": 1,
   "nav_menu": {},
   "number_sections": true,
   "sideBar": true,
   "skip_h1_title": false,
   "title_cell": "Table of Contents",
   "title_sidebar": "Contents",
   "toc_cell": false,
   "toc_position": {
    "height": "calc(100% - 180px)",
    "left": "10px",
    "top": "150px",
    "width": "337.552px"
   },
   "toc_section_display": true,
   "toc_window_display": true
  }
 },
 "nbformat": 4,
 "nbformat_minor": 5
}
