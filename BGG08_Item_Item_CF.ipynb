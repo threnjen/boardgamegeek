{
 "cells": [
  {
   "cell_type": "code",
   "execution_count": 1,
   "id": "a9adac55",
   "metadata": {},
   "outputs": [],
   "source": [
    "import pandas as pd\n",
    "import numpy as np\n",
    "import requests\n",
    "import regex as re\n",
    "import time\n",
    "import os\n",
    "import gc\n",
    "import json\n",
    "import copy\n",
    "from statistics import mean\n",
    "from statistics import median\n",
    "\n",
    "# ignore warnings (gets rid of Pandas copy warnings)\n",
    "import warnings\n",
    "warnings.filterwarnings('ignore')\n",
    "pd.options.display.max_columns = None\n",
    "\n",
    "pd.set_option('display.max_columns', None)\n",
    "pd.set_option('display.max_rows', 30)\n",
    "\n",
    "\n",
    "from sklearn.metrics.pairwise import cosine_similarity\n",
    "from sklearn.model_selection import train_test_split\n",
    "from sklearn.preprocessing import MinMaxScaler\n",
    "\n",
    "from scipy import spatial\n",
    "\n",
    "# scoring and algorithm selection packages\n",
    "from sklearn.metrics import mean_absolute_error, mean_squared_error, r2_score \n",
    "from sklearn.inspection import permutation_importance\n",
    "\n",
    "# visualization packages\n",
    "import matplotlib.pyplot as plt\n",
    "import seaborn as sns\n",
    "%matplotlib inline\n",
    "\n",
    "from surprise import KNNWithMeans, SVD, Dataset, Reader, dump, accuracy, NMF, BaselineOnly\n",
    "from surprise.model_selection.validation import cross_validate\n",
    "from surprise.model_selection import KFold\n",
    "from surprise.prediction_algorithms.matrix_factorization import SVD, SVDpp, NMF\n",
    "from surprise.prediction_algorithms.slope_one import SlopeOne\n",
    "from surprise.prediction_algorithms.co_clustering import CoClustering\n",
    "from surprise.prediction_algorithms.random_pred import NormalPredictor\n",
    "from surprise.prediction_algorithms.baseline_only import BaselineOnly\n",
    "from surprise.model_selection.search import GridSearchCV"
   ]
  },
  {
   "cell_type": "markdown",
   "id": "40722da1",
   "metadata": {},
   "source": [
    "## Load Files"
   ]
  },
  {
   "cell_type": "code",
   "execution_count": null,
   "id": "074f8167",
   "metadata": {},
   "outputs": [],
   "source": [
    "# Opening JSON file\n",
    "#with open('data_cleaned/item_similarities_real_full.json') as json_file:\n",
    "#    item_similarities = json.load(json_file)"
   ]
  },
  {
   "cell_type": "code",
   "execution_count": null,
   "id": "f43d2596",
   "metadata": {},
   "outputs": [],
   "source": [
    "# Opening JSON file\n",
    "with open('real_ratings/user_ratings_unscaled.json') as json_file:\n",
    "    user_ratings = json.load(json_file)"
   ]
  },
  {
   "cell_type": "code",
   "execution_count": null,
   "id": "ad253238",
   "metadata": {},
   "outputs": [],
   "source": [
    "# Opening JSON file\n",
    "with open('item_similarities/user_ratings_unscaled.json') as json_file:\n",
    "    user_ratings = json.load(json_file)"
   ]
  },
  {
   "cell_type": "code",
   "execution_count": null,
   "id": "a916785a",
   "metadata": {},
   "outputs": [],
   "source": [
    "# Opening JSON file\n",
    "#with open('synthetic_ratings/users_synthetic_1000_2.json') as json_file:\n",
    "#    user_ratings = json.load(json_file)"
   ]
  },
  {
   "cell_type": "code",
   "execution_count": null,
   "id": "498fc860",
   "metadata": {},
   "outputs": [],
   "source": [
    "# Opening JSON file\n",
    "with open('data_cleaned/user_means.json') as json_file:\n",
    "    user_means = json.load(json_file)"
   ]
  },
  {
   "cell_type": "code",
   "execution_count": null,
   "id": "f76b4a0b",
   "metadata": {},
   "outputs": [],
   "source": [
    "# Opening JSON file\n",
    "with open('data_cleaned/item_means.json') as json_file:\n",
    "    item_means = json.load(json_file)"
   ]
  },
  {
   "cell_type": "code",
   "execution_count": null,
   "id": "cff54287",
   "metadata": {},
   "outputs": [],
   "source": [
    "# Opening JSON file\n",
    "with open('data_cleaned/game_id_lookup.json') as json_file:\n",
    "    game_id_lookup = json.load(json_file)"
   ]
  },
  {
   "cell_type": "code",
   "execution_count": null,
   "id": "3a617307",
   "metadata": {},
   "outputs": [],
   "source": [
    "game_ids = list(item_similarities.keys())"
   ]
  },
  {
   "cell_type": "markdown",
   "id": "8bb91307",
   "metadata": {},
   "source": [
    "## Predict items one user - Real Data"
   ]
  },
  {
   "cell_type": "code",
   "execution_count": null,
   "id": "b77d867d",
   "metadata": {},
   "outputs": [],
   "source": [
    "user='Threnody'\n",
    "user_mean = user_means[user]"
   ]
  },
  {
   "cell_type": "code",
   "execution_count": null,
   "id": "0af43679",
   "metadata": {},
   "outputs": [],
   "source": [
    "user_ratings['Threnody']"
   ]
  },
  {
   "cell_type": "markdown",
   "id": "e86be3bc",
   "metadata": {},
   "source": [
    "### One Item Test"
   ]
  },
  {
   "cell_type": "code",
   "execution_count": null,
   "id": "e680ff74",
   "metadata": {},
   "outputs": [],
   "source": [
    "item_similarities[game]"
   ]
  },
  {
   "cell_type": "code",
   "execution_count": null,
   "id": "ba8bd865",
   "metadata": {
    "scrolled": true
   },
   "outputs": [],
   "source": [
    "game = '256170'\n",
    "\n",
    "# produces dict of similarities for game_ids that user has rated\n",
    "intersect_items = {key:value for (key, value) in item_similarities[game].items() if key in user_ratings[user].keys()}\n",
    "intersect_items"
   ]
  },
  {
   "cell_type": "code",
   "execution_count": null,
   "id": "d22c04ff",
   "metadata": {},
   "outputs": [],
   "source": [
    "game_id_lookup[game]"
   ]
  },
  {
   "cell_type": "code",
   "execution_count": null,
   "id": "28718912",
   "metadata": {},
   "outputs": [],
   "source": [
    "game = '41114'"
   ]
  },
  {
   "cell_type": "code",
   "execution_count": null,
   "id": "c607edb8",
   "metadata": {},
   "outputs": [],
   "source": [
    "game_id_lookup[game]"
   ]
  },
  {
   "cell_type": "code",
   "execution_count": null,
   "id": "396a2dde",
   "metadata": {},
   "outputs": [],
   "source": [
    "intersect_items[game]"
   ]
  },
  {
   "cell_type": "code",
   "execution_count": null,
   "id": "c5d688ae",
   "metadata": {},
   "outputs": [],
   "source": [
    "user_ratings[user][game]"
   ]
  },
  {
   "cell_type": "code",
   "execution_count": null,
   "id": "edb9e168",
   "metadata": {},
   "outputs": [],
   "source": [
    "item_means[game]"
   ]
  },
  {
   "cell_type": "code",
   "execution_count": null,
   "id": "2ba842f2",
   "metadata": {},
   "outputs": [],
   "source": [
    "user_ratings[user][game]-item_means[game]"
   ]
  },
  {
   "cell_type": "code",
   "execution_count": null,
   "id": "2103ae1c",
   "metadata": {},
   "outputs": [],
   "source": [
    "intersect_items[game]*(user_ratings[user][game]-item_means[game])"
   ]
  },
  {
   "cell_type": "code",
   "execution_count": null,
   "id": "aec05c7c",
   "metadata": {},
   "outputs": [],
   "source": [
    "game = '116'"
   ]
  },
  {
   "cell_type": "code",
   "execution_count": null,
   "id": "7e18fda6",
   "metadata": {},
   "outputs": [],
   "source": [
    "game_id_lookup[game]"
   ]
  },
  {
   "cell_type": "code",
   "execution_count": null,
   "id": "b465ccdf",
   "metadata": {},
   "outputs": [],
   "source": [
    "intersect_items[game]"
   ]
  },
  {
   "cell_type": "code",
   "execution_count": null,
   "id": "1fccfb53",
   "metadata": {},
   "outputs": [],
   "source": [
    "user_ratings[user][game]"
   ]
  },
  {
   "cell_type": "code",
   "execution_count": null,
   "id": "a3429986",
   "metadata": {},
   "outputs": [],
   "source": [
    "item_means[game]"
   ]
  },
  {
   "cell_type": "code",
   "execution_count": null,
   "id": "1bbc1f21",
   "metadata": {},
   "outputs": [],
   "source": [
    "user_ratings[user][game]-item_means[game]"
   ]
  },
  {
   "cell_type": "code",
   "execution_count": null,
   "id": "dc08a0af",
   "metadata": {},
   "outputs": [],
   "source": [
    "intersect_items[game]*(user_ratings[user][game]-item_means[game])"
   ]
  },
  {
   "cell_type": "code",
   "execution_count": null,
   "id": "35dc34cc",
   "metadata": {},
   "outputs": [],
   "source": [
    "game = '256170'"
   ]
  },
  {
   "cell_type": "code",
   "execution_count": null,
   "id": "0d932174",
   "metadata": {
    "scrolled": true
   },
   "outputs": [],
   "source": [
    "weighted = [intersect_items[game]*(user_ratings[user][game]-item_means[game]) for game in intersect_items.keys()]\n",
    "weighted"
   ]
  },
  {
   "cell_type": "code",
   "execution_count": null,
   "id": "464ac4fb",
   "metadata": {},
   "outputs": [],
   "source": [
    "numer = sum(weighted)\n",
    "numer"
   ]
  },
  {
   "cell_type": "code",
   "execution_count": null,
   "id": "e8cbcfbd",
   "metadata": {},
   "outputs": [],
   "source": [
    "denom = sum(intersect_items.values())\n",
    "denom"
   ]
  },
  {
   "cell_type": "code",
   "execution_count": null,
   "id": "0473b5fb",
   "metadata": {},
   "outputs": [],
   "source": [
    "numer/denom"
   ]
  },
  {
   "cell_type": "code",
   "execution_count": null,
   "id": "1405b753",
   "metadata": {},
   "outputs": [],
   "source": [
    "scaled_prediction = numer/denom + user_mean\n",
    "scaled_prediction"
   ]
  },
  {
   "cell_type": "code",
   "execution_count": null,
   "id": "87fcff85",
   "metadata": {},
   "outputs": [],
   "source": [
    "sum([(user_ratings[user][game]-item_means[game]) for game in intersect_items.keys()])"
   ]
  },
  {
   "cell_type": "code",
   "execution_count": null,
   "id": "124b3798",
   "metadata": {},
   "outputs": [],
   "source": [
    "game = '256170'\n",
    "\n",
    "start = time.time()\n",
    "\n",
    "intersect_items = {key:value for (key, value) in item_similarities[game].items() if key in user_ratings[user].keys()}\n",
    "weighted = [(intersect_items[game]*(user_ratings[user][game]-item_means[game])) for game in intersect_items.keys()]\n",
    "#prediction = mean(weighted) + user_mean\n",
    "prediction = sum(weighted)/sum(intersect_items.values()) + user_mean\n",
    "\n",
    "\n",
    "end = time.time()\n",
    "print(end-start)\n",
    "prediction"
   ]
  },
  {
   "cell_type": "markdown",
   "id": "fa3feefc",
   "metadata": {},
   "source": [
    "### Make Predictions"
   ]
  },
  {
   "cell_type": "code",
   "execution_count": null,
   "id": "1ecbaf3f",
   "metadata": {},
   "outputs": [],
   "source": [
    "start = time.time()\n",
    "\n",
    "predictions = {}\n",
    "predictions[user] = {}\n",
    "\n",
    "user_mean = user_means[user]\n",
    "\n",
    "for game in game_ids:\n",
    "\n",
    "    intersect_items = {key:value for (key, value) in item_similarities[game].items() if key in user_ratings[user].keys()}\n",
    "    \n",
    "    if len(intersect_items)==0:\n",
    "        continue\n",
    "    \n",
    "    else:\n",
    "        intersect_items = {key:value for (key, value) in item_similarities[game].items() if key in user_ratings[user].keys()}\n",
    "        weighted = [intersect_items[game]*(user_ratings[user][game]-item_means[game]) for game in intersect_items.keys()]\n",
    "        #prediction = sum(weighted)/sum(intersect_items.values()) + user_mean\n",
    "        prediction = mean(weighted) + user_mean\n",
    "        \n",
    "        if prediction > user_mean:\n",
    "            predictions[user][game] = round(prediction, 1)\n",
    "\n",
    "end = time.time()\n",
    "print(end-start)"
   ]
  },
  {
   "cell_type": "code",
   "execution_count": null,
   "id": "112552b0",
   "metadata": {},
   "outputs": [],
   "source": [
    "relevant = [key for key in user_ratings[user].keys() if user_ratings[user][key]>user_mean]\n",
    "len(relevant)"
   ]
  },
  {
   "cell_type": "code",
   "execution_count": null,
   "id": "74c762ae",
   "metadata": {},
   "outputs": [],
   "source": [
    "relevant_and_recommended = [key for key in predictions[user].keys() if key in user_ratings[user].keys() and user_ratings[user][key]>user_mean and predictions[user][key]>user_mean]\n",
    "len(relevant_and_recommended)"
   ]
  },
  {
   "cell_type": "code",
   "execution_count": null,
   "id": "3ab5ce28",
   "metadata": {},
   "outputs": [],
   "source": [
    "len(relevant_and_recommended)/len(relevant)"
   ]
  },
  {
   "cell_type": "code",
   "execution_count": null,
   "id": "f64dd4e9",
   "metadata": {},
   "outputs": [],
   "source": [
    "overlap_items = [key for key in predictions[user].keys() if key in user_ratings[user].keys()]"
   ]
  },
  {
   "cell_type": "code",
   "execution_count": null,
   "id": "113c2d2c",
   "metadata": {
    "scrolled": false
   },
   "outputs": [],
   "source": [
    "preds = [value for (key, value) in predictions[user].items() if key in overlap_items]\n",
    "preds[:10]"
   ]
  },
  {
   "cell_type": "code",
   "execution_count": null,
   "id": "d42a07ae",
   "metadata": {},
   "outputs": [],
   "source": [
    "actuals = [value for (key, value) in user_ratings[user].items() if key in overlap_items]\n",
    "actuals[:10]"
   ]
  },
  {
   "cell_type": "code",
   "execution_count": null,
   "id": "5dc1fd3a",
   "metadata": {},
   "outputs": [],
   "source": [
    "mean_absolute_error(preds, actuals)"
   ]
  },
  {
   "cell_type": "code",
   "execution_count": null,
   "id": "6bbfb734",
   "metadata": {},
   "outputs": [],
   "source": [
    "new_predictions = {key:value for (key, value) in predictions[user].items() if key not in user_ratings[user].keys()}"
   ]
  },
  {
   "cell_type": "code",
   "execution_count": null,
   "id": "92849cd5",
   "metadata": {},
   "outputs": [],
   "source": [
    "df = pd.DataFrame.from_dict(new_predictions, orient='index').sort_values(0, ascending=False)\n",
    "df['Game'] = df.index.map(game_id_lookup)\n",
    "df.head(30)"
   ]
  },
  {
   "cell_type": "markdown",
   "id": "69630154",
   "metadata": {},
   "source": [
    "## Predict items one user - Synth 250 Data"
   ]
  },
  {
   "cell_type": "code",
   "execution_count": null,
   "id": "63229fcf",
   "metadata": {},
   "outputs": [],
   "source": [
    "# Opening JSON file\n",
    "with open('data_cleaned/item_similarities_synth250_over50only.json') as json_file:\n",
    "    item_similarities = json.load(json_file)"
   ]
  },
  {
   "cell_type": "code",
   "execution_count": null,
   "id": "f02597fe",
   "metadata": {},
   "outputs": [],
   "source": [
    "user='Threnody'"
   ]
  },
  {
   "cell_type": "markdown",
   "id": "d4b9ed2b",
   "metadata": {},
   "source": [
    "### Make Predictions"
   ]
  },
  {
   "cell_type": "code",
   "execution_count": null,
   "id": "b93fb870",
   "metadata": {},
   "outputs": [],
   "source": [
    "start = time.time()\n",
    "\n",
    "predictions = {}\n",
    "predictions[user] = {}\n",
    "\n",
    "for game in game_ids:\n",
    "\n",
    "    intersect_items = {key:value for (key, value) in item_similarities[game].items() if key in user_ratings[user].keys()}\n",
    "    \n",
    "    if len(intersect_items)==0:\n",
    "        continue\n",
    "    \n",
    "    else:\n",
    "        intersect_items = {key:value for (key, value) in item_similarities[game].items() if key in user_ratings[user].keys()}\n",
    "        weighted = [intersect_items[game]*user_ratings[user][game]/10 for game in intersect_items.keys()]\n",
    "        scaled_prediction = sum(weighted)/sum(intersect_items.values())\n",
    "        \n",
    "        if scaled_prediction > 0:\n",
    "            predictions[user][game] = round(scaled_prediction, 1)\n",
    "            \n",
    "            \n",
    "relevant = [key for key in user_ratings[user].keys() if user_ratings[user][key]>0]\n",
    "relevant_and_recommended = [key for key in predictions[user].keys() if key in user_ratings[user].keys() and user_ratings[user][key]>0 and predictions[user][key]>0]\n",
    "recall = len(relevant_and_recommended)/len(relevant)\n",
    "overlap_items = [key for key in predictions[user].keys() if key in user_ratings[user].keys()]\n",
    "preds = [value for (key, value) in predictions[user].items() if key in overlap_items]\n",
    "actuals = [value/10 for (key, value) in user_ratings[user].items() if key in overlap_items]\n",
    "mae = mean_absolute_error(preds, actuals)\n",
    "new_predictions = {key:value+user_means[user] for (key, value) in predictions[user].items() if key not in user_ratings[user].keys()}\n",
    "\n",
    "end = time.time()\n",
    "print(end-start)\n",
    "print(recall)\n",
    "print(mae)"
   ]
  },
  {
   "cell_type": "code",
   "execution_count": null,
   "id": "2092183f",
   "metadata": {},
   "outputs": [],
   "source": [
    "df = pd.DataFrame.from_dict(new_predictions, orient='index').sort_values(0, ascending=False)\n",
    "df['Game'] = df.index.map(game_id_lookup)\n",
    "df.head(50)"
   ]
  },
  {
   "cell_type": "code",
   "execution_count": null,
   "id": "02399cd4",
   "metadata": {},
   "outputs": [],
   "source": []
  }
 ],
 "metadata": {
  "kernelspec": {
   "display_name": "Python 3 (ipykernel)",
   "language": "python",
   "name": "python3"
  },
  "language_info": {
   "codemirror_mode": {
    "name": "ipython",
    "version": 3
   },
   "file_extension": ".py",
   "mimetype": "text/x-python",
   "name": "python",
   "nbconvert_exporter": "python",
   "pygments_lexer": "ipython3",
   "version": "3.7.10"
  },
  "toc": {
   "base_numbering": 1,
   "nav_menu": {},
   "number_sections": true,
   "sideBar": true,
   "skip_h1_title": false,
   "title_cell": "Table of Contents",
   "title_sidebar": "Contents",
   "toc_cell": false,
   "toc_position": {
    "height": "calc(100% - 180px)",
    "left": "10px",
    "top": "150px",
    "width": "337.552px"
   },
   "toc_section_display": true,
   "toc_window_display": true
  }
 },
 "nbformat": 4,
 "nbformat_minor": 5
}
